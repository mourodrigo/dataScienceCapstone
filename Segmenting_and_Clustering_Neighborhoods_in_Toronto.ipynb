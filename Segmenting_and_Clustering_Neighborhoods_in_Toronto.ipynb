{
  "nbformat": 4,
  "nbformat_minor": 0,
  "metadata": {
    "kernelspec": {
      "display_name": "Python",
      "language": "python",
      "name": "conda-env-python-py"
    },
    "language_info": {
      "codemirror_mode": {
        "name": "ipython",
        "version": 3
      },
      "file_extension": ".py",
      "mimetype": "text/x-python",
      "name": "python",
      "nbconvert_exporter": "python",
      "pygments_lexer": "ipython3",
      "version": "3.6.7"
    },
    "widgets": {
      "state": {},
      "version": "1.1.2"
    },
    "colab": {
      "name": "Segmenting and Clustering Neighborhoods in Toronto.ipynb",
      "provenance": [],
      "include_colab_link": true
    }
  },
  "cells": [
    {
      "cell_type": "markdown",
      "metadata": {
        "id": "view-in-github",
        "colab_type": "text"
      },
      "source": [
        "<a href=\"https://colab.research.google.com/github/mourodrigo/dataScienceCapstone/blob/master/Segmenting_and_Clustering_Neighborhoods_in_Toronto.ipynb\" target=\"_parent\"><img src=\"https://colab.research.google.com/assets/colab-badge.svg\" alt=\"Open In Colab\"/></a>"
      ]
    },
    {
      "cell_type": "markdown",
      "metadata": {
        "colab_type": "text",
        "id": "k39thRyipkr-"
      },
      "source": [
        "#### Use geopy library to get the latitude and longitude values of Toronto."
      ]
    },
    {
      "cell_type": "markdown",
      "metadata": {
        "id": "yVNGt-EPSNTp",
        "colab_type": "text"
      },
      "source": [
        "<h1 align=center><font size = 5>Peer-graded Assignment: Segmenting and Clustering Neighborhoods in Toronto</font></h1>"
      ]
    },
    {
      "cell_type": "markdown",
      "metadata": {
        "id": "JUG4-6HFSNTq",
        "colab_type": "text"
      },
      "source": [
        "## Introduction\n",
        "\n",
        "This lab is part of a Peer-graded Assignment of the Applied Data Science Capstone\n"
      ]
    },
    {
      "cell_type": "markdown",
      "metadata": {
        "id": "FnrpI7OzSNTs",
        "colab_type": "text"
      },
      "source": [
        "Before we get the data and start exploring it, let's download all the dependencies that we will need."
      ]
    },
    {
      "cell_type": "code",
      "metadata": {
        "jupyter": {
          "outputs_hidden": false
        },
        "id": "cY1nCKRcSNTs",
        "colab_type": "code",
        "outputId": "019ae2de-b8cf-4fa3-fe55-71d3278bed4d",
        "colab": {
          "base_uri": "https://localhost:8080/",
          "height": 34
        }
      },
      "source": [
        "import numpy as np # library to handle data in a vectorized manner\n",
        "\n",
        "import pandas as pd # library for data analsysis\n",
        "pd.set_option('display.max_columns', None)\n",
        "pd.set_option('display.max_rows', None)\n",
        "\n",
        "import json # library to handle JSON files\n",
        "\n",
        "#!conda install -c conda-forge geopy --yes # uncomment this line if you haven't completed the Foursquare API lab\n",
        "from geopy.geocoders import Nominatim # convert an address into latitude and longitude values\n",
        "\n",
        "import requests # library to handle requests\n",
        "from pandas.io.json import json_normalize # tranform JSON file into a pandas dataframe\n",
        "\n",
        "# Matplotlib and associated plotting modules\n",
        "import matplotlib.cm as cm\n",
        "import matplotlib.colors as colors\n",
        "\n",
        "# import k-means from clustering stage\n",
        "from sklearn.cluster import KMeans\n",
        "\n",
        "#!conda install -c conda-forge folium=0.5.0 --yes # uncomment this line if you haven't completed the Foursquare API lab\n",
        "import folium # map rendering library\n",
        "\n",
        "print('Libraries imported.')"
      ],
      "execution_count": 100,
      "outputs": [
        {
          "output_type": "stream",
          "text": [
            "Libraries imported.\n"
          ],
          "name": "stdout"
        }
      ]
    },
    {
      "cell_type": "markdown",
      "metadata": {
        "id": "l5ncJ9YYSNTv",
        "colab_type": "text"
      },
      "source": [
        "<a id='item1'></a>"
      ]
    },
    {
      "cell_type": "markdown",
      "metadata": {
        "id": "JHZHKK9gSNTw",
        "colab_type": "text"
      },
      "source": [
        "## 1. Download and Explore Dataset"
      ]
    },
    {
      "cell_type": "markdown",
      "metadata": {
        "id": "PwCbEjA2SNT0",
        "colab_type": "text"
      },
      "source": [
        "#### Load and explore the data"
      ]
    },
    {
      "cell_type": "markdown",
      "metadata": {
        "id": "d_nIi34eSNT1",
        "colab_type": "text"
      },
      "source": [
        "The following array has been scrapped from https://en.wikipedia.org/wiki/List_of_postal_codes_of_Canada:_M and pre filtered using google sheets ( http://bit.ly/2nbix1W ) to remove boroughs marked  as \"Not assingned\".\n",
        "\n",
        "After that, a [Swift code](https://paiza.io/projects/LchIOVXKowPE84pO5vlWkw?language=swift) has been writed to append the Neighborhood names that belongs to the same Borough.\n",
        "\n",
        "The result then has been placed to the array below:"
      ]
    },
    {
      "cell_type": "code",
      "metadata": {
        "id": "yWK-1jwLsLdk",
        "colab_type": "code",
        "colab": {}
      },
      "source": [
        "array = [[\"M1B\", \"Scarborough\", \"Rouge,Malvern\"], [\"M1C\", \"Scarborough\", \"Highland Creek,Rouge Hill,Port Union\"], [\"M1E\", \"Scarborough\", \"Guildwood,Morningside,West Hill\"], [\"M1G\", \"Scarborough\", \"Woburn\"], [\"M1H\", \"Scarborough\", \"Cedarbrae\"], [\"M1J\", \"Scarborough\", \"Scarborough Village\"], [\"M1K\", \"Scarborough\", \"East Birchmount Park,Ionview,Kennedy Park\"], [\"M1L\", \"Scarborough\", \"Clairlea,Golden Mile,Oakridge\"], [\"M1M\", \"Scarborough\", \"Cliffcrest,Cliffside,Scarborough Village West\"], [\"M1N\", \"Scarborough\", \"Birch Cliff,Cliffside West\"], [\"M1P\", \"Scarborough\", \"Dorset Park,Scarborough Town Centre,Wexford Heights\"], [\"M1R\", \"Scarborough\", \"Maryvale,Wexford\"], [\"M1S\", \"Scarborough\", \"Agincourt\"], [\"M1T\", \"Scarborough\", \"Clarks Corners,Sullivan,Tam O\\'Shanter\"], [\"M1V\", \"Scarborough\", \"Agincourt North,L\\'Amoreaux East,Milliken,Steeles East\"], [\"M1W\", \"Scarborough\", \"L\\'Amoreaux West\"], [\"M1X\", \"Scarborough\", \"Upper Rouge\"], [\"M2H\", \"North York\", \"Hillcrest Village\"], [\"M2J\", \"North York\", \"Fairview,Henry Farm,Oriole\"], [\"M2K\", \"North York\", \"Bayview Village\"], [\"M2L\", \"North York\", \"Silver Hills,York Mills\"], [\"M2M\", \"North York\", \"Newtonbrook,Willowdale\"], [\"M2N\", \"North York\", \"Willowdale South\"], [\"M2P\", \"North York\", \"York Mills West\"], [\"M2R\", \"North York\", \"Willowdale West\"], [\"M3A\", \"North York\", \"Parkwoods\"], [\"M3B\", \"North York\", \"Don Mills North\"], [\"M3C\", \"North York\", \"Flemingdon Park,Don Mills South\"], [\"M3H\", \"North York\", \"Bathurst Manor,Downsview North,Wilson Heights\"], [\"M3J\", \"North York\", \"Northwood Park,York University\"], [\"M3K\", \"North York\", \"CFB Toronto,Downsview East\"], [\"M3L\", \"North York\", \"Downsview West\"], [\"M3M\", \"North York\", \"Downsview Central\"], [\"M3N\", \"North York\", \"Downsview Northwest\"], [\"M4A\", \"North York\", \"Victoria Village\"], [\"M4B\", \"East York\", \"Woodbine Gardens,Parkview Hill\"], [\"M4C\", \"East York\", \"Woodbine Heights\"], [\"M4E\", \"East Toronto\", \"The Beaches\"], [\"M4G\", \"East York\", \"Leaside\"], [\"M4H\", \"East York\", \"Thorncliffe Park\"], [\"M4J\", \"East York\", \"East Toronto\"], [\"M4K\", \"East Toronto\", \"The Danforth West,Riverdale\"], [\"M4L\", \"East Toronto\", \"The Beaches West,India Bazaar\"], [\"M4M\", \"East Toronto\", \"Studio District\"], [\"M4N\", \"Central Toronto\", \"Lawrence Park\"], [\"M4P\", \"Central Toronto\", \"Davisville North\"], [\"M4R\", \"Central Toronto\", \"North Toronto West\"], [\"M4S\", \"Central Toronto\", \"Davisville\"], [\"M4T\", \"Central Toronto\", \"Moore Park,Summerhill East\"], [\"M4V\", \"Central Toronto\", \"Deer Park,Forest Hill SE,Rathnelly,South Hill,Summerhill West\"], [\"M4W\", \"Downtown Toronto\", \"Rosedale\"], [\"M4X\", \"Downtown Toronto\", \"Cabbagetown,St. James Town\"], [\"M4Y\", \"Downtown Toronto\", \"Church and Wellesley\"], [\"M5A\", \"Downtown Toronto\", \"Harbourfront,Regent Park\"], [\"M5B\", \"Downtown Toronto\", \"Ryerson,Garden District\"], [\"M5C\", \"Downtown Toronto\", \"St. James Town\"], [\"M5E\", \"Downtown Toronto\", \"Berczy Park\"], [\"M5G\", \"Downtown Toronto\", \"Central Bay Street\"], [\"M5H\", \"Downtown Toronto\", \"Adelaide,King,Richmond\"], [\"M5J\", \"Downtown Toronto\", \"Harbourfront East,Toronto Islands,Union Station\"], [\"M5K\", \"Downtown Toronto\", \"Design Exchange,Toronto Dominion Centre\"], [\"M5L\", \"Downtown Toronto\", \"Commerce Court,Victoria Hotel\"], [\"M5M\", \"North York\", \"Bedford Park,Lawrence Manor East\"], [\"M5N\", \"Central Toronto\", \"Roselawn\"], [\"M5P\", \"Central Toronto\", \"Forest Hill North,Forest Hill West\"], [\"M5R\", \"Central Toronto\", \"The Annex,North Midtown,Yorkville\"], [\"M5S\", \"Downtown Toronto\", \"Harbord,University of Toronto\"], [\"M5T\", \"Downtown Toronto\", \"Chinatown,Grange Park,Kensington Market\"], [\"M5V\", \"Downtown Toronto\", \"CN Tower,Bathurst Quay,Island airport,Harbourfront West,King and Spadina,Railway Lands,South Niagara\"], [\"M5W\", \"Downtown Toronto\", \"Stn A PO Boxes 25 The Esplanade\"], [\"M5X\", \"Downtown Toronto\", \"First Canadian Place,Underground city\"], [\"M6A\", \"North York\", \"Lawrence Heights,Lawrence Manor\"], [\"M6B\", \"North York\", \"Glencairn\"], [\"M6C\", \"York\", \"Humewood-Cedarvale\"], [\"M6E\", \"York\", \"Caledonia-Fairbanks\"], [\"M6G\", \"Downtown Toronto\", \"Christie\"], [\"M6H\", \"West Toronto\", \"Dovercourt Village,Dufferin\"], [\"M6J\", \"West Toronto\", \"Little Portugal,Trinity\"], [\"M6K\", \"West Toronto\", \"Brockton,Exhibition Place,Parkdale Village\"], [\"M6L\", \"North York\", \"Downsview,North Park,Upwood Park\"], [\"M6M\", \"York\", \"Del Ray,Keelesdale,Mount Dennis,Silverthorn\"], [\"M6N\", \"York\", \"The Junction North,Runnymede\"], [\"M6P\", \"West Toronto\", \"High Park,The Junction South\"], [\"M6R\", \"West Toronto\", \"Parkdale,Roncesvalles\"], [\"M6S\", \"West Toronto\", \"Runnymede,Swansea\"], [\"M7A\", \"Queen\\'s Park\", \"Queen\\'s Park\"], [\"M7R\", \"Mississauga\", \"Canada Post Gateway Processing Centre\"], [\"M7Y\", \"East Toronto\", \"Business Reply Mail Processing Centre 969 Eastern\"], [\"M8V\", \"Etobicoke\", \"Humber Bay Shores,Mimico South,New Toronto\"], [\"M8W\", \"Etobicoke\", \"Alderwood,Long Branch\"], [\"M8X\", \"Etobicoke\", \"The Kingsway,Montgomery Road,Old Mill North\"], [\"M8Y\", \"Etobicoke\", \"Humber Bay,King\\'s Mill Park,Kingsway Park South East,Mimico NE,Old Mill South,The Queensway East,Royal York South East,Sunnylea\"], [\"M8Z\", \"Etobicoke\", \"Kingsway Park South West,Mimico NW,The Queensway West,Royal York South West,South of Bloor\"], [\"M9A\", \"Etobicoke\", \"Islington Avenue\"], [\"M9B\", \"Etobicoke\", \"Cloverdale,Islington,Martin Grove,Princess Gardens,West Deane Park\"], [\"M9C\", \"Etobicoke\", \"Bloordale Gardens,Eringate,Markland Wood,Old Burnhamthorpe\"], [\"M9L\", \"North York\", \"Humber Summit\"], [\"M9M\", \"North York\", \"Emery,Humberlea\"], [\"M9N\", \"York\", \"Weston\"], [\"M9P\", \"Etobicoke\", \"Westmount\"], [\"M9R\", \"Etobicoke\", \"Kingsview Village,Martin Grove Gardens,Richview Gardens,St. Phillips\"], [\"M9V\", \"Etobicoke\", \"Albion Gardens,Beaumond Heights,Humbergate,Jamestown,Mount Olive,Silverstone,South Steeles,Thistletown\"], [\"M9W\", \"Etobicoke\", \"Northwest\"]]"
      ],
      "execution_count": 0,
      "outputs": []
    },
    {
      "cell_type": "markdown",
      "metadata": {
        "id": "Ftp8rI92SNT4",
        "colab_type": "text"
      },
      "source": [
        "Fot the Latitude/Longitude, the following CSV has been downloaded and loaded."
      ]
    },
    {
      "cell_type": "code",
      "metadata": {
        "jupyter": {
          "outputs_hidden": false
        },
        "scrolled": true,
        "id": "E_ARDkT4SNTy",
        "colab_type": "code",
        "outputId": "08dca8f5-901c-4a3e-d22e-aa14de4c883b",
        "colab": {
          "base_uri": "https://localhost:8080/",
          "height": 34
        }
      },
      "source": [
        "!wget -q -O 'geospatial.csv' https://cocl.us/Geospatial_data\n",
        "print('Data downloaded!')"
      ],
      "execution_count": 102,
      "outputs": [
        {
          "output_type": "stream",
          "text": [
            "Data downloaded!\n"
          ],
          "name": "stdout"
        }
      ]
    },
    {
      "cell_type": "code",
      "metadata": {
        "jupyter": {
          "outputs_hidden": false
        },
        "id": "rCa9PX3pSNT2",
        "colab_type": "code",
        "colab": {}
      },
      "source": [
        "with open('geospatial.csv') as csv:\n",
        "  geospatial = pd.read_csv(\"geospatial.csv\") \n"
      ],
      "execution_count": 0,
      "outputs": []
    },
    {
      "cell_type": "markdown",
      "metadata": {
        "id": "NPOkzjqaSNT7",
        "colab_type": "text"
      },
      "source": [
        "The **Postal Code** now will be used as a Index to the searched on the construction of the dataframe."
      ]
    },
    {
      "cell_type": "code",
      "metadata": {
        "id": "AdVE_9eu_VR5",
        "colab_type": "code",
        "colab": {
          "base_uri": "https://localhost:8080/",
          "height": 235
        },
        "outputId": "890be580-77a0-4932-ecb2-22132869f393"
      },
      "source": [
        "geospatial.set_index('Postal Code', inplace=True)\n",
        "geospatial.head()"
      ],
      "execution_count": 104,
      "outputs": [
        {
          "output_type": "execute_result",
          "data": {
            "text/html": [
              "<div>\n",
              "<style scoped>\n",
              "    .dataframe tbody tr th:only-of-type {\n",
              "        vertical-align: middle;\n",
              "    }\n",
              "\n",
              "    .dataframe tbody tr th {\n",
              "        vertical-align: top;\n",
              "    }\n",
              "\n",
              "    .dataframe thead th {\n",
              "        text-align: right;\n",
              "    }\n",
              "</style>\n",
              "<table border=\"1\" class=\"dataframe\">\n",
              "  <thead>\n",
              "    <tr style=\"text-align: right;\">\n",
              "      <th></th>\n",
              "      <th>Latitude</th>\n",
              "      <th>Longitude</th>\n",
              "    </tr>\n",
              "    <tr>\n",
              "      <th>Postal Code</th>\n",
              "      <th></th>\n",
              "      <th></th>\n",
              "    </tr>\n",
              "  </thead>\n",
              "  <tbody>\n",
              "    <tr>\n",
              "      <th>M1B</th>\n",
              "      <td>43.806686</td>\n",
              "      <td>-79.194353</td>\n",
              "    </tr>\n",
              "    <tr>\n",
              "      <th>M1C</th>\n",
              "      <td>43.784535</td>\n",
              "      <td>-79.160497</td>\n",
              "    </tr>\n",
              "    <tr>\n",
              "      <th>M1E</th>\n",
              "      <td>43.763573</td>\n",
              "      <td>-79.188711</td>\n",
              "    </tr>\n",
              "    <tr>\n",
              "      <th>M1G</th>\n",
              "      <td>43.770992</td>\n",
              "      <td>-79.216917</td>\n",
              "    </tr>\n",
              "    <tr>\n",
              "      <th>M1H</th>\n",
              "      <td>43.773136</td>\n",
              "      <td>-79.239476</td>\n",
              "    </tr>\n",
              "  </tbody>\n",
              "</table>\n",
              "</div>"
            ],
            "text/plain": [
              "              Latitude  Longitude\n",
              "Postal Code                      \n",
              "M1B          43.806686 -79.194353\n",
              "M1C          43.784535 -79.160497\n",
              "M1E          43.763573 -79.188711\n",
              "M1G          43.770992 -79.216917\n",
              "M1H          43.773136 -79.239476"
            ]
          },
          "metadata": {
            "tags": []
          },
          "execution_count": 104
        }
      ]
    },
    {
      "cell_type": "markdown",
      "metadata": {
        "id": "90_GIsfdSNUA",
        "colab_type": "text"
      },
      "source": [
        "#### Tranform the data into a *pandas* dataframe"
      ]
    },
    {
      "cell_type": "markdown",
      "metadata": {
        "id": "2Lh38h_2SNUB",
        "colab_type": "text"
      },
      "source": [
        "The next task is essentially transforming this data into a *pandas* dataframe. So let's start by creating an empty dataframe."
      ]
    },
    {
      "cell_type": "code",
      "metadata": {
        "id": "RvbiRSINSNUC",
        "colab_type": "code",
        "colab": {}
      },
      "source": [
        "# define the dataframe columns\n",
        "column_names = ['PostalCode', 'Borough', 'Neighborhood'] \n",
        "neighborhoods = pd.DataFrame(columns=column_names)"
      ],
      "execution_count": 0,
      "outputs": []
    },
    {
      "cell_type": "markdown",
      "metadata": {
        "id": "dMeytAhASNUE",
        "colab_type": "text"
      },
      "source": [
        "Take a look at the empty dataframe to confirm that the columns are as intended."
      ]
    },
    {
      "cell_type": "code",
      "metadata": {
        "jupyter": {
          "outputs_hidden": false
        },
        "id": "a9xJZGZgSNUE",
        "colab_type": "code",
        "outputId": "ea601234-8ef9-4686-b539-d18b0043ed6f",
        "colab": {
          "base_uri": "https://localhost:8080/",
          "height": 49
        }
      },
      "source": [
        "neighborhoods"
      ],
      "execution_count": 106,
      "outputs": [
        {
          "output_type": "execute_result",
          "data": {
            "text/html": [
              "<div>\n",
              "<style scoped>\n",
              "    .dataframe tbody tr th:only-of-type {\n",
              "        vertical-align: middle;\n",
              "    }\n",
              "\n",
              "    .dataframe tbody tr th {\n",
              "        vertical-align: top;\n",
              "    }\n",
              "\n",
              "    .dataframe thead th {\n",
              "        text-align: right;\n",
              "    }\n",
              "</style>\n",
              "<table border=\"1\" class=\"dataframe\">\n",
              "  <thead>\n",
              "    <tr style=\"text-align: right;\">\n",
              "      <th></th>\n",
              "      <th>PostalCode</th>\n",
              "      <th>Borough</th>\n",
              "      <th>Neighborhood</th>\n",
              "    </tr>\n",
              "  </thead>\n",
              "  <tbody>\n",
              "  </tbody>\n",
              "</table>\n",
              "</div>"
            ],
            "text/plain": [
              "Empty DataFrame\n",
              "Columns: [PostalCode, Borough, Neighborhood]\n",
              "Index: []"
            ]
          },
          "metadata": {
            "tags": []
          },
          "execution_count": 106
        }
      ]
    },
    {
      "cell_type": "markdown",
      "metadata": {
        "id": "1BOpQdvZSNUG",
        "colab_type": "text"
      },
      "source": [
        "Then let's loop through the data and fill the dataframe one row at a time."
      ]
    },
    {
      "cell_type": "code",
      "metadata": {
        "jupyter": {
          "outputs_hidden": false
        },
        "id": "kfEzVpD5SNUH",
        "colab_type": "code",
        "colab": {}
      },
      "source": [
        "for data in array:\n",
        "    neighborhoods = neighborhoods.append({'PostalCode': data[0],\n",
        "                                          'Borough': data[1],\n",
        "                                          'Neighborhood': data[2],\n",
        "                                          'Latitude':geospatial.loc[ data[0] , : ]['Latitude'],\n",
        "                                          'Longitude':geospatial.loc[ data[0] , : ]['Longitude']}, ignore_index=True)"
      ],
      "execution_count": 0,
      "outputs": []
    },
    {
      "cell_type": "markdown",
      "metadata": {
        "id": "FtIosblmSNUK",
        "colab_type": "text"
      },
      "source": [
        "Quickly examine the resulting dataframe."
      ]
    },
    {
      "cell_type": "code",
      "metadata": {
        "jupyter": {
          "outputs_hidden": false
        },
        "scrolled": true,
        "id": "TrYXiceNSNUK",
        "colab_type": "code",
        "outputId": "3921595a-20b7-4e1f-9c05-646195fa6c75",
        "colab": {
          "base_uri": "https://localhost:8080/",
          "height": 204
        }
      },
      "source": [
        "neighborhoods.head()"
      ],
      "execution_count": 108,
      "outputs": [
        {
          "output_type": "execute_result",
          "data": {
            "text/html": [
              "<div>\n",
              "<style scoped>\n",
              "    .dataframe tbody tr th:only-of-type {\n",
              "        vertical-align: middle;\n",
              "    }\n",
              "\n",
              "    .dataframe tbody tr th {\n",
              "        vertical-align: top;\n",
              "    }\n",
              "\n",
              "    .dataframe thead th {\n",
              "        text-align: right;\n",
              "    }\n",
              "</style>\n",
              "<table border=\"1\" class=\"dataframe\">\n",
              "  <thead>\n",
              "    <tr style=\"text-align: right;\">\n",
              "      <th></th>\n",
              "      <th>PostalCode</th>\n",
              "      <th>Borough</th>\n",
              "      <th>Neighborhood</th>\n",
              "      <th>Latitude</th>\n",
              "      <th>Longitude</th>\n",
              "    </tr>\n",
              "  </thead>\n",
              "  <tbody>\n",
              "    <tr>\n",
              "      <th>0</th>\n",
              "      <td>M1B</td>\n",
              "      <td>Scarborough</td>\n",
              "      <td>Rouge,Malvern</td>\n",
              "      <td>43.806686</td>\n",
              "      <td>-79.194353</td>\n",
              "    </tr>\n",
              "    <tr>\n",
              "      <th>1</th>\n",
              "      <td>M1C</td>\n",
              "      <td>Scarborough</td>\n",
              "      <td>Highland Creek,Rouge Hill,Port Union</td>\n",
              "      <td>43.784535</td>\n",
              "      <td>-79.160497</td>\n",
              "    </tr>\n",
              "    <tr>\n",
              "      <th>2</th>\n",
              "      <td>M1E</td>\n",
              "      <td>Scarborough</td>\n",
              "      <td>Guildwood,Morningside,West Hill</td>\n",
              "      <td>43.763573</td>\n",
              "      <td>-79.188711</td>\n",
              "    </tr>\n",
              "    <tr>\n",
              "      <th>3</th>\n",
              "      <td>M1G</td>\n",
              "      <td>Scarborough</td>\n",
              "      <td>Woburn</td>\n",
              "      <td>43.770992</td>\n",
              "      <td>-79.216917</td>\n",
              "    </tr>\n",
              "    <tr>\n",
              "      <th>4</th>\n",
              "      <td>M1H</td>\n",
              "      <td>Scarborough</td>\n",
              "      <td>Cedarbrae</td>\n",
              "      <td>43.773136</td>\n",
              "      <td>-79.239476</td>\n",
              "    </tr>\n",
              "  </tbody>\n",
              "</table>\n",
              "</div>"
            ],
            "text/plain": [
              "  PostalCode      Borough                          Neighborhood   Latitude  \\\n",
              "0        M1B  Scarborough                         Rouge,Malvern  43.806686   \n",
              "1        M1C  Scarborough  Highland Creek,Rouge Hill,Port Union  43.784535   \n",
              "2        M1E  Scarborough       Guildwood,Morningside,West Hill  43.763573   \n",
              "3        M1G  Scarborough                                Woburn  43.770992   \n",
              "4        M1H  Scarborough                             Cedarbrae  43.773136   \n",
              "\n",
              "   Longitude  \n",
              "0 -79.194353  \n",
              "1 -79.160497  \n",
              "2 -79.188711  \n",
              "3 -79.216917  \n",
              "4 -79.239476  "
            ]
          },
          "metadata": {
            "tags": []
          },
          "execution_count": 108
        }
      ]
    },
    {
      "cell_type": "markdown",
      "metadata": {
        "id": "Dis-QpnQSNUN",
        "colab_type": "text"
      },
      "source": [
        "And make sure that the dataset has all 5 boroughs and 306 neighborhoods."
      ]
    },
    {
      "cell_type": "code",
      "metadata": {
        "jupyter": {
          "outputs_hidden": false
        },
        "id": "ANMzPVpqSNUN",
        "colab_type": "code",
        "outputId": "820f0bed-1e0c-4be5-9130-64809484b055",
        "colab": {
          "base_uri": "https://localhost:8080/",
          "height": 34
        }
      },
      "source": [
        "print('The dataframe has {} boroughs and {} neighborhoods.'.format(\n",
        "        len(neighborhoods['Borough'].unique()),\n",
        "        neighborhoods.shape[0]\n",
        "    )\n",
        ")"
      ],
      "execution_count": 109,
      "outputs": [
        {
          "output_type": "stream",
          "text": [
            "The dataframe has 11 boroughs and 103 neighborhoods.\n"
          ],
          "name": "stdout"
        }
      ]
    },
    {
      "cell_type": "code",
      "metadata": {
        "colab_type": "code",
        "outputId": "cc97ffee-7dbe-4b47-fc58-3352ccd3a637",
        "id": "eWWXYhy5pnB9",
        "colab": {
          "base_uri": "https://localhost:8080/",
          "height": 34
        }
      },
      "source": [
        "neighborhoods.shape"
      ],
      "execution_count": 110,
      "outputs": [
        {
          "output_type": "execute_result",
          "data": {
            "text/plain": [
              "(103, 5)"
            ]
          },
          "metadata": {
            "tags": []
          },
          "execution_count": 110
        }
      ]
    },
    {
      "cell_type": "markdown",
      "metadata": {
        "colab_type": "text",
        "id": "7fD6X-ispgoD"
      },
      "source": [
        "In order to define an instance of the geocoder, we need to define a user_agent. We will name our agent <em>ny_explorer</em>, as shown below."
      ]
    },
    {
      "cell_type": "code",
      "metadata": {
        "jupyter": {
          "outputs_hidden": false
        },
        "scrolled": true,
        "colab_type": "code",
        "outputId": "3633f092-a26f-4cd9-d31e-af20f3f52c99",
        "id": "eMWcFbiepgeJ",
        "colab": {
          "base_uri": "https://localhost:8080/",
          "height": 34
        }
      },
      "source": [
        "address = 'Toronto'\n",
        "\n",
        "geolocator = Nominatim(user_agent=\"ca_explorer\")\n",
        "location = geolocator.geocode(address)\n",
        "latitude = location.latitude\n",
        "longitude = location.longitude\n",
        "print('The geograpical coordinate of Toronto are {}, {}.'.format(latitude, longitude))"
      ],
      "execution_count": 111,
      "outputs": [
        {
          "output_type": "stream",
          "text": [
            "The geograpical coordinate of Toronto are 43.653963, -79.387207.\n"
          ],
          "name": "stdout"
        }
      ]
    },
    {
      "cell_type": "markdown",
      "metadata": {
        "colab_type": "text",
        "id": "qqSwxTaPpgQZ"
      },
      "source": [
        "#### Create a map of Toronto with neighborhoods superimposed on top."
      ]
    },
    {
      "cell_type": "code",
      "metadata": {
        "id": "2HgN1OuRyVp-",
        "colab_type": "code",
        "colab": {
          "base_uri": "https://localhost:8080/",
          "height": 204
        },
        "outputId": "80ef1598-618b-424f-e5db-8c8f58f85660"
      },
      "source": [
        "toronto_data = neighborhoods[neighborhoods['Borough'] == 'Scarborough'].reset_index(drop=True)\n",
        "toronto_data.head()"
      ],
      "execution_count": 112,
      "outputs": [
        {
          "output_type": "execute_result",
          "data": {
            "text/html": [
              "<div>\n",
              "<style scoped>\n",
              "    .dataframe tbody tr th:only-of-type {\n",
              "        vertical-align: middle;\n",
              "    }\n",
              "\n",
              "    .dataframe tbody tr th {\n",
              "        vertical-align: top;\n",
              "    }\n",
              "\n",
              "    .dataframe thead th {\n",
              "        text-align: right;\n",
              "    }\n",
              "</style>\n",
              "<table border=\"1\" class=\"dataframe\">\n",
              "  <thead>\n",
              "    <tr style=\"text-align: right;\">\n",
              "      <th></th>\n",
              "      <th>PostalCode</th>\n",
              "      <th>Borough</th>\n",
              "      <th>Neighborhood</th>\n",
              "      <th>Latitude</th>\n",
              "      <th>Longitude</th>\n",
              "    </tr>\n",
              "  </thead>\n",
              "  <tbody>\n",
              "    <tr>\n",
              "      <th>0</th>\n",
              "      <td>M1B</td>\n",
              "      <td>Scarborough</td>\n",
              "      <td>Rouge,Malvern</td>\n",
              "      <td>43.806686</td>\n",
              "      <td>-79.194353</td>\n",
              "    </tr>\n",
              "    <tr>\n",
              "      <th>1</th>\n",
              "      <td>M1C</td>\n",
              "      <td>Scarborough</td>\n",
              "      <td>Highland Creek,Rouge Hill,Port Union</td>\n",
              "      <td>43.784535</td>\n",
              "      <td>-79.160497</td>\n",
              "    </tr>\n",
              "    <tr>\n",
              "      <th>2</th>\n",
              "      <td>M1E</td>\n",
              "      <td>Scarborough</td>\n",
              "      <td>Guildwood,Morningside,West Hill</td>\n",
              "      <td>43.763573</td>\n",
              "      <td>-79.188711</td>\n",
              "    </tr>\n",
              "    <tr>\n",
              "      <th>3</th>\n",
              "      <td>M1G</td>\n",
              "      <td>Scarborough</td>\n",
              "      <td>Woburn</td>\n",
              "      <td>43.770992</td>\n",
              "      <td>-79.216917</td>\n",
              "    </tr>\n",
              "    <tr>\n",
              "      <th>4</th>\n",
              "      <td>M1H</td>\n",
              "      <td>Scarborough</td>\n",
              "      <td>Cedarbrae</td>\n",
              "      <td>43.773136</td>\n",
              "      <td>-79.239476</td>\n",
              "    </tr>\n",
              "  </tbody>\n",
              "</table>\n",
              "</div>"
            ],
            "text/plain": [
              "  PostalCode      Borough                          Neighborhood   Latitude  \\\n",
              "0        M1B  Scarborough                         Rouge,Malvern  43.806686   \n",
              "1        M1C  Scarborough  Highland Creek,Rouge Hill,Port Union  43.784535   \n",
              "2        M1E  Scarborough       Guildwood,Morningside,West Hill  43.763573   \n",
              "3        M1G  Scarborough                                Woburn  43.770992   \n",
              "4        M1H  Scarborough                             Cedarbrae  43.773136   \n",
              "\n",
              "   Longitude  \n",
              "0 -79.194353  \n",
              "1 -79.160497  \n",
              "2 -79.188711  \n",
              "3 -79.216917  \n",
              "4 -79.239476  "
            ]
          },
          "metadata": {
            "tags": []
          },
          "execution_count": 112
        }
      ]
    },
    {
      "cell_type": "code",
      "metadata": {
        "jupyter": {
          "outputs_hidden": false
        },
        "colab_type": "code",
        "outputId": "6986fbea-4a47-4517-c234-88af21cdd6f0",
        "id": "JpZTsx3rpeye",
        "colab": {
          "base_uri": "https://localhost:8080/",
          "height": 1000
        }
      },
      "source": [
        "# create map of Toronto using latitude and longitude values\n",
        "map_toronto = folium.Map(location=[latitude, longitude], zoom_start=11)\n",
        "\n",
        "# add markers to map\n",
        "for lat, lng, label in zip(toronto_data['Latitude'], toronto_data['Longitude'], toronto_data['Neighborhood']):\n",
        "    label = folium.Popup(label, parse_html=True)\n",
        "    folium.CircleMarker(\n",
        "        [lat, lng],\n",
        "        radius=5,\n",
        "        popup=label,\n",
        "        color='blue',\n",
        "        fill=True,\n",
        "        fill_color='#3186cc',\n",
        "        fill_opacity=0.7,\n",
        "        parse_html=False).add_to(map_toronto)  \n",
        "    \n",
        "map_toronto"
      ],
      "execution_count": 113,
      "outputs": [
        {
          "output_type": "execute_result",
          "data": {
            "text/html": [
              "<div style=\"width:100%;\"><div style=\"position:relative;width:100%;height:0;padding-bottom:60%;\"><iframe src=\"data:text/html;charset=utf-8;base64,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\" style=\"position:absolute;width:100%;height:100%;left:0;top:0;border:none !important;\" allowfullscreen webkitallowfullscreen mozallowfullscreen></iframe></div></div>"
            ],
            "text/plain": [
              "<folium.folium.Map at 0x7f7663b656d8>"
            ]
          },
          "metadata": {
            "tags": []
          },
          "execution_count": 113
        }
      ]
    },
    {
      "cell_type": "markdown",
      "metadata": {
        "colab_type": "text",
        "id": "bXOvQw0Hpeko"
      },
      "source": [
        "Next, we are going to start utilizing the Foursquare API to explore the neighborhoods and segment them."
      ]
    },
    {
      "cell_type": "markdown",
      "metadata": {
        "colab_type": "text",
        "id": "Wo5aRdDGpeUL"
      },
      "source": [
        "#### Define Foursquare Credentials and Version"
      ]
    },
    {
      "cell_type": "code",
      "metadata": {
        "jupyter": {
          "outputs_hidden": false
        },
        "colab_type": "code",
        "outputId": "59a036bd-f9bb-43a8-de30-4d6d65aa9119",
        "id": "JY1HRX6KpeJm",
        "colab": {
          "base_uri": "https://localhost:8080/",
          "height": 68
        }
      },
      "source": [
        "CLIENT_ID = 'XCZZBWCOGQ5BJ5KD3NOGA4J0LW52XU25S4IJCS5Z5GRJOGCV' # your Foursquare ID\n",
        "CLIENT_SECRET = '5JWA0FLEQE0OEDHAJRXKDD2HPWBSUH5LKUASZXDPP13Q0OQ5' # your Foursquare Secret\n",
        "VERSION = '20180605' # Foursquare API version\n",
        "\n",
        "print('Your credentails:')\n",
        "print('CLIENT_ID: ' + CLIENT_ID)\n",
        "print('CLIENT_SECRET:' + CLIENT_SECRET)"
      ],
      "execution_count": 114,
      "outputs": [
        {
          "output_type": "stream",
          "text": [
            "Your credentails:\n",
            "CLIENT_ID: XCZZBWCOGQ5BJ5KD3NOGA4J0LW52XU25S4IJCS5Z5GRJOGCV\n",
            "CLIENT_SECRET:5JWA0FLEQE0OEDHAJRXKDD2HPWBSUH5LKUASZXDPP13Q0OQ5\n"
          ],
          "name": "stdout"
        }
      ]
    },
    {
      "cell_type": "markdown",
      "metadata": {
        "colab_type": "text",
        "id": "Py1_wBKEpeB6"
      },
      "source": [
        "#### Let's explore the first neighborhood in our dataframe."
      ]
    },
    {
      "cell_type": "markdown",
      "metadata": {
        "colab_type": "text",
        "id": "D1S1FQ-Ypd31"
      },
      "source": [
        "Get the neighborhood's name."
      ]
    },
    {
      "cell_type": "code",
      "metadata": {
        "jupyter": {
          "outputs_hidden": false
        },
        "colab_type": "code",
        "outputId": "6a3e98ed-dd5d-409b-832d-689193117bd0",
        "id": "_GM7RwxEpdwz",
        "colab": {
          "base_uri": "https://localhost:8080/",
          "height": 34
        }
      },
      "source": [
        "toronto_data.loc[0, 'Neighborhood']"
      ],
      "execution_count": 115,
      "outputs": [
        {
          "output_type": "execute_result",
          "data": {
            "text/plain": [
              "'Rouge,Malvern'"
            ]
          },
          "metadata": {
            "tags": []
          },
          "execution_count": 115
        }
      ]
    },
    {
      "cell_type": "markdown",
      "metadata": {
        "colab_type": "text",
        "id": "89tQoCKApdnP"
      },
      "source": [
        "Get the neighborhood's latitude and longitude values."
      ]
    },
    {
      "cell_type": "code",
      "metadata": {
        "jupyter": {
          "outputs_hidden": false
        },
        "colab_type": "code",
        "outputId": "54980cd8-db22-40a9-9346-108a364ce2f7",
        "id": "mcwQeg00pdfa",
        "colab": {
          "base_uri": "https://localhost:8080/",
          "height": 34
        }
      },
      "source": [
        "neighborhood_latitude = toronto_data.loc[0, 'Latitude'] # neighborhood latitude value\n",
        "neighborhood_longitude = toronto_data.loc[0, 'Longitude'] # neighborhood longitude value\n",
        "\n",
        "neighborhood_name = toronto_data.loc[0, 'Neighborhood'] # neighborhood name\n",
        "\n",
        "print('Latitude and longitude values of {} are {}, {}.'.format(neighborhood_name, \n",
        "                                                               neighborhood_latitude, \n",
        "                                                               neighborhood_longitude))"
      ],
      "execution_count": 116,
      "outputs": [
        {
          "output_type": "stream",
          "text": [
            "Latitude and longitude values of Rouge,Malvern are 43.806686299999996, -79.19435340000001.\n"
          ],
          "name": "stdout"
        }
      ]
    },
    {
      "cell_type": "markdown",
      "metadata": {
        "colab_type": "text",
        "id": "-QmJsaUIpdVq"
      },
      "source": [
        "#### Now, let's get the top 100 venues that are in Marble Hill within a radius of 500 meters."
      ]
    },
    {
      "cell_type": "markdown",
      "metadata": {
        "colab_type": "text",
        "id": "2QvZnzQ2pdJS"
      },
      "source": [
        "First, let's create the GET request URL. Name your URL **url**."
      ]
    },
    {
      "cell_type": "code",
      "metadata": {
        "jupyter": {
          "outputs_hidden": false
        },
        "scrolled": true,
        "colab_type": "code",
        "id": "izLmshdopdAb",
        "colab": {
          "base_uri": "https://localhost:8080/",
          "height": 54
        },
        "outputId": "c2c264f8-6c8c-4f33-c5a8-f9e1720b4876"
      },
      "source": [
        "# type your answer here\n",
        "\n",
        "LIMIT = 100 # limit of number of venues returned by Foursquare API\n",
        "radius = 500 # define radius\n",
        "\n",
        "# create URL\n",
        "url = 'https://api.foursquare.com/v2/venues/explore?&client_id={}&client_secret={}&v={}&ll={},{}&radius={}&limit={}'.format(\n",
        "    CLIENT_ID, \n",
        "    CLIENT_SECRET, \n",
        "    VERSION, \n",
        "    neighborhood_latitude, \n",
        "    neighborhood_longitude, \n",
        "    radius, \n",
        "    LIMIT)\n",
        "\n",
        "url # display URL\n",
        "\n",
        "\n"
      ],
      "execution_count": 117,
      "outputs": [
        {
          "output_type": "execute_result",
          "data": {
            "text/plain": [
              "'https://api.foursquare.com/v2/venues/explore?&client_id=XCZZBWCOGQ5BJ5KD3NOGA4J0LW52XU25S4IJCS5Z5GRJOGCV&client_secret=5JWA0FLEQE0OEDHAJRXKDD2HPWBSUH5LKUASZXDPP13Q0OQ5&v=20180605&ll=43.806686299999996,-79.19435340000001&radius=500&limit=100'"
            ]
          },
          "metadata": {
            "tags": []
          },
          "execution_count": 117
        }
      ]
    },
    {
      "cell_type": "markdown",
      "metadata": {
        "colab_type": "text",
        "id": "u2Ebidpypcsj"
      },
      "source": [
        "Send the GET request and examine the resutls"
      ]
    },
    {
      "cell_type": "code",
      "metadata": {
        "jupyter": {
          "outputs_hidden": false
        },
        "colab_type": "code",
        "outputId": "6e16d93d-40d7-4b87-f5d2-20103edf62e0",
        "id": "_EOrD0XZpcgo",
        "colab": {
          "base_uri": "https://localhost:8080/",
          "height": 1000
        }
      },
      "source": [
        "results = requests.get(url).json()\n",
        "results"
      ],
      "execution_count": 118,
      "outputs": [
        {
          "output_type": "execute_result",
          "data": {
            "text/plain": [
              "{'meta': {'code': 200, 'requestId': '5d95faf32b274a0039c364f0'},\n",
              " 'response': {'groups': [{'items': [{'reasons': {'count': 0,\n",
              "       'items': [{'reasonName': 'globalInteractionReason',\n",
              "         'summary': 'This spot is popular',\n",
              "         'type': 'general'}]},\n",
              "      'referralId': 'e-0-4bb6b9446edc76b0d771311c-0',\n",
              "      'venue': {'categories': [{'icon': {'prefix': 'https://ss3.4sqi.net/img/categories_v2/food/fastfood_',\n",
              "          'suffix': '.png'},\n",
              "         'id': '4bf58dd8d48988d16e941735',\n",
              "         'name': 'Fast Food Restaurant',\n",
              "         'pluralName': 'Fast Food Restaurants',\n",
              "         'primary': True,\n",
              "         'shortName': 'Fast Food'}],\n",
              "       'id': '4bb6b9446edc76b0d771311c',\n",
              "       'location': {'cc': 'CA',\n",
              "        'city': 'Toronto',\n",
              "        'country': 'Canada',\n",
              "        'crossStreet': 'Morningside & Sheppard',\n",
              "        'distance': 387,\n",
              "        'formattedAddress': ['Toronto ON', 'Canada'],\n",
              "        'labeledLatLngs': [{'label': 'display',\n",
              "          'lat': 43.80744841934756,\n",
              "          'lng': -79.19905558052072}],\n",
              "        'lat': 43.80744841934756,\n",
              "        'lng': -79.19905558052072,\n",
              "        'state': 'ON'},\n",
              "       'name': \"Wendy's\",\n",
              "       'photos': {'count': 0, 'groups': []}}},\n",
              "     {'reasons': {'count': 0,\n",
              "       'items': [{'reasonName': 'globalInteractionReason',\n",
              "         'summary': 'This spot is popular',\n",
              "         'type': 'general'}]},\n",
              "      'referralId': 'e-0-5539e7d2498edaf4b02673ca-1',\n",
              "      'venue': {'categories': [{'icon': {'prefix': 'https://ss3.4sqi.net/img/categories_v2/shops/default_',\n",
              "          'suffix': '.png'},\n",
              "         'id': '52f2ab2ebcbc57f1066b8b28',\n",
              "         'name': 'Print Shop',\n",
              "         'pluralName': 'Print Shops',\n",
              "         'primary': True,\n",
              "         'shortName': 'Print Shop'}],\n",
              "       'id': '5539e7d2498edaf4b02673ca',\n",
              "       'location': {'address': '1315 Morningside Avenue',\n",
              "        'cc': 'CA',\n",
              "        'city': 'Scarborough',\n",
              "        'country': 'Canada',\n",
              "        'distance': 498,\n",
              "        'formattedAddress': ['1315 Morningside Avenue',\n",
              "         'Scarborough ON M1B 3C5',\n",
              "         'Canada'],\n",
              "        'labeledLatLngs': [{'label': 'display',\n",
              "          'lat': 43.8056297,\n",
              "          'lng': -79.2003784}],\n",
              "        'lat': 43.8056297,\n",
              "        'lng': -79.2003784,\n",
              "        'postalCode': 'M1B 3C5',\n",
              "        'state': 'ON'},\n",
              "       'name': 'Interprovincial Group',\n",
              "       'photos': {'count': 0, 'groups': []}}}],\n",
              "    'name': 'recommended',\n",
              "    'type': 'Recommended Places'}],\n",
              "  'headerFullLocation': 'Malvern, Toronto',\n",
              "  'headerLocation': 'Malvern',\n",
              "  'headerLocationGranularity': 'neighborhood',\n",
              "  'suggestedBounds': {'ne': {'lat': 43.8111863045, 'lng': -79.18812958073042},\n",
              "   'sw': {'lat': 43.80218629549999, 'lng': -79.2005772192696}},\n",
              "  'totalResults': 2,\n",
              "  'warning': {'text': \"There aren't a lot of results near you. Try something more general, reset your filters, or expand the search area.\"}}}"
            ]
          },
          "metadata": {
            "tags": []
          },
          "execution_count": 118
        }
      ]
    },
    {
      "cell_type": "markdown",
      "metadata": {
        "colab_type": "text",
        "id": "-vWj551yn7K0"
      },
      "source": [
        "From the Foursquare lab in the previous module, we know that all the information is in the *items* key. Before we proceed, let's borrow the **get_category_type** function from the Foursquare lab."
      ]
    },
    {
      "cell_type": "code",
      "metadata": {
        "colab_type": "code",
        "id": "XvZ0Vedpn6gn",
        "colab": {}
      },
      "source": [
        "# function that extracts the category of the venue\n",
        "def get_category_type(row):\n",
        "    try:\n",
        "        categories_list = row['categories']\n",
        "    except:\n",
        "        categories_list = row['venue.categories']\n",
        "        \n",
        "    if len(categories_list) == 0:\n",
        "        return None\n",
        "    else:\n",
        "        return categories_list[0]['name']"
      ],
      "execution_count": 0,
      "outputs": []
    },
    {
      "cell_type": "markdown",
      "metadata": {
        "colab_type": "text",
        "id": "WQR71Lu5n6X1"
      },
      "source": [
        "Now we are ready to clean the json and structure it into a *pandas* dataframe."
      ]
    },
    {
      "cell_type": "code",
      "metadata": {
        "jupyter": {
          "outputs_hidden": false
        },
        "colab_type": "code",
        "id": "ORdsCDKJn6Kt",
        "colab": {
          "base_uri": "https://localhost:8080/",
          "height": 111
        },
        "outputId": "dbf59da4-632b-41b7-cbc6-0f89e903d14c"
      },
      "source": [
        "venues = results['response']['groups'][0]['items']\n",
        "    \n",
        "nearby_venues = json_normalize(venues) # flatten JSON\n",
        "\n",
        "# filter columns\n",
        "filtered_columns = ['venue.name', 'venue.categories', 'venue.location.lat', 'venue.location.lng']\n",
        "nearby_venues =nearby_venues.loc[:, filtered_columns]\n",
        "\n",
        "# filter the category for each row\n",
        "nearby_venues['venue.categories'] = nearby_venues.apply(get_category_type, axis=1)\n",
        "\n",
        "# clean columns\n",
        "nearby_venues.columns = [col.split(\".\")[-1] for col in nearby_venues.columns]\n",
        "\n",
        "nearby_venues.head()"
      ],
      "execution_count": 120,
      "outputs": [
        {
          "output_type": "execute_result",
          "data": {
            "text/html": [
              "<div>\n",
              "<style scoped>\n",
              "    .dataframe tbody tr th:only-of-type {\n",
              "        vertical-align: middle;\n",
              "    }\n",
              "\n",
              "    .dataframe tbody tr th {\n",
              "        vertical-align: top;\n",
              "    }\n",
              "\n",
              "    .dataframe thead th {\n",
              "        text-align: right;\n",
              "    }\n",
              "</style>\n",
              "<table border=\"1\" class=\"dataframe\">\n",
              "  <thead>\n",
              "    <tr style=\"text-align: right;\">\n",
              "      <th></th>\n",
              "      <th>name</th>\n",
              "      <th>categories</th>\n",
              "      <th>lat</th>\n",
              "      <th>lng</th>\n",
              "    </tr>\n",
              "  </thead>\n",
              "  <tbody>\n",
              "    <tr>\n",
              "      <th>0</th>\n",
              "      <td>Wendy's</td>\n",
              "      <td>Fast Food Restaurant</td>\n",
              "      <td>43.807448</td>\n",
              "      <td>-79.199056</td>\n",
              "    </tr>\n",
              "    <tr>\n",
              "      <th>1</th>\n",
              "      <td>Interprovincial Group</td>\n",
              "      <td>Print Shop</td>\n",
              "      <td>43.805630</td>\n",
              "      <td>-79.200378</td>\n",
              "    </tr>\n",
              "  </tbody>\n",
              "</table>\n",
              "</div>"
            ],
            "text/plain": [
              "                    name            categories        lat        lng\n",
              "0                Wendy's  Fast Food Restaurant  43.807448 -79.199056\n",
              "1  Interprovincial Group            Print Shop  43.805630 -79.200378"
            ]
          },
          "metadata": {
            "tags": []
          },
          "execution_count": 120
        }
      ]
    },
    {
      "cell_type": "markdown",
      "metadata": {
        "colab_type": "text",
        "id": "Yx9bDNcXn6Bl"
      },
      "source": [
        "And how many venues were returned by Foursquare?"
      ]
    },
    {
      "cell_type": "code",
      "metadata": {
        "jupyter": {
          "outputs_hidden": false
        },
        "colab_type": "code",
        "id": "ai98_jSCn53P",
        "colab": {
          "base_uri": "https://localhost:8080/",
          "height": 34
        },
        "outputId": "5fcfd4e8-9c93-41b5-d929-e65eacaaa3b9"
      },
      "source": [
        "print('{} venues were returned by Foursquare.'.format(nearby_venues.shape[0]))"
      ],
      "execution_count": 121,
      "outputs": [
        {
          "output_type": "stream",
          "text": [
            "2 venues were returned by Foursquare.\n"
          ],
          "name": "stdout"
        }
      ]
    },
    {
      "cell_type": "markdown",
      "metadata": {
        "colab_type": "text",
        "id": "KBuCRsQ2n5sG"
      },
      "source": [
        "<a id='item2'></a>"
      ]
    },
    {
      "cell_type": "markdown",
      "metadata": {
        "colab_type": "text",
        "id": "Bv4KmvLCn5ij"
      },
      "source": [
        "## 2. Explore Neighborhoods in Toronto"
      ]
    },
    {
      "cell_type": "markdown",
      "metadata": {
        "colab_type": "text",
        "id": "w103U8QAn47C"
      },
      "source": [
        "#### Let's create a function to repeat the same process to all the neighborhoods in Toronto"
      ]
    },
    {
      "cell_type": "code",
      "metadata": {
        "colab_type": "code",
        "id": "igxGCobKn4yu",
        "colab": {}
      },
      "source": [
        "def getNearbyVenues(names, latitudes, longitudes, radius=500):\n",
        "    \n",
        "    venues_list=[]\n",
        "    for name, lat, lng in zip(names, latitudes, longitudes):\n",
        "        print(name)\n",
        "            \n",
        "        # create the API request URL\n",
        "        url = 'https://api.foursquare.com/v2/venues/explore?&client_id={}&client_secret={}&v={}&ll={},{}&radius={}&limit={}'.format(\n",
        "            CLIENT_ID, \n",
        "            CLIENT_SECRET, \n",
        "            VERSION, \n",
        "            lat, \n",
        "            lng, \n",
        "            radius, \n",
        "            LIMIT)\n",
        "            \n",
        "        # make the GET request\n",
        "        results = requests.get(url).json()[\"response\"]['groups'][0]['items']\n",
        "        \n",
        "        # return only relevant information for each nearby venue\n",
        "        venues_list.append([(\n",
        "            name, \n",
        "            lat, \n",
        "            lng, \n",
        "            v['venue']['name'], \n",
        "            v['venue']['location']['lat'], \n",
        "            v['venue']['location']['lng'],  \n",
        "            v['venue']['categories'][0]['name']) for v in results])\n",
        "\n",
        "    nearby_venues = pd.DataFrame([item for venue_list in venues_list for item in venue_list])\n",
        "    nearby_venues.columns = ['Neighborhood', \n",
        "                  'Neighborhood Latitude', \n",
        "                  'Neighborhood Longitude', \n",
        "                  'Venue', \n",
        "                  'Venue Latitude', \n",
        "                  'Venue Longitude', \n",
        "                  'Venue Category']\n",
        "    \n",
        "    return(nearby_venues)"
      ],
      "execution_count": 0,
      "outputs": []
    },
    {
      "cell_type": "markdown",
      "metadata": {
        "colab_type": "text",
        "id": "sHnkaG1fn4ro"
      },
      "source": [
        "#### Now write the code to run the above function on each neighborhood and create a new dataframe called *toronto_venues*."
      ]
    },
    {
      "cell_type": "code",
      "metadata": {
        "jupyter": {
          "outputs_hidden": false
        },
        "scrolled": true,
        "colab_type": "code",
        "id": "CA0gnJPmn4jY",
        "colab": {
          "base_uri": "https://localhost:8080/",
          "height": 306
        },
        "outputId": "84014f46-f823-4d03-a091-cb0f3d581dae"
      },
      "source": [
        "# type your answer here\n",
        "\n",
        "toronto_venues = getNearbyVenues(names=toronto_data['Neighborhood'],\n",
        "                                   latitudes=toronto_data['Latitude'],\n",
        "                                   longitudes=toronto_data['Longitude']\n",
        "                                  )\n",
        "\n"
      ],
      "execution_count": 123,
      "outputs": [
        {
          "output_type": "stream",
          "text": [
            "Rouge,Malvern\n",
            "Highland Creek,Rouge Hill,Port Union\n",
            "Guildwood,Morningside,West Hill\n",
            "Woburn\n",
            "Cedarbrae\n",
            "Scarborough Village\n",
            "East Birchmount Park,Ionview,Kennedy Park\n",
            "Clairlea,Golden Mile,Oakridge\n",
            "Cliffcrest,Cliffside,Scarborough Village West\n",
            "Birch Cliff,Cliffside West\n",
            "Dorset Park,Scarborough Town Centre,Wexford Heights\n",
            "Maryvale,Wexford\n",
            "Agincourt\n",
            "Clarks Corners,Sullivan,Tam O'Shanter\n",
            "Agincourt North,L'Amoreaux East,Milliken,Steeles East\n",
            "L'Amoreaux West\n",
            "Upper Rouge\n"
          ],
          "name": "stdout"
        }
      ]
    },
    {
      "cell_type": "markdown",
      "metadata": {
        "colab_type": "text",
        "id": "tLAfTmNBn4dv"
      },
      "source": [
        "Double-click __here__ for the solution.\n",
        "<!-- The correct answer is:\n",
        "toronto_venues = getNearbyVenues(names=toronto_data['Neighborhood'],\n",
        "                                   latitudes=toronto_data['Latitude'],\n",
        "                                   longitudes=toronto_data['Longitude']\n",
        "                                  )\n",
        "--> "
      ]
    },
    {
      "cell_type": "markdown",
      "metadata": {
        "colab_type": "text",
        "id": "otUXHTg7n4WE"
      },
      "source": [
        "#### Let's check the size of the resulting dataframe"
      ]
    },
    {
      "cell_type": "code",
      "metadata": {
        "jupyter": {
          "outputs_hidden": false
        },
        "colab_type": "code",
        "id": "cHQguKLNn4Q4",
        "colab": {
          "base_uri": "https://localhost:8080/",
          "height": 221
        },
        "outputId": "0373477c-5fbc-4d3d-a7bb-7a0f7b6fa870"
      },
      "source": [
        "print(toronto_venues.shape)\n",
        "toronto_venues.head()"
      ],
      "execution_count": 124,
      "outputs": [
        {
          "output_type": "stream",
          "text": [
            "(88, 7)\n"
          ],
          "name": "stdout"
        },
        {
          "output_type": "execute_result",
          "data": {
            "text/html": [
              "<div>\n",
              "<style scoped>\n",
              "    .dataframe tbody tr th:only-of-type {\n",
              "        vertical-align: middle;\n",
              "    }\n",
              "\n",
              "    .dataframe tbody tr th {\n",
              "        vertical-align: top;\n",
              "    }\n",
              "\n",
              "    .dataframe thead th {\n",
              "        text-align: right;\n",
              "    }\n",
              "</style>\n",
              "<table border=\"1\" class=\"dataframe\">\n",
              "  <thead>\n",
              "    <tr style=\"text-align: right;\">\n",
              "      <th></th>\n",
              "      <th>Neighborhood</th>\n",
              "      <th>Neighborhood Latitude</th>\n",
              "      <th>Neighborhood Longitude</th>\n",
              "      <th>Venue</th>\n",
              "      <th>Venue Latitude</th>\n",
              "      <th>Venue Longitude</th>\n",
              "      <th>Venue Category</th>\n",
              "    </tr>\n",
              "  </thead>\n",
              "  <tbody>\n",
              "    <tr>\n",
              "      <th>0</th>\n",
              "      <td>Rouge,Malvern</td>\n",
              "      <td>43.806686</td>\n",
              "      <td>-79.194353</td>\n",
              "      <td>Wendy's</td>\n",
              "      <td>43.807448</td>\n",
              "      <td>-79.199056</td>\n",
              "      <td>Fast Food Restaurant</td>\n",
              "    </tr>\n",
              "    <tr>\n",
              "      <th>1</th>\n",
              "      <td>Rouge,Malvern</td>\n",
              "      <td>43.806686</td>\n",
              "      <td>-79.194353</td>\n",
              "      <td>Interprovincial Group</td>\n",
              "      <td>43.805630</td>\n",
              "      <td>-79.200378</td>\n",
              "      <td>Print Shop</td>\n",
              "    </tr>\n",
              "    <tr>\n",
              "      <th>2</th>\n",
              "      <td>Highland Creek,Rouge Hill,Port Union</td>\n",
              "      <td>43.784535</td>\n",
              "      <td>-79.160497</td>\n",
              "      <td>Royal Canadian Legion</td>\n",
              "      <td>43.782533</td>\n",
              "      <td>-79.163085</td>\n",
              "      <td>Bar</td>\n",
              "    </tr>\n",
              "    <tr>\n",
              "      <th>3</th>\n",
              "      <td>Guildwood,Morningside,West Hill</td>\n",
              "      <td>43.763573</td>\n",
              "      <td>-79.188711</td>\n",
              "      <td>Swiss Chalet Rotisserie &amp; Grill</td>\n",
              "      <td>43.767697</td>\n",
              "      <td>-79.189914</td>\n",
              "      <td>Pizza Place</td>\n",
              "    </tr>\n",
              "    <tr>\n",
              "      <th>4</th>\n",
              "      <td>Guildwood,Morningside,West Hill</td>\n",
              "      <td>43.763573</td>\n",
              "      <td>-79.188711</td>\n",
              "      <td>G &amp; G Electronics</td>\n",
              "      <td>43.765309</td>\n",
              "      <td>-79.191537</td>\n",
              "      <td>Electronics Store</td>\n",
              "    </tr>\n",
              "  </tbody>\n",
              "</table>\n",
              "</div>"
            ],
            "text/plain": [
              "                           Neighborhood  Neighborhood Latitude  \\\n",
              "0                         Rouge,Malvern              43.806686   \n",
              "1                         Rouge,Malvern              43.806686   \n",
              "2  Highland Creek,Rouge Hill,Port Union              43.784535   \n",
              "3       Guildwood,Morningside,West Hill              43.763573   \n",
              "4       Guildwood,Morningside,West Hill              43.763573   \n",
              "\n",
              "   Neighborhood Longitude                            Venue  Venue Latitude  \\\n",
              "0              -79.194353                          Wendy's       43.807448   \n",
              "1              -79.194353            Interprovincial Group       43.805630   \n",
              "2              -79.160497            Royal Canadian Legion       43.782533   \n",
              "3              -79.188711  Swiss Chalet Rotisserie & Grill       43.767697   \n",
              "4              -79.188711                G & G Electronics       43.765309   \n",
              "\n",
              "   Venue Longitude        Venue Category  \n",
              "0       -79.199056  Fast Food Restaurant  \n",
              "1       -79.200378            Print Shop  \n",
              "2       -79.163085                   Bar  \n",
              "3       -79.189914           Pizza Place  \n",
              "4       -79.191537     Electronics Store  "
            ]
          },
          "metadata": {
            "tags": []
          },
          "execution_count": 124
        }
      ]
    },
    {
      "cell_type": "markdown",
      "metadata": {
        "colab_type": "text",
        "id": "0M7mULLln4KN"
      },
      "source": [
        "Let's check how many venues were returned for each neighborhood"
      ]
    },
    {
      "cell_type": "code",
      "metadata": {
        "jupyter": {
          "outputs_hidden": false
        },
        "colab_type": "code",
        "id": "A3zq39c4n4DO",
        "colab": {
          "base_uri": "https://localhost:8080/",
          "height": 576
        },
        "outputId": "ea83a868-7ec7-4ee2-b744-bcf61050ad0d"
      },
      "source": [
        "toronto_venues.groupby('Neighborhood').count()"
      ],
      "execution_count": 125,
      "outputs": [
        {
          "output_type": "execute_result",
          "data": {
            "text/html": [
              "<div>\n",
              "<style scoped>\n",
              "    .dataframe tbody tr th:only-of-type {\n",
              "        vertical-align: middle;\n",
              "    }\n",
              "\n",
              "    .dataframe tbody tr th {\n",
              "        vertical-align: top;\n",
              "    }\n",
              "\n",
              "    .dataframe thead th {\n",
              "        text-align: right;\n",
              "    }\n",
              "</style>\n",
              "<table border=\"1\" class=\"dataframe\">\n",
              "  <thead>\n",
              "    <tr style=\"text-align: right;\">\n",
              "      <th></th>\n",
              "      <th>Neighborhood Latitude</th>\n",
              "      <th>Neighborhood Longitude</th>\n",
              "      <th>Venue</th>\n",
              "      <th>Venue Latitude</th>\n",
              "      <th>Venue Longitude</th>\n",
              "      <th>Venue Category</th>\n",
              "    </tr>\n",
              "    <tr>\n",
              "      <th>Neighborhood</th>\n",
              "      <th></th>\n",
              "      <th></th>\n",
              "      <th></th>\n",
              "      <th></th>\n",
              "      <th></th>\n",
              "      <th></th>\n",
              "    </tr>\n",
              "  </thead>\n",
              "  <tbody>\n",
              "    <tr>\n",
              "      <th>Agincourt</th>\n",
              "      <td>4</td>\n",
              "      <td>4</td>\n",
              "      <td>4</td>\n",
              "      <td>4</td>\n",
              "      <td>4</td>\n",
              "      <td>4</td>\n",
              "    </tr>\n",
              "    <tr>\n",
              "      <th>Agincourt North,L'Amoreaux East,Milliken,Steeles East</th>\n",
              "      <td>3</td>\n",
              "      <td>3</td>\n",
              "      <td>3</td>\n",
              "      <td>3</td>\n",
              "      <td>3</td>\n",
              "      <td>3</td>\n",
              "    </tr>\n",
              "    <tr>\n",
              "      <th>Birch Cliff,Cliffside West</th>\n",
              "      <td>4</td>\n",
              "      <td>4</td>\n",
              "      <td>4</td>\n",
              "      <td>4</td>\n",
              "      <td>4</td>\n",
              "      <td>4</td>\n",
              "    </tr>\n",
              "    <tr>\n",
              "      <th>Cedarbrae</th>\n",
              "      <td>8</td>\n",
              "      <td>8</td>\n",
              "      <td>8</td>\n",
              "      <td>8</td>\n",
              "      <td>8</td>\n",
              "      <td>8</td>\n",
              "    </tr>\n",
              "    <tr>\n",
              "      <th>Clairlea,Golden Mile,Oakridge</th>\n",
              "      <td>10</td>\n",
              "      <td>10</td>\n",
              "      <td>10</td>\n",
              "      <td>10</td>\n",
              "      <td>10</td>\n",
              "      <td>10</td>\n",
              "    </tr>\n",
              "    <tr>\n",
              "      <th>Clarks Corners,Sullivan,Tam O'Shanter</th>\n",
              "      <td>12</td>\n",
              "      <td>12</td>\n",
              "      <td>12</td>\n",
              "      <td>12</td>\n",
              "      <td>12</td>\n",
              "      <td>12</td>\n",
              "    </tr>\n",
              "    <tr>\n",
              "      <th>Cliffcrest,Cliffside,Scarborough Village West</th>\n",
              "      <td>3</td>\n",
              "      <td>3</td>\n",
              "      <td>3</td>\n",
              "      <td>3</td>\n",
              "      <td>3</td>\n",
              "      <td>3</td>\n",
              "    </tr>\n",
              "    <tr>\n",
              "      <th>Dorset Park,Scarborough Town Centre,Wexford Heights</th>\n",
              "      <td>7</td>\n",
              "      <td>7</td>\n",
              "      <td>7</td>\n",
              "      <td>7</td>\n",
              "      <td>7</td>\n",
              "      <td>7</td>\n",
              "    </tr>\n",
              "    <tr>\n",
              "      <th>East Birchmount Park,Ionview,Kennedy Park</th>\n",
              "      <td>7</td>\n",
              "      <td>7</td>\n",
              "      <td>7</td>\n",
              "      <td>7</td>\n",
              "      <td>7</td>\n",
              "      <td>7</td>\n",
              "    </tr>\n",
              "    <tr>\n",
              "      <th>Guildwood,Morningside,West Hill</th>\n",
              "      <td>7</td>\n",
              "      <td>7</td>\n",
              "      <td>7</td>\n",
              "      <td>7</td>\n",
              "      <td>7</td>\n",
              "      <td>7</td>\n",
              "    </tr>\n",
              "    <tr>\n",
              "      <th>Highland Creek,Rouge Hill,Port Union</th>\n",
              "      <td>1</td>\n",
              "      <td>1</td>\n",
              "      <td>1</td>\n",
              "      <td>1</td>\n",
              "      <td>1</td>\n",
              "      <td>1</td>\n",
              "    </tr>\n",
              "    <tr>\n",
              "      <th>L'Amoreaux West</th>\n",
              "      <td>10</td>\n",
              "      <td>10</td>\n",
              "      <td>10</td>\n",
              "      <td>10</td>\n",
              "      <td>10</td>\n",
              "      <td>10</td>\n",
              "    </tr>\n",
              "    <tr>\n",
              "      <th>Maryvale,Wexford</th>\n",
              "      <td>4</td>\n",
              "      <td>4</td>\n",
              "      <td>4</td>\n",
              "      <td>4</td>\n",
              "      <td>4</td>\n",
              "      <td>4</td>\n",
              "    </tr>\n",
              "    <tr>\n",
              "      <th>Rouge,Malvern</th>\n",
              "      <td>2</td>\n",
              "      <td>2</td>\n",
              "      <td>2</td>\n",
              "      <td>2</td>\n",
              "      <td>2</td>\n",
              "      <td>2</td>\n",
              "    </tr>\n",
              "    <tr>\n",
              "      <th>Scarborough Village</th>\n",
              "      <td>3</td>\n",
              "      <td>3</td>\n",
              "      <td>3</td>\n",
              "      <td>3</td>\n",
              "      <td>3</td>\n",
              "      <td>3</td>\n",
              "    </tr>\n",
              "    <tr>\n",
              "      <th>Woburn</th>\n",
              "      <td>3</td>\n",
              "      <td>3</td>\n",
              "      <td>3</td>\n",
              "      <td>3</td>\n",
              "      <td>3</td>\n",
              "      <td>3</td>\n",
              "    </tr>\n",
              "  </tbody>\n",
              "</table>\n",
              "</div>"
            ],
            "text/plain": [
              "                                                    Neighborhood Latitude  \\\n",
              "Neighborhood                                                                \n",
              "Agincourt                                                               4   \n",
              "Agincourt North,L'Amoreaux East,Milliken,Steele...                      3   \n",
              "Birch Cliff,Cliffside West                                              4   \n",
              "Cedarbrae                                                               8   \n",
              "Clairlea,Golden Mile,Oakridge                                          10   \n",
              "Clarks Corners,Sullivan,Tam O'Shanter                                  12   \n",
              "Cliffcrest,Cliffside,Scarborough Village West                           3   \n",
              "Dorset Park,Scarborough Town Centre,Wexford Hei...                      7   \n",
              "East Birchmount Park,Ionview,Kennedy Park                               7   \n",
              "Guildwood,Morningside,West Hill                                         7   \n",
              "Highland Creek,Rouge Hill,Port Union                                    1   \n",
              "L'Amoreaux West                                                        10   \n",
              "Maryvale,Wexford                                                        4   \n",
              "Rouge,Malvern                                                           2   \n",
              "Scarborough Village                                                     3   \n",
              "Woburn                                                                  3   \n",
              "\n",
              "                                                    Neighborhood Longitude  \\\n",
              "Neighborhood                                                                 \n",
              "Agincourt                                                                4   \n",
              "Agincourt North,L'Amoreaux East,Milliken,Steele...                       3   \n",
              "Birch Cliff,Cliffside West                                               4   \n",
              "Cedarbrae                                                                8   \n",
              "Clairlea,Golden Mile,Oakridge                                           10   \n",
              "Clarks Corners,Sullivan,Tam O'Shanter                                   12   \n",
              "Cliffcrest,Cliffside,Scarborough Village West                            3   \n",
              "Dorset Park,Scarborough Town Centre,Wexford Hei...                       7   \n",
              "East Birchmount Park,Ionview,Kennedy Park                                7   \n",
              "Guildwood,Morningside,West Hill                                          7   \n",
              "Highland Creek,Rouge Hill,Port Union                                     1   \n",
              "L'Amoreaux West                                                         10   \n",
              "Maryvale,Wexford                                                         4   \n",
              "Rouge,Malvern                                                            2   \n",
              "Scarborough Village                                                      3   \n",
              "Woburn                                                                   3   \n",
              "\n",
              "                                                    Venue  Venue Latitude  \\\n",
              "Neighborhood                                                                \n",
              "Agincourt                                               4               4   \n",
              "Agincourt North,L'Amoreaux East,Milliken,Steele...      3               3   \n",
              "Birch Cliff,Cliffside West                              4               4   \n",
              "Cedarbrae                                               8               8   \n",
              "Clairlea,Golden Mile,Oakridge                          10              10   \n",
              "Clarks Corners,Sullivan,Tam O'Shanter                  12              12   \n",
              "Cliffcrest,Cliffside,Scarborough Village West           3               3   \n",
              "Dorset Park,Scarborough Town Centre,Wexford Hei...      7               7   \n",
              "East Birchmount Park,Ionview,Kennedy Park               7               7   \n",
              "Guildwood,Morningside,West Hill                         7               7   \n",
              "Highland Creek,Rouge Hill,Port Union                    1               1   \n",
              "L'Amoreaux West                                        10              10   \n",
              "Maryvale,Wexford                                        4               4   \n",
              "Rouge,Malvern                                           2               2   \n",
              "Scarborough Village                                     3               3   \n",
              "Woburn                                                  3               3   \n",
              "\n",
              "                                                    Venue Longitude  \\\n",
              "Neighborhood                                                          \n",
              "Agincourt                                                         4   \n",
              "Agincourt North,L'Amoreaux East,Milliken,Steele...                3   \n",
              "Birch Cliff,Cliffside West                                        4   \n",
              "Cedarbrae                                                         8   \n",
              "Clairlea,Golden Mile,Oakridge                                    10   \n",
              "Clarks Corners,Sullivan,Tam O'Shanter                            12   \n",
              "Cliffcrest,Cliffside,Scarborough Village West                     3   \n",
              "Dorset Park,Scarborough Town Centre,Wexford Hei...                7   \n",
              "East Birchmount Park,Ionview,Kennedy Park                         7   \n",
              "Guildwood,Morningside,West Hill                                   7   \n",
              "Highland Creek,Rouge Hill,Port Union                              1   \n",
              "L'Amoreaux West                                                  10   \n",
              "Maryvale,Wexford                                                  4   \n",
              "Rouge,Malvern                                                     2   \n",
              "Scarborough Village                                               3   \n",
              "Woburn                                                            3   \n",
              "\n",
              "                                                    Venue Category  \n",
              "Neighborhood                                                        \n",
              "Agincourt                                                        4  \n",
              "Agincourt North,L'Amoreaux East,Milliken,Steele...               3  \n",
              "Birch Cliff,Cliffside West                                       4  \n",
              "Cedarbrae                                                        8  \n",
              "Clairlea,Golden Mile,Oakridge                                   10  \n",
              "Clarks Corners,Sullivan,Tam O'Shanter                           12  \n",
              "Cliffcrest,Cliffside,Scarborough Village West                    3  \n",
              "Dorset Park,Scarborough Town Centre,Wexford Hei...               7  \n",
              "East Birchmount Park,Ionview,Kennedy Park                        7  \n",
              "Guildwood,Morningside,West Hill                                  7  \n",
              "Highland Creek,Rouge Hill,Port Union                             1  \n",
              "L'Amoreaux West                                                 10  \n",
              "Maryvale,Wexford                                                 4  \n",
              "Rouge,Malvern                                                    2  \n",
              "Scarborough Village                                              3  \n",
              "Woburn                                                           3  "
            ]
          },
          "metadata": {
            "tags": []
          },
          "execution_count": 125
        }
      ]
    },
    {
      "cell_type": "markdown",
      "metadata": {
        "colab_type": "text",
        "id": "48cQk-1sn3_J"
      },
      "source": [
        "#### Let's find out how many unique categories can be curated from all the returned venues"
      ]
    },
    {
      "cell_type": "code",
      "metadata": {
        "jupyter": {
          "outputs_hidden": false
        },
        "colab_type": "code",
        "id": "7M8ncI0xn32x",
        "colab": {
          "base_uri": "https://localhost:8080/",
          "height": 34
        },
        "outputId": "229d1252-47e1-491d-944a-5359dbfc17c1"
      },
      "source": [
        "print('There are {} uniques categories.'.format(len(toronto_venues['Venue Category'].unique())))"
      ],
      "execution_count": 126,
      "outputs": [
        {
          "output_type": "stream",
          "text": [
            "There are 51 uniques categories.\n"
          ],
          "name": "stdout"
        }
      ]
    },
    {
      "cell_type": "markdown",
      "metadata": {
        "colab_type": "text",
        "id": "HvxYEq-an3vk"
      },
      "source": [
        "<a id='item3'></a>"
      ]
    },
    {
      "cell_type": "markdown",
      "metadata": {
        "colab_type": "text",
        "id": "8p-sTkyUn3pW"
      },
      "source": [
        "## 3. Analyze Each Neighborhood"
      ]
    },
    {
      "cell_type": "code",
      "metadata": {
        "jupyter": {
          "outputs_hidden": false
        },
        "colab_type": "code",
        "id": "xrwPfyjzn3iF",
        "colab": {
          "base_uri": "https://localhost:8080/",
          "height": 309
        },
        "outputId": "829458f5-f9a1-4a80-b748-f6989c282c11"
      },
      "source": [
        "# one hot encoding\n",
        "toronto_onehot = pd.get_dummies(toronto_venues[['Venue Category']], prefix=\"\", prefix_sep=\"\")\n",
        "\n",
        "# add neighborhood column back to dataframe\n",
        "toronto_onehot['Neighborhood'] = toronto_venues['Neighborhood'] \n",
        "\n",
        "# move neighborhood column to the first column\n",
        "fixed_columns = [toronto_onehot.columns[-1]] + list(toronto_onehot.columns[:-1])\n",
        "toronto_onehot = toronto_onehot[fixed_columns]\n",
        "\n",
        "toronto_onehot.head()"
      ],
      "execution_count": 127,
      "outputs": [
        {
          "output_type": "execute_result",
          "data": {
            "text/html": [
              "<div>\n",
              "<style scoped>\n",
              "    .dataframe tbody tr th:only-of-type {\n",
              "        vertical-align: middle;\n",
              "    }\n",
              "\n",
              "    .dataframe tbody tr th {\n",
              "        vertical-align: top;\n",
              "    }\n",
              "\n",
              "    .dataframe thead th {\n",
              "        text-align: right;\n",
              "    }\n",
              "</style>\n",
              "<table border=\"1\" class=\"dataframe\">\n",
              "  <thead>\n",
              "    <tr style=\"text-align: right;\">\n",
              "      <th></th>\n",
              "      <th>Neighborhood</th>\n",
              "      <th>American Restaurant</th>\n",
              "      <th>Athletics &amp; Sports</th>\n",
              "      <th>Bakery</th>\n",
              "      <th>Bank</th>\n",
              "      <th>Bar</th>\n",
              "      <th>Breakfast Spot</th>\n",
              "      <th>Bus Line</th>\n",
              "      <th>Bus Station</th>\n",
              "      <th>Café</th>\n",
              "      <th>Caribbean Restaurant</th>\n",
              "      <th>Chinese Restaurant</th>\n",
              "      <th>Coffee Shop</th>\n",
              "      <th>College Stadium</th>\n",
              "      <th>Convenience Store</th>\n",
              "      <th>Department Store</th>\n",
              "      <th>Discount Store</th>\n",
              "      <th>Electronics Store</th>\n",
              "      <th>Fast Food Restaurant</th>\n",
              "      <th>Fried Chicken Joint</th>\n",
              "      <th>Furniture / Home Store</th>\n",
              "      <th>General Entertainment</th>\n",
              "      <th>Grocery Store</th>\n",
              "      <th>Gym Pool</th>\n",
              "      <th>Hakka Restaurant</th>\n",
              "      <th>Hobby Shop</th>\n",
              "      <th>Indian Restaurant</th>\n",
              "      <th>Intersection</th>\n",
              "      <th>Italian Restaurant</th>\n",
              "      <th>Korean Restaurant</th>\n",
              "      <th>Latin American Restaurant</th>\n",
              "      <th>Lounge</th>\n",
              "      <th>Medical Center</th>\n",
              "      <th>Metro Station</th>\n",
              "      <th>Mexican Restaurant</th>\n",
              "      <th>Middle Eastern Restaurant</th>\n",
              "      <th>Motel</th>\n",
              "      <th>Noodle House</th>\n",
              "      <th>Park</th>\n",
              "      <th>Pet Store</th>\n",
              "      <th>Pharmacy</th>\n",
              "      <th>Pizza Place</th>\n",
              "      <th>Playground</th>\n",
              "      <th>Print Shop</th>\n",
              "      <th>Rental Car Location</th>\n",
              "      <th>Sandwich Place</th>\n",
              "      <th>Skating Rink</th>\n",
              "      <th>Smoke Shop</th>\n",
              "      <th>Soccer Field</th>\n",
              "      <th>Spa</th>\n",
              "      <th>Thai Restaurant</th>\n",
              "      <th>Vietnamese Restaurant</th>\n",
              "    </tr>\n",
              "  </thead>\n",
              "  <tbody>\n",
              "    <tr>\n",
              "      <th>0</th>\n",
              "      <td>Rouge,Malvern</td>\n",
              "      <td>0</td>\n",
              "      <td>0</td>\n",
              "      <td>0</td>\n",
              "      <td>0</td>\n",
              "      <td>0</td>\n",
              "      <td>0</td>\n",
              "      <td>0</td>\n",
              "      <td>0</td>\n",
              "      <td>0</td>\n",
              "      <td>0</td>\n",
              "      <td>0</td>\n",
              "      <td>0</td>\n",
              "      <td>0</td>\n",
              "      <td>0</td>\n",
              "      <td>0</td>\n",
              "      <td>0</td>\n",
              "      <td>0</td>\n",
              "      <td>1</td>\n",
              "      <td>0</td>\n",
              "      <td>0</td>\n",
              "      <td>0</td>\n",
              "      <td>0</td>\n",
              "      <td>0</td>\n",
              "      <td>0</td>\n",
              "      <td>0</td>\n",
              "      <td>0</td>\n",
              "      <td>0</td>\n",
              "      <td>0</td>\n",
              "      <td>0</td>\n",
              "      <td>0</td>\n",
              "      <td>0</td>\n",
              "      <td>0</td>\n",
              "      <td>0</td>\n",
              "      <td>0</td>\n",
              "      <td>0</td>\n",
              "      <td>0</td>\n",
              "      <td>0</td>\n",
              "      <td>0</td>\n",
              "      <td>0</td>\n",
              "      <td>0</td>\n",
              "      <td>0</td>\n",
              "      <td>0</td>\n",
              "      <td>0</td>\n",
              "      <td>0</td>\n",
              "      <td>0</td>\n",
              "      <td>0</td>\n",
              "      <td>0</td>\n",
              "      <td>0</td>\n",
              "      <td>0</td>\n",
              "      <td>0</td>\n",
              "      <td>0</td>\n",
              "    </tr>\n",
              "    <tr>\n",
              "      <th>1</th>\n",
              "      <td>Rouge,Malvern</td>\n",
              "      <td>0</td>\n",
              "      <td>0</td>\n",
              "      <td>0</td>\n",
              "      <td>0</td>\n",
              "      <td>0</td>\n",
              "      <td>0</td>\n",
              "      <td>0</td>\n",
              "      <td>0</td>\n",
              "      <td>0</td>\n",
              "      <td>0</td>\n",
              "      <td>0</td>\n",
              "      <td>0</td>\n",
              "      <td>0</td>\n",
              "      <td>0</td>\n",
              "      <td>0</td>\n",
              "      <td>0</td>\n",
              "      <td>0</td>\n",
              "      <td>0</td>\n",
              "      <td>0</td>\n",
              "      <td>0</td>\n",
              "      <td>0</td>\n",
              "      <td>0</td>\n",
              "      <td>0</td>\n",
              "      <td>0</td>\n",
              "      <td>0</td>\n",
              "      <td>0</td>\n",
              "      <td>0</td>\n",
              "      <td>0</td>\n",
              "      <td>0</td>\n",
              "      <td>0</td>\n",
              "      <td>0</td>\n",
              "      <td>0</td>\n",
              "      <td>0</td>\n",
              "      <td>0</td>\n",
              "      <td>0</td>\n",
              "      <td>0</td>\n",
              "      <td>0</td>\n",
              "      <td>0</td>\n",
              "      <td>0</td>\n",
              "      <td>0</td>\n",
              "      <td>0</td>\n",
              "      <td>0</td>\n",
              "      <td>1</td>\n",
              "      <td>0</td>\n",
              "      <td>0</td>\n",
              "      <td>0</td>\n",
              "      <td>0</td>\n",
              "      <td>0</td>\n",
              "      <td>0</td>\n",
              "      <td>0</td>\n",
              "      <td>0</td>\n",
              "    </tr>\n",
              "    <tr>\n",
              "      <th>2</th>\n",
              "      <td>Highland Creek,Rouge Hill,Port Union</td>\n",
              "      <td>0</td>\n",
              "      <td>0</td>\n",
              "      <td>0</td>\n",
              "      <td>0</td>\n",
              "      <td>1</td>\n",
              "      <td>0</td>\n",
              "      <td>0</td>\n",
              "      <td>0</td>\n",
              "      <td>0</td>\n",
              "      <td>0</td>\n",
              "      <td>0</td>\n",
              "      <td>0</td>\n",
              "      <td>0</td>\n",
              "      <td>0</td>\n",
              "      <td>0</td>\n",
              "      <td>0</td>\n",
              "      <td>0</td>\n",
              "      <td>0</td>\n",
              "      <td>0</td>\n",
              "      <td>0</td>\n",
              "      <td>0</td>\n",
              "      <td>0</td>\n",
              "      <td>0</td>\n",
              "      <td>0</td>\n",
              "      <td>0</td>\n",
              "      <td>0</td>\n",
              "      <td>0</td>\n",
              "      <td>0</td>\n",
              "      <td>0</td>\n",
              "      <td>0</td>\n",
              "      <td>0</td>\n",
              "      <td>0</td>\n",
              "      <td>0</td>\n",
              "      <td>0</td>\n",
              "      <td>0</td>\n",
              "      <td>0</td>\n",
              "      <td>0</td>\n",
              "      <td>0</td>\n",
              "      <td>0</td>\n",
              "      <td>0</td>\n",
              "      <td>0</td>\n",
              "      <td>0</td>\n",
              "      <td>0</td>\n",
              "      <td>0</td>\n",
              "      <td>0</td>\n",
              "      <td>0</td>\n",
              "      <td>0</td>\n",
              "      <td>0</td>\n",
              "      <td>0</td>\n",
              "      <td>0</td>\n",
              "      <td>0</td>\n",
              "    </tr>\n",
              "    <tr>\n",
              "      <th>3</th>\n",
              "      <td>Guildwood,Morningside,West Hill</td>\n",
              "      <td>0</td>\n",
              "      <td>0</td>\n",
              "      <td>0</td>\n",
              "      <td>0</td>\n",
              "      <td>0</td>\n",
              "      <td>0</td>\n",
              "      <td>0</td>\n",
              "      <td>0</td>\n",
              "      <td>0</td>\n",
              "      <td>0</td>\n",
              "      <td>0</td>\n",
              "      <td>0</td>\n",
              "      <td>0</td>\n",
              "      <td>0</td>\n",
              "      <td>0</td>\n",
              "      <td>0</td>\n",
              "      <td>0</td>\n",
              "      <td>0</td>\n",
              "      <td>0</td>\n",
              "      <td>0</td>\n",
              "      <td>0</td>\n",
              "      <td>0</td>\n",
              "      <td>0</td>\n",
              "      <td>0</td>\n",
              "      <td>0</td>\n",
              "      <td>0</td>\n",
              "      <td>0</td>\n",
              "      <td>0</td>\n",
              "      <td>0</td>\n",
              "      <td>0</td>\n",
              "      <td>0</td>\n",
              "      <td>0</td>\n",
              "      <td>0</td>\n",
              "      <td>0</td>\n",
              "      <td>0</td>\n",
              "      <td>0</td>\n",
              "      <td>0</td>\n",
              "      <td>0</td>\n",
              "      <td>0</td>\n",
              "      <td>0</td>\n",
              "      <td>1</td>\n",
              "      <td>0</td>\n",
              "      <td>0</td>\n",
              "      <td>0</td>\n",
              "      <td>0</td>\n",
              "      <td>0</td>\n",
              "      <td>0</td>\n",
              "      <td>0</td>\n",
              "      <td>0</td>\n",
              "      <td>0</td>\n",
              "      <td>0</td>\n",
              "    </tr>\n",
              "    <tr>\n",
              "      <th>4</th>\n",
              "      <td>Guildwood,Morningside,West Hill</td>\n",
              "      <td>0</td>\n",
              "      <td>0</td>\n",
              "      <td>0</td>\n",
              "      <td>0</td>\n",
              "      <td>0</td>\n",
              "      <td>0</td>\n",
              "      <td>0</td>\n",
              "      <td>0</td>\n",
              "      <td>0</td>\n",
              "      <td>0</td>\n",
              "      <td>0</td>\n",
              "      <td>0</td>\n",
              "      <td>0</td>\n",
              "      <td>0</td>\n",
              "      <td>0</td>\n",
              "      <td>0</td>\n",
              "      <td>1</td>\n",
              "      <td>0</td>\n",
              "      <td>0</td>\n",
              "      <td>0</td>\n",
              "      <td>0</td>\n",
              "      <td>0</td>\n",
              "      <td>0</td>\n",
              "      <td>0</td>\n",
              "      <td>0</td>\n",
              "      <td>0</td>\n",
              "      <td>0</td>\n",
              "      <td>0</td>\n",
              "      <td>0</td>\n",
              "      <td>0</td>\n",
              "      <td>0</td>\n",
              "      <td>0</td>\n",
              "      <td>0</td>\n",
              "      <td>0</td>\n",
              "      <td>0</td>\n",
              "      <td>0</td>\n",
              "      <td>0</td>\n",
              "      <td>0</td>\n",
              "      <td>0</td>\n",
              "      <td>0</td>\n",
              "      <td>0</td>\n",
              "      <td>0</td>\n",
              "      <td>0</td>\n",
              "      <td>0</td>\n",
              "      <td>0</td>\n",
              "      <td>0</td>\n",
              "      <td>0</td>\n",
              "      <td>0</td>\n",
              "      <td>0</td>\n",
              "      <td>0</td>\n",
              "      <td>0</td>\n",
              "    </tr>\n",
              "  </tbody>\n",
              "</table>\n",
              "</div>"
            ],
            "text/plain": [
              "                           Neighborhood  American Restaurant  \\\n",
              "0                         Rouge,Malvern                    0   \n",
              "1                         Rouge,Malvern                    0   \n",
              "2  Highland Creek,Rouge Hill,Port Union                    0   \n",
              "3       Guildwood,Morningside,West Hill                    0   \n",
              "4       Guildwood,Morningside,West Hill                    0   \n",
              "\n",
              "   Athletics & Sports  Bakery  Bank  Bar  Breakfast Spot  Bus Line  \\\n",
              "0                   0       0     0    0               0         0   \n",
              "1                   0       0     0    0               0         0   \n",
              "2                   0       0     0    1               0         0   \n",
              "3                   0       0     0    0               0         0   \n",
              "4                   0       0     0    0               0         0   \n",
              "\n",
              "   Bus Station  Café  Caribbean Restaurant  Chinese Restaurant  Coffee Shop  \\\n",
              "0            0     0                     0                   0            0   \n",
              "1            0     0                     0                   0            0   \n",
              "2            0     0                     0                   0            0   \n",
              "3            0     0                     0                   0            0   \n",
              "4            0     0                     0                   0            0   \n",
              "\n",
              "   College Stadium  Convenience Store  Department Store  Discount Store  \\\n",
              "0                0                  0                 0               0   \n",
              "1                0                  0                 0               0   \n",
              "2                0                  0                 0               0   \n",
              "3                0                  0                 0               0   \n",
              "4                0                  0                 0               0   \n",
              "\n",
              "   Electronics Store  Fast Food Restaurant  Fried Chicken Joint  \\\n",
              "0                  0                     1                    0   \n",
              "1                  0                     0                    0   \n",
              "2                  0                     0                    0   \n",
              "3                  0                     0                    0   \n",
              "4                  1                     0                    0   \n",
              "\n",
              "   Furniture / Home Store  General Entertainment  Grocery Store  Gym Pool  \\\n",
              "0                       0                      0              0         0   \n",
              "1                       0                      0              0         0   \n",
              "2                       0                      0              0         0   \n",
              "3                       0                      0              0         0   \n",
              "4                       0                      0              0         0   \n",
              "\n",
              "   Hakka Restaurant  Hobby Shop  Indian Restaurant  Intersection  \\\n",
              "0                 0           0                  0             0   \n",
              "1                 0           0                  0             0   \n",
              "2                 0           0                  0             0   \n",
              "3                 0           0                  0             0   \n",
              "4                 0           0                  0             0   \n",
              "\n",
              "   Italian Restaurant  Korean Restaurant  Latin American Restaurant  Lounge  \\\n",
              "0                   0                  0                          0       0   \n",
              "1                   0                  0                          0       0   \n",
              "2                   0                  0                          0       0   \n",
              "3                   0                  0                          0       0   \n",
              "4                   0                  0                          0       0   \n",
              "\n",
              "   Medical Center  Metro Station  Mexican Restaurant  \\\n",
              "0               0              0                   0   \n",
              "1               0              0                   0   \n",
              "2               0              0                   0   \n",
              "3               0              0                   0   \n",
              "4               0              0                   0   \n",
              "\n",
              "   Middle Eastern Restaurant  Motel  Noodle House  Park  Pet Store  Pharmacy  \\\n",
              "0                          0      0             0     0          0         0   \n",
              "1                          0      0             0     0          0         0   \n",
              "2                          0      0             0     0          0         0   \n",
              "3                          0      0             0     0          0         0   \n",
              "4                          0      0             0     0          0         0   \n",
              "\n",
              "   Pizza Place  Playground  Print Shop  Rental Car Location  Sandwich Place  \\\n",
              "0            0           0           0                    0               0   \n",
              "1            0           0           1                    0               0   \n",
              "2            0           0           0                    0               0   \n",
              "3            1           0           0                    0               0   \n",
              "4            0           0           0                    0               0   \n",
              "\n",
              "   Skating Rink  Smoke Shop  Soccer Field  Spa  Thai Restaurant  \\\n",
              "0             0           0             0    0                0   \n",
              "1             0           0             0    0                0   \n",
              "2             0           0             0    0                0   \n",
              "3             0           0             0    0                0   \n",
              "4             0           0             0    0                0   \n",
              "\n",
              "   Vietnamese Restaurant  \n",
              "0                      0  \n",
              "1                      0  \n",
              "2                      0  \n",
              "3                      0  \n",
              "4                      0  "
            ]
          },
          "metadata": {
            "tags": []
          },
          "execution_count": 127
        }
      ]
    },
    {
      "cell_type": "markdown",
      "metadata": {
        "colab_type": "text",
        "id": "O3cB_c7Yn3c7"
      },
      "source": [
        "And let's examine the new dataframe size."
      ]
    },
    {
      "cell_type": "code",
      "metadata": {
        "jupyter": {
          "outputs_hidden": false
        },
        "colab_type": "code",
        "id": "-uchyp5Tn3UU",
        "colab": {
          "base_uri": "https://localhost:8080/",
          "height": 34
        },
        "outputId": "7c4c3d23-bd55-42c1-8ae4-1fab0f28a11c"
      },
      "source": [
        "toronto_onehot.shape"
      ],
      "execution_count": 128,
      "outputs": [
        {
          "output_type": "execute_result",
          "data": {
            "text/plain": [
              "(88, 52)"
            ]
          },
          "metadata": {
            "tags": []
          },
          "execution_count": 128
        }
      ]
    },
    {
      "cell_type": "markdown",
      "metadata": {
        "colab_type": "text",
        "id": "MXcRBrmrn3MX"
      },
      "source": [
        "#### Next, let's group rows by neighborhood and by taking the mean of the frequency of occurrence of each category"
      ]
    },
    {
      "cell_type": "code",
      "metadata": {
        "jupyter": {
          "outputs_hidden": false
        },
        "colab_type": "code",
        "id": "eOrExVlqn3EK",
        "colab": {
          "base_uri": "https://localhost:8080/",
          "height": 718
        },
        "outputId": "194f4dc1-dd31-409d-dfa5-a1d1e6598c5d"
      },
      "source": [
        "toronto_grouped = toronto_onehot.groupby('Neighborhood').mean().reset_index()\n",
        "toronto_grouped"
      ],
      "execution_count": 129,
      "outputs": [
        {
          "output_type": "execute_result",
          "data": {
            "text/html": [
              "<div>\n",
              "<style scoped>\n",
              "    .dataframe tbody tr th:only-of-type {\n",
              "        vertical-align: middle;\n",
              "    }\n",
              "\n",
              "    .dataframe tbody tr th {\n",
              "        vertical-align: top;\n",
              "    }\n",
              "\n",
              "    .dataframe thead th {\n",
              "        text-align: right;\n",
              "    }\n",
              "</style>\n",
              "<table border=\"1\" class=\"dataframe\">\n",
              "  <thead>\n",
              "    <tr style=\"text-align: right;\">\n",
              "      <th></th>\n",
              "      <th>Neighborhood</th>\n",
              "      <th>American Restaurant</th>\n",
              "      <th>Athletics &amp; Sports</th>\n",
              "      <th>Bakery</th>\n",
              "      <th>Bank</th>\n",
              "      <th>Bar</th>\n",
              "      <th>Breakfast Spot</th>\n",
              "      <th>Bus Line</th>\n",
              "      <th>Bus Station</th>\n",
              "      <th>Café</th>\n",
              "      <th>Caribbean Restaurant</th>\n",
              "      <th>Chinese Restaurant</th>\n",
              "      <th>Coffee Shop</th>\n",
              "      <th>College Stadium</th>\n",
              "      <th>Convenience Store</th>\n",
              "      <th>Department Store</th>\n",
              "      <th>Discount Store</th>\n",
              "      <th>Electronics Store</th>\n",
              "      <th>Fast Food Restaurant</th>\n",
              "      <th>Fried Chicken Joint</th>\n",
              "      <th>Furniture / Home Store</th>\n",
              "      <th>General Entertainment</th>\n",
              "      <th>Grocery Store</th>\n",
              "      <th>Gym Pool</th>\n",
              "      <th>Hakka Restaurant</th>\n",
              "      <th>Hobby Shop</th>\n",
              "      <th>Indian Restaurant</th>\n",
              "      <th>Intersection</th>\n",
              "      <th>Italian Restaurant</th>\n",
              "      <th>Korean Restaurant</th>\n",
              "      <th>Latin American Restaurant</th>\n",
              "      <th>Lounge</th>\n",
              "      <th>Medical Center</th>\n",
              "      <th>Metro Station</th>\n",
              "      <th>Mexican Restaurant</th>\n",
              "      <th>Middle Eastern Restaurant</th>\n",
              "      <th>Motel</th>\n",
              "      <th>Noodle House</th>\n",
              "      <th>Park</th>\n",
              "      <th>Pet Store</th>\n",
              "      <th>Pharmacy</th>\n",
              "      <th>Pizza Place</th>\n",
              "      <th>Playground</th>\n",
              "      <th>Print Shop</th>\n",
              "      <th>Rental Car Location</th>\n",
              "      <th>Sandwich Place</th>\n",
              "      <th>Skating Rink</th>\n",
              "      <th>Smoke Shop</th>\n",
              "      <th>Soccer Field</th>\n",
              "      <th>Spa</th>\n",
              "      <th>Thai Restaurant</th>\n",
              "      <th>Vietnamese Restaurant</th>\n",
              "    </tr>\n",
              "  </thead>\n",
              "  <tbody>\n",
              "    <tr>\n",
              "      <th>0</th>\n",
              "      <td>Agincourt</td>\n",
              "      <td>0.000000</td>\n",
              "      <td>0.000</td>\n",
              "      <td>0.000</td>\n",
              "      <td>0.000000</td>\n",
              "      <td>0.0</td>\n",
              "      <td>0.250000</td>\n",
              "      <td>0.0</td>\n",
              "      <td>0.000000</td>\n",
              "      <td>0.00</td>\n",
              "      <td>0.000</td>\n",
              "      <td>0.000000</td>\n",
              "      <td>0.000000</td>\n",
              "      <td>0.00</td>\n",
              "      <td>0.000000</td>\n",
              "      <td>0.000000</td>\n",
              "      <td>0.000000</td>\n",
              "      <td>0.000000</td>\n",
              "      <td>0.000000</td>\n",
              "      <td>0.000000</td>\n",
              "      <td>0.000000</td>\n",
              "      <td>0.00</td>\n",
              "      <td>0.0</td>\n",
              "      <td>0.0</td>\n",
              "      <td>0.000</td>\n",
              "      <td>0.000000</td>\n",
              "      <td>0.000000</td>\n",
              "      <td>0.000000</td>\n",
              "      <td>0.000000</td>\n",
              "      <td>0.000000</td>\n",
              "      <td>0.000000</td>\n",
              "      <td>0.250</td>\n",
              "      <td>0.000000</td>\n",
              "      <td>0.0</td>\n",
              "      <td>0.000000</td>\n",
              "      <td>0.00</td>\n",
              "      <td>0.000000</td>\n",
              "      <td>0.000000</td>\n",
              "      <td>0.000000</td>\n",
              "      <td>0.000000</td>\n",
              "      <td>0.000000</td>\n",
              "      <td>0.000000</td>\n",
              "      <td>0.000000</td>\n",
              "      <td>0.0</td>\n",
              "      <td>0.000000</td>\n",
              "      <td>0.25</td>\n",
              "      <td>0.25</td>\n",
              "      <td>0.00</td>\n",
              "      <td>0.0</td>\n",
              "      <td>0.000000</td>\n",
              "      <td>0.000000</td>\n",
              "      <td>0.000000</td>\n",
              "    </tr>\n",
              "    <tr>\n",
              "      <th>1</th>\n",
              "      <td>Agincourt North,L'Amoreaux East,Milliken,Steel...</td>\n",
              "      <td>0.000000</td>\n",
              "      <td>0.000</td>\n",
              "      <td>0.000</td>\n",
              "      <td>0.000000</td>\n",
              "      <td>0.0</td>\n",
              "      <td>0.000000</td>\n",
              "      <td>0.0</td>\n",
              "      <td>0.000000</td>\n",
              "      <td>0.00</td>\n",
              "      <td>0.000</td>\n",
              "      <td>0.000000</td>\n",
              "      <td>0.333333</td>\n",
              "      <td>0.00</td>\n",
              "      <td>0.000000</td>\n",
              "      <td>0.000000</td>\n",
              "      <td>0.000000</td>\n",
              "      <td>0.000000</td>\n",
              "      <td>0.000000</td>\n",
              "      <td>0.000000</td>\n",
              "      <td>0.000000</td>\n",
              "      <td>0.00</td>\n",
              "      <td>0.0</td>\n",
              "      <td>0.0</td>\n",
              "      <td>0.000</td>\n",
              "      <td>0.000000</td>\n",
              "      <td>0.000000</td>\n",
              "      <td>0.000000</td>\n",
              "      <td>0.000000</td>\n",
              "      <td>0.000000</td>\n",
              "      <td>0.000000</td>\n",
              "      <td>0.000</td>\n",
              "      <td>0.000000</td>\n",
              "      <td>0.0</td>\n",
              "      <td>0.000000</td>\n",
              "      <td>0.00</td>\n",
              "      <td>0.000000</td>\n",
              "      <td>0.000000</td>\n",
              "      <td>0.333333</td>\n",
              "      <td>0.000000</td>\n",
              "      <td>0.000000</td>\n",
              "      <td>0.000000</td>\n",
              "      <td>0.333333</td>\n",
              "      <td>0.0</td>\n",
              "      <td>0.000000</td>\n",
              "      <td>0.00</td>\n",
              "      <td>0.00</td>\n",
              "      <td>0.00</td>\n",
              "      <td>0.0</td>\n",
              "      <td>0.000000</td>\n",
              "      <td>0.000000</td>\n",
              "      <td>0.000000</td>\n",
              "    </tr>\n",
              "    <tr>\n",
              "      <th>2</th>\n",
              "      <td>Birch Cliff,Cliffside West</td>\n",
              "      <td>0.000000</td>\n",
              "      <td>0.000</td>\n",
              "      <td>0.000</td>\n",
              "      <td>0.000000</td>\n",
              "      <td>0.0</td>\n",
              "      <td>0.000000</td>\n",
              "      <td>0.0</td>\n",
              "      <td>0.000000</td>\n",
              "      <td>0.25</td>\n",
              "      <td>0.000</td>\n",
              "      <td>0.000000</td>\n",
              "      <td>0.000000</td>\n",
              "      <td>0.25</td>\n",
              "      <td>0.000000</td>\n",
              "      <td>0.000000</td>\n",
              "      <td>0.000000</td>\n",
              "      <td>0.000000</td>\n",
              "      <td>0.000000</td>\n",
              "      <td>0.000000</td>\n",
              "      <td>0.000000</td>\n",
              "      <td>0.25</td>\n",
              "      <td>0.0</td>\n",
              "      <td>0.0</td>\n",
              "      <td>0.000</td>\n",
              "      <td>0.000000</td>\n",
              "      <td>0.000000</td>\n",
              "      <td>0.000000</td>\n",
              "      <td>0.000000</td>\n",
              "      <td>0.000000</td>\n",
              "      <td>0.000000</td>\n",
              "      <td>0.000</td>\n",
              "      <td>0.000000</td>\n",
              "      <td>0.0</td>\n",
              "      <td>0.000000</td>\n",
              "      <td>0.00</td>\n",
              "      <td>0.000000</td>\n",
              "      <td>0.000000</td>\n",
              "      <td>0.000000</td>\n",
              "      <td>0.000000</td>\n",
              "      <td>0.000000</td>\n",
              "      <td>0.000000</td>\n",
              "      <td>0.000000</td>\n",
              "      <td>0.0</td>\n",
              "      <td>0.000000</td>\n",
              "      <td>0.00</td>\n",
              "      <td>0.25</td>\n",
              "      <td>0.00</td>\n",
              "      <td>0.0</td>\n",
              "      <td>0.000000</td>\n",
              "      <td>0.000000</td>\n",
              "      <td>0.000000</td>\n",
              "    </tr>\n",
              "    <tr>\n",
              "      <th>3</th>\n",
              "      <td>Cedarbrae</td>\n",
              "      <td>0.000000</td>\n",
              "      <td>0.125</td>\n",
              "      <td>0.125</td>\n",
              "      <td>0.125000</td>\n",
              "      <td>0.0</td>\n",
              "      <td>0.000000</td>\n",
              "      <td>0.0</td>\n",
              "      <td>0.000000</td>\n",
              "      <td>0.00</td>\n",
              "      <td>0.125</td>\n",
              "      <td>0.000000</td>\n",
              "      <td>0.000000</td>\n",
              "      <td>0.00</td>\n",
              "      <td>0.000000</td>\n",
              "      <td>0.000000</td>\n",
              "      <td>0.000000</td>\n",
              "      <td>0.000000</td>\n",
              "      <td>0.000000</td>\n",
              "      <td>0.125000</td>\n",
              "      <td>0.000000</td>\n",
              "      <td>0.00</td>\n",
              "      <td>0.0</td>\n",
              "      <td>0.0</td>\n",
              "      <td>0.125</td>\n",
              "      <td>0.000000</td>\n",
              "      <td>0.000000</td>\n",
              "      <td>0.000000</td>\n",
              "      <td>0.000000</td>\n",
              "      <td>0.000000</td>\n",
              "      <td>0.000000</td>\n",
              "      <td>0.125</td>\n",
              "      <td>0.000000</td>\n",
              "      <td>0.0</td>\n",
              "      <td>0.000000</td>\n",
              "      <td>0.00</td>\n",
              "      <td>0.000000</td>\n",
              "      <td>0.000000</td>\n",
              "      <td>0.000000</td>\n",
              "      <td>0.000000</td>\n",
              "      <td>0.000000</td>\n",
              "      <td>0.000000</td>\n",
              "      <td>0.000000</td>\n",
              "      <td>0.0</td>\n",
              "      <td>0.000000</td>\n",
              "      <td>0.00</td>\n",
              "      <td>0.00</td>\n",
              "      <td>0.00</td>\n",
              "      <td>0.0</td>\n",
              "      <td>0.000000</td>\n",
              "      <td>0.125000</td>\n",
              "      <td>0.000000</td>\n",
              "    </tr>\n",
              "    <tr>\n",
              "      <th>4</th>\n",
              "      <td>Clairlea,Golden Mile,Oakridge</td>\n",
              "      <td>0.000000</td>\n",
              "      <td>0.000</td>\n",
              "      <td>0.200</td>\n",
              "      <td>0.000000</td>\n",
              "      <td>0.0</td>\n",
              "      <td>0.000000</td>\n",
              "      <td>0.2</td>\n",
              "      <td>0.100000</td>\n",
              "      <td>0.00</td>\n",
              "      <td>0.000</td>\n",
              "      <td>0.000000</td>\n",
              "      <td>0.000000</td>\n",
              "      <td>0.00</td>\n",
              "      <td>0.000000</td>\n",
              "      <td>0.000000</td>\n",
              "      <td>0.000000</td>\n",
              "      <td>0.000000</td>\n",
              "      <td>0.100000</td>\n",
              "      <td>0.000000</td>\n",
              "      <td>0.000000</td>\n",
              "      <td>0.00</td>\n",
              "      <td>0.0</td>\n",
              "      <td>0.0</td>\n",
              "      <td>0.000</td>\n",
              "      <td>0.000000</td>\n",
              "      <td>0.000000</td>\n",
              "      <td>0.100000</td>\n",
              "      <td>0.000000</td>\n",
              "      <td>0.000000</td>\n",
              "      <td>0.000000</td>\n",
              "      <td>0.000</td>\n",
              "      <td>0.000000</td>\n",
              "      <td>0.1</td>\n",
              "      <td>0.000000</td>\n",
              "      <td>0.00</td>\n",
              "      <td>0.000000</td>\n",
              "      <td>0.000000</td>\n",
              "      <td>0.100000</td>\n",
              "      <td>0.000000</td>\n",
              "      <td>0.000000</td>\n",
              "      <td>0.000000</td>\n",
              "      <td>0.000000</td>\n",
              "      <td>0.0</td>\n",
              "      <td>0.000000</td>\n",
              "      <td>0.00</td>\n",
              "      <td>0.00</td>\n",
              "      <td>0.00</td>\n",
              "      <td>0.1</td>\n",
              "      <td>0.000000</td>\n",
              "      <td>0.000000</td>\n",
              "      <td>0.000000</td>\n",
              "    </tr>\n",
              "    <tr>\n",
              "      <th>5</th>\n",
              "      <td>Clarks Corners,Sullivan,Tam O'Shanter</td>\n",
              "      <td>0.000000</td>\n",
              "      <td>0.000</td>\n",
              "      <td>0.000</td>\n",
              "      <td>0.083333</td>\n",
              "      <td>0.0</td>\n",
              "      <td>0.083333</td>\n",
              "      <td>0.0</td>\n",
              "      <td>0.000000</td>\n",
              "      <td>0.00</td>\n",
              "      <td>0.000</td>\n",
              "      <td>0.083333</td>\n",
              "      <td>0.000000</td>\n",
              "      <td>0.00</td>\n",
              "      <td>0.000000</td>\n",
              "      <td>0.000000</td>\n",
              "      <td>0.000000</td>\n",
              "      <td>0.000000</td>\n",
              "      <td>0.083333</td>\n",
              "      <td>0.083333</td>\n",
              "      <td>0.000000</td>\n",
              "      <td>0.00</td>\n",
              "      <td>0.0</td>\n",
              "      <td>0.0</td>\n",
              "      <td>0.000</td>\n",
              "      <td>0.000000</td>\n",
              "      <td>0.000000</td>\n",
              "      <td>0.000000</td>\n",
              "      <td>0.083333</td>\n",
              "      <td>0.000000</td>\n",
              "      <td>0.000000</td>\n",
              "      <td>0.000</td>\n",
              "      <td>0.000000</td>\n",
              "      <td>0.0</td>\n",
              "      <td>0.000000</td>\n",
              "      <td>0.00</td>\n",
              "      <td>0.000000</td>\n",
              "      <td>0.083333</td>\n",
              "      <td>0.000000</td>\n",
              "      <td>0.000000</td>\n",
              "      <td>0.166667</td>\n",
              "      <td>0.166667</td>\n",
              "      <td>0.000000</td>\n",
              "      <td>0.0</td>\n",
              "      <td>0.000000</td>\n",
              "      <td>0.00</td>\n",
              "      <td>0.00</td>\n",
              "      <td>0.00</td>\n",
              "      <td>0.0</td>\n",
              "      <td>0.000000</td>\n",
              "      <td>0.083333</td>\n",
              "      <td>0.000000</td>\n",
              "    </tr>\n",
              "    <tr>\n",
              "      <th>6</th>\n",
              "      <td>Cliffcrest,Cliffside,Scarborough Village West</td>\n",
              "      <td>0.333333</td>\n",
              "      <td>0.000</td>\n",
              "      <td>0.000</td>\n",
              "      <td>0.000000</td>\n",
              "      <td>0.0</td>\n",
              "      <td>0.000000</td>\n",
              "      <td>0.0</td>\n",
              "      <td>0.000000</td>\n",
              "      <td>0.00</td>\n",
              "      <td>0.000</td>\n",
              "      <td>0.000000</td>\n",
              "      <td>0.000000</td>\n",
              "      <td>0.00</td>\n",
              "      <td>0.000000</td>\n",
              "      <td>0.000000</td>\n",
              "      <td>0.000000</td>\n",
              "      <td>0.000000</td>\n",
              "      <td>0.000000</td>\n",
              "      <td>0.000000</td>\n",
              "      <td>0.000000</td>\n",
              "      <td>0.00</td>\n",
              "      <td>0.0</td>\n",
              "      <td>0.0</td>\n",
              "      <td>0.000</td>\n",
              "      <td>0.000000</td>\n",
              "      <td>0.000000</td>\n",
              "      <td>0.000000</td>\n",
              "      <td>0.000000</td>\n",
              "      <td>0.000000</td>\n",
              "      <td>0.000000</td>\n",
              "      <td>0.000</td>\n",
              "      <td>0.000000</td>\n",
              "      <td>0.0</td>\n",
              "      <td>0.000000</td>\n",
              "      <td>0.00</td>\n",
              "      <td>0.666667</td>\n",
              "      <td>0.000000</td>\n",
              "      <td>0.000000</td>\n",
              "      <td>0.000000</td>\n",
              "      <td>0.000000</td>\n",
              "      <td>0.000000</td>\n",
              "      <td>0.000000</td>\n",
              "      <td>0.0</td>\n",
              "      <td>0.000000</td>\n",
              "      <td>0.00</td>\n",
              "      <td>0.00</td>\n",
              "      <td>0.00</td>\n",
              "      <td>0.0</td>\n",
              "      <td>0.000000</td>\n",
              "      <td>0.000000</td>\n",
              "      <td>0.000000</td>\n",
              "    </tr>\n",
              "    <tr>\n",
              "      <th>7</th>\n",
              "      <td>Dorset Park,Scarborough Town Centre,Wexford He...</td>\n",
              "      <td>0.000000</td>\n",
              "      <td>0.000</td>\n",
              "      <td>0.000</td>\n",
              "      <td>0.000000</td>\n",
              "      <td>0.0</td>\n",
              "      <td>0.000000</td>\n",
              "      <td>0.0</td>\n",
              "      <td>0.000000</td>\n",
              "      <td>0.00</td>\n",
              "      <td>0.000</td>\n",
              "      <td>0.142857</td>\n",
              "      <td>0.000000</td>\n",
              "      <td>0.00</td>\n",
              "      <td>0.000000</td>\n",
              "      <td>0.000000</td>\n",
              "      <td>0.000000</td>\n",
              "      <td>0.000000</td>\n",
              "      <td>0.000000</td>\n",
              "      <td>0.000000</td>\n",
              "      <td>0.142857</td>\n",
              "      <td>0.00</td>\n",
              "      <td>0.0</td>\n",
              "      <td>0.0</td>\n",
              "      <td>0.000</td>\n",
              "      <td>0.000000</td>\n",
              "      <td>0.285714</td>\n",
              "      <td>0.000000</td>\n",
              "      <td>0.000000</td>\n",
              "      <td>0.000000</td>\n",
              "      <td>0.142857</td>\n",
              "      <td>0.000</td>\n",
              "      <td>0.000000</td>\n",
              "      <td>0.0</td>\n",
              "      <td>0.000000</td>\n",
              "      <td>0.00</td>\n",
              "      <td>0.000000</td>\n",
              "      <td>0.000000</td>\n",
              "      <td>0.000000</td>\n",
              "      <td>0.142857</td>\n",
              "      <td>0.000000</td>\n",
              "      <td>0.000000</td>\n",
              "      <td>0.000000</td>\n",
              "      <td>0.0</td>\n",
              "      <td>0.000000</td>\n",
              "      <td>0.00</td>\n",
              "      <td>0.00</td>\n",
              "      <td>0.00</td>\n",
              "      <td>0.0</td>\n",
              "      <td>0.000000</td>\n",
              "      <td>0.000000</td>\n",
              "      <td>0.142857</td>\n",
              "    </tr>\n",
              "    <tr>\n",
              "      <th>8</th>\n",
              "      <td>East Birchmount Park,Ionview,Kennedy Park</td>\n",
              "      <td>0.000000</td>\n",
              "      <td>0.000</td>\n",
              "      <td>0.000</td>\n",
              "      <td>0.000000</td>\n",
              "      <td>0.0</td>\n",
              "      <td>0.000000</td>\n",
              "      <td>0.0</td>\n",
              "      <td>0.142857</td>\n",
              "      <td>0.00</td>\n",
              "      <td>0.000</td>\n",
              "      <td>0.142857</td>\n",
              "      <td>0.142857</td>\n",
              "      <td>0.00</td>\n",
              "      <td>0.142857</td>\n",
              "      <td>0.142857</td>\n",
              "      <td>0.142857</td>\n",
              "      <td>0.000000</td>\n",
              "      <td>0.000000</td>\n",
              "      <td>0.000000</td>\n",
              "      <td>0.000000</td>\n",
              "      <td>0.00</td>\n",
              "      <td>0.0</td>\n",
              "      <td>0.0</td>\n",
              "      <td>0.000</td>\n",
              "      <td>0.142857</td>\n",
              "      <td>0.000000</td>\n",
              "      <td>0.000000</td>\n",
              "      <td>0.000000</td>\n",
              "      <td>0.000000</td>\n",
              "      <td>0.000000</td>\n",
              "      <td>0.000</td>\n",
              "      <td>0.000000</td>\n",
              "      <td>0.0</td>\n",
              "      <td>0.000000</td>\n",
              "      <td>0.00</td>\n",
              "      <td>0.000000</td>\n",
              "      <td>0.000000</td>\n",
              "      <td>0.000000</td>\n",
              "      <td>0.000000</td>\n",
              "      <td>0.000000</td>\n",
              "      <td>0.000000</td>\n",
              "      <td>0.000000</td>\n",
              "      <td>0.0</td>\n",
              "      <td>0.000000</td>\n",
              "      <td>0.00</td>\n",
              "      <td>0.00</td>\n",
              "      <td>0.00</td>\n",
              "      <td>0.0</td>\n",
              "      <td>0.000000</td>\n",
              "      <td>0.000000</td>\n",
              "      <td>0.000000</td>\n",
              "    </tr>\n",
              "    <tr>\n",
              "      <th>9</th>\n",
              "      <td>Guildwood,Morningside,West Hill</td>\n",
              "      <td>0.000000</td>\n",
              "      <td>0.000</td>\n",
              "      <td>0.000</td>\n",
              "      <td>0.000000</td>\n",
              "      <td>0.0</td>\n",
              "      <td>0.142857</td>\n",
              "      <td>0.0</td>\n",
              "      <td>0.000000</td>\n",
              "      <td>0.00</td>\n",
              "      <td>0.000</td>\n",
              "      <td>0.000000</td>\n",
              "      <td>0.000000</td>\n",
              "      <td>0.00</td>\n",
              "      <td>0.000000</td>\n",
              "      <td>0.000000</td>\n",
              "      <td>0.000000</td>\n",
              "      <td>0.142857</td>\n",
              "      <td>0.000000</td>\n",
              "      <td>0.000000</td>\n",
              "      <td>0.000000</td>\n",
              "      <td>0.00</td>\n",
              "      <td>0.0</td>\n",
              "      <td>0.0</td>\n",
              "      <td>0.000</td>\n",
              "      <td>0.000000</td>\n",
              "      <td>0.000000</td>\n",
              "      <td>0.142857</td>\n",
              "      <td>0.000000</td>\n",
              "      <td>0.000000</td>\n",
              "      <td>0.000000</td>\n",
              "      <td>0.000</td>\n",
              "      <td>0.142857</td>\n",
              "      <td>0.0</td>\n",
              "      <td>0.142857</td>\n",
              "      <td>0.00</td>\n",
              "      <td>0.000000</td>\n",
              "      <td>0.000000</td>\n",
              "      <td>0.000000</td>\n",
              "      <td>0.000000</td>\n",
              "      <td>0.000000</td>\n",
              "      <td>0.142857</td>\n",
              "      <td>0.000000</td>\n",
              "      <td>0.0</td>\n",
              "      <td>0.142857</td>\n",
              "      <td>0.00</td>\n",
              "      <td>0.00</td>\n",
              "      <td>0.00</td>\n",
              "      <td>0.0</td>\n",
              "      <td>0.000000</td>\n",
              "      <td>0.000000</td>\n",
              "      <td>0.000000</td>\n",
              "    </tr>\n",
              "    <tr>\n",
              "      <th>10</th>\n",
              "      <td>Highland Creek,Rouge Hill,Port Union</td>\n",
              "      <td>0.000000</td>\n",
              "      <td>0.000</td>\n",
              "      <td>0.000</td>\n",
              "      <td>0.000000</td>\n",
              "      <td>1.0</td>\n",
              "      <td>0.000000</td>\n",
              "      <td>0.0</td>\n",
              "      <td>0.000000</td>\n",
              "      <td>0.00</td>\n",
              "      <td>0.000</td>\n",
              "      <td>0.000000</td>\n",
              "      <td>0.000000</td>\n",
              "      <td>0.00</td>\n",
              "      <td>0.000000</td>\n",
              "      <td>0.000000</td>\n",
              "      <td>0.000000</td>\n",
              "      <td>0.000000</td>\n",
              "      <td>0.000000</td>\n",
              "      <td>0.000000</td>\n",
              "      <td>0.000000</td>\n",
              "      <td>0.00</td>\n",
              "      <td>0.0</td>\n",
              "      <td>0.0</td>\n",
              "      <td>0.000</td>\n",
              "      <td>0.000000</td>\n",
              "      <td>0.000000</td>\n",
              "      <td>0.000000</td>\n",
              "      <td>0.000000</td>\n",
              "      <td>0.000000</td>\n",
              "      <td>0.000000</td>\n",
              "      <td>0.000</td>\n",
              "      <td>0.000000</td>\n",
              "      <td>0.0</td>\n",
              "      <td>0.000000</td>\n",
              "      <td>0.00</td>\n",
              "      <td>0.000000</td>\n",
              "      <td>0.000000</td>\n",
              "      <td>0.000000</td>\n",
              "      <td>0.000000</td>\n",
              "      <td>0.000000</td>\n",
              "      <td>0.000000</td>\n",
              "      <td>0.000000</td>\n",
              "      <td>0.0</td>\n",
              "      <td>0.000000</td>\n",
              "      <td>0.00</td>\n",
              "      <td>0.00</td>\n",
              "      <td>0.00</td>\n",
              "      <td>0.0</td>\n",
              "      <td>0.000000</td>\n",
              "      <td>0.000000</td>\n",
              "      <td>0.000000</td>\n",
              "    </tr>\n",
              "    <tr>\n",
              "      <th>11</th>\n",
              "      <td>L'Amoreaux West</td>\n",
              "      <td>0.000000</td>\n",
              "      <td>0.000</td>\n",
              "      <td>0.000</td>\n",
              "      <td>0.000000</td>\n",
              "      <td>0.0</td>\n",
              "      <td>0.100000</td>\n",
              "      <td>0.0</td>\n",
              "      <td>0.000000</td>\n",
              "      <td>0.00</td>\n",
              "      <td>0.000</td>\n",
              "      <td>0.200000</td>\n",
              "      <td>0.100000</td>\n",
              "      <td>0.00</td>\n",
              "      <td>0.000000</td>\n",
              "      <td>0.000000</td>\n",
              "      <td>0.000000</td>\n",
              "      <td>0.000000</td>\n",
              "      <td>0.200000</td>\n",
              "      <td>0.000000</td>\n",
              "      <td>0.000000</td>\n",
              "      <td>0.00</td>\n",
              "      <td>0.1</td>\n",
              "      <td>0.1</td>\n",
              "      <td>0.000</td>\n",
              "      <td>0.000000</td>\n",
              "      <td>0.000000</td>\n",
              "      <td>0.000000</td>\n",
              "      <td>0.000000</td>\n",
              "      <td>0.000000</td>\n",
              "      <td>0.000000</td>\n",
              "      <td>0.000</td>\n",
              "      <td>0.000000</td>\n",
              "      <td>0.0</td>\n",
              "      <td>0.000000</td>\n",
              "      <td>0.00</td>\n",
              "      <td>0.000000</td>\n",
              "      <td>0.000000</td>\n",
              "      <td>0.000000</td>\n",
              "      <td>0.000000</td>\n",
              "      <td>0.100000</td>\n",
              "      <td>0.000000</td>\n",
              "      <td>0.000000</td>\n",
              "      <td>0.0</td>\n",
              "      <td>0.000000</td>\n",
              "      <td>0.10</td>\n",
              "      <td>0.00</td>\n",
              "      <td>0.00</td>\n",
              "      <td>0.0</td>\n",
              "      <td>0.000000</td>\n",
              "      <td>0.000000</td>\n",
              "      <td>0.000000</td>\n",
              "    </tr>\n",
              "    <tr>\n",
              "      <th>12</th>\n",
              "      <td>Maryvale,Wexford</td>\n",
              "      <td>0.000000</td>\n",
              "      <td>0.000</td>\n",
              "      <td>0.250</td>\n",
              "      <td>0.000000</td>\n",
              "      <td>0.0</td>\n",
              "      <td>0.250000</td>\n",
              "      <td>0.0</td>\n",
              "      <td>0.000000</td>\n",
              "      <td>0.00</td>\n",
              "      <td>0.000</td>\n",
              "      <td>0.000000</td>\n",
              "      <td>0.000000</td>\n",
              "      <td>0.00</td>\n",
              "      <td>0.000000</td>\n",
              "      <td>0.000000</td>\n",
              "      <td>0.000000</td>\n",
              "      <td>0.000000</td>\n",
              "      <td>0.000000</td>\n",
              "      <td>0.000000</td>\n",
              "      <td>0.000000</td>\n",
              "      <td>0.00</td>\n",
              "      <td>0.0</td>\n",
              "      <td>0.0</td>\n",
              "      <td>0.000</td>\n",
              "      <td>0.000000</td>\n",
              "      <td>0.000000</td>\n",
              "      <td>0.000000</td>\n",
              "      <td>0.000000</td>\n",
              "      <td>0.000000</td>\n",
              "      <td>0.000000</td>\n",
              "      <td>0.000</td>\n",
              "      <td>0.000000</td>\n",
              "      <td>0.0</td>\n",
              "      <td>0.000000</td>\n",
              "      <td>0.25</td>\n",
              "      <td>0.000000</td>\n",
              "      <td>0.000000</td>\n",
              "      <td>0.000000</td>\n",
              "      <td>0.000000</td>\n",
              "      <td>0.000000</td>\n",
              "      <td>0.000000</td>\n",
              "      <td>0.000000</td>\n",
              "      <td>0.0</td>\n",
              "      <td>0.000000</td>\n",
              "      <td>0.00</td>\n",
              "      <td>0.00</td>\n",
              "      <td>0.25</td>\n",
              "      <td>0.0</td>\n",
              "      <td>0.000000</td>\n",
              "      <td>0.000000</td>\n",
              "      <td>0.000000</td>\n",
              "    </tr>\n",
              "    <tr>\n",
              "      <th>13</th>\n",
              "      <td>Rouge,Malvern</td>\n",
              "      <td>0.000000</td>\n",
              "      <td>0.000</td>\n",
              "      <td>0.000</td>\n",
              "      <td>0.000000</td>\n",
              "      <td>0.0</td>\n",
              "      <td>0.000000</td>\n",
              "      <td>0.0</td>\n",
              "      <td>0.000000</td>\n",
              "      <td>0.00</td>\n",
              "      <td>0.000</td>\n",
              "      <td>0.000000</td>\n",
              "      <td>0.000000</td>\n",
              "      <td>0.00</td>\n",
              "      <td>0.000000</td>\n",
              "      <td>0.000000</td>\n",
              "      <td>0.000000</td>\n",
              "      <td>0.000000</td>\n",
              "      <td>0.500000</td>\n",
              "      <td>0.000000</td>\n",
              "      <td>0.000000</td>\n",
              "      <td>0.00</td>\n",
              "      <td>0.0</td>\n",
              "      <td>0.0</td>\n",
              "      <td>0.000</td>\n",
              "      <td>0.000000</td>\n",
              "      <td>0.000000</td>\n",
              "      <td>0.000000</td>\n",
              "      <td>0.000000</td>\n",
              "      <td>0.000000</td>\n",
              "      <td>0.000000</td>\n",
              "      <td>0.000</td>\n",
              "      <td>0.000000</td>\n",
              "      <td>0.0</td>\n",
              "      <td>0.000000</td>\n",
              "      <td>0.00</td>\n",
              "      <td>0.000000</td>\n",
              "      <td>0.000000</td>\n",
              "      <td>0.000000</td>\n",
              "      <td>0.000000</td>\n",
              "      <td>0.000000</td>\n",
              "      <td>0.000000</td>\n",
              "      <td>0.000000</td>\n",
              "      <td>0.5</td>\n",
              "      <td>0.000000</td>\n",
              "      <td>0.00</td>\n",
              "      <td>0.00</td>\n",
              "      <td>0.00</td>\n",
              "      <td>0.0</td>\n",
              "      <td>0.000000</td>\n",
              "      <td>0.000000</td>\n",
              "      <td>0.000000</td>\n",
              "    </tr>\n",
              "    <tr>\n",
              "      <th>14</th>\n",
              "      <td>Scarborough Village</td>\n",
              "      <td>0.000000</td>\n",
              "      <td>0.000</td>\n",
              "      <td>0.000</td>\n",
              "      <td>0.000000</td>\n",
              "      <td>0.0</td>\n",
              "      <td>0.000000</td>\n",
              "      <td>0.0</td>\n",
              "      <td>0.000000</td>\n",
              "      <td>0.00</td>\n",
              "      <td>0.000</td>\n",
              "      <td>0.000000</td>\n",
              "      <td>0.000000</td>\n",
              "      <td>0.00</td>\n",
              "      <td>0.333333</td>\n",
              "      <td>0.000000</td>\n",
              "      <td>0.000000</td>\n",
              "      <td>0.000000</td>\n",
              "      <td>0.000000</td>\n",
              "      <td>0.000000</td>\n",
              "      <td>0.000000</td>\n",
              "      <td>0.00</td>\n",
              "      <td>0.0</td>\n",
              "      <td>0.0</td>\n",
              "      <td>0.000</td>\n",
              "      <td>0.000000</td>\n",
              "      <td>0.000000</td>\n",
              "      <td>0.000000</td>\n",
              "      <td>0.000000</td>\n",
              "      <td>0.000000</td>\n",
              "      <td>0.000000</td>\n",
              "      <td>0.000</td>\n",
              "      <td>0.000000</td>\n",
              "      <td>0.0</td>\n",
              "      <td>0.000000</td>\n",
              "      <td>0.00</td>\n",
              "      <td>0.000000</td>\n",
              "      <td>0.000000</td>\n",
              "      <td>0.000000</td>\n",
              "      <td>0.000000</td>\n",
              "      <td>0.000000</td>\n",
              "      <td>0.000000</td>\n",
              "      <td>0.333333</td>\n",
              "      <td>0.0</td>\n",
              "      <td>0.000000</td>\n",
              "      <td>0.00</td>\n",
              "      <td>0.00</td>\n",
              "      <td>0.00</td>\n",
              "      <td>0.0</td>\n",
              "      <td>0.333333</td>\n",
              "      <td>0.000000</td>\n",
              "      <td>0.000000</td>\n",
              "    </tr>\n",
              "    <tr>\n",
              "      <th>15</th>\n",
              "      <td>Woburn</td>\n",
              "      <td>0.000000</td>\n",
              "      <td>0.000</td>\n",
              "      <td>0.000</td>\n",
              "      <td>0.000000</td>\n",
              "      <td>0.0</td>\n",
              "      <td>0.000000</td>\n",
              "      <td>0.0</td>\n",
              "      <td>0.000000</td>\n",
              "      <td>0.00</td>\n",
              "      <td>0.000</td>\n",
              "      <td>0.000000</td>\n",
              "      <td>0.666667</td>\n",
              "      <td>0.00</td>\n",
              "      <td>0.000000</td>\n",
              "      <td>0.000000</td>\n",
              "      <td>0.000000</td>\n",
              "      <td>0.000000</td>\n",
              "      <td>0.000000</td>\n",
              "      <td>0.000000</td>\n",
              "      <td>0.000000</td>\n",
              "      <td>0.00</td>\n",
              "      <td>0.0</td>\n",
              "      <td>0.0</td>\n",
              "      <td>0.000</td>\n",
              "      <td>0.000000</td>\n",
              "      <td>0.000000</td>\n",
              "      <td>0.000000</td>\n",
              "      <td>0.000000</td>\n",
              "      <td>0.333333</td>\n",
              "      <td>0.000000</td>\n",
              "      <td>0.000</td>\n",
              "      <td>0.000000</td>\n",
              "      <td>0.0</td>\n",
              "      <td>0.000000</td>\n",
              "      <td>0.00</td>\n",
              "      <td>0.000000</td>\n",
              "      <td>0.000000</td>\n",
              "      <td>0.000000</td>\n",
              "      <td>0.000000</td>\n",
              "      <td>0.000000</td>\n",
              "      <td>0.000000</td>\n",
              "      <td>0.000000</td>\n",
              "      <td>0.0</td>\n",
              "      <td>0.000000</td>\n",
              "      <td>0.00</td>\n",
              "      <td>0.00</td>\n",
              "      <td>0.00</td>\n",
              "      <td>0.0</td>\n",
              "      <td>0.000000</td>\n",
              "      <td>0.000000</td>\n",
              "      <td>0.000000</td>\n",
              "    </tr>\n",
              "  </tbody>\n",
              "</table>\n",
              "</div>"
            ],
            "text/plain": [
              "                                         Neighborhood  American Restaurant  \\\n",
              "0                                           Agincourt             0.000000   \n",
              "1   Agincourt North,L'Amoreaux East,Milliken,Steel...             0.000000   \n",
              "2                          Birch Cliff,Cliffside West             0.000000   \n",
              "3                                           Cedarbrae             0.000000   \n",
              "4                       Clairlea,Golden Mile,Oakridge             0.000000   \n",
              "5               Clarks Corners,Sullivan,Tam O'Shanter             0.000000   \n",
              "6       Cliffcrest,Cliffside,Scarborough Village West             0.333333   \n",
              "7   Dorset Park,Scarborough Town Centre,Wexford He...             0.000000   \n",
              "8           East Birchmount Park,Ionview,Kennedy Park             0.000000   \n",
              "9                     Guildwood,Morningside,West Hill             0.000000   \n",
              "10               Highland Creek,Rouge Hill,Port Union             0.000000   \n",
              "11                                    L'Amoreaux West             0.000000   \n",
              "12                                   Maryvale,Wexford             0.000000   \n",
              "13                                      Rouge,Malvern             0.000000   \n",
              "14                                Scarborough Village             0.000000   \n",
              "15                                             Woburn             0.000000   \n",
              "\n",
              "    Athletics & Sports  Bakery      Bank  Bar  Breakfast Spot  Bus Line  \\\n",
              "0                0.000   0.000  0.000000  0.0        0.250000       0.0   \n",
              "1                0.000   0.000  0.000000  0.0        0.000000       0.0   \n",
              "2                0.000   0.000  0.000000  0.0        0.000000       0.0   \n",
              "3                0.125   0.125  0.125000  0.0        0.000000       0.0   \n",
              "4                0.000   0.200  0.000000  0.0        0.000000       0.2   \n",
              "5                0.000   0.000  0.083333  0.0        0.083333       0.0   \n",
              "6                0.000   0.000  0.000000  0.0        0.000000       0.0   \n",
              "7                0.000   0.000  0.000000  0.0        0.000000       0.0   \n",
              "8                0.000   0.000  0.000000  0.0        0.000000       0.0   \n",
              "9                0.000   0.000  0.000000  0.0        0.142857       0.0   \n",
              "10               0.000   0.000  0.000000  1.0        0.000000       0.0   \n",
              "11               0.000   0.000  0.000000  0.0        0.100000       0.0   \n",
              "12               0.000   0.250  0.000000  0.0        0.250000       0.0   \n",
              "13               0.000   0.000  0.000000  0.0        0.000000       0.0   \n",
              "14               0.000   0.000  0.000000  0.0        0.000000       0.0   \n",
              "15               0.000   0.000  0.000000  0.0        0.000000       0.0   \n",
              "\n",
              "    Bus Station  Café  Caribbean Restaurant  Chinese Restaurant  Coffee Shop  \\\n",
              "0      0.000000  0.00                 0.000            0.000000     0.000000   \n",
              "1      0.000000  0.00                 0.000            0.000000     0.333333   \n",
              "2      0.000000  0.25                 0.000            0.000000     0.000000   \n",
              "3      0.000000  0.00                 0.125            0.000000     0.000000   \n",
              "4      0.100000  0.00                 0.000            0.000000     0.000000   \n",
              "5      0.000000  0.00                 0.000            0.083333     0.000000   \n",
              "6      0.000000  0.00                 0.000            0.000000     0.000000   \n",
              "7      0.000000  0.00                 0.000            0.142857     0.000000   \n",
              "8      0.142857  0.00                 0.000            0.142857     0.142857   \n",
              "9      0.000000  0.00                 0.000            0.000000     0.000000   \n",
              "10     0.000000  0.00                 0.000            0.000000     0.000000   \n",
              "11     0.000000  0.00                 0.000            0.200000     0.100000   \n",
              "12     0.000000  0.00                 0.000            0.000000     0.000000   \n",
              "13     0.000000  0.00                 0.000            0.000000     0.000000   \n",
              "14     0.000000  0.00                 0.000            0.000000     0.000000   \n",
              "15     0.000000  0.00                 0.000            0.000000     0.666667   \n",
              "\n",
              "    College Stadium  Convenience Store  Department Store  Discount Store  \\\n",
              "0              0.00           0.000000          0.000000        0.000000   \n",
              "1              0.00           0.000000          0.000000        0.000000   \n",
              "2              0.25           0.000000          0.000000        0.000000   \n",
              "3              0.00           0.000000          0.000000        0.000000   \n",
              "4              0.00           0.000000          0.000000        0.000000   \n",
              "5              0.00           0.000000          0.000000        0.000000   \n",
              "6              0.00           0.000000          0.000000        0.000000   \n",
              "7              0.00           0.000000          0.000000        0.000000   \n",
              "8              0.00           0.142857          0.142857        0.142857   \n",
              "9              0.00           0.000000          0.000000        0.000000   \n",
              "10             0.00           0.000000          0.000000        0.000000   \n",
              "11             0.00           0.000000          0.000000        0.000000   \n",
              "12             0.00           0.000000          0.000000        0.000000   \n",
              "13             0.00           0.000000          0.000000        0.000000   \n",
              "14             0.00           0.333333          0.000000        0.000000   \n",
              "15             0.00           0.000000          0.000000        0.000000   \n",
              "\n",
              "    Electronics Store  Fast Food Restaurant  Fried Chicken Joint  \\\n",
              "0            0.000000              0.000000             0.000000   \n",
              "1            0.000000              0.000000             0.000000   \n",
              "2            0.000000              0.000000             0.000000   \n",
              "3            0.000000              0.000000             0.125000   \n",
              "4            0.000000              0.100000             0.000000   \n",
              "5            0.000000              0.083333             0.083333   \n",
              "6            0.000000              0.000000             0.000000   \n",
              "7            0.000000              0.000000             0.000000   \n",
              "8            0.000000              0.000000             0.000000   \n",
              "9            0.142857              0.000000             0.000000   \n",
              "10           0.000000              0.000000             0.000000   \n",
              "11           0.000000              0.200000             0.000000   \n",
              "12           0.000000              0.000000             0.000000   \n",
              "13           0.000000              0.500000             0.000000   \n",
              "14           0.000000              0.000000             0.000000   \n",
              "15           0.000000              0.000000             0.000000   \n",
              "\n",
              "    Furniture / Home Store  General Entertainment  Grocery Store  Gym Pool  \\\n",
              "0                 0.000000                   0.00            0.0       0.0   \n",
              "1                 0.000000                   0.00            0.0       0.0   \n",
              "2                 0.000000                   0.25            0.0       0.0   \n",
              "3                 0.000000                   0.00            0.0       0.0   \n",
              "4                 0.000000                   0.00            0.0       0.0   \n",
              "5                 0.000000                   0.00            0.0       0.0   \n",
              "6                 0.000000                   0.00            0.0       0.0   \n",
              "7                 0.142857                   0.00            0.0       0.0   \n",
              "8                 0.000000                   0.00            0.0       0.0   \n",
              "9                 0.000000                   0.00            0.0       0.0   \n",
              "10                0.000000                   0.00            0.0       0.0   \n",
              "11                0.000000                   0.00            0.1       0.1   \n",
              "12                0.000000                   0.00            0.0       0.0   \n",
              "13                0.000000                   0.00            0.0       0.0   \n",
              "14                0.000000                   0.00            0.0       0.0   \n",
              "15                0.000000                   0.00            0.0       0.0   \n",
              "\n",
              "    Hakka Restaurant  Hobby Shop  Indian Restaurant  Intersection  \\\n",
              "0              0.000    0.000000           0.000000      0.000000   \n",
              "1              0.000    0.000000           0.000000      0.000000   \n",
              "2              0.000    0.000000           0.000000      0.000000   \n",
              "3              0.125    0.000000           0.000000      0.000000   \n",
              "4              0.000    0.000000           0.000000      0.100000   \n",
              "5              0.000    0.000000           0.000000      0.000000   \n",
              "6              0.000    0.000000           0.000000      0.000000   \n",
              "7              0.000    0.000000           0.285714      0.000000   \n",
              "8              0.000    0.142857           0.000000      0.000000   \n",
              "9              0.000    0.000000           0.000000      0.142857   \n",
              "10             0.000    0.000000           0.000000      0.000000   \n",
              "11             0.000    0.000000           0.000000      0.000000   \n",
              "12             0.000    0.000000           0.000000      0.000000   \n",
              "13             0.000    0.000000           0.000000      0.000000   \n",
              "14             0.000    0.000000           0.000000      0.000000   \n",
              "15             0.000    0.000000           0.000000      0.000000   \n",
              "\n",
              "    Italian Restaurant  Korean Restaurant  Latin American Restaurant  Lounge  \\\n",
              "0             0.000000           0.000000                   0.000000   0.250   \n",
              "1             0.000000           0.000000                   0.000000   0.000   \n",
              "2             0.000000           0.000000                   0.000000   0.000   \n",
              "3             0.000000           0.000000                   0.000000   0.125   \n",
              "4             0.000000           0.000000                   0.000000   0.000   \n",
              "5             0.083333           0.000000                   0.000000   0.000   \n",
              "6             0.000000           0.000000                   0.000000   0.000   \n",
              "7             0.000000           0.000000                   0.142857   0.000   \n",
              "8             0.000000           0.000000                   0.000000   0.000   \n",
              "9             0.000000           0.000000                   0.000000   0.000   \n",
              "10            0.000000           0.000000                   0.000000   0.000   \n",
              "11            0.000000           0.000000                   0.000000   0.000   \n",
              "12            0.000000           0.000000                   0.000000   0.000   \n",
              "13            0.000000           0.000000                   0.000000   0.000   \n",
              "14            0.000000           0.000000                   0.000000   0.000   \n",
              "15            0.000000           0.333333                   0.000000   0.000   \n",
              "\n",
              "    Medical Center  Metro Station  Mexican Restaurant  \\\n",
              "0         0.000000            0.0            0.000000   \n",
              "1         0.000000            0.0            0.000000   \n",
              "2         0.000000            0.0            0.000000   \n",
              "3         0.000000            0.0            0.000000   \n",
              "4         0.000000            0.1            0.000000   \n",
              "5         0.000000            0.0            0.000000   \n",
              "6         0.000000            0.0            0.000000   \n",
              "7         0.000000            0.0            0.000000   \n",
              "8         0.000000            0.0            0.000000   \n",
              "9         0.142857            0.0            0.142857   \n",
              "10        0.000000            0.0            0.000000   \n",
              "11        0.000000            0.0            0.000000   \n",
              "12        0.000000            0.0            0.000000   \n",
              "13        0.000000            0.0            0.000000   \n",
              "14        0.000000            0.0            0.000000   \n",
              "15        0.000000            0.0            0.000000   \n",
              "\n",
              "    Middle Eastern Restaurant     Motel  Noodle House      Park  Pet Store  \\\n",
              "0                        0.00  0.000000      0.000000  0.000000   0.000000   \n",
              "1                        0.00  0.000000      0.000000  0.333333   0.000000   \n",
              "2                        0.00  0.000000      0.000000  0.000000   0.000000   \n",
              "3                        0.00  0.000000      0.000000  0.000000   0.000000   \n",
              "4                        0.00  0.000000      0.000000  0.100000   0.000000   \n",
              "5                        0.00  0.000000      0.083333  0.000000   0.000000   \n",
              "6                        0.00  0.666667      0.000000  0.000000   0.000000   \n",
              "7                        0.00  0.000000      0.000000  0.000000   0.142857   \n",
              "8                        0.00  0.000000      0.000000  0.000000   0.000000   \n",
              "9                        0.00  0.000000      0.000000  0.000000   0.000000   \n",
              "10                       0.00  0.000000      0.000000  0.000000   0.000000   \n",
              "11                       0.00  0.000000      0.000000  0.000000   0.000000   \n",
              "12                       0.25  0.000000      0.000000  0.000000   0.000000   \n",
              "13                       0.00  0.000000      0.000000  0.000000   0.000000   \n",
              "14                       0.00  0.000000      0.000000  0.000000   0.000000   \n",
              "15                       0.00  0.000000      0.000000  0.000000   0.000000   \n",
              "\n",
              "    Pharmacy  Pizza Place  Playground  Print Shop  Rental Car Location  \\\n",
              "0   0.000000     0.000000    0.000000         0.0             0.000000   \n",
              "1   0.000000     0.000000    0.333333         0.0             0.000000   \n",
              "2   0.000000     0.000000    0.000000         0.0             0.000000   \n",
              "3   0.000000     0.000000    0.000000         0.0             0.000000   \n",
              "4   0.000000     0.000000    0.000000         0.0             0.000000   \n",
              "5   0.166667     0.166667    0.000000         0.0             0.000000   \n",
              "6   0.000000     0.000000    0.000000         0.0             0.000000   \n",
              "7   0.000000     0.000000    0.000000         0.0             0.000000   \n",
              "8   0.000000     0.000000    0.000000         0.0             0.000000   \n",
              "9   0.000000     0.142857    0.000000         0.0             0.142857   \n",
              "10  0.000000     0.000000    0.000000         0.0             0.000000   \n",
              "11  0.100000     0.000000    0.000000         0.0             0.000000   \n",
              "12  0.000000     0.000000    0.000000         0.0             0.000000   \n",
              "13  0.000000     0.000000    0.000000         0.5             0.000000   \n",
              "14  0.000000     0.000000    0.333333         0.0             0.000000   \n",
              "15  0.000000     0.000000    0.000000         0.0             0.000000   \n",
              "\n",
              "    Sandwich Place  Skating Rink  Smoke Shop  Soccer Field       Spa  \\\n",
              "0             0.25          0.25        0.00           0.0  0.000000   \n",
              "1             0.00          0.00        0.00           0.0  0.000000   \n",
              "2             0.00          0.25        0.00           0.0  0.000000   \n",
              "3             0.00          0.00        0.00           0.0  0.000000   \n",
              "4             0.00          0.00        0.00           0.1  0.000000   \n",
              "5             0.00          0.00        0.00           0.0  0.000000   \n",
              "6             0.00          0.00        0.00           0.0  0.000000   \n",
              "7             0.00          0.00        0.00           0.0  0.000000   \n",
              "8             0.00          0.00        0.00           0.0  0.000000   \n",
              "9             0.00          0.00        0.00           0.0  0.000000   \n",
              "10            0.00          0.00        0.00           0.0  0.000000   \n",
              "11            0.10          0.00        0.00           0.0  0.000000   \n",
              "12            0.00          0.00        0.25           0.0  0.000000   \n",
              "13            0.00          0.00        0.00           0.0  0.000000   \n",
              "14            0.00          0.00        0.00           0.0  0.333333   \n",
              "15            0.00          0.00        0.00           0.0  0.000000   \n",
              "\n",
              "    Thai Restaurant  Vietnamese Restaurant  \n",
              "0          0.000000               0.000000  \n",
              "1          0.000000               0.000000  \n",
              "2          0.000000               0.000000  \n",
              "3          0.125000               0.000000  \n",
              "4          0.000000               0.000000  \n",
              "5          0.083333               0.000000  \n",
              "6          0.000000               0.000000  \n",
              "7          0.000000               0.142857  \n",
              "8          0.000000               0.000000  \n",
              "9          0.000000               0.000000  \n",
              "10         0.000000               0.000000  \n",
              "11         0.000000               0.000000  \n",
              "12         0.000000               0.000000  \n",
              "13         0.000000               0.000000  \n",
              "14         0.000000               0.000000  \n",
              "15         0.000000               0.000000  "
            ]
          },
          "metadata": {
            "tags": []
          },
          "execution_count": 129
        }
      ]
    },
    {
      "cell_type": "markdown",
      "metadata": {
        "colab_type": "text",
        "id": "PmqqMXkcn23o"
      },
      "source": [
        "#### Let's confirm the new size"
      ]
    },
    {
      "cell_type": "code",
      "metadata": {
        "jupyter": {
          "outputs_hidden": false
        },
        "colab_type": "code",
        "id": "h4_iO_Bqn2xc",
        "colab": {
          "base_uri": "https://localhost:8080/",
          "height": 34
        },
        "outputId": "43c8cdf0-bb53-4315-8499-254c34d844f6"
      },
      "source": [
        "toronto_grouped.shape"
      ],
      "execution_count": 130,
      "outputs": [
        {
          "output_type": "execute_result",
          "data": {
            "text/plain": [
              "(16, 52)"
            ]
          },
          "metadata": {
            "tags": []
          },
          "execution_count": 130
        }
      ]
    },
    {
      "cell_type": "markdown",
      "metadata": {
        "colab_type": "text",
        "id": "hJcPDjXDn2tj"
      },
      "source": [
        "#### Let's print each neighborhood along with the top 5 most common venues"
      ]
    },
    {
      "cell_type": "code",
      "metadata": {
        "jupyter": {
          "outputs_hidden": false
        },
        "colab_type": "code",
        "id": "MIxMHkmWn2kJ",
        "colab": {
          "base_uri": "https://localhost:8080/",
          "height": 1000
        },
        "outputId": "b3116c43-f092-428d-d816-14605b2444e4"
      },
      "source": [
        "num_top_venues = 5\n",
        "\n",
        "for hood in toronto_grouped['Neighborhood']:\n",
        "    print(\"----\"+hood+\"----\")\n",
        "    temp = toronto_grouped[toronto_grouped['Neighborhood'] == hood].T.reset_index()\n",
        "    temp.columns = ['venue','freq']\n",
        "    temp = temp.iloc[1:]\n",
        "    temp['freq'] = temp['freq'].astype(float)\n",
        "    temp = temp.round({'freq': 2})\n",
        "    print(temp.sort_values('freq', ascending=False).reset_index(drop=True).head(num_top_venues))\n",
        "    print('\\n')"
      ],
      "execution_count": 131,
      "outputs": [
        {
          "output_type": "stream",
          "text": [
            "----Agincourt----\n",
            "                 venue  freq\n",
            "0               Lounge  0.25\n",
            "1       Breakfast Spot  0.25\n",
            "2         Skating Rink  0.25\n",
            "3       Sandwich Place  0.25\n",
            "4  American Restaurant  0.00\n",
            "\n",
            "\n",
            "----Agincourt North,L'Amoreaux East,Milliken,Steeles East----\n",
            "                 venue  freq\n",
            "0           Playground  0.33\n",
            "1          Coffee Shop  0.33\n",
            "2                 Park  0.33\n",
            "3  American Restaurant  0.00\n",
            "4            Pet Store  0.00\n",
            "\n",
            "\n",
            "----Birch Cliff,Cliffside West----\n",
            "                   venue  freq\n",
            "0           Skating Rink  0.25\n",
            "1                   Café  0.25\n",
            "2  General Entertainment  0.25\n",
            "3        College Stadium  0.25\n",
            "4    American Restaurant  0.00\n",
            "\n",
            "\n",
            "----Cedarbrae----\n",
            "                venue  freq\n",
            "0              Lounge  0.12\n",
            "1              Bakery  0.12\n",
            "2                Bank  0.12\n",
            "3     Thai Restaurant  0.12\n",
            "4  Athletics & Sports  0.12\n",
            "\n",
            "\n",
            "----Clairlea,Golden Mile,Oakridge----\n",
            "          venue  freq\n",
            "0        Bakery   0.2\n",
            "1      Bus Line   0.2\n",
            "2  Intersection   0.1\n",
            "3  Soccer Field   0.1\n",
            "4   Bus Station   0.1\n",
            "\n",
            "\n",
            "----Clarks Corners,Sullivan,Tam O'Shanter----\n",
            "                 venue  freq\n",
            "0          Pizza Place  0.17\n",
            "1             Pharmacy  0.17\n",
            "2   Chinese Restaurant  0.08\n",
            "3         Noodle House  0.08\n",
            "4  Fried Chicken Joint  0.08\n",
            "\n",
            "\n",
            "----Cliffcrest,Cliffside,Scarborough Village West----\n",
            "                       venue  freq\n",
            "0                      Motel  0.67\n",
            "1        American Restaurant  0.33\n",
            "2                  Pet Store  0.00\n",
            "3          Korean Restaurant  0.00\n",
            "4  Latin American Restaurant  0.00\n",
            "\n",
            "\n",
            "----Dorset Park,Scarborough Town Centre,Wexford Heights----\n",
            "                       venue  freq\n",
            "0          Indian Restaurant  0.29\n",
            "1         Chinese Restaurant  0.14\n",
            "2                  Pet Store  0.14\n",
            "3  Latin American Restaurant  0.14\n",
            "4     Furniture / Home Store  0.14\n",
            "\n",
            "\n",
            "----East Birchmount Park,Ionview,Kennedy Park----\n",
            "                venue  freq\n",
            "0    Department Store  0.14\n",
            "1  Chinese Restaurant  0.14\n",
            "2      Discount Store  0.14\n",
            "3   Convenience Store  0.14\n",
            "4          Hobby Shop  0.14\n",
            "\n",
            "\n",
            "----Guildwood,Morningside,West Hill----\n",
            "                 venue  freq\n",
            "0         Intersection  0.14\n",
            "1       Breakfast Spot  0.14\n",
            "2       Medical Center  0.14\n",
            "3   Mexican Restaurant  0.14\n",
            "4  Rental Car Location  0.14\n",
            "\n",
            "\n",
            "----Highland Creek,Rouge Hill,Port Union----\n",
            "                       venue  freq\n",
            "0                        Bar   1.0\n",
            "1        American Restaurant   0.0\n",
            "2                  Pet Store   0.0\n",
            "3          Korean Restaurant   0.0\n",
            "4  Latin American Restaurant   0.0\n",
            "\n",
            "\n",
            "----L'Amoreaux West----\n",
            "                  venue  freq\n",
            "0  Fast Food Restaurant   0.2\n",
            "1    Chinese Restaurant   0.2\n",
            "2        Breakfast Spot   0.1\n",
            "3              Gym Pool   0.1\n",
            "4        Sandwich Place   0.1\n",
            "\n",
            "\n",
            "----Maryvale,Wexford----\n",
            "                       venue  freq\n",
            "0                     Bakery  0.25\n",
            "1             Breakfast Spot  0.25\n",
            "2                 Smoke Shop  0.25\n",
            "3  Middle Eastern Restaurant  0.25\n",
            "4        American Restaurant  0.00\n",
            "\n",
            "\n",
            "----Rouge,Malvern----\n",
            "                  venue  freq\n",
            "0            Print Shop   0.5\n",
            "1  Fast Food Restaurant   0.5\n",
            "2   American Restaurant   0.0\n",
            "3                  Park   0.0\n",
            "4     Korean Restaurant   0.0\n",
            "\n",
            "\n",
            "----Scarborough Village----\n",
            "               venue  freq\n",
            "0  Convenience Store  0.33\n",
            "1                Spa  0.33\n",
            "2         Playground  0.33\n",
            "3          Pet Store  0.00\n",
            "4  Korean Restaurant  0.00\n",
            "\n",
            "\n",
            "----Woburn----\n",
            "                       venue  freq\n",
            "0                Coffee Shop  0.67\n",
            "1          Korean Restaurant  0.33\n",
            "2        American Restaurant  0.00\n",
            "3                  Pet Store  0.00\n",
            "4  Latin American Restaurant  0.00\n",
            "\n",
            "\n"
          ],
          "name": "stdout"
        }
      ]
    },
    {
      "cell_type": "markdown",
      "metadata": {
        "colab_type": "text",
        "id": "5hTmQnOun2de"
      },
      "source": [
        "#### Let's put that into a *pandas* dataframe"
      ]
    },
    {
      "cell_type": "markdown",
      "metadata": {
        "colab_type": "text",
        "id": "p8M5akXTn2X1"
      },
      "source": [
        "First, let's write a function to sort the venues in descending order."
      ]
    },
    {
      "cell_type": "code",
      "metadata": {
        "colab_type": "code",
        "id": "rKZCZpxwn2TK",
        "colab": {}
      },
      "source": [
        "def return_most_common_venues(row, num_top_venues):\n",
        "    row_categories = row.iloc[1:]\n",
        "    row_categories_sorted = row_categories.sort_values(ascending=False)\n",
        "    \n",
        "    return row_categories_sorted.index.values[0:num_top_venues]"
      ],
      "execution_count": 0,
      "outputs": []
    },
    {
      "cell_type": "markdown",
      "metadata": {
        "colab_type": "text",
        "id": "snpeYNYxn2Nw"
      },
      "source": [
        "Now let's create the new dataframe and display the top 10 venues for each neighborhood."
      ]
    },
    {
      "cell_type": "code",
      "metadata": {
        "jupyter": {
          "outputs_hidden": false
        },
        "colab_type": "code",
        "id": "fMgKrDL7n2KG",
        "colab": {
          "base_uri": "https://localhost:8080/",
          "height": 289
        },
        "outputId": "81a886ab-52f1-4239-f35e-d65fc7733e4b"
      },
      "source": [
        "num_top_venues = 10\n",
        "\n",
        "indicators = ['st', 'nd', 'rd']\n",
        "\n",
        "# create columns according to number of top venues\n",
        "columns = ['Neighborhood']\n",
        "for ind in np.arange(num_top_venues):\n",
        "    try:\n",
        "        columns.append('{}{} Most Common Venue'.format(ind+1, indicators[ind]))\n",
        "    except:\n",
        "        columns.append('{}th Most Common Venue'.format(ind+1))\n",
        "\n",
        "# create a new dataframe\n",
        "neighborhoods_venues_sorted = pd.DataFrame(columns=columns)\n",
        "neighborhoods_venues_sorted['Neighborhood'] = toronto_grouped['Neighborhood']\n",
        "\n",
        "for ind in np.arange(toronto_grouped.shape[0]):\n",
        "    neighborhoods_venues_sorted.iloc[ind, 1:] = return_most_common_venues(toronto_grouped.iloc[ind, :], num_top_venues)\n",
        "\n",
        "neighborhoods_venues_sorted.head()"
      ],
      "execution_count": 133,
      "outputs": [
        {
          "output_type": "execute_result",
          "data": {
            "text/html": [
              "<div>\n",
              "<style scoped>\n",
              "    .dataframe tbody tr th:only-of-type {\n",
              "        vertical-align: middle;\n",
              "    }\n",
              "\n",
              "    .dataframe tbody tr th {\n",
              "        vertical-align: top;\n",
              "    }\n",
              "\n",
              "    .dataframe thead th {\n",
              "        text-align: right;\n",
              "    }\n",
              "</style>\n",
              "<table border=\"1\" class=\"dataframe\">\n",
              "  <thead>\n",
              "    <tr style=\"text-align: right;\">\n",
              "      <th></th>\n",
              "      <th>Neighborhood</th>\n",
              "      <th>1st Most Common Venue</th>\n",
              "      <th>2nd Most Common Venue</th>\n",
              "      <th>3rd Most Common Venue</th>\n",
              "      <th>4th Most Common Venue</th>\n",
              "      <th>5th Most Common Venue</th>\n",
              "      <th>6th Most Common Venue</th>\n",
              "      <th>7th Most Common Venue</th>\n",
              "      <th>8th Most Common Venue</th>\n",
              "      <th>9th Most Common Venue</th>\n",
              "      <th>10th Most Common Venue</th>\n",
              "    </tr>\n",
              "  </thead>\n",
              "  <tbody>\n",
              "    <tr>\n",
              "      <th>0</th>\n",
              "      <td>Agincourt</td>\n",
              "      <td>Skating Rink</td>\n",
              "      <td>Sandwich Place</td>\n",
              "      <td>Breakfast Spot</td>\n",
              "      <td>Lounge</td>\n",
              "      <td>Vietnamese Restaurant</td>\n",
              "      <td>College Stadium</td>\n",
              "      <td>Grocery Store</td>\n",
              "      <td>General Entertainment</td>\n",
              "      <td>Furniture / Home Store</td>\n",
              "      <td>Fried Chicken Joint</td>\n",
              "    </tr>\n",
              "    <tr>\n",
              "      <th>1</th>\n",
              "      <td>Agincourt North,L'Amoreaux East,Milliken,Steel...</td>\n",
              "      <td>Park</td>\n",
              "      <td>Coffee Shop</td>\n",
              "      <td>Playground</td>\n",
              "      <td>Grocery Store</td>\n",
              "      <td>General Entertainment</td>\n",
              "      <td>Furniture / Home Store</td>\n",
              "      <td>Fried Chicken Joint</td>\n",
              "      <td>Fast Food Restaurant</td>\n",
              "      <td>Electronics Store</td>\n",
              "      <td>Discount Store</td>\n",
              "    </tr>\n",
              "    <tr>\n",
              "      <th>2</th>\n",
              "      <td>Birch Cliff,Cliffside West</td>\n",
              "      <td>College Stadium</td>\n",
              "      <td>General Entertainment</td>\n",
              "      <td>Skating Rink</td>\n",
              "      <td>Café</td>\n",
              "      <td>Vietnamese Restaurant</td>\n",
              "      <td>Gym Pool</td>\n",
              "      <td>Grocery Store</td>\n",
              "      <td>Furniture / Home Store</td>\n",
              "      <td>Fried Chicken Joint</td>\n",
              "      <td>Fast Food Restaurant</td>\n",
              "    </tr>\n",
              "    <tr>\n",
              "      <th>3</th>\n",
              "      <td>Cedarbrae</td>\n",
              "      <td>Thai Restaurant</td>\n",
              "      <td>Athletics &amp; Sports</td>\n",
              "      <td>Bakery</td>\n",
              "      <td>Bank</td>\n",
              "      <td>Lounge</td>\n",
              "      <td>Caribbean Restaurant</td>\n",
              "      <td>Fried Chicken Joint</td>\n",
              "      <td>Hakka Restaurant</td>\n",
              "      <td>Discount Store</td>\n",
              "      <td>Gym Pool</td>\n",
              "    </tr>\n",
              "    <tr>\n",
              "      <th>4</th>\n",
              "      <td>Clairlea,Golden Mile,Oakridge</td>\n",
              "      <td>Bakery</td>\n",
              "      <td>Bus Line</td>\n",
              "      <td>Park</td>\n",
              "      <td>Soccer Field</td>\n",
              "      <td>Intersection</td>\n",
              "      <td>Bus Station</td>\n",
              "      <td>Fast Food Restaurant</td>\n",
              "      <td>Metro Station</td>\n",
              "      <td>Convenience Store</td>\n",
              "      <td>General Entertainment</td>\n",
              "    </tr>\n",
              "  </tbody>\n",
              "</table>\n",
              "</div>"
            ],
            "text/plain": [
              "                                        Neighborhood 1st Most Common Venue  \\\n",
              "0                                          Agincourt          Skating Rink   \n",
              "1  Agincourt North,L'Amoreaux East,Milliken,Steel...                  Park   \n",
              "2                         Birch Cliff,Cliffside West       College Stadium   \n",
              "3                                          Cedarbrae       Thai Restaurant   \n",
              "4                      Clairlea,Golden Mile,Oakridge                Bakery   \n",
              "\n",
              "   2nd Most Common Venue 3rd Most Common Venue 4th Most Common Venue  \\\n",
              "0         Sandwich Place        Breakfast Spot                Lounge   \n",
              "1            Coffee Shop            Playground         Grocery Store   \n",
              "2  General Entertainment          Skating Rink                  Café   \n",
              "3     Athletics & Sports                Bakery                  Bank   \n",
              "4               Bus Line                  Park          Soccer Field   \n",
              "\n",
              "   5th Most Common Venue   6th Most Common Venue 7th Most Common Venue  \\\n",
              "0  Vietnamese Restaurant         College Stadium         Grocery Store   \n",
              "1  General Entertainment  Furniture / Home Store   Fried Chicken Joint   \n",
              "2  Vietnamese Restaurant                Gym Pool         Grocery Store   \n",
              "3                 Lounge    Caribbean Restaurant   Fried Chicken Joint   \n",
              "4           Intersection             Bus Station  Fast Food Restaurant   \n",
              "\n",
              "    8th Most Common Venue   9th Most Common Venue 10th Most Common Venue  \n",
              "0   General Entertainment  Furniture / Home Store    Fried Chicken Joint  \n",
              "1    Fast Food Restaurant       Electronics Store         Discount Store  \n",
              "2  Furniture / Home Store     Fried Chicken Joint   Fast Food Restaurant  \n",
              "3        Hakka Restaurant          Discount Store               Gym Pool  \n",
              "4           Metro Station       Convenience Store  General Entertainment  "
            ]
          },
          "metadata": {
            "tags": []
          },
          "execution_count": 133
        }
      ]
    },
    {
      "cell_type": "markdown",
      "metadata": {
        "colab_type": "text",
        "id": "IcoSY5xcn2Co"
      },
      "source": [
        "<a id='item4'></a>"
      ]
    }
  ]
}