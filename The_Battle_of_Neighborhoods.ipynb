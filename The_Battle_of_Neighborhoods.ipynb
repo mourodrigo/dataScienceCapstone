{
  "nbformat": 4,
  "nbformat_minor": 0,
  "metadata": {
    "kernelspec": {
      "display_name": "Python",
      "language": "python",
      "name": "conda-env-python-py"
    },
    "language_info": {
      "codemirror_mode": {
        "name": "ipython",
        "version": 3
      },
      "file_extension": ".py",
      "mimetype": "text/x-python",
      "name": "python",
      "nbconvert_exporter": "python",
      "pygments_lexer": "ipython3",
      "version": "3.6.7"
    },
    "widgets": {
      "state": {},
      "version": "1.1.2"
    },
    "colab": {
      "name": "The_Battle_of_Neighborhoods_P2.ipynb",
      "provenance": [],
      "collapsed_sections": [
        "roeWWGGTXAlw",
        "MjN_-gP5XAl2"
      ],
      "include_colab_link": true
    }
  },
  "cells": [
    {
      "cell_type": "markdown",
      "metadata": {
        "id": "view-in-github",
        "colab_type": "text"
      },
      "source": [
        "<a href=\"https://colab.research.google.com/github/mourodrigo/dataScienceCapstone/blob/master/The_Battle_of_Neighborhoods.ipynb\" target=\"_parent\"><img src=\"https://colab.research.google.com/assets/colab-badge.svg\" alt=\"Open In Colab\"/></a>"
      ]
    },
    {
      "cell_type": "markdown",
      "metadata": {
        "id": "djTHHrxCnUZl",
        "colab_type": "text"
      },
      "source": [
        "## The battle of Neighborhoods\n",
        "\n",
        "This article is part of the Applied Data Science Capstone from IBM Data Science course.\n"
      ]
    },
    {
      "cell_type": "markdown",
      "metadata": {
        "id": "9ihyGGptXAlC",
        "colab_type": "text"
      },
      "source": [
        "## Introduction\n",
        "Florianopolis is known as Magic Island, but locals usually call it Floripa. It's a coastal city when half of it lies on the mainland, and the other half is on the island known as Santa Catarina Island.\n",
        "\n",
        "In this lab, Floripa will be explored to find the best neighborhood to live and choose a great house to buy on that place."
      ]
    },
    {
      "cell_type": "markdown",
      "metadata": {
        "id": "nPmxSK_oXAlE",
        "colab_type": "text"
      },
      "source": [
        "Before we get the data and start exploring it, let's download all the dependencies that we will need."
      ]
    },
    {
      "cell_type": "code",
      "metadata": {
        "jupyter": {
          "outputs_hidden": false
        },
        "id": "9hqtje7KXAlF",
        "colab_type": "code",
        "outputId": "82328db7-957e-4752-80c8-1306d4366950",
        "colab": {
          "base_uri": "https://localhost:8080/",
          "height": 34
        }
      },
      "source": [
        "import numpy as np # library to handle data in a vectorized manner\n",
        "\n",
        "import pandas as pd # library for data analsysis\n",
        "pd.set_option('display.max_columns', None)\n",
        "pd.set_option('display.max_rows', None)\n",
        "\n",
        "import json # library to handle JSON files\n",
        "\n",
        "from geopy.geocoders import Nominatim # convert an address into latitude and longitude values\n",
        "\n",
        "import requests # library to handle requests\n",
        "from pandas.io.json import json_normalize # tranform JSON file into a pandas dataframe\n",
        "\n",
        "# Matplotlib and associated plotting modules\n",
        "import matplotlib.cm as cm\n",
        "import matplotlib.colors as colors\n",
        "\n",
        "# import k-means from clustering stage\n",
        "from sklearn.cluster import KMeans\n",
        "\n",
        "#!conda install -c conda-forge folium=0.5.0 --yes # uncomment this line if you haven't completed the Foursquare API lab\n",
        "import folium # map rendering library\n",
        "\n",
        "print('Libraries imported.')"
      ],
      "execution_count": 122,
      "outputs": [
        {
          "output_type": "stream",
          "text": [
            "Libraries imported.\n"
          ],
          "name": "stdout"
        }
      ]
    },
    {
      "cell_type": "markdown",
      "metadata": {
        "id": "RS4bsE8CXAlJ",
        "colab_type": "text"
      },
      "source": [
        "<a id='item1'></a>"
      ]
    },
    {
      "cell_type": "markdown",
      "metadata": {
        "id": "w2o2abeVXAlK",
        "colab_type": "text"
      },
      "source": [
        "## 1. Exploring some data\n",
        "Finding all the neighborhoods of the city and it's geografic location."
      ]
    },
    {
      "cell_type": "markdown",
      "metadata": {
        "id": "roeWWGGTXAlw",
        "colab_type": "text"
      },
      "source": [
        "#### Use geopy library to get the latitude and longitude values of Florianopolis City."
      ]
    },
    {
      "cell_type": "code",
      "metadata": {
        "jupyter": {
          "outputs_hidden": false
        },
        "scrolled": true,
        "id": "07oezu7OXAly",
        "colab_type": "code",
        "outputId": "4b3ae2a7-a188-46a4-dc76-67d1625a2948",
        "colab": {
          "base_uri": "https://localhost:8080/",
          "height": 34
        }
      },
      "source": [
        "city_name = 'Florianopolis, SC'\n",
        "\n",
        "geolocator = Nominatim(user_agent=\"foursquare_explorer\")\n",
        "location = geolocator.geocode(city_name)\n",
        "latitude = location.latitude\n",
        "longitude = location.longitude\n",
        "print('The geograpical coordinate of Florianopolis are {}, {}.'.format(latitude, longitude))"
      ],
      "execution_count": 123,
      "outputs": [
        {
          "output_type": "stream",
          "text": [
            "The geograpical coordinate of Florianopolis are -27.5973002, -48.5496098.\n"
          ],
          "name": "stdout"
        }
      ]
    },
    {
      "cell_type": "markdown",
      "metadata": {
        "id": "MjN_-gP5XAl2",
        "colab_type": "text"
      },
      "source": [
        "#### Create a map of the city"
      ]
    },
    {
      "cell_type": "code",
      "metadata": {
        "id": "0yJEjzTt77Zm",
        "colab_type": "code",
        "outputId": "f2bb7ffe-f50e-4747-e25f-7a6a81470019",
        "colab": {
          "base_uri": "https://localhost:8080/",
          "height": 1000
        }
      },
      "source": [
        "# create map using latitude and longitude values\n",
        "city_map = folium.Map(location=[latitude, longitude], zoom_start=11)\n",
        "city_map"
      ],
      "execution_count": 124,
      "outputs": [
        {
          "output_type": "execute_result",
          "data": {
            "text/html": [
              "<div style=\"width:100%;\"><div style=\"position:relative;width:100%;height:0;padding-bottom:60%;\"><iframe src=\"data:text/html;charset=utf-8;base64,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\" style=\"position:absolute;width:100%;height:100%;left:0;top:0;border:none !important;\" allowfullscreen webkitallowfullscreen mozallowfullscreen></iframe></div></div>"
            ],
            "text/plain": [
              "<folium.folium.Map at 0x7f83d39b4d68>"
            ]
          },
          "metadata": {
            "tags": []
          },
          "execution_count": 124
        }
      ]
    },
    {
      "cell_type": "markdown",
      "metadata": {
        "id": "4oSnk14Lwatl",
        "colab_type": "text"
      },
      "source": [
        "#### Preparing the dataframe structure"
      ]
    },
    {
      "cell_type": "markdown",
      "metadata": {
        "id": "js3KAisjXAmB",
        "colab_type": "text"
      },
      "source": [
        "Let's get the list of Neighborhoods from wikipedia."
      ]
    },
    {
      "cell_type": "code",
      "metadata": {
        "id": "rJPSDDtYrd00",
        "colab_type": "code",
        "outputId": "7d506943-046c-4675-da59-556823ee6b6f",
        "colab": {
          "base_uri": "https://localhost:8080/",
          "height": 136
        }
      },
      "source": [
        "!pip install wikipedia\n",
        "\n",
        "import wikipedia\n",
        "import requests\n",
        "from bs4 import BeautifulSoup as bs\n",
        "import time\n",
        "import numpy as np\n",
        "import pandas as pd"
      ],
      "execution_count": 125,
      "outputs": [
        {
          "output_type": "stream",
          "text": [
            "Requirement already satisfied: wikipedia in /usr/local/lib/python3.6/dist-packages (1.4.0)\n",
            "Requirement already satisfied: beautifulsoup4 in /usr/local/lib/python3.6/dist-packages (from wikipedia) (4.6.3)\n",
            "Requirement already satisfied: requests<3.0.0,>=2.0.0 in /usr/local/lib/python3.6/dist-packages (from wikipedia) (2.21.0)\n",
            "Requirement already satisfied: idna<2.9,>=2.5 in /usr/local/lib/python3.6/dist-packages (from requests<3.0.0,>=2.0.0->wikipedia) (2.8)\n",
            "Requirement already satisfied: certifi>=2017.4.17 in /usr/local/lib/python3.6/dist-packages (from requests<3.0.0,>=2.0.0->wikipedia) (2019.9.11)\n",
            "Requirement already satisfied: chardet<3.1.0,>=3.0.2 in /usr/local/lib/python3.6/dist-packages (from requests<3.0.0,>=2.0.0->wikipedia) (3.0.4)\n",
            "Requirement already satisfied: urllib3<1.25,>=1.21.1 in /usr/local/lib/python3.6/dist-packages (from requests<3.0.0,>=2.0.0->wikipedia) (1.24.3)\n"
          ],
          "name": "stdout"
        }
      ]
    },
    {
      "cell_type": "code",
      "metadata": {
        "id": "IHrAJMsTrrGy",
        "colab_type": "code",
        "outputId": "167b9cb1-580c-4e57-b723-dc7381218e38",
        "colab": {
          "base_uri": "https://localhost:8080/",
          "height": 1000
        }
      },
      "source": [
        "wiki = requests.get('https://pt.wikipedia.org/wiki/Lista_de_distritos_e_bairros_de_Florian%C3%B3polis')\n",
        "soup = bs(wiki.text, 'lxml') \n",
        "table = soup.findAll(\"table\",class_=\"wikitable\")[1]\n",
        "neighborhood_names = []\n",
        "for items in table.find_all(\"tr\")[:-1]:\n",
        "    data = [' '.join(item.text.split()) for item in items.find_all(['th','td'])]\n",
        "    neighborhood_names.append(data[1])\n",
        "\n",
        "neighborhood_names.remove(neighborhood_names[0])\n",
        "neighborhood_names"
      ],
      "execution_count": 126,
      "outputs": [
        {
          "output_type": "execute_result",
          "data": {
            "text/plain": [
              "['Centro',\n",
              " 'Capoeiras',\n",
              " 'Trindade',\n",
              " 'Agronômica',\n",
              " 'Saco dos Limões',\n",
              " 'Coqueiros',\n",
              " 'Monte Cristo',\n",
              " 'Jardim Atlântico',\n",
              " 'Itacorubi',\n",
              " 'Costeira do Pirajubaé',\n",
              " 'Capivari',\n",
              " 'Tapera da Base',\n",
              " 'Estreito',\n",
              " 'Monte Verde',\n",
              " 'Balneário',\n",
              " 'São João do Rio Vermelho',\n",
              " 'Canto',\n",
              " 'Abraão',\n",
              " 'Santa Mônica',\n",
              " 'Lagoa',\n",
              " 'Saco Grande',\n",
              " 'Córrego Grande',\n",
              " 'Canasvieiras',\n",
              " 'Pantanal',\n",
              " 'Coloninha',\n",
              " 'Barra da Lagoa',\n",
              " 'Carianos',\n",
              " 'José Mendes',\n",
              " 'Ingleses Centro',\n",
              " 'João Paulo',\n",
              " 'Campeche Leste',\n",
              " 'Campeche Sul',\n",
              " 'Rio Tavares Central',\n",
              " 'Santinho',\n",
              " 'Ponta das Canas',\n",
              " 'Vargem do Bom Jesus',\n",
              " 'Armação',\n",
              " 'Cachoeira do Bom Jesus Leste',\n",
              " 'Pântano do Sul',\n",
              " 'Itaguaçu',\n",
              " 'Jurere Leste',\n",
              " 'Campeche Norte',\n",
              " 'Vargem Grande',\n",
              " 'Campeche Central',\n",
              " 'Ressacada',\n",
              " 'Morro das Pedras',\n",
              " 'Alto Ribeirão Leste',\n",
              " 'Alto Ribeirão',\n",
              " 'Ribeirão da Ilha',\n",
              " 'Santo Antônio',\n",
              " 'Sambaqui',\n",
              " 'Ingleses Sul',\n",
              " 'Bom Abrigo',\n",
              " 'Jurere Oeste',\n",
              " 'Porto da Lagoa',\n",
              " 'Cachoeira do Bom Jesus',\n",
              " 'Rio Tavares do Norte',\n",
              " 'Pedregal',\n",
              " 'Ratones',\n",
              " 'Canto da Lagoa',\n",
              " 'Retiro',\n",
              " 'Cacupé',\n",
              " 'Lagoa Pequena',\n",
              " 'Barra do Sambaqui',\n",
              " 'Caiacanga',\n",
              " 'Lagoinha do Norte',\n",
              " 'Base Aérea',\n",
              " 'Pedrita',\n",
              " 'Açores',\n",
              " 'Costeira do Ribeirão',\n",
              " 'Moenda',\n",
              " 'Tapera',\n",
              " 'Daniela',\n",
              " 'Vargem Pequena',\n",
              " 'Canto dos Araçás',\n",
              " 'Recanto dos Açores',\n",
              " 'Canto do Lamim',\n",
              " 'Vargem de Fora',\n",
              " 'Dunas da Lagoa',\n",
              " 'Autódromo',\n",
              " 'Forte',\n",
              " 'Ingleses Norte',\n",
              " 'Caieira',\n",
              " 'Praia Brava']"
            ]
          },
          "metadata": {
            "tags": []
          },
          "execution_count": 126
        }
      ]
    },
    {
      "cell_type": "markdown",
      "metadata": {
        "id": "ZbZfnunuirGR",
        "colab_type": "text"
      },
      "source": [
        "#### And now let's use foursquare API to find the location of each neighborhood"
      ]
    },
    {
      "cell_type": "code",
      "metadata": {
        "id": "_a3OSEnLvUkW",
        "colab_type": "code",
        "outputId": "8f4b6b46-41ae-43a9-dc4f-14a62b6da652",
        "colab": {
          "base_uri": "https://localhost:8080/",
          "height": 49
        }
      },
      "source": [
        "#preparing neighborhoods dataframe\n",
        "\n",
        "column_names = ['Name', 'Latitude', 'Longitude'] \n",
        "neighborhoods = pd.DataFrame(columns=column_names)\n",
        "neighborhoods"
      ],
      "execution_count": 127,
      "outputs": [
        {
          "output_type": "execute_result",
          "data": {
            "text/html": [
              "<div>\n",
              "<style scoped>\n",
              "    .dataframe tbody tr th:only-of-type {\n",
              "        vertical-align: middle;\n",
              "    }\n",
              "\n",
              "    .dataframe tbody tr th {\n",
              "        vertical-align: top;\n",
              "    }\n",
              "\n",
              "    .dataframe thead th {\n",
              "        text-align: right;\n",
              "    }\n",
              "</style>\n",
              "<table border=\"1\" class=\"dataframe\">\n",
              "  <thead>\n",
              "    <tr style=\"text-align: right;\">\n",
              "      <th></th>\n",
              "      <th>Name</th>\n",
              "      <th>Latitude</th>\n",
              "      <th>Longitude</th>\n",
              "    </tr>\n",
              "  </thead>\n",
              "  <tbody>\n",
              "  </tbody>\n",
              "</table>\n",
              "</div>"
            ],
            "text/plain": [
              "Empty DataFrame\n",
              "Columns: [Name, Latitude, Longitude]\n",
              "Index: []"
            ]
          },
          "metadata": {
            "tags": []
          },
          "execution_count": 127
        }
      ]
    },
    {
      "cell_type": "code",
      "metadata": {
        "jupyter": {
          "outputs_hidden": false
        },
        "id": "eRz25R6uXAmC",
        "colab_type": "code",
        "outputId": "c9dca48f-2da8-4415-819b-a9d20058681e",
        "colab": {
          "base_uri": "https://localhost:8080/",
          "height": 51
        }
      },
      "source": [
        "print(\"Checking for neighborhoods latitude/longitude on foursquare API...\")\n",
        "\n",
        "for name in neighborhood_names:\n",
        "  geolocator = Nominatim(user_agent=\"foursquare_explorer\")\n",
        "  location = geolocator.geocode(name+\",\"+city_name)\n",
        "  #print(location)\n",
        "  if location is not None:\n",
        "    latitude = location.latitude\n",
        "    longitude = location.longitude\n",
        "    #print('The geograpical coordinate of {} are {}, {}.'.format(name, latitude, longitude))\n",
        "    neighborhoods = neighborhoods.append({'Name': name,\n",
        "                                            'Latitude':latitude,\n",
        "                                            'Longitude':longitude}, ignore_index=True)\n",
        "  \n",
        "print(\"Done!\")"
      ],
      "execution_count": 128,
      "outputs": [
        {
          "output_type": "stream",
          "text": [
            "Checking for neighborhoods latitude/longitude on foursquare API...\n",
            "Done!\n"
          ],
          "name": "stdout"
        }
      ]
    },
    {
      "cell_type": "markdown",
      "metadata": {
        "id": "EFI2DYwY1jmJ",
        "colab_type": "text"
      },
      "source": [
        "### Placing neighborhoods on the map."
      ]
    },
    {
      "cell_type": "markdown",
      "metadata": {
        "id": "pr0zPWyfxhqN",
        "colab_type": "text"
      },
      "source": [
        "Now we have the coordinates of the neighborhoods:"
      ]
    },
    {
      "cell_type": "code",
      "metadata": {
        "id": "5cULEpYO1pxV",
        "colab_type": "code",
        "outputId": "a0080a5d-2658-43f8-d79d-70cdf5b89b2c",
        "colab": {
          "base_uri": "https://localhost:8080/",
          "height": 204
        }
      },
      "source": [
        "neighborhoods.head()"
      ],
      "execution_count": 129,
      "outputs": [
        {
          "output_type": "execute_result",
          "data": {
            "text/html": [
              "<div>\n",
              "<style scoped>\n",
              "    .dataframe tbody tr th:only-of-type {\n",
              "        vertical-align: middle;\n",
              "    }\n",
              "\n",
              "    .dataframe tbody tr th {\n",
              "        vertical-align: top;\n",
              "    }\n",
              "\n",
              "    .dataframe thead th {\n",
              "        text-align: right;\n",
              "    }\n",
              "</style>\n",
              "<table border=\"1\" class=\"dataframe\">\n",
              "  <thead>\n",
              "    <tr style=\"text-align: right;\">\n",
              "      <th></th>\n",
              "      <th>Name</th>\n",
              "      <th>Latitude</th>\n",
              "      <th>Longitude</th>\n",
              "    </tr>\n",
              "  </thead>\n",
              "  <tbody>\n",
              "    <tr>\n",
              "      <th>0</th>\n",
              "      <td>Centro</td>\n",
              "      <td>-27.592925</td>\n",
              "      <td>-48.550060</td>\n",
              "    </tr>\n",
              "    <tr>\n",
              "      <th>1</th>\n",
              "      <td>Capoeiras</td>\n",
              "      <td>-27.597333</td>\n",
              "      <td>-48.590008</td>\n",
              "    </tr>\n",
              "    <tr>\n",
              "      <th>2</th>\n",
              "      <td>Trindade</td>\n",
              "      <td>-27.589383</td>\n",
              "      <td>-48.522400</td>\n",
              "    </tr>\n",
              "    <tr>\n",
              "      <th>3</th>\n",
              "      <td>Agronômica</td>\n",
              "      <td>-27.578145</td>\n",
              "      <td>-48.535717</td>\n",
              "    </tr>\n",
              "    <tr>\n",
              "      <th>4</th>\n",
              "      <td>Saco dos Limões</td>\n",
              "      <td>-27.608268</td>\n",
              "      <td>-48.534343</td>\n",
              "    </tr>\n",
              "  </tbody>\n",
              "</table>\n",
              "</div>"
            ],
            "text/plain": [
              "              Name   Latitude  Longitude\n",
              "0  Centro          -27.592925 -48.550060\n",
              "1  Capoeiras       -27.597333 -48.590008\n",
              "2  Trindade        -27.589383 -48.522400\n",
              "3  Agronômica      -27.578145 -48.535717\n",
              "4  Saco dos Limões -27.608268 -48.534343"
            ]
          },
          "metadata": {
            "tags": []
          },
          "execution_count": 129
        }
      ]
    },
    {
      "cell_type": "code",
      "metadata": {
        "id": "co6lq9_V-fWE",
        "colab_type": "code",
        "outputId": "d0925473-3ae4-45e4-8974-9483d1b0183c",
        "colab": {
          "base_uri": "https://localhost:8080/",
          "height": 1000
        }
      },
      "source": [
        "# add markers to map\n",
        "for lat, lng, label in zip(neighborhoods['Latitude'], neighborhoods['Longitude'], neighborhoods['Name']):\n",
        "    label = folium.Popup(label, parse_html=True)\n",
        "    folium.CircleMarker(\n",
        "        [lat, lng],\n",
        "        radius=5,\n",
        "        popup=label,\n",
        "        color='red',\n",
        "        fill=True,\n",
        "        fill_color='#3186cc',\n",
        "        fill_opacity=0.7,\n",
        "        parse_html=False).add_to(city_map)  \n",
        "    \n",
        "city_map"
      ],
      "execution_count": 130,
      "outputs": [
        {
          "output_type": "execute_result",
          "data": {
            "text/html": [
              "<div style=\"width:100%;\"><div style=\"position:relative;width:100%;height:0;padding-bottom:60%;\"><iframe src=\"data:text/html;charset=utf-8;base64,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\" style=\"position:absolute;width:100%;height:100%;left:0;top:0;border:none !important;\" allowfullscreen webkitallowfullscreen mozallowfullscreen></iframe></div></div>"
            ],
            "text/plain": [
              "<folium.folium.Map at 0x7f83d39b4d68>"
            ]
          },
          "metadata": {
            "tags": []
          },
          "execution_count": 130
        }
      ]
    },
    {
      "cell_type": "markdown",
      "metadata": {
        "id": "P91oRBP1kCfz",
        "colab_type": "text"
      },
      "source": [
        "### Finding sun, sand and nice waves"
      ]
    },
    {
      "cell_type": "markdown",
      "metadata": {
        "id": "8Nv16X-5k6SI",
        "colab_type": "text"
      },
      "source": [
        "The island is packed with adventures so expect to experience something new, and to have lots of fun. The east coast of the island is a surfing paradise, so we will use this as an important fact to consider while choosing a place to live."
      ]
    },
    {
      "cell_type": "code",
      "metadata": {
        "id": "z9RgELSViLFg",
        "colab_type": "code",
        "outputId": "3e80f9d3-d4bd-4d8f-eba4-33bac21107e5",
        "colab": {
          "base_uri": "https://localhost:8080/",
          "height": 782
        }
      },
      "source": [
        "#get list of beaches from wikipedia\n",
        "wiki = requests.get('https://pt.wikipedia.org/wiki/Lista_de_praias_de_Florianópolis')\n",
        "soup = bs(wiki.text, 'lxml') \n",
        "table = soup.findAll(\"li\")\n",
        "\n",
        "#filtering\n",
        "beach_names=[]\n",
        "for item in table:\n",
        "      a = item.find(\"a\")\n",
        "      if a is not None:\n",
        "        title = a.get('title')\n",
        "        if title is not None and title.find(\"Prai\") >= 0:\n",
        "          if title.endswith(' (página não existe)'):\n",
        "              newTitle = title[:-20]\n",
        "              beach_names.append(newTitle)\n",
        "          else:\n",
        "              beach_names.append(title)\n",
        "\n",
        "#removing the last unecessary item which is still on the list\n",
        "del beach_names[-1]\n",
        "beach_names"
      ],
      "execution_count": 131,
      "outputs": [
        {
          "output_type": "execute_result",
          "data": {
            "text/plain": [
              "['Praia de Caieira da Barra do Sul',\n",
              " 'Praia do Ribeirão da Ilha',\n",
              " 'Praia da Tapera',\n",
              " 'Praia de Sambaqui',\n",
              " 'Praia de Santo Antônio de Lisboa',\n",
              " 'Praia do Cacupé',\n",
              " 'Praia do Santinho',\n",
              " 'Praia dos Ingleses',\n",
              " 'Praia da Lagoinha',\n",
              " 'Praia Brava (Florianópolis)',\n",
              " 'Praia da Ponta das Canas',\n",
              " 'Praia Cachoeira do Bom Jesus',\n",
              " 'Praia de Canasvieiras',\n",
              " 'Praia de Canajurê',\n",
              " 'Praia de Jurerê',\n",
              " 'Praia do Forte (Florianópolis)',\n",
              " 'Praia da Daniela',\n",
              " 'Praia do Pontal',\n",
              " 'Praia da Joaquina',\n",
              " 'Praia do Gravatá',\n",
              " 'Praia Mole',\n",
              " 'Praia da Galheta',\n",
              " 'Prainha (Barra da Lagoa)',\n",
              " 'Praia da Barra da Lagoa',\n",
              " 'Praia da Lagoa da Conceição',\n",
              " 'Praia de Moçambique',\n",
              " 'Praia do Campeche',\n",
              " 'Praia da Ilha do Campeche',\n",
              " 'Praia do Morro das Pedras',\n",
              " 'Praia do Caldeirão',\n",
              " 'Praia da Armação do Pântano do Sul',\n",
              " 'Praia do Matadeiro',\n",
              " 'Praia da Lagoinha do Leste',\n",
              " 'Praia do Pântano do Sul',\n",
              " 'Praia dos Açores',\n",
              " 'Praia da Solidão',\n",
              " 'Praia do Saquinho',\n",
              " 'Praia de Naufragados',\n",
              " 'Praia de Bom Abrigo',\n",
              " 'Praia de Coqueiros (Florianópolis)',\n",
              " 'Praia de Itaguaçu',\n",
              " 'Praia do Matadouro (Continente Florianópolis)',\n",
              " 'Praia das Palmeiras',\n",
              " 'Praia do Meio',\n",
              " 'Praia do Balneário (Florianópolis)']"
            ]
          },
          "metadata": {
            "tags": []
          },
          "execution_count": 131
        }
      ]
    },
    {
      "cell_type": "code",
      "metadata": {
        "id": "PqiEPaCk2r80",
        "colab_type": "code",
        "outputId": "487e4184-eada-4b07-db4e-53afebe3bcc9",
        "colab": {
          "base_uri": "https://localhost:8080/",
          "height": 49
        }
      },
      "source": [
        "#beach dataframe preparation\n",
        "beaches = pd.DataFrame(columns=['Beach', 'Latitude', 'Longitude'])\n",
        "beaches"
      ],
      "execution_count": 132,
      "outputs": [
        {
          "output_type": "execute_result",
          "data": {
            "text/html": [
              "<div>\n",
              "<style scoped>\n",
              "    .dataframe tbody tr th:only-of-type {\n",
              "        vertical-align: middle;\n",
              "    }\n",
              "\n",
              "    .dataframe tbody tr th {\n",
              "        vertical-align: top;\n",
              "    }\n",
              "\n",
              "    .dataframe thead th {\n",
              "        text-align: right;\n",
              "    }\n",
              "</style>\n",
              "<table border=\"1\" class=\"dataframe\">\n",
              "  <thead>\n",
              "    <tr style=\"text-align: right;\">\n",
              "      <th></th>\n",
              "      <th>Beach</th>\n",
              "      <th>Latitude</th>\n",
              "      <th>Longitude</th>\n",
              "    </tr>\n",
              "  </thead>\n",
              "  <tbody>\n",
              "  </tbody>\n",
              "</table>\n",
              "</div>"
            ],
            "text/plain": [
              "Empty DataFrame\n",
              "Columns: [Beach, Latitude, Longitude]\n",
              "Index: []"
            ]
          },
          "metadata": {
            "tags": []
          },
          "execution_count": 132
        }
      ]
    },
    {
      "cell_type": "markdown",
      "metadata": {
        "id": "GIxiyuOzlDZE",
        "colab_type": "text"
      },
      "source": [
        "Finding them on the map"
      ]
    },
    {
      "cell_type": "code",
      "metadata": {
        "id": "ZG7f7mQp287h",
        "colab_type": "code",
        "outputId": "70903689-dfc2-4759-c396-ba085844c894",
        "colab": {
          "base_uri": "https://localhost:8080/",
          "height": 51
        }
      },
      "source": [
        "print(\"Checking for beaches latitude/longitude on foursquare API...\")\n",
        "\n",
        "for name in beach_names:\n",
        "  geolocator = Nominatim(user_agent=\"foursquare_explorer\")\n",
        "  location = geolocator.geocode(name+\", \"+city_name)\n",
        "  #print(location)\n",
        "  if location is not None:\n",
        "    latitude = location.latitude\n",
        "    longitude = location.longitude\n",
        "#     print('The geograpical coordinate of {} are {}, {}.'.format(name, latitude, longitude))\n",
        "    beaches = beaches.append({'Beach': name,\n",
        "                                            'Latitude':latitude,\n",
        "                                            'Longitude':longitude}, ignore_index=True)\n",
        "  \n",
        "print(\"Done!\")"
      ],
      "execution_count": 133,
      "outputs": [
        {
          "output_type": "stream",
          "text": [
            "Checking for beaches latitude/longitude on foursquare API...\n",
            "Done!\n"
          ],
          "name": "stdout"
        }
      ]
    },
    {
      "cell_type": "markdown",
      "metadata": {
        "id": "OYBnFbTUXAmF",
        "colab_type": "text"
      },
      "source": [
        "And now we can see which neighborhood has beaches!"
      ]
    },
    {
      "cell_type": "code",
      "metadata": {
        "jupyter": {
          "outputs_hidden": false
        },
        "id": "9dnh9y8cXAmF",
        "colab_type": "code",
        "outputId": "54caced1-23e2-4bd0-d94e-b06c56dafdc2",
        "colab": {
          "base_uri": "https://localhost:8080/",
          "height": 1000
        }
      },
      "source": [
        "# add markers to map\n",
        "for lat, lng, label in zip(beaches['Latitude'], beaches['Longitude'], beaches['Beach']):\n",
        "    label = folium.Popup(label, parse_html=True)\n",
        "    folium.CircleMarker(\n",
        "        [lat, lng],\n",
        "        radius=5,\n",
        "        popup=label,\n",
        "        color='blue',\n",
        "        fill=True,\n",
        "        fill_color='#3186cc',\n",
        "        fill_opacity=0.7,\n",
        "        parse_html=False).add_to(city_map)  \n",
        "    \n",
        "city_map"
      ],
      "execution_count": 134,
      "outputs": [
        {
          "output_type": "execute_result",
          "data": {
            "text/html": [
              "<div style=\"width:100%;\"><div style=\"position:relative;width:100%;height:0;padding-bottom:60%;\"><iframe src=\"data:text/html;charset=utf-8;base64,PCFET0NUWVBFIGh0bWw+CjxoZWFkPiAgICAKICAgIDxtZXRhIGh0dHAtZXF1aXY9ImNvbnRlbnQtdHlwZSIgY29udGVudD0idGV4dC9odG1sOyBjaGFyc2V0PVVURi04IiAvPgogICAgPHNjcmlwdD5MX1BSRUZFUl9DQU5WQVM9ZmFsc2U7IExfTk9fVE9VQ0g9ZmFsc2U7IExfRElTQUJMRV8zRD1mYWxzZTs8L3NjcmlwdD4KICAgIDxzY3JpcHQgc3JjPSJodHRwczovL2Nkbi5qc2RlbGl2ci5uZXQvbnBtL2xlYWZsZXRAMS40LjAvZGlzdC9sZWFmbGV0LmpzIj48L3NjcmlwdD4KICAgIDxzY3JpcHQgc3JjPSJodHRwczovL2NvZGUuanF1ZXJ5LmNvbS9qcXVlcnktMS4xMi40Lm1pbi5qcyI+PC9zY3JpcHQ+CiAgICA8c2NyaXB0IHNyYz0iaHR0cHM6Ly9tYXhjZG4uYm9vdHN0cmFwY2RuLmNvbS9ib290c3RyYXAvMy4yLjAvanMvYm9vdHN0cmFwLm1pbi5qcyI+PC9zY3JpcHQ+CiAgICA8c2NyaXB0IHNyYz0iaHR0cHM6Ly9jZG5qcy5jbG91ZGZsYXJlLmNvbS9hamF4L2xpYnMvTGVhZmxldC5hd2Vzb21lLW1hcmtlcnMvMi4wLjIvbGVhZmxldC5hd2Vzb21lLW1hcmtlcnMuanMiPjwvc2NyaXB0PgogICAgPGxpbmsgcmVsPSJzdHlsZXNoZWV0IiBocmVmPSJodHRwczovL2Nkbi5qc2RlbGl2ci5uZXQvbnBtL2xlYWZsZXRAMS40LjAvZGlzdC9sZWFmbGV0LmNzcyIvPgogICAgPGxpbmsgcmVsPSJzdHlsZXNoZWV0IiBocmVmPSJodHRwczovL21heGNkbi5ib290c3RyYXBjZG4uY29tL2Jvb3RzdHJhcC8zLjIuMC9jc3MvYm9vdHN0cmFwLm1pbi5jc3MiLz4KICAgIDxsaW5rIHJlbD0ic3R5bGVzaGVldCIgaHJlZj0iaHR0cHM6Ly9tYXhjZG4uYm9vdHN0cmFwY2RuLmNvbS9ib290c3RyYXAvMy4yLjAvY3NzL2Jvb3RzdHJhcC10aGVtZS5taW4uY3NzIi8+CiAgICA8bGluayByZWw9InN0eWxlc2hlZXQiIGhyZWY9Imh0dHBzOi8vbWF4Y2RuLmJvb3RzdHJhcGNkbi5jb20vZm9udC1hd2Vzb21lLzQuNi4zL2Nzcy9mb250LWF3ZXNvbWUubWluLmNzcyIvPgogICAgPGxpbmsgcmVsPSJzdHlsZXNoZWV0IiBocmVmPSJodHRwczovL2NkbmpzLmNsb3VkZmxhcmUuY29tL2FqYXgvbGlicy9MZWFmbGV0LmF3ZXNvbWUtbWFya2Vycy8yLjAuMi9sZWFmbGV0LmF3ZXNvbWUtbWFya2Vycy5jc3MiLz4KICAgIDxsaW5rIHJlbD0ic3R5bGVzaGVldCIgaHJlZj0iaHR0cHM6Ly9yYXdjZG4uZ2l0aGFjay5jb20vcHl0aG9uLXZpc3VhbGl6YXRpb24vZm9saXVtL21hc3Rlci9mb2xpdW0vdGVtcGxhdGVzL2xlYWZsZXQuYXdlc29tZS5yb3RhdGUuY3NzIi8+CiAgICA8c3R5bGU+aHRtbCwgYm9keSB7d2lkdGg6IDEwMCU7aGVpZ2h0OiAxMDAlO21hcmdpbjogMDtwYWRkaW5nOiAwO308L3N0eWxlPgogICAgPHN0eWxlPiNtYXAge3Bvc2l0aW9uOmFic29sdXRlO3RvcDowO2JvdHRvbTowO3JpZ2h0OjA7bGVmdDowO308L3N0eWxlPgogICAgCiAgICA8bWV0YSBuYW1lPSJ2aWV3cG9ydCIgY29udGVudD0id2lkdGg9ZGV2aWNlLXdpZHRoLAogICAgICAgIGluaXRpYWwtc2NhbGU9MS4wLCBtYXhpbXVtLXNjYWxlPTEuMCwgdXNlci1zY2FsYWJsZT1ubyIgLz4KICAgIDxzdHlsZT4jbWFwXzQzZmJlOTcyZTk5ZDQxNWU4YzczMjlmNDU5Y2E4MjQxIHsKICAgICAgICBwb3NpdGlvbjogcmVsYXRpdmU7CiAgICAgICAgd2lkdGg6IDEwMC4wJTsKICAgICAgICBoZWlnaHQ6IDEwMC4wJTsKICAgICAgICBsZWZ0OiAwLjAlOwogICAgICAgIHRvcDogMC4wJTsKICAgICAgICB9CiAgICA8L3N0eWxlPgo8L2hlYWQ+Cjxib2R5PiAgICAKICAgIAogICAgPGRpdiBjbGFzcz0iZm9saXVtLW1hcCIgaWQ9Im1hcF80M2ZiZTk3MmU5OWQ0MTVlOGM3MzI5ZjQ1OWNhODI0MSIgPjwvZGl2Pgo8L2JvZHk+CjxzY3JpcHQ+ICAgIAogICAgCiAgICAKICAgICAgICB2YXIgYm91bmRzID0gbnVsbDsKICAgIAoKICAgIHZhciBtYXBfNDNmYmU5NzJlOTlkNDE1ZThjNzMyOWY0NTljYTgyNDEgPSBMLm1hcCgKICAgICAgICAnbWFwXzQzZmJlOTcyZTk5ZDQxNWU4YzczMjlmNDU5Y2E4MjQxJywgewogICAgICAgIGNlbnRlcjogWy0yNy41OTczMDAyLCAtNDguNTQ5NjA5OF0sCiAgICAgICAgem9vbTogMTEsCiAgICAgICAgbWF4Qm91bmRzOiBib3VuZHMsCiAgICAgICAgbGF5ZXJzOiBbXSwKICAgICAgICB3b3JsZENvcHlKdW1wOiBmYWxzZSwKICAgICAgICBjcnM6IEwuQ1JTLkVQU0czODU3LAogICAgICAgIHpvb21Db250cm9sOiB0cnVlLAogICAgICAgIH0pOwoKCiAgICAKICAgIHZhciB0aWxlX2xheWVyXzIwZTIxNTIxMDY3NTRjNTViM2JjYzE0ZDEzMzUyNWIxID0gTC50aWxlTGF5ZXIoCiAgICAgICAgJ2h0dHBzOi8ve3N9LnRpbGUub3BlbnN0cmVldG1hcC5vcmcve3p9L3t4fS97eX0ucG5nJywKICAgICAgICB7CiAgICAgICAgImF0dHJpYnV0aW9uIjogbnVsbCwKICAgICAgICAiZGV0ZWN0UmV0aW5hIjogZmFsc2UsCiAgICAgICAgIm1heE5hdGl2ZVpvb20iOiAxOCwKICAgICAgICAibWF4Wm9vbSI6IDE4LAogICAgICAgICJtaW5ab29tIjogMCwKICAgICAgICAibm9XcmFwIjogZmFsc2UsCiAgICAgICAgIm9wYWNpdHkiOiAxLAogICAgICAgICJzdWJkb21haW5zIjogImFiYyIsCiAgICAgICAgInRtcyI6IGZhbHNlCn0pLmFkZFRvKG1hcF80M2ZiZTk3MmU5OWQ0MTVlOGM3MzI5ZjQ1OWNhODI0MSk7CiAgICAKICAgICAgICAgICAgdmFyIGNpcmNsZV9tYXJrZXJfOTcwNjBiYmQzNWExNGFiN2EzZTZhNDJkOWQ1ZGFhZDQgPSBMLmNpcmNsZU1hcmtlcigKICAgICAgICAgICAgICAgIFstMjcuNTkyOTI1MywgLTQ4LjU1MDA1OTVdLAogICAgICAgICAgICAgICAgewogICJidWJibGluZ01vdXNlRXZlbnRzIjogdHJ1ZSwKICAiY29sb3IiOiAicmVkIiwKICAiZGFzaEFycmF5IjogbnVsbCwKICAiZGFzaE9mZnNldCI6IG51bGwsCiAgImZpbGwiOiB0cnVlLAogICJmaWxsQ29sb3IiOiAiIzMxODZjYyIsCiAgImZpbGxPcGFjaXR5IjogMC43LAogICJmaWxsUnVsZSI6ICJldmVub2RkIiwKICAibGluZUNhcCI6ICJyb3VuZCIsCiAgImxpbmVKb2luIjogInJvdW5kIiwKICAib3BhY2l0eSI6IDEuMCwKICAicmFkaXVzIjogNSwKICAic3Ryb2tlIjogdHJ1ZSwKICAid2VpZ2h0IjogMwp9CiAgICAgICAgICAgICAgICApCiAgICAgICAgICAgICAgICAuYWRkVG8obWFwXzQzZmJlOTcyZTk5ZDQxNWU4YzczMjlmNDU5Y2E4MjQxKTsKICAgICAgICAgICAgCiAgICAKICAgICAgICAgICAgdmFyIHBvcHVwXzAzZTVkOGUyNDkwZTQxNGI4NTVmNzllODRhNTEyMDFiID0gTC5wb3B1cCh7bWF4V2lkdGg6ICcxMDAlJwogICAgICAgICAgICAKICAgICAgICAgICAgfSk7CgogICAgICAgICAgICAKICAgICAgICAgICAgICAgIHZhciBodG1sXzEyZGZiODFmZjJjMzQ2NzU4Zjc5ODBiOWUyOTRlMjA3ID0gJChgPGRpdiBpZD0iaHRtbF8xMmRmYjgxZmYyYzM0Njc1OGY3OTgwYjllMjk0ZTIwNyIgc3R5bGU9IndpZHRoOiAxMDAuMCU7IGhlaWdodDogMTAwLjAlOyI+Q2VudHJvPC9kaXY+YClbMF07CiAgICAgICAgICAgICAgICBwb3B1cF8wM2U1ZDhlMjQ5MGU0MTRiODU1Zjc5ZTg0YTUxMjAxYi5zZXRDb250ZW50KGh0bWxfMTJkZmI4MWZmMmMzNDY3NThmNzk4MGI5ZTI5NGUyMDcpOwogICAgICAgICAgICAKCiAgICAgICAgICAgIGNpcmNsZV9tYXJrZXJfOTcwNjBiYmQzNWExNGFiN2EzZTZhNDJkOWQ1ZGFhZDQuYmluZFBvcHVwKHBvcHVwXzAzZTVkOGUyNDkwZTQxNGI4NTVmNzllODRhNTEyMDFiKQogICAgICAgICAgICA7CgogICAgICAgICAgICAKICAgICAgICAKICAgIAogICAgICAgICAgICB2YXIgY2lyY2xlX21hcmtlcl8wNTIwMTU4YzJkN2I0ZGMwOTcxYjIwMTU3OTYxNjA4NSA9IEwuY2lyY2xlTWFya2VyKAogICAgICAgICAgICAgICAgWy0yNy41OTczMzI5LCAtNDguNTkwMDA4NF0sCiAgICAgICAgICAgICAgICB7CiAgImJ1YmJsaW5nTW91c2VFdmVudHMiOiB0cnVlLAogICJjb2xvciI6ICJyZWQiLAogICJkYXNoQXJyYXkiOiBudWxsLAogICJkYXNoT2Zmc2V0IjogbnVsbCwKICAiZmlsbCI6IHRydWUsCiAgImZpbGxDb2xvciI6ICIjMzE4NmNjIiwKICAiZmlsbE9wYWNpdHkiOiAwLjcsCiAgImZpbGxSdWxlIjogImV2ZW5vZGQiLAogICJsaW5lQ2FwIjogInJvdW5kIiwKICAibGluZUpvaW4iOiAicm91bmQiLAogICJvcGFjaXR5IjogMS4wLAogICJyYWRpdXMiOiA1LAogICJzdHJva2UiOiB0cnVlLAogICJ3ZWlnaHQiOiAzCn0KICAgICAgICAgICAgICAgICkKICAgICAgICAgICAgICAgIC5hZGRUbyhtYXBfNDNmYmU5NzJlOTlkNDE1ZThjNzMyOWY0NTljYTgyNDEpOwogICAgICAgICAgICAKICAgIAogICAgICAgICAgICB2YXIgcG9wdXBfY2FkZjIyYTRhZTE2NDEwODgzM2RmYjdkMmRlNjZiMWYgPSBMLnBvcHVwKHttYXhXaWR0aDogJzEwMCUnCiAgICAgICAgICAgIAogICAgICAgICAgICB9KTsKCiAgICAgICAgICAgIAogICAgICAgICAgICAgICAgdmFyIGh0bWxfYmFkZmI4ZjMxODJkNDY5MWIxNTA5MmQ3MzBjOWViYTAgPSAkKGA8ZGl2IGlkPSJodG1sX2JhZGZiOGYzMTgyZDQ2OTFiMTUwOTJkNzMwYzllYmEwIiBzdHlsZT0id2lkdGg6IDEwMC4wJTsgaGVpZ2h0OiAxMDAuMCU7Ij5DYXBvZWlyYXM8L2Rpdj5gKVswXTsKICAgICAgICAgICAgICAgIHBvcHVwX2NhZGYyMmE0YWUxNjQxMDg4MzNkZmI3ZDJkZTY2YjFmLnNldENvbnRlbnQoaHRtbF9iYWRmYjhmMzE4MmQ0NjkxYjE1MDkyZDczMGM5ZWJhMCk7CiAgICAgICAgICAgIAoKICAgICAgICAgICAgY2lyY2xlX21hcmtlcl8wNTIwMTU4YzJkN2I0ZGMwOTcxYjIwMTU3OTYxNjA4NS5iaW5kUG9wdXAocG9wdXBfY2FkZjIyYTRhZTE2NDEwODgzM2RmYjdkMmRlNjZiMWYpCiAgICAgICAgICAgIDsKCiAgICAgICAgICAgIAogICAgICAgIAogICAgCiAgICAgICAgICAgIHZhciBjaXJjbGVfbWFya2VyX2RmNjQ2MDE4YWI1MzQ1NTE5N2JlYjQzNmE0ZGY2MWU1ID0gTC5jaXJjbGVNYXJrZXIoCiAgICAgICAgICAgICAgICBbLTI3LjU4OTM4MzQsIC00OC41MjI0MDA0XSwKICAgICAgICAgICAgICAgIHsKICAiYnViYmxpbmdNb3VzZUV2ZW50cyI6IHRydWUsCiAgImNvbG9yIjogInJlZCIsCiAgImRhc2hBcnJheSI6IG51bGwsCiAgImRhc2hPZmZzZXQiOiBudWxsLAogICJmaWxsIjogdHJ1ZSwKICAiZmlsbENvbG9yIjogIiMzMTg2Y2MiLAogICJmaWxsT3BhY2l0eSI6IDAuNywKICAiZmlsbFJ1bGUiOiAiZXZlbm9kZCIsCiAgImxpbmVDYXAiOiAicm91bmQiLAogICJsaW5lSm9pbiI6ICJyb3VuZCIsCiAgIm9wYWNpdHkiOiAxLjAsCiAgInJhZGl1cyI6IDUsCiAgInN0cm9rZSI6IHRydWUsCiAgIndlaWdodCI6IDMKfQogICAgICAgICAgICAgICAgKQogICAgICAgICAgICAgICAgLmFkZFRvKG1hcF80M2ZiZTk3MmU5OWQ0MTVlOGM3MzI5ZjQ1OWNhODI0MSk7CiAgICAgICAgICAgIAogICAgCiAgICAgICAgICAgIHZhciBwb3B1cF8xODViYjJhNDIzZWE0MzI2OGI3ZGQ3MWQ2NDQxYWM2NSA9IEwucG9wdXAoe21heFdpZHRoOiAnMTAwJScKICAgICAgICAgICAgCiAgICAgICAgICAgIH0pOwoKICAgICAgICAgICAgCiAgICAgICAgICAgICAgICB2YXIgaHRtbF9iNzIyOTE2ZjQ2YWM0OGY0YmUwZDllNDIxZWY4YTlmZSA9ICQoYDxkaXYgaWQ9Imh0bWxfYjcyMjkxNmY0NmFjNDhmNGJlMGQ5ZTQyMWVmOGE5ZmUiIHN0eWxlPSJ3aWR0aDogMTAwLjAlOyBoZWlnaHQ6IDEwMC4wJTsiPlRyaW5kYWRlPC9kaXY+YClbMF07CiAgICAgICAgICAgICAgICBwb3B1cF8xODViYjJhNDIzZWE0MzI2OGI3ZGQ3MWQ2NDQxYWM2NS5zZXRDb250ZW50KGh0bWxfYjcyMjkxNmY0NmFjNDhmNGJlMGQ5ZTQyMWVmOGE5ZmUpOwogICAgICAgICAgICAKCiAgICAgICAgICAgIGNpcmNsZV9tYXJrZXJfZGY2NDYwMThhYjUzNDU1MTk3YmViNDM2YTRkZjYxZTUuYmluZFBvcHVwKHBvcHVwXzE4NWJiMmE0MjNlYTQzMjY4YjdkZDcxZDY0NDFhYzY1KQogICAgICAgICAgICA7CgogICAgICAgICAgICAKICAgICAgICAKICAgIAogICAgICAgICAgICB2YXIgY2lyY2xlX21hcmtlcl85MWE3ODRlYjgyMDc0MGE5OWExYmYzOWVjZGZmYTViMSA9IEwuY2lyY2xlTWFya2VyKAogICAgICAgICAgICAgICAgWy0yNy41NzgxNDQ3LCAtNDguNTM1NzE2OF0sCiAgICAgICAgICAgICAgICB7CiAgImJ1YmJsaW5nTW91c2VFdmVudHMiOiB0cnVlLAogICJjb2xvciI6ICJyZWQiLAogICJkYXNoQXJyYXkiOiBudWxsLAogICJkYXNoT2Zmc2V0IjogbnVsbCwKICAiZmlsbCI6IHRydWUsCiAgImZpbGxDb2xvciI6ICIjMzE4NmNjIiwKICAiZmlsbE9wYWNpdHkiOiAwLjcsCiAgImZpbGxSdWxlIjogImV2ZW5vZGQiLAogICJsaW5lQ2FwIjogInJvdW5kIiwKICAibGluZUpvaW4iOiAicm91bmQiLAogICJvcGFjaXR5IjogMS4wLAogICJyYWRpdXMiOiA1LAogICJzdHJva2UiOiB0cnVlLAogICJ3ZWlnaHQiOiAzCn0KICAgICAgICAgICAgICAgICkKICAgICAgICAgICAgICAgIC5hZGRUbyhtYXBfNDNmYmU5NzJlOTlkNDE1ZThjNzMyOWY0NTljYTgyNDEpOwogICAgICAgICAgICAKICAgIAogICAgICAgICAgICB2YXIgcG9wdXBfYTRjNGQ0MjNiNzBkNDA5OWFmNjY1MDAwYjhmNDEzNGQgPSBMLnBvcHVwKHttYXhXaWR0aDogJzEwMCUnCiAgICAgICAgICAgIAogICAgICAgICAgICB9KTsKCiAgICAgICAgICAgIAogICAgICAgICAgICAgICAgdmFyIGh0bWxfZGFhZDY3ZDAzODk2NDNiYmJkZDZjNGU2ZDk3MGE2MjIgPSAkKGA8ZGl2IGlkPSJodG1sX2RhYWQ2N2QwMzg5NjQzYmJiZGQ2YzRlNmQ5NzBhNjIyIiBzdHlsZT0id2lkdGg6IDEwMC4wJTsgaGVpZ2h0OiAxMDAuMCU7Ij5BZ3JvbsO0bWljYTwvZGl2PmApWzBdOwogICAgICAgICAgICAgICAgcG9wdXBfYTRjNGQ0MjNiNzBkNDA5OWFmNjY1MDAwYjhmNDEzNGQuc2V0Q29udGVudChodG1sX2RhYWQ2N2QwMzg5NjQzYmJiZGQ2YzRlNmQ5NzBhNjIyKTsKICAgICAgICAgICAgCgogICAgICAgICAgICBjaXJjbGVfbWFya2VyXzkxYTc4NGViODIwNzQwYTk5YTFiZjM5ZWNkZmZhNWIxLmJpbmRQb3B1cChwb3B1cF9hNGM0ZDQyM2I3MGQ0MDk5YWY2NjUwMDBiOGY0MTM0ZCkKICAgICAgICAgICAgOwoKICAgICAgICAgICAgCiAgICAgICAgCiAgICAKICAgICAgICAgICAgdmFyIGNpcmNsZV9tYXJrZXJfNmRmZjk1OWYwNDQ5NDIxMThiYmQyZDM3ZDY2YjdjZWEgPSBMLmNpcmNsZU1hcmtlcigKICAgICAgICAgICAgICAgIFstMjcuNjA4MjY3NywgLTQ4LjUzNDM0MzVdLAogICAgICAgICAgICAgICAgewogICJidWJibGluZ01vdXNlRXZlbnRzIjogdHJ1ZSwKICAiY29sb3IiOiAicmVkIiwKICAiZGFzaEFycmF5IjogbnVsbCwKICAiZGFzaE9mZnNldCI6IG51bGwsCiAgImZpbGwiOiB0cnVlLAogICJmaWxsQ29sb3IiOiAiIzMxODZjYyIsCiAgImZpbGxPcGFjaXR5IjogMC43LAogICJmaWxsUnVsZSI6ICJldmVub2RkIiwKICAibGluZUNhcCI6ICJyb3VuZCIsCiAgImxpbmVKb2luIjogInJvdW5kIiwKICAib3BhY2l0eSI6IDEuMCwKICAicmFkaXVzIjogNSwKICAic3Ryb2tlIjogdHJ1ZSwKICAid2VpZ2h0IjogMwp9CiAgICAgICAgICAgICAgICApCiAgICAgICAgICAgICAgICAuYWRkVG8obWFwXzQzZmJlOTcyZTk5ZDQxNWU4YzczMjlmNDU5Y2E4MjQxKTsKICAgICAgICAgICAgCiAgICAKICAgICAgICAgICAgdmFyIHBvcHVwXzhjYTFlMjg1YzQ3YTRiYTI5MGZiZmVjYzk0MjNhOWEzID0gTC5wb3B1cCh7bWF4V2lkdGg6ICcxMDAlJwogICAgICAgICAgICAKICAgICAgICAgICAgfSk7CgogICAgICAgICAgICAKICAgICAgICAgICAgICAgIHZhciBodG1sXzY0M2U2ZjAxZDI2OTQyYTViOTIxZWI4ZDE5MThmOGIxID0gJChgPGRpdiBpZD0iaHRtbF82NDNlNmYwMWQyNjk0MmE1YjkyMWViOGQxOTE4ZjhiMSIgc3R5bGU9IndpZHRoOiAxMDAuMCU7IGhlaWdodDogMTAwLjAlOyI+U2FjbyBkb3MgTGltw7VlczwvZGl2PmApWzBdOwogICAgICAgICAgICAgICAgcG9wdXBfOGNhMWUyODVjNDdhNGJhMjkwZmJmZWNjOTQyM2E5YTMuc2V0Q29udGVudChodG1sXzY0M2U2ZjAxZDI2OTQyYTViOTIxZWI4ZDE5MThmOGIxKTsKICAgICAgICAgICAgCgogICAgICAgICAgICBjaXJjbGVfbWFya2VyXzZkZmY5NTlmMDQ0OTQyMTE4YmJkMmQzN2Q2NmI3Y2VhLmJpbmRQb3B1cChwb3B1cF84Y2ExZTI4NWM0N2E0YmEyOTBmYmZlY2M5NDIzYTlhMykKICAgICAgICAgICAgOwoKICAgICAgICAgICAgCiAgICAgICAgCiAgICAKICAgICAgICAgICAgdmFyIGNpcmNsZV9tYXJrZXJfYTdhMmEyY2U0NmY1NDVhZTg2MzRmMDI3ZjNlZDhkNjkgPSBMLmNpcmNsZU1hcmtlcigKICAgICAgICAgICAgICAgIFstMjcuNjExMjAxNiwgLTQ4LjU4MDg0MzldLAogICAgICAgICAgICAgICAgewogICJidWJibGluZ01vdXNlRXZlbnRzIjogdHJ1ZSwKICAiY29sb3IiOiAicmVkIiwKICAiZGFzaEFycmF5IjogbnVsbCwKICAiZGFzaE9mZnNldCI6IG51bGwsCiAgImZpbGwiOiB0cnVlLAogICJmaWxsQ29sb3IiOiAiIzMxODZjYyIsCiAgImZpbGxPcGFjaXR5IjogMC43LAogICJmaWxsUnVsZSI6ICJldmVub2RkIiwKICAibGluZUNhcCI6ICJyb3VuZCIsCiAgImxpbmVKb2luIjogInJvdW5kIiwKICAib3BhY2l0eSI6IDEuMCwKICAicmFkaXVzIjogNSwKICAic3Ryb2tlIjogdHJ1ZSwKICAid2VpZ2h0IjogMwp9CiAgICAgICAgICAgICAgICApCiAgICAgICAgICAgICAgICAuYWRkVG8obWFwXzQzZmJlOTcyZTk5ZDQxNWU4YzczMjlmNDU5Y2E4MjQxKTsKICAgICAgICAgICAgCiAgICAKICAgICAgICAgICAgdmFyIHBvcHVwX2E1MWI2ODJjNGNhZTRmNThiYWI3NWFkZTZlMDgwNDc5ID0gTC5wb3B1cCh7bWF4V2lkdGg6ICcxMDAlJwogICAgICAgICAgICAKICAgICAgICAgICAgfSk7CgogICAgICAgICAgICAKICAgICAgICAgICAgICAgIHZhciBodG1sX2JkMDEwZjBlMmZhNjRmZjhhZTI0ZmViM2FhYzZkODI3ID0gJChgPGRpdiBpZD0iaHRtbF9iZDAxMGYwZTJmYTY0ZmY4YWUyNGZlYjNhYWM2ZDgyNyIgc3R5bGU9IndpZHRoOiAxMDAuMCU7IGhlaWdodDogMTAwLjAlOyI+Q29xdWVpcm9zPC9kaXY+YClbMF07CiAgICAgICAgICAgICAgICBwb3B1cF9hNTFiNjgyYzRjYWU0ZjU4YmFiNzVhZGU2ZTA4MDQ3OS5zZXRDb250ZW50KGh0bWxfYmQwMTBmMGUyZmE2NGZmOGFlMjRmZWIzYWFjNmQ4MjcpOwogICAgICAgICAgICAKCiAgICAgICAgICAgIGNpcmNsZV9tYXJrZXJfYTdhMmEyY2U0NmY1NDVhZTg2MzRmMDI3ZjNlZDhkNjkuYmluZFBvcHVwKHBvcHVwX2E1MWI2ODJjNGNhZTRmNThiYWI3NWFkZTZlMDgwNDc5KQogICAgICAgICAgICA7CgogICAgICAgICAgICAKICAgICAgICAKICAgIAogICAgICAgICAgICB2YXIgY2lyY2xlX21hcmtlcl84NzM3ZjcwYzEyNTE0YmVkYmU0ZDAyZGFhY2M2OWJiOSA9IEwuY2lyY2xlTWFya2VyKAogICAgICAgICAgICAgICAgWy0yNy41OTA1ODI5LCAtNDguNjAxNjM0N10sCiAgICAgICAgICAgICAgICB7CiAgImJ1YmJsaW5nTW91c2VFdmVudHMiOiB0cnVlLAogICJjb2xvciI6ICJyZWQiLAogICJkYXNoQXJyYXkiOiBudWxsLAogICJkYXNoT2Zmc2V0IjogbnVsbCwKICAiZmlsbCI6IHRydWUsCiAgImZpbGxDb2xvciI6ICIjMzE4NmNjIiwKICAiZmlsbE9wYWNpdHkiOiAwLjcsCiAgImZpbGxSdWxlIjogImV2ZW5vZGQiLAogICJsaW5lQ2FwIjogInJvdW5kIiwKICAibGluZUpvaW4iOiAicm91bmQiLAogICJvcGFjaXR5IjogMS4wLAogICJyYWRpdXMiOiA1LAogICJzdHJva2UiOiB0cnVlLAogICJ3ZWlnaHQiOiAzCn0KICAgICAgICAgICAgICAgICkKICAgICAgICAgICAgICAgIC5hZGRUbyhtYXBfNDNmYmU5NzJlOTlkNDE1ZThjNzMyOWY0NTljYTgyNDEpOwogICAgICAgICAgICAKICAgIAogICAgICAgICAgICB2YXIgcG9wdXBfNThhYWU0NjY1OWFjNDlkZTg0OGI2MDRiZjIyYTExZWQgPSBMLnBvcHVwKHttYXhXaWR0aDogJzEwMCUnCiAgICAgICAgICAgIAogICAgICAgICAgICB9KTsKCiAgICAgICAgICAgIAogICAgICAgICAgICAgICAgdmFyIGh0bWxfMGQzYzc2ZDM1NmQ3NDY5NWI4MDYyNDE4ODQ5ZGFkZGEgPSAkKGA8ZGl2IGlkPSJodG1sXzBkM2M3NmQzNTZkNzQ2OTViODA2MjQxODg0OWRhZGRhIiBzdHlsZT0id2lkdGg6IDEwMC4wJTsgaGVpZ2h0OiAxMDAuMCU7Ij5Nb250ZSBDcmlzdG88L2Rpdj5gKVswXTsKICAgICAgICAgICAgICAgIHBvcHVwXzU4YWFlNDY2NTlhYzQ5ZGU4NDhiNjA0YmYyMmExMWVkLnNldENvbnRlbnQoaHRtbF8wZDNjNzZkMzU2ZDc0Njk1YjgwNjI0MTg4NDlkYWRkYSk7CiAgICAgICAgICAgIAoKICAgICAgICAgICAgY2lyY2xlX21hcmtlcl84NzM3ZjcwYzEyNTE0YmVkYmU0ZDAyZGFhY2M2OWJiOS5iaW5kUG9wdXAocG9wdXBfNThhYWU0NjY1OWFjNDlkZTg0OGI2MDRiZjIyYTExZWQpCiAgICAgICAgICAgIDsKCiAgICAgICAgICAgIAogICAgICAgIAogICAgCiAgICAgICAgICAgIHZhciBjaXJjbGVfbWFya2VyXzU1YjU3MTQ3OWU1NjRkOGRiMGM5MDNiMjE0Y2UwNDMwID0gTC5jaXJjbGVNYXJrZXIoCiAgICAgICAgICAgICAgICBbLTI3LjU3NTQ5MjQsIC00OC41OTY3OTkzXSwKICAgICAgICAgICAgICAgIHsKICAiYnViYmxpbmdNb3VzZUV2ZW50cyI6IHRydWUsCiAgImNvbG9yIjogInJlZCIsCiAgImRhc2hBcnJheSI6IG51bGwsCiAgImRhc2hPZmZzZXQiOiBudWxsLAogICJmaWxsIjogdHJ1ZSwKICAiZmlsbENvbG9yIjogIiMzMTg2Y2MiLAogICJmaWxsT3BhY2l0eSI6IDAuNywKICAiZmlsbFJ1bGUiOiAiZXZlbm9kZCIsCiAgImxpbmVDYXAiOiAicm91bmQiLAogICJsaW5lSm9pbiI6ICJyb3VuZCIsCiAgIm9wYWNpdHkiOiAxLjAsCiAgInJhZGl1cyI6IDUsCiAgInN0cm9rZSI6IHRydWUsCiAgIndlaWdodCI6IDMKfQogICAgICAgICAgICAgICAgKQogICAgICAgICAgICAgICAgLmFkZFRvKG1hcF80M2ZiZTk3MmU5OWQ0MTVlOGM3MzI5ZjQ1OWNhODI0MSk7CiAgICAgICAgICAgIAogICAgCiAgICAgICAgICAgIHZhciBwb3B1cF81ODllNWM2MzYxYTA0NWEzOGNkM2U0Yjk4MjJiZGEwNCA9IEwucG9wdXAoe21heFdpZHRoOiAnMTAwJScKICAgICAgICAgICAgCiAgICAgICAgICAgIH0pOwoKICAgICAgICAgICAgCiAgICAgICAgICAgICAgICB2YXIgaHRtbF9kNGE3MDY3ZjhhNTU0NTdmYTM2ZDZhMmMzZDM2MDAwMSA9ICQoYDxkaXYgaWQ9Imh0bWxfZDRhNzA2N2Y4YTU1NDU3ZmEzNmQ2YTJjM2QzNjAwMDEiIHN0eWxlPSJ3aWR0aDogMTAwLjAlOyBoZWlnaHQ6IDEwMC4wJTsiPkphcmRpbSBBdGzDom50aWNvPC9kaXY+YClbMF07CiAgICAgICAgICAgICAgICBwb3B1cF81ODllNWM2MzYxYTA0NWEzOGNkM2U0Yjk4MjJiZGEwNC5zZXRDb250ZW50KGh0bWxfZDRhNzA2N2Y4YTU1NDU3ZmEzNmQ2YTJjM2QzNjAwMDEpOwogICAgICAgICAgICAKCiAgICAgICAgICAgIGNpcmNsZV9tYXJrZXJfNTViNTcxNDc5ZTU2NGQ4ZGIwYzkwM2IyMTRjZTA0MzAuYmluZFBvcHVwKHBvcHVwXzU4OWU1YzYzNjFhMDQ1YTM4Y2QzZTRiOTgyMmJkYTA0KQogICAgICAgICAgICA7CgogICAgICAgICAgICAKICAgICAgICAKICAgIAogICAgICAgICAgICB2YXIgY2lyY2xlX21hcmtlcl80NDM2ZDdhYzYxZGE0NjQ1YTBlZThkYmJkMTZlMzUxZCA9IEwuY2lyY2xlTWFya2VyKAogICAgICAgICAgICAgICAgWy0yNy41ODE1MTA1LCAtNDguNTA0MTkyNV0sCiAgICAgICAgICAgICAgICB7CiAgImJ1YmJsaW5nTW91c2VFdmVudHMiOiB0cnVlLAogICJjb2xvciI6ICJyZWQiLAogICJkYXNoQXJyYXkiOiBudWxsLAogICJkYXNoT2Zmc2V0IjogbnVsbCwKICAiZmlsbCI6IHRydWUsCiAgImZpbGxDb2xvciI6ICIjMzE4NmNjIiwKICAiZmlsbE9wYWNpdHkiOiAwLjcsCiAgImZpbGxSdWxlIjogImV2ZW5vZGQiLAogICJsaW5lQ2FwIjogInJvdW5kIiwKICAibGluZUpvaW4iOiAicm91bmQiLAogICJvcGFjaXR5IjogMS4wLAogICJyYWRpdXMiOiA1LAogICJzdHJva2UiOiB0cnVlLAogICJ3ZWlnaHQiOiAzCn0KICAgICAgICAgICAgICAgICkKICAgICAgICAgICAgICAgIC5hZGRUbyhtYXBfNDNmYmU5NzJlOTlkNDE1ZThjNzMyOWY0NTljYTgyNDEpOwogICAgICAgICAgICAKICAgIAogICAgICAgICAgICB2YXIgcG9wdXBfNjFjMjkyMjRiOTc4NDNkNmEwYWQwYzVkN2RhZTE2OWYgPSBMLnBvcHVwKHttYXhXaWR0aDogJzEwMCUnCiAgICAgICAgICAgIAogICAgICAgICAgICB9KTsKCiAgICAgICAgICAgIAogICAgICAgICAgICAgICAgdmFyIGh0bWxfMDE4ZTliMWJjYTA5NDM0OGJkYWE2M2UyNmRjMjJiMTEgPSAkKGA8ZGl2IGlkPSJodG1sXzAxOGU5YjFiY2EwOTQzNDhiZGFhNjNlMjZkYzIyYjExIiBzdHlsZT0id2lkdGg6IDEwMC4wJTsgaGVpZ2h0OiAxMDAuMCU7Ij5JdGFjb3J1Ymk8L2Rpdj5gKVswXTsKICAgICAgICAgICAgICAgIHBvcHVwXzYxYzI5MjI0Yjk3ODQzZDZhMGFkMGM1ZDdkYWUxNjlmLnNldENvbnRlbnQoaHRtbF8wMThlOWIxYmNhMDk0MzQ4YmRhYTYzZTI2ZGMyMmIxMSk7CiAgICAgICAgICAgIAoKICAgICAgICAgICAgY2lyY2xlX21hcmtlcl80NDM2ZDdhYzYxZGE0NjQ1YTBlZThkYmJkMTZlMzUxZC5iaW5kUG9wdXAocG9wdXBfNjFjMjkyMjRiOTc4NDNkNmEwYWQwYzVkN2RhZTE2OWYpCiAgICAgICAgICAgIDsKCiAgICAgICAgICAgIAogICAgICAgIAogICAgCiAgICAgICAgICAgIHZhciBjaXJjbGVfbWFya2VyX2MyMWUyYjI4NDIxMDRmNGI5YTI2ZGU5YmMxODkxNDI0ID0gTC5jaXJjbGVNYXJrZXIoCiAgICAgICAgICAgICAgICBbLTI3LjYzNDE3NTIsIC00OC41MjI3OTczXSwKICAgICAgICAgICAgICAgIHsKICAiYnViYmxpbmdNb3VzZUV2ZW50cyI6IHRydWUsCiAgImNvbG9yIjogInJlZCIsCiAgImRhc2hBcnJheSI6IG51bGwsCiAgImRhc2hPZmZzZXQiOiBudWxsLAogICJmaWxsIjogdHJ1ZSwKICAiZmlsbENvbG9yIjogIiMzMTg2Y2MiLAogICJmaWxsT3BhY2l0eSI6IDAuNywKICAiZmlsbFJ1bGUiOiAiZXZlbm9kZCIsCiAgImxpbmVDYXAiOiAicm91bmQiLAogICJsaW5lSm9pbiI6ICJyb3VuZCIsCiAgIm9wYWNpdHkiOiAxLjAsCiAgInJhZGl1cyI6IDUsCiAgInN0cm9rZSI6IHRydWUsCiAgIndlaWdodCI6IDMKfQogICAgICAgICAgICAgICAgKQogICAgICAgICAgICAgICAgLmFkZFRvKG1hcF80M2ZiZTk3MmU5OWQ0MTVlOGM3MzI5ZjQ1OWNhODI0MSk7CiAgICAgICAgICAgIAogICAgCiAgICAgICAgICAgIHZhciBwb3B1cF85YWNjNDNhOGU1ODA0OWI3YjAzZGMzZmUxYmVlMjRkNCA9IEwucG9wdXAoe21heFdpZHRoOiAnMTAwJScKICAgICAgICAgICAgCiAgICAgICAgICAgIH0pOwoKICAgICAgICAgICAgCiAgICAgICAgICAgICAgICB2YXIgaHRtbF8xMTNjOThjOWVlNDQ0ZjUzYTg4ZDNhMmM2ODMxZDgzZSA9ICQoYDxkaXYgaWQ9Imh0bWxfMTEzYzk4YzllZTQ0NGY1M2E4OGQzYTJjNjgzMWQ4M2UiIHN0eWxlPSJ3aWR0aDogMTAwLjAlOyBoZWlnaHQ6IDEwMC4wJTsiPkNvc3RlaXJhIGRvIFBpcmFqdWJhw6k8L2Rpdj5gKVswXTsKICAgICAgICAgICAgICAgIHBvcHVwXzlhY2M0M2E4ZTU4MDQ5YjdiMDNkYzNmZTFiZWUyNGQ0LnNldENvbnRlbnQoaHRtbF8xMTNjOThjOWVlNDQ0ZjUzYTg4ZDNhMmM2ODMxZDgzZSk7CiAgICAgICAgICAgIAoKICAgICAgICAgICAgY2lyY2xlX21hcmtlcl9jMjFlMmIyODQyMTA0ZjRiOWEyNmRlOWJjMTg5MTQyNC5iaW5kUG9wdXAocG9wdXBfOWFjYzQzYThlNTgwNDliN2IwM2RjM2ZlMWJlZTI0ZDQpCiAgICAgICAgICAgIDsKCiAgICAgICAgICAgIAogICAgICAgIAogICAgCiAgICAgICAgICAgIHZhciBjaXJjbGVfbWFya2VyXzVkMTk0NzVkMDhkYjQ5YTg5MDhlZWMxNWQzYjEyZjg5ID0gTC5jaXJjbGVNYXJrZXIoCiAgICAgICAgICAgICAgICBbLTI3LjQ1MjczNjgsIC00OC40MDY3ODYzMDQzMzg3XSwKICAgICAgICAgICAgICAgIHsKICAiYnViYmxpbmdNb3VzZUV2ZW50cyI6IHRydWUsCiAgImNvbG9yIjogInJlZCIsCiAgImRhc2hBcnJheSI6IG51bGwsCiAgImRhc2hPZmZzZXQiOiBudWxsLAogICJmaWxsIjogdHJ1ZSwKICAiZmlsbENvbG9yIjogIiMzMTg2Y2MiLAogICJmaWxsT3BhY2l0eSI6IDAuNywKICAiZmlsbFJ1bGUiOiAiZXZlbm9kZCIsCiAgImxpbmVDYXAiOiAicm91bmQiLAogICJsaW5lSm9pbiI6ICJyb3VuZCIsCiAgIm9wYWNpdHkiOiAxLjAsCiAgInJhZGl1cyI6IDUsCiAgInN0cm9rZSI6IHRydWUsCiAgIndlaWdodCI6IDMKfQogICAgICAgICAgICAgICAgKQogICAgICAgICAgICAgICAgLmFkZFRvKG1hcF80M2ZiZTk3MmU5OWQ0MTVlOGM3MzI5ZjQ1OWNhODI0MSk7CiAgICAgICAgICAgIAogICAgCiAgICAgICAgICAgIHZhciBwb3B1cF9jYzRlNjM1OTNmNTM0MWMwYWI3OTFmN2ViMmRhYmQxOCA9IEwucG9wdXAoe21heFdpZHRoOiAnMTAwJScKICAgICAgICAgICAgCiAgICAgICAgICAgIH0pOwoKICAgICAgICAgICAgCiAgICAgICAgICAgICAgICB2YXIgaHRtbF9kYmY4ZWVjNjRkZTE0NmFjOGM3Njg0NDEyNjdiMDRlMSA9ICQoYDxkaXYgaWQ9Imh0bWxfZGJmOGVlYzY0ZGUxNDZhYzhjNzY4NDQxMjY3YjA0ZTEiIHN0eWxlPSJ3aWR0aDogMTAwLjAlOyBoZWlnaHQ6IDEwMC4wJTsiPkNhcGl2YXJpPC9kaXY+YClbMF07CiAgICAgICAgICAgICAgICBwb3B1cF9jYzRlNjM1OTNmNTM0MWMwYWI3OTFmN2ViMmRhYmQxOC5zZXRDb250ZW50KGh0bWxfZGJmOGVlYzY0ZGUxNDZhYzhjNzY4NDQxMjY3YjA0ZTEpOwogICAgICAgICAgICAKCiAgICAgICAgICAgIGNpcmNsZV9tYXJrZXJfNWQxOTQ3NWQwOGRiNDlhODkwOGVlYzE1ZDNiMTJmODkuYmluZFBvcHVwKHBvcHVwX2NjNGU2MzU5M2Y1MzQxYzBhYjc5MWY3ZWIyZGFiZDE4KQogICAgICAgICAgICA7CgogICAgICAgICAgICAKICAgICAgICAKICAgIAogICAgICAgICAgICB2YXIgY2lyY2xlX21hcmtlcl9jYjQxY2I0OWFiZTc0OWFmOWZlOTIyZmIwZTI3ZTAxOSA9IEwuY2lyY2xlTWFya2VyKAogICAgICAgICAgICAgICAgWy0yNy41OTA5MTQzLCAtNDguNTc3NzAxOF0sCiAgICAgICAgICAgICAgICB7CiAgImJ1YmJsaW5nTW91c2VFdmVudHMiOiB0cnVlLAogICJjb2xvciI6ICJyZWQiLAogICJkYXNoQXJyYXkiOiBudWxsLAogICJkYXNoT2Zmc2V0IjogbnVsbCwKICAiZmlsbCI6IHRydWUsCiAgImZpbGxDb2xvciI6ICIjMzE4NmNjIiwKICAiZmlsbE9wYWNpdHkiOiAwLjcsCiAgImZpbGxSdWxlIjogImV2ZW5vZGQiLAogICJsaW5lQ2FwIjogInJvdW5kIiwKICAibGluZUpvaW4iOiAicm91bmQiLAogICJvcGFjaXR5IjogMS4wLAogICJyYWRpdXMiOiA1LAogICJzdHJva2UiOiB0cnVlLAogICJ3ZWlnaHQiOiAzCn0KICAgICAgICAgICAgICAgICkKICAgICAgICAgICAgICAgIC5hZGRUbyhtYXBfNDNmYmU5NzJlOTlkNDE1ZThjNzMyOWY0NTljYTgyNDEpOwogICAgICAgICAgICAKICAgIAogICAgICAgICAgICB2YXIgcG9wdXBfZGUwM2ZlMjkxM2IwNDA4YWJkZWI3NTc2MjU3Mjk0YTcgPSBMLnBvcHVwKHttYXhXaWR0aDogJzEwMCUnCiAgICAgICAgICAgIAogICAgICAgICAgICB9KTsKCiAgICAgICAgICAgIAogICAgICAgICAgICAgICAgdmFyIGh0bWxfMzhlNmFiZDEwMjg5NDRiMzlhNmM5ZGVjM2ZhMjExODEgPSAkKGA8ZGl2IGlkPSJodG1sXzM4ZTZhYmQxMDI4OTQ0YjM5YTZjOWRlYzNmYTIxMTgxIiBzdHlsZT0id2lkdGg6IDEwMC4wJTsgaGVpZ2h0OiAxMDAuMCU7Ij5Fc3RyZWl0bzwvZGl2PmApWzBdOwogICAgICAgICAgICAgICAgcG9wdXBfZGUwM2ZlMjkxM2IwNDA4YWJkZWI3NTc2MjU3Mjk0YTcuc2V0Q29udGVudChodG1sXzM4ZTZhYmQxMDI4OTQ0YjM5YTZjOWRlYzNmYTIxMTgxKTsKICAgICAgICAgICAgCgogICAgICAgICAgICBjaXJjbGVfbWFya2VyX2NiNDFjYjQ5YWJlNzQ5YWY5ZmU5MjJmYjBlMjdlMDE5LmJpbmRQb3B1cChwb3B1cF9kZTAzZmUyOTEzYjA0MDhhYmRlYjc1NzYyNTcyOTRhNykKICAgICAgICAgICAgOwoKICAgICAgICAgICAgCiAgICAgICAgCiAgICAKICAgICAgICAgICAgdmFyIGNpcmNsZV9tYXJrZXJfMGJjM2M0YTVhMGI4NDRiMDk0N2UwMjExMGUyMzk3NzUgPSBMLmNpcmNsZU1hcmtlcigKICAgICAgICAgICAgICAgIFstMjcuNTU5NTAzOSwgLTQ4LjQ5NjEwNTldLAogICAgICAgICAgICAgICAgewogICJidWJibGluZ01vdXNlRXZlbnRzIjogdHJ1ZSwKICAiY29sb3IiOiAicmVkIiwKICAiZGFzaEFycmF5IjogbnVsbCwKICAiZGFzaE9mZnNldCI6IG51bGwsCiAgImZpbGwiOiB0cnVlLAogICJmaWxsQ29sb3IiOiAiIzMxODZjYyIsCiAgImZpbGxPcGFjaXR5IjogMC43LAogICJmaWxsUnVsZSI6ICJldmVub2RkIiwKICAibGluZUNhcCI6ICJyb3VuZCIsCiAgImxpbmVKb2luIjogInJvdW5kIiwKICAib3BhY2l0eSI6IDEuMCwKICAicmFkaXVzIjogNSwKICAic3Ryb2tlIjogdHJ1ZSwKICAid2VpZ2h0IjogMwp9CiAgICAgICAgICAgICAgICApCiAgICAgICAgICAgICAgICAuYWRkVG8obWFwXzQzZmJlOTcyZTk5ZDQxNWU4YzczMjlmNDU5Y2E4MjQxKTsKICAgICAgICAgICAgCiAgICAKICAgICAgICAgICAgdmFyIHBvcHVwXzI3NDc4NDA1YjhiZDRiZWNiNDYzMjhlZWNiYzc0YTA3ID0gTC5wb3B1cCh7bWF4V2lkdGg6ICcxMDAlJwogICAgICAgICAgICAKICAgICAgICAgICAgfSk7CgogICAgICAgICAgICAKICAgICAgICAgICAgICAgIHZhciBodG1sXzQ5ZDUwMzg1NTcyMjRlZjFiMzk1MWIxMGExMDVhNTBiID0gJChgPGRpdiBpZD0iaHRtbF80OWQ1MDM4NTU3MjI0ZWYxYjM5NTFiMTBhMTA1YTUwYiIgc3R5bGU9IndpZHRoOiAxMDAuMCU7IGhlaWdodDogMTAwLjAlOyI+TW9udGUgVmVyZGU8L2Rpdj5gKVswXTsKICAgICAgICAgICAgICAgIHBvcHVwXzI3NDc4NDA1YjhiZDRiZWNiNDYzMjhlZWNiYzc0YTA3LnNldENvbnRlbnQoaHRtbF80OWQ1MDM4NTU3MjI0ZWYxYjM5NTFiMTBhMTA1YTUwYik7CiAgICAgICAgICAgIAoKICAgICAgICAgICAgY2lyY2xlX21hcmtlcl8wYmMzYzRhNWEwYjg0NGIwOTQ3ZTAyMTEwZTIzOTc3NS5iaW5kUG9wdXAocG9wdXBfMjc0Nzg0MDViOGJkNGJlY2I0NjMyOGVlY2JjNzRhMDcpCiAgICAgICAgICAgIDsKCiAgICAgICAgICAgIAogICAgICAgIAogICAgCiAgICAgICAgICAgIHZhciBjaXJjbGVfbWFya2VyXzJkOTRkOTNhZjBmNDQ5YTlhZDYwNjQxZmVjZmNlMTVkID0gTC5jaXJjbGVNYXJrZXIoCiAgICAgICAgICAgICAgICBbLTI3LjU3OTU5NjMsIC00OC41ODExMzc5XSwKICAgICAgICAgICAgICAgIHsKICAiYnViYmxpbmdNb3VzZUV2ZW50cyI6IHRydWUsCiAgImNvbG9yIjogInJlZCIsCiAgImRhc2hBcnJheSI6IG51bGwsCiAgImRhc2hPZmZzZXQiOiBudWxsLAogICJmaWxsIjogdHJ1ZSwKICAiZmlsbENvbG9yIjogIiMzMTg2Y2MiLAogICJmaWxsT3BhY2l0eSI6IDAuNywKICAiZmlsbFJ1bGUiOiAiZXZlbm9kZCIsCiAgImxpbmVDYXAiOiAicm91bmQiLAogICJsaW5lSm9pbiI6ICJyb3VuZCIsCiAgIm9wYWNpdHkiOiAxLjAsCiAgInJhZGl1cyI6IDUsCiAgInN0cm9rZSI6IHRydWUsCiAgIndlaWdodCI6IDMKfQogICAgICAgICAgICAgICAgKQogICAgICAgICAgICAgICAgLmFkZFRvKG1hcF80M2ZiZTk3MmU5OWQ0MTVlOGM3MzI5ZjQ1OWNhODI0MSk7CiAgICAgICAgICAgIAogICAgCiAgICAgICAgICAgIHZhciBwb3B1cF83NDEzZDRhMDE4ZDE0ZGFiODllYThlMWJlODIzZWZmYyA9IEwucG9wdXAoe21heFdpZHRoOiAnMTAwJScKICAgICAgICAgICAgCiAgICAgICAgICAgIH0pOwoKICAgICAgICAgICAgCiAgICAgICAgICAgICAgICB2YXIgaHRtbF9iYTllZmUyMjczYjY0YjJjYjMwYzFmNzRkZWFhM2Q4OCA9ICQoYDxkaXYgaWQ9Imh0bWxfYmE5ZWZlMjI3M2I2NGIyY2IzMGMxZjc0ZGVhYTNkODgiIHN0eWxlPSJ3aWR0aDogMTAwLjAlOyBoZWlnaHQ6IDEwMC4wJTsiPkJhbG5lw6FyaW88L2Rpdj5gKVswXTsKICAgICAgICAgICAgICAgIHBvcHVwXzc0MTNkNGEwMThkMTRkYWI4OWVhOGUxYmU4MjNlZmZjLnNldENvbnRlbnQoaHRtbF9iYTllZmUyMjczYjY0YjJjYjMwYzFmNzRkZWFhM2Q4OCk7CiAgICAgICAgICAgIAoKICAgICAgICAgICAgY2lyY2xlX21hcmtlcl8yZDk0ZDkzYWYwZjQ0OWE5YWQ2MDY0MWZlY2ZjZTE1ZC5iaW5kUG9wdXAocG9wdXBfNzQxM2Q0YTAxOGQxNGRhYjg5ZWE4ZTFiZTgyM2VmZmMpCiAgICAgICAgICAgIDsKCiAgICAgICAgICAgIAogICAgICAgIAogICAgCiAgICAgICAgICAgIHZhciBjaXJjbGVfbWFya2VyX2RlNjA5YTY2NjFjODRiN2FiMGYxMTVkYTZkZDU2NTNlID0gTC5jaXJjbGVNYXJrZXIoCiAgICAgICAgICAgICAgICBbLTI3LjQ4MzgwNjQsIC00OC40MDk2Mzc1XSwKICAgICAgICAgICAgICAgIHsKICAiYnViYmxpbmdNb3VzZUV2ZW50cyI6IHRydWUsCiAgImNvbG9yIjogInJlZCIsCiAgImRhc2hBcnJheSI6IG51bGwsCiAgImRhc2hPZmZzZXQiOiBudWxsLAogICJmaWxsIjogdHJ1ZSwKICAiZmlsbENvbG9yIjogIiMzMTg2Y2MiLAogICJmaWxsT3BhY2l0eSI6IDAuNywKICAiZmlsbFJ1bGUiOiAiZXZlbm9kZCIsCiAgImxpbmVDYXAiOiAicm91bmQiLAogICJsaW5lSm9pbiI6ICJyb3VuZCIsCiAgIm9wYWNpdHkiOiAxLjAsCiAgInJhZGl1cyI6IDUsCiAgInN0cm9rZSI6IHRydWUsCiAgIndlaWdodCI6IDMKfQogICAgICAgICAgICAgICAgKQogICAgICAgICAgICAgICAgLmFkZFRvKG1hcF80M2ZiZTk3MmU5OWQ0MTVlOGM3MzI5ZjQ1OWNhODI0MSk7CiAgICAgICAgICAgIAogICAgCiAgICAgICAgICAgIHZhciBwb3B1cF9iNjgzYmRkNjgzMGI0ZjI1ODI1Nzg4YjhkYWMzYmUwOCA9IEwucG9wdXAoe21heFdpZHRoOiAnMTAwJScKICAgICAgICAgICAgCiAgICAgICAgICAgIH0pOwoKICAgICAgICAgICAgCiAgICAgICAgICAgICAgICB2YXIgaHRtbF81MGQxOGIzNjI5ZDU0MjA2YmM0MGFkN2E3NGU3OWFkNSA9ICQoYDxkaXYgaWQ9Imh0bWxfNTBkMThiMzYyOWQ1NDIwNmJjNDBhZDdhNzRlNzlhZDUiIHN0eWxlPSJ3aWR0aDogMTAwLjAlOyBoZWlnaHQ6IDEwMC4wJTsiPlPDo28gSm/Do28gZG8gUmlvIFZlcm1lbGhvPC9kaXY+YClbMF07CiAgICAgICAgICAgICAgICBwb3B1cF9iNjgzYmRkNjgzMGI0ZjI1ODI1Nzg4YjhkYWMzYmUwOC5zZXRDb250ZW50KGh0bWxfNTBkMThiMzYyOWQ1NDIwNmJjNDBhZDdhNzRlNzlhZDUpOwogICAgICAgICAgICAKCiAgICAgICAgICAgIGNpcmNsZV9tYXJrZXJfZGU2MDlhNjY2MWM4NGI3YWIwZjExNWRhNmRkNTY1M2UuYmluZFBvcHVwKHBvcHVwX2I2ODNiZGQ2ODMwYjRmMjU4MjU3ODhiOGRhYzNiZTA4KQogICAgICAgICAgICA7CgogICAgICAgICAgICAKICAgICAgICAKICAgIAogICAgICAgICAgICB2YXIgY2lyY2xlX21hcmtlcl83ZWE1N2VhOWM0ZDA0Yzk4OTdkZDQ3ODVkMTU2YTk0YSA9IEwuY2lyY2xlTWFya2VyKAogICAgICAgICAgICAgICAgWy0yNy41ODY3OTY5LCAtNDguNTg2MjIwNl0sCiAgICAgICAgICAgICAgICB7CiAgImJ1YmJsaW5nTW91c2VFdmVudHMiOiB0cnVlLAogICJjb2xvciI6ICJyZWQiLAogICJkYXNoQXJyYXkiOiBudWxsLAogICJkYXNoT2Zmc2V0IjogbnVsbCwKICAiZmlsbCI6IHRydWUsCiAgImZpbGxDb2xvciI6ICIjMzE4NmNjIiwKICAiZmlsbE9wYWNpdHkiOiAwLjcsCiAgImZpbGxSdWxlIjogImV2ZW5vZGQiLAogICJsaW5lQ2FwIjogInJvdW5kIiwKICAibGluZUpvaW4iOiAicm91bmQiLAogICJvcGFjaXR5IjogMS4wLAogICJyYWRpdXMiOiA1LAogICJzdHJva2UiOiB0cnVlLAogICJ3ZWlnaHQiOiAzCn0KICAgICAgICAgICAgICAgICkKICAgICAgICAgICAgICAgIC5hZGRUbyhtYXBfNDNmYmU5NzJlOTlkNDE1ZThjNzMyOWY0NTljYTgyNDEpOwogICAgICAgICAgICAKICAgIAogICAgICAgICAgICB2YXIgcG9wdXBfYzA0OTcwZmI2ZjVhNDdkZWEyZDZiYzkwMGIxNGZjZWIgPSBMLnBvcHVwKHttYXhXaWR0aDogJzEwMCUnCiAgICAgICAgICAgIAogICAgICAgICAgICB9KTsKCiAgICAgICAgICAgIAogICAgICAgICAgICAgICAgdmFyIGh0bWxfY2Y0ZDlmZDIzOTBhNGNmZTlmMmRjOWM4OTZlODgyNDAgPSAkKGA8ZGl2IGlkPSJodG1sX2NmNGQ5ZmQyMzkwYTRjZmU5ZjJkYzljODk2ZTg4MjQwIiBzdHlsZT0id2lkdGg6IDEwMC4wJTsgaGVpZ2h0OiAxMDAuMCU7Ij5DYW50bzwvZGl2PmApWzBdOwogICAgICAgICAgICAgICAgcG9wdXBfYzA0OTcwZmI2ZjVhNDdkZWEyZDZiYzkwMGIxNGZjZWIuc2V0Q29udGVudChodG1sX2NmNGQ5ZmQyMzkwYTRjZmU5ZjJkYzljODk2ZTg4MjQwKTsKICAgICAgICAgICAgCgogICAgICAgICAgICBjaXJjbGVfbWFya2VyXzdlYTU3ZWE5YzRkMDRjOTg5N2RkNDc4NWQxNTZhOTRhLmJpbmRQb3B1cChwb3B1cF9jMDQ5NzBmYjZmNWE0N2RlYTJkNmJjOTAwYjE0ZmNlYikKICAgICAgICAgICAgOwoKICAgICAgICAgICAgCiAgICAgICAgCiAgICAKICAgICAgICAgICAgdmFyIGNpcmNsZV9tYXJrZXJfMDlkZTM3YjNiODNiNDM3ZTk3NGUwNjhiNTc5YjFkNTkgPSBMLmNpcmNsZU1hcmtlcigKICAgICAgICAgICAgICAgIFstMjcuNjA2MzI4MiwgLTQ4LjU5MzUyMzddLAogICAgICAgICAgICAgICAgewogICJidWJibGluZ01vdXNlRXZlbnRzIjogdHJ1ZSwKICAiY29sb3IiOiAicmVkIiwKICAiZGFzaEFycmF5IjogbnVsbCwKICAiZGFzaE9mZnNldCI6IG51bGwsCiAgImZpbGwiOiB0cnVlLAogICJmaWxsQ29sb3IiOiAiIzMxODZjYyIsCiAgImZpbGxPcGFjaXR5IjogMC43LAogICJmaWxsUnVsZSI6ICJldmVub2RkIiwKICAibGluZUNhcCI6ICJyb3VuZCIsCiAgImxpbmVKb2luIjogInJvdW5kIiwKICAib3BhY2l0eSI6IDEuMCwKICAicmFkaXVzIjogNSwKICAic3Ryb2tlIjogdHJ1ZSwKICAid2VpZ2h0IjogMwp9CiAgICAgICAgICAgICAgICApCiAgICAgICAgICAgICAgICAuYWRkVG8obWFwXzQzZmJlOTcyZTk5ZDQxNWU4YzczMjlmNDU5Y2E4MjQxKTsKICAgICAgICAgICAgCiAgICAKICAgICAgICAgICAgdmFyIHBvcHVwXzdhYTQzNjc3MTI5NTQ0M2NiYWQ4MjQ0YjRlM2RkMTQ4ID0gTC5wb3B1cCh7bWF4V2lkdGg6ICcxMDAlJwogICAgICAgICAgICAKICAgICAgICAgICAgfSk7CgogICAgICAgICAgICAKICAgICAgICAgICAgICAgIHZhciBodG1sXzAxM2QzZDhjNzM0ZjRjNDA4ZmIyNWQ1NmNiOTViMTI1ID0gJChgPGRpdiBpZD0iaHRtbF8wMTNkM2Q4YzczNGY0YzQwOGZiMjVkNTZjYjk1YjEyNSIgc3R5bGU9IndpZHRoOiAxMDAuMCU7IGhlaWdodDogMTAwLjAlOyI+QWJyYcOjbzwvZGl2PmApWzBdOwogICAgICAgICAgICAgICAgcG9wdXBfN2FhNDM2NzcxMjk1NDQzY2JhZDgyNDRiNGUzZGQxNDguc2V0Q29udGVudChodG1sXzAxM2QzZDhjNzM0ZjRjNDA4ZmIyNWQ1NmNiOTViMTI1KTsKICAgICAgICAgICAgCgogICAgICAgICAgICBjaXJjbGVfbWFya2VyXzA5ZGUzN2IzYjgzYjQzN2U5NzRlMDY4YjU3OWIxZDU5LmJpbmRQb3B1cChwb3B1cF83YWE0MzY3NzEyOTU0NDNjYmFkODI0NGI0ZTNkZDE0OCkKICAgICAgICAgICAgOwoKICAgICAgICAgICAgCiAgICAgICAgCiAgICAKICAgICAgICAgICAgdmFyIGNpcmNsZV9tYXJrZXJfODBkYmYwNDU4MGFjNDMyMjg3Y2NjNTNlYWMxYTI0NTEgPSBMLmNpcmNsZU1hcmtlcigKICAgICAgICAgICAgICAgIFstMjcuNTg5OTI3NywgLTQ4LjUwOTcwMjddLAogICAgICAgICAgICAgICAgewogICJidWJibGluZ01vdXNlRXZlbnRzIjogdHJ1ZSwKICAiY29sb3IiOiAicmVkIiwKICAiZGFzaEFycmF5IjogbnVsbCwKICAiZGFzaE9mZnNldCI6IG51bGwsCiAgImZpbGwiOiB0cnVlLAogICJmaWxsQ29sb3IiOiAiIzMxODZjYyIsCiAgImZpbGxPcGFjaXR5IjogMC43LAogICJmaWxsUnVsZSI6ICJldmVub2RkIiwKICAibGluZUNhcCI6ICJyb3VuZCIsCiAgImxpbmVKb2luIjogInJvdW5kIiwKICAib3BhY2l0eSI6IDEuMCwKICAicmFkaXVzIjogNSwKICAic3Ryb2tlIjogdHJ1ZSwKICAid2VpZ2h0IjogMwp9CiAgICAgICAgICAgICAgICApCiAgICAgICAgICAgICAgICAuYWRkVG8obWFwXzQzZmJlOTcyZTk5ZDQxNWU4YzczMjlmNDU5Y2E4MjQxKTsKICAgICAgICAgICAgCiAgICAKICAgICAgICAgICAgdmFyIHBvcHVwX2ExZDljN2U0YTFhMTRkZjQ5MmJlMDBmZWMwOWRlZDU3ID0gTC5wb3B1cCh7bWF4V2lkdGg6ICcxMDAlJwogICAgICAgICAgICAKICAgICAgICAgICAgfSk7CgogICAgICAgICAgICAKICAgICAgICAgICAgICAgIHZhciBodG1sX2FiZmMzZmU2MzNmYTQ5NTY4MWE2OTI1NWU4MjdjYzU4ID0gJChgPGRpdiBpZD0iaHRtbF9hYmZjM2ZlNjMzZmE0OTU2ODFhNjkyNTVlODI3Y2M1OCIgc3R5bGU9IndpZHRoOiAxMDAuMCU7IGhlaWdodDogMTAwLjAlOyI+U2FudGEgTcO0bmljYTwvZGl2PmApWzBdOwogICAgICAgICAgICAgICAgcG9wdXBfYTFkOWM3ZTRhMWExNGRmNDkyYmUwMGZlYzA5ZGVkNTcuc2V0Q29udGVudChodG1sX2FiZmMzZmU2MzNmYTQ5NTY4MWE2OTI1NWU4MjdjYzU4KTsKICAgICAgICAgICAgCgogICAgICAgICAgICBjaXJjbGVfbWFya2VyXzgwZGJmMDQ1ODBhYzQzMjI4N2NjYzUzZWFjMWEyNDUxLmJpbmRQb3B1cChwb3B1cF9hMWQ5YzdlNGExYTE0ZGY0OTJiZTAwZmVjMDlkZWQ1NykKICAgICAgICAgICAgOwoKICAgICAgICAgICAgCiAgICAgICAgCiAgICAKICAgICAgICAgICAgdmFyIGNpcmNsZV9tYXJrZXJfYTk2ZGMyNDM1ZjFhNGYyMmIyOTVkYmYyZTBjZjMxNTEgPSBMLmNpcmNsZU1hcmtlcigKICAgICAgICAgICAgICAgIFstNy42Mzg1MzI3LCAtNzIuNjY3NjkzOV0sCiAgICAgICAgICAgICAgICB7CiAgImJ1YmJsaW5nTW91c2VFdmVudHMiOiB0cnVlLAogICJjb2xvciI6ICJyZWQiLAogICJkYXNoQXJyYXkiOiBudWxsLAogICJkYXNoT2Zmc2V0IjogbnVsbCwKICAiZmlsbCI6IHRydWUsCiAgImZpbGxDb2xvciI6ICIjMzE4NmNjIiwKICAiZmlsbE9wYWNpdHkiOiAwLjcsCiAgImZpbGxSdWxlIjogImV2ZW5vZGQiLAogICJsaW5lQ2FwIjogInJvdW5kIiwKICAibGluZUpvaW4iOiAicm91bmQiLAogICJvcGFjaXR5IjogMS4wLAogICJyYWRpdXMiOiA1LAogICJzdHJva2UiOiB0cnVlLAogICJ3ZWlnaHQiOiAzCn0KICAgICAgICAgICAgICAgICkKICAgICAgICAgICAgICAgIC5hZGRUbyhtYXBfNDNmYmU5NzJlOTlkNDE1ZThjNzMyOWY0NTljYTgyNDEpOwogICAgICAgICAgICAKICAgIAogICAgICAgICAgICB2YXIgcG9wdXBfY2E4MmExOTVkY2Y2NGE3NGJmYzc2YzYyYjljMDcwM2MgPSBMLnBvcHVwKHttYXhXaWR0aDogJzEwMCUnCiAgICAgICAgICAgIAogICAgICAgICAgICB9KTsKCiAgICAgICAgICAgIAogICAgICAgICAgICAgICAgdmFyIGh0bWxfZDQ3ODczOGExMWMyNDUxMDlhNjUwN2Y1ZThkNGQyMjMgPSAkKGA8ZGl2IGlkPSJodG1sX2Q0Nzg3MzhhMTFjMjQ1MTA5YTY1MDdmNWU4ZDRkMjIzIiBzdHlsZT0id2lkdGg6IDEwMC4wJTsgaGVpZ2h0OiAxMDAuMCU7Ij5MYWdvYTwvZGl2PmApWzBdOwogICAgICAgICAgICAgICAgcG9wdXBfY2E4MmExOTVkY2Y2NGE3NGJmYzc2YzYyYjljMDcwM2Muc2V0Q29udGVudChodG1sX2Q0Nzg3MzhhMTFjMjQ1MTA5YTY1MDdmNWU4ZDRkMjIzKTsKICAgICAgICAgICAgCgogICAgICAgICAgICBjaXJjbGVfbWFya2VyX2E5NmRjMjQzNWYxYTRmMjJiMjk1ZGJmMmUwY2YzMTUxLmJpbmRQb3B1cChwb3B1cF9jYTgyYTE5NWRjZjY0YTc0YmZjNzZjNjJiOWMwNzAzYykKICAgICAgICAgICAgOwoKICAgICAgICAgICAgCiAgICAgICAgCiAgICAKICAgICAgICAgICAgdmFyIGNpcmNsZV9tYXJrZXJfZDlhNjRjZjg4MTE4NDk1ZmI4YzliZjY4OGI5MjBjNGUgPSBMLmNpcmNsZU1hcmtlcigKICAgICAgICAgICAgICAgIFstMjcuNTQyODAwNSwgLTQ4LjUwMDUyNjJdLAogICAgICAgICAgICAgICAgewogICJidWJibGluZ01vdXNlRXZlbnRzIjogdHJ1ZSwKICAiY29sb3IiOiAicmVkIiwKICAiZGFzaEFycmF5IjogbnVsbCwKICAiZGFzaE9mZnNldCI6IG51bGwsCiAgImZpbGwiOiB0cnVlLAogICJmaWxsQ29sb3IiOiAiIzMxODZjYyIsCiAgImZpbGxPcGFjaXR5IjogMC43LAogICJmaWxsUnVsZSI6ICJldmVub2RkIiwKICAibGluZUNhcCI6ICJyb3VuZCIsCiAgImxpbmVKb2luIjogInJvdW5kIiwKICAib3BhY2l0eSI6IDEuMCwKICAicmFkaXVzIjogNSwKICAic3Ryb2tlIjogdHJ1ZSwKICAid2VpZ2h0IjogMwp9CiAgICAgICAgICAgICAgICApCiAgICAgICAgICAgICAgICAuYWRkVG8obWFwXzQzZmJlOTcyZTk5ZDQxNWU4YzczMjlmNDU5Y2E4MjQxKTsKICAgICAgICAgICAgCiAgICAKICAgICAgICAgICAgdmFyIHBvcHVwXzQxNDVmMzA4MTQ0YzRmMDZiNGY3NTEyNGQxNzhmNjFjID0gTC5wb3B1cCh7bWF4V2lkdGg6ICcxMDAlJwogICAgICAgICAgICAKICAgICAgICAgICAgfSk7CgogICAgICAgICAgICAKICAgICAgICAgICAgICAgIHZhciBodG1sXzA0MzQ5YjhkY2QwMjQ5MzY4NjRkMTljNGJmZTNmMjM5ID0gJChgPGRpdiBpZD0iaHRtbF8wNDM0OWI4ZGNkMDI0OTM2ODY0ZDE5YzRiZmUzZjIzOSIgc3R5bGU9IndpZHRoOiAxMDAuMCU7IGhlaWdodDogMTAwLjAlOyI+U2FjbyBHcmFuZGU8L2Rpdj5gKVswXTsKICAgICAgICAgICAgICAgIHBvcHVwXzQxNDVmMzA4MTQ0YzRmMDZiNGY3NTEyNGQxNzhmNjFjLnNldENvbnRlbnQoaHRtbF8wNDM0OWI4ZGNkMDI0OTM2ODY0ZDE5YzRiZmUzZjIzOSk7CiAgICAgICAgICAgIAoKICAgICAgICAgICAgY2lyY2xlX21hcmtlcl9kOWE2NGNmODgxMTg0OTVmYjhjOWJmNjg4YjkyMGM0ZS5iaW5kUG9wdXAocG9wdXBfNDE0NWYzMDgxNDRjNGYwNmI0Zjc1MTI0ZDE3OGY2MWMpCiAgICAgICAgICAgIDsKCiAgICAgICAgICAgIAogICAgICAgIAogICAgCiAgICAgICAgICAgIHZhciBjaXJjbGVfbWFya2VyX2FiYTZiMWUxZmU1ODQxOTI4ZTFlMjhjZjVmY2U0OGRkID0gTC5jaXJjbGVNYXJrZXIoCiAgICAgICAgICAgICAgICBbLTI3LjU5OTAxNTcsIC00OC41MDE0MjAzXSwKICAgICAgICAgICAgICAgIHsKICAiYnViYmxpbmdNb3VzZUV2ZW50cyI6IHRydWUsCiAgImNvbG9yIjogInJlZCIsCiAgImRhc2hBcnJheSI6IG51bGwsCiAgImRhc2hPZmZzZXQiOiBudWxsLAogICJmaWxsIjogdHJ1ZSwKICAiZmlsbENvbG9yIjogIiMzMTg2Y2MiLAogICJmaWxsT3BhY2l0eSI6IDAuNywKICAiZmlsbFJ1bGUiOiAiZXZlbm9kZCIsCiAgImxpbmVDYXAiOiAicm91bmQiLAogICJsaW5lSm9pbiI6ICJyb3VuZCIsCiAgIm9wYWNpdHkiOiAxLjAsCiAgInJhZGl1cyI6IDUsCiAgInN0cm9rZSI6IHRydWUsCiAgIndlaWdodCI6IDMKfQogICAgICAgICAgICAgICAgKQogICAgICAgICAgICAgICAgLmFkZFRvKG1hcF80M2ZiZTk3MmU5OWQ0MTVlOGM3MzI5ZjQ1OWNhODI0MSk7CiAgICAgICAgICAgIAogICAgCiAgICAgICAgICAgIHZhciBwb3B1cF9iNjM4MzQ4ZDA5ODg0MTBmYTM0ODUwZTJlMmI2ODNkNyA9IEwucG9wdXAoe21heFdpZHRoOiAnMTAwJScKICAgICAgICAgICAgCiAgICAgICAgICAgIH0pOwoKICAgICAgICAgICAgCiAgICAgICAgICAgICAgICB2YXIgaHRtbF9hMzZjODk2OTVmMjE0ZTY4OWIyMDJiYzJmZmVmYmRhMyA9ICQoYDxkaXYgaWQ9Imh0bWxfYTM2Yzg5Njk1ZjIxNGU2ODliMjAyYmMyZmZlZmJkYTMiIHN0eWxlPSJ3aWR0aDogMTAwLjAlOyBoZWlnaHQ6IDEwMC4wJTsiPkPDs3JyZWdvIEdyYW5kZTwvZGl2PmApWzBdOwogICAgICAgICAgICAgICAgcG9wdXBfYjYzODM0OGQwOTg4NDEwZmEzNDg1MGUyZTJiNjgzZDcuc2V0Q29udGVudChodG1sX2EzNmM4OTY5NWYyMTRlNjg5YjIwMmJjMmZmZWZiZGEzKTsKICAgICAgICAgICAgCgogICAgICAgICAgICBjaXJjbGVfbWFya2VyX2FiYTZiMWUxZmU1ODQxOTI4ZTFlMjhjZjVmY2U0OGRkLmJpbmRQb3B1cChwb3B1cF9iNjM4MzQ4ZDA5ODg0MTBmYTM0ODUwZTJlMmI2ODNkNykKICAgICAgICAgICAgOwoKICAgICAgICAgICAgCiAgICAgICAgCiAgICAKICAgICAgICAgICAgdmFyIGNpcmNsZV9tYXJrZXJfMzQ1MTRjOWIxNzI3NDkzN2IwZTU2MTg0MjQ2OWMxYjAgPSBMLmNpcmNsZU1hcmtlcigKICAgICAgICAgICAgICAgIFstMjcuNDI5NTY2OCwgLTQ4LjQ2MDI0MzldLAogICAgICAgICAgICAgICAgewogICJidWJibGluZ01vdXNlRXZlbnRzIjogdHJ1ZSwKICAiY29sb3IiOiAicmVkIiwKICAiZGFzaEFycmF5IjogbnVsbCwKICAiZGFzaE9mZnNldCI6IG51bGwsCiAgImZpbGwiOiB0cnVlLAogICJmaWxsQ29sb3IiOiAiIzMxODZjYyIsCiAgImZpbGxPcGFjaXR5IjogMC43LAogICJmaWxsUnVsZSI6ICJldmVub2RkIiwKICAibGluZUNhcCI6ICJyb3VuZCIsCiAgImxpbmVKb2luIjogInJvdW5kIiwKICAib3BhY2l0eSI6IDEuMCwKICAicmFkaXVzIjogNSwKICAic3Ryb2tlIjogdHJ1ZSwKICAid2VpZ2h0IjogMwp9CiAgICAgICAgICAgICAgICApCiAgICAgICAgICAgICAgICAuYWRkVG8obWFwXzQzZmJlOTcyZTk5ZDQxNWU4YzczMjlmNDU5Y2E4MjQxKTsKICAgICAgICAgICAgCiAgICAKICAgICAgICAgICAgdmFyIHBvcHVwXzAyMmY4NmVmYWFiZDRkNWJiNTE0ZWU1MzFhOWM1ZDFjID0gTC5wb3B1cCh7bWF4V2lkdGg6ICcxMDAlJwogICAgICAgICAgICAKICAgICAgICAgICAgfSk7CgogICAgICAgICAgICAKICAgICAgICAgICAgICAgIHZhciBodG1sXzg4NTM3ODI1MDY2MjQ4ZDY4ZWEwMzNlMTlhZWE5MWE0ID0gJChgPGRpdiBpZD0iaHRtbF84ODUzNzgyNTA2NjI0OGQ2OGVhMDMzZTE5YWVhOTFhNCIgc3R5bGU9IndpZHRoOiAxMDAuMCU7IGhlaWdodDogMTAwLjAlOyI+Q2FuYXN2aWVpcmFzPC9kaXY+YClbMF07CiAgICAgICAgICAgICAgICBwb3B1cF8wMjJmODZlZmFhYmQ0ZDViYjUxNGVlNTMxYTljNWQxYy5zZXRDb250ZW50KGh0bWxfODg1Mzc4MjUwNjYyNDhkNjhlYTAzM2UxOWFlYTkxYTQpOwogICAgICAgICAgICAKCiAgICAgICAgICAgIGNpcmNsZV9tYXJrZXJfMzQ1MTRjOWIxNzI3NDkzN2IwZTU2MTg0MjQ2OWMxYjAuYmluZFBvcHVwKHBvcHVwXzAyMmY4NmVmYWFiZDRkNWJiNTE0ZWU1MzFhOWM1ZDFjKQogICAgICAgICAgICA7CgogICAgICAgICAgICAKICAgICAgICAKICAgIAogICAgICAgICAgICB2YXIgY2lyY2xlX21hcmtlcl9lZTliOGNmMDQ1ZWY0MmE5OGFlNTdjYjUzYzZlYWYyNCA9IEwuY2lyY2xlTWFya2VyKAogICAgICAgICAgICAgICAgWy0yNy42MDg1Nzc2LCAtNDguNTIxMTQyNF0sCiAgICAgICAgICAgICAgICB7CiAgImJ1YmJsaW5nTW91c2VFdmVudHMiOiB0cnVlLAogICJjb2xvciI6ICJyZWQiLAogICJkYXNoQXJyYXkiOiBudWxsLAogICJkYXNoT2Zmc2V0IjogbnVsbCwKICAiZmlsbCI6IHRydWUsCiAgImZpbGxDb2xvciI6ICIjMzE4NmNjIiwKICAiZmlsbE9wYWNpdHkiOiAwLjcsCiAgImZpbGxSdWxlIjogImV2ZW5vZGQiLAogICJsaW5lQ2FwIjogInJvdW5kIiwKICAibGluZUpvaW4iOiAicm91bmQiLAogICJvcGFjaXR5IjogMS4wLAogICJyYWRpdXMiOiA1LAogICJzdHJva2UiOiB0cnVlLAogICJ3ZWlnaHQiOiAzCn0KICAgICAgICAgICAgICAgICkKICAgICAgICAgICAgICAgIC5hZGRUbyhtYXBfNDNmYmU5NzJlOTlkNDE1ZThjNzMyOWY0NTljYTgyNDEpOwogICAgICAgICAgICAKICAgIAogICAgICAgICAgICB2YXIgcG9wdXBfMWNiNjA0ZjkyMzRlNGFhOTkyODljOTkyY2U3YThkYWMgPSBMLnBvcHVwKHttYXhXaWR0aDogJzEwMCUnCiAgICAgICAgICAgIAogICAgICAgICAgICB9KTsKCiAgICAgICAgICAgIAogICAgICAgICAgICAgICAgdmFyIGh0bWxfNjNiNjFkNjg5ZjRkNDUzMDlkYTNjNGZhYTlmYjI4ZmQgPSAkKGA8ZGl2IGlkPSJodG1sXzYzYjYxZDY4OWY0ZDQ1MzA5ZGEzYzRmYWE5ZmIyOGZkIiBzdHlsZT0id2lkdGg6IDEwMC4wJTsgaGVpZ2h0OiAxMDAuMCU7Ij5QYW50YW5hbDwvZGl2PmApWzBdOwogICAgICAgICAgICAgICAgcG9wdXBfMWNiNjA0ZjkyMzRlNGFhOTkyODljOTkyY2U3YThkYWMuc2V0Q29udGVudChodG1sXzYzYjYxZDY4OWY0ZDQ1MzA5ZGEzYzRmYWE5ZmIyOGZkKTsKICAgICAgICAgICAgCgogICAgICAgICAgICBjaXJjbGVfbWFya2VyX2VlOWI4Y2YwNDVlZjQyYTk4YWU1N2NiNTNjNmVhZjI0LmJpbmRQb3B1cChwb3B1cF8xY2I2MDRmOTIzNGU0YWE5OTI4OWM5OTJjZTdhOGRhYykKICAgICAgICAgICAgOwoKICAgICAgICAgICAgCiAgICAgICAgCiAgICAKICAgICAgICAgICAgdmFyIGNpcmNsZV9tYXJrZXJfNmM5NTlmYmM0Y2M0NDIzNGEwYjdkZTRmZWJmYmVhZDkgPSBMLmNpcmNsZU1hcmtlcigKICAgICAgICAgICAgICAgIFstMjcuNTg4ODEyOSwgLTQ4LjU5MzY0NDldLAogICAgICAgICAgICAgICAgewogICJidWJibGluZ01vdXNlRXZlbnRzIjogdHJ1ZSwKICAiY29sb3IiOiAicmVkIiwKICAiZGFzaEFycmF5IjogbnVsbCwKICAiZGFzaE9mZnNldCI6IG51bGwsCiAgImZpbGwiOiB0cnVlLAogICJmaWxsQ29sb3IiOiAiIzMxODZjYyIsCiAgImZpbGxPcGFjaXR5IjogMC43LAogICJmaWxsUnVsZSI6ICJldmVub2RkIiwKICAibGluZUNhcCI6ICJyb3VuZCIsCiAgImxpbmVKb2luIjogInJvdW5kIiwKICAib3BhY2l0eSI6IDEuMCwKICAicmFkaXVzIjogNSwKICAic3Ryb2tlIjogdHJ1ZSwKICAid2VpZ2h0IjogMwp9CiAgICAgICAgICAgICAgICApCiAgICAgICAgICAgICAgICAuYWRkVG8obWFwXzQzZmJlOTcyZTk5ZDQxNWU4YzczMjlmNDU5Y2E4MjQxKTsKICAgICAgICAgICAgCiAgICAKICAgICAgICAgICAgdmFyIHBvcHVwX2Y3OTg5M2E4ZjE3NDQzZDBhZTUxMzA2ODY5OGUyMTEzID0gTC5wb3B1cCh7bWF4V2lkdGg6ICcxMDAlJwogICAgICAgICAgICAKICAgICAgICAgICAgfSk7CgogICAgICAgICAgICAKICAgICAgICAgICAgICAgIHZhciBodG1sXzM0NTdjNGE0NmY3MTQ3NDM4YzY4NmZhMTAxOTc5YmQ4ID0gJChgPGRpdiBpZD0iaHRtbF8zNDU3YzRhNDZmNzE0NzQzOGM2ODZmYTEwMTk3OWJkOCIgc3R5bGU9IndpZHRoOiAxMDAuMCU7IGhlaWdodDogMTAwLjAlOyI+Q29sb25pbmhhPC9kaXY+YClbMF07CiAgICAgICAgICAgICAgICBwb3B1cF9mNzk4OTNhOGYxNzQ0M2QwYWU1MTMwNjg2OThlMjExMy5zZXRDb250ZW50KGh0bWxfMzQ1N2M0YTQ2ZjcxNDc0MzhjNjg2ZmExMDE5NzliZDgpOwogICAgICAgICAgICAKCiAgICAgICAgICAgIGNpcmNsZV9tYXJrZXJfNmM5NTlmYmM0Y2M0NDIzNGEwYjdkZTRmZWJmYmVhZDkuYmluZFBvcHVwKHBvcHVwX2Y3OTg5M2E4ZjE3NDQzZDBhZTUxMzA2ODY5OGUyMTEzKQogICAgICAgICAgICA7CgogICAgICAgICAgICAKICAgICAgICAKICAgIAogICAgICAgICAgICB2YXIgY2lyY2xlX21hcmtlcl83NzMzMDJhNmM1NTY0ZDVhYWM5MGU4YTVkMWQ0YThhNCA9IEwuY2lyY2xlTWFya2VyKAogICAgICAgICAgICAgICAgWy0yNy41NzQ3NzgsIC00OC40MjU4MzUyXSwKICAgICAgICAgICAgICAgIHsKICAiYnViYmxpbmdNb3VzZUV2ZW50cyI6IHRydWUsCiAgImNvbG9yIjogInJlZCIsCiAgImRhc2hBcnJheSI6IG51bGwsCiAgImRhc2hPZmZzZXQiOiBudWxsLAogICJmaWxsIjogdHJ1ZSwKICAiZmlsbENvbG9yIjogIiMzMTg2Y2MiLAogICJmaWxsT3BhY2l0eSI6IDAuNywKICAiZmlsbFJ1bGUiOiAiZXZlbm9kZCIsCiAgImxpbmVDYXAiOiAicm91bmQiLAogICJsaW5lSm9pbiI6ICJyb3VuZCIsCiAgIm9wYWNpdHkiOiAxLjAsCiAgInJhZGl1cyI6IDUsCiAgInN0cm9rZSI6IHRydWUsCiAgIndlaWdodCI6IDMKfQogICAgICAgICAgICAgICAgKQogICAgICAgICAgICAgICAgLmFkZFRvKG1hcF80M2ZiZTk3MmU5OWQ0MTVlOGM3MzI5ZjQ1OWNhODI0MSk7CiAgICAgICAgICAgIAogICAgCiAgICAgICAgICAgIHZhciBwb3B1cF8zNDMxY2RkYmIxYzU0ZDZkYTkxZGI3N2QxNzBiMTEzZCA9IEwucG9wdXAoe21heFdpZHRoOiAnMTAwJScKICAgICAgICAgICAgCiAgICAgICAgICAgIH0pOwoKICAgICAgICAgICAgCiAgICAgICAgICAgICAgICB2YXIgaHRtbF80OTE1NjcyNjkzZjM0ZTI3OWYxOWE3OWRkZjQ0M2EwNCA9ICQoYDxkaXYgaWQ9Imh0bWxfNDkxNTY3MjY5M2YzNGUyNzlmMTlhNzlkZGY0NDNhMDQiIHN0eWxlPSJ3aWR0aDogMTAwLjAlOyBoZWlnaHQ6IDEwMC4wJTsiPkJhcnJhIGRhIExhZ29hPC9kaXY+YClbMF07CiAgICAgICAgICAgICAgICBwb3B1cF8zNDMxY2RkYmIxYzU0ZDZkYTkxZGI3N2QxNzBiMTEzZC5zZXRDb250ZW50KGh0bWxfNDkxNTY3MjY5M2YzNGUyNzlmMTlhNzlkZGY0NDNhMDQpOwogICAgICAgICAgICAKCiAgICAgICAgICAgIGNpcmNsZV9tYXJrZXJfNzczMzAyYTZjNTU2NGQ1YWFjOTBlOGE1ZDFkNGE4YTQuYmluZFBvcHVwKHBvcHVwXzM0MzFjZGRiYjFjNTRkNmRhOTFkYjc3ZDE3MGIxMTNkKQogICAgICAgICAgICA7CgogICAgICAgICAgICAKICAgICAgICAKICAgIAogICAgICAgICAgICB2YXIgY2lyY2xlX21hcmtlcl81MzBmYjBkZTM1NmU0YWYwYWMyYWYyYTcyZjg5ZWY1NCA9IEwuY2lyY2xlTWFya2VyKAogICAgICAgICAgICAgICAgWy0yNy42NjQwMzM5LCAtNDguNTM4NjY3OV0sCiAgICAgICAgICAgICAgICB7CiAgImJ1YmJsaW5nTW91c2VFdmVudHMiOiB0cnVlLAogICJjb2xvciI6ICJyZWQiLAogICJkYXNoQXJyYXkiOiBudWxsLAogICJkYXNoT2Zmc2V0IjogbnVsbCwKICAiZmlsbCI6IHRydWUsCiAgImZpbGxDb2xvciI6ICIjMzE4NmNjIiwKICAiZmlsbE9wYWNpdHkiOiAwLjcsCiAgImZpbGxSdWxlIjogImV2ZW5vZGQiLAogICJsaW5lQ2FwIjogInJvdW5kIiwKICAibGluZUpvaW4iOiAicm91bmQiLAogICJvcGFjaXR5IjogMS4wLAogICJyYWRpdXMiOiA1LAogICJzdHJva2UiOiB0cnVlLAogICJ3ZWlnaHQiOiAzCn0KICAgICAgICAgICAgICAgICkKICAgICAgICAgICAgICAgIC5hZGRUbyhtYXBfNDNmYmU5NzJlOTlkNDE1ZThjNzMyOWY0NTljYTgyNDEpOwogICAgICAgICAgICAKICAgIAogICAgICAgICAgICB2YXIgcG9wdXBfYzBiODIwY2RkYmFkNGVlZTk2MWM0MmQyYWE4NWFiNzMgPSBMLnBvcHVwKHttYXhXaWR0aDogJzEwMCUnCiAgICAgICAgICAgIAogICAgICAgICAgICB9KTsKCiAgICAgICAgICAgIAogICAgICAgICAgICAgICAgdmFyIGh0bWxfMWM1MjgxZTdmNmE3NGE1OWExZDkyMmEyNzNhNzQ5MzkgPSAkKGA8ZGl2IGlkPSJodG1sXzFjNTI4MWU3ZjZhNzRhNTlhMWQ5MjJhMjczYTc0OTM5IiBzdHlsZT0id2lkdGg6IDEwMC4wJTsgaGVpZ2h0OiAxMDAuMCU7Ij5DYXJpYW5vczwvZGl2PmApWzBdOwogICAgICAgICAgICAgICAgcG9wdXBfYzBiODIwY2RkYmFkNGVlZTk2MWM0MmQyYWE4NWFiNzMuc2V0Q29udGVudChodG1sXzFjNTI4MWU3ZjZhNzRhNTlhMWQ5MjJhMjczYTc0OTM5KTsKICAgICAgICAgICAgCgogICAgICAgICAgICBjaXJjbGVfbWFya2VyXzUzMGZiMGRlMzU2ZTRhZjBhYzJhZjJhNzJmODllZjU0LmJpbmRQb3B1cChwb3B1cF9jMGI4MjBjZGRiYWQ0ZWVlOTYxYzQyZDJhYTg1YWI3MykKICAgICAgICAgICAgOwoKICAgICAgICAgICAgCiAgICAgICAgCiAgICAKICAgICAgICAgICAgdmFyIGNpcmNsZV9tYXJrZXJfNDM2YWI4MGRlMjcxNDY3YmE0OGE0ZGE3ODNmODlkZWEgPSBMLmNpcmNsZU1hcmtlcigKICAgICAgICAgICAgICAgIFstMjcuNjEyMjYwNywgLTQ4LjU0NjI3MzldLAogICAgICAgICAgICAgICAgewogICJidWJibGluZ01vdXNlRXZlbnRzIjogdHJ1ZSwKICAiY29sb3IiOiAicmVkIiwKICAiZGFzaEFycmF5IjogbnVsbCwKICAiZGFzaE9mZnNldCI6IG51bGwsCiAgImZpbGwiOiB0cnVlLAogICJmaWxsQ29sb3IiOiAiIzMxODZjYyIsCiAgImZpbGxPcGFjaXR5IjogMC43LAogICJmaWxsUnVsZSI6ICJldmVub2RkIiwKICAibGluZUNhcCI6ICJyb3VuZCIsCiAgImxpbmVKb2luIjogInJvdW5kIiwKICAib3BhY2l0eSI6IDEuMCwKICAicmFkaXVzIjogNSwKICAic3Ryb2tlIjogdHJ1ZSwKICAid2VpZ2h0IjogMwp9CiAgICAgICAgICAgICAgICApCiAgICAgICAgICAgICAgICAuYWRkVG8obWFwXzQzZmJlOTcyZTk5ZDQxNWU4YzczMjlmNDU5Y2E4MjQxKTsKICAgICAgICAgICAgCiAgICAKICAgICAgICAgICAgdmFyIHBvcHVwXzZkNjllNTM5YTRmMDQwZWZiZmZmNzUyMTkzM2RiYTFmID0gTC5wb3B1cCh7bWF4V2lkdGg6ICcxMDAlJwogICAgICAgICAgICAKICAgICAgICAgICAgfSk7CgogICAgICAgICAgICAKICAgICAgICAgICAgICAgIHZhciBodG1sX2VkMThjNTVmNzVkMDQ3ZmJhOTcyOTM2YmZjOWVhYzZlID0gJChgPGRpdiBpZD0iaHRtbF9lZDE4YzU1Zjc1ZDA0N2ZiYTk3MjkzNmJmYzllYWM2ZSIgc3R5bGU9IndpZHRoOiAxMDAuMCU7IGhlaWdodDogMTAwLjAlOyI+Sm9zw6kgTWVuZGVzPC9kaXY+YClbMF07CiAgICAgICAgICAgICAgICBwb3B1cF82ZDY5ZTUzOWE0ZjA0MGVmYmZmZjc1MjE5MzNkYmExZi5zZXRDb250ZW50KGh0bWxfZWQxOGM1NWY3NWQwNDdmYmE5NzI5MzZiZmM5ZWFjNmUpOwogICAgICAgICAgICAKCiAgICAgICAgICAgIGNpcmNsZV9tYXJrZXJfNDM2YWI4MGRlMjcxNDY3YmE0OGE0ZGE3ODNmODlkZWEuYmluZFBvcHVwKHBvcHVwXzZkNjllNTM5YTRmMDQwZWZiZmZmNzUyMTkzM2RiYTFmKQogICAgICAgICAgICA7CgogICAgICAgICAgICAKICAgICAgICAKICAgIAogICAgICAgICAgICB2YXIgY2lyY2xlX21hcmtlcl9hODE0NWUyZDlmODE0Zjc2OWE5NzRiMmU4ZTY5ODM0YiA9IEwuY2lyY2xlTWFya2VyKAogICAgICAgICAgICAgICAgWy0yNy40MzM1MjkxLCAtNDguNDA0NDUyMTAxNzU0NV0sCiAgICAgICAgICAgICAgICB7CiAgImJ1YmJsaW5nTW91c2VFdmVudHMiOiB0cnVlLAogICJjb2xvciI6ICJyZWQiLAogICJkYXNoQXJyYXkiOiBudWxsLAogICJkYXNoT2Zmc2V0IjogbnVsbCwKICAiZmlsbCI6IHRydWUsCiAgImZpbGxDb2xvciI6ICIjMzE4NmNjIiwKICAiZmlsbE9wYWNpdHkiOiAwLjcsCiAgImZpbGxSdWxlIjogImV2ZW5vZGQiLAogICJsaW5lQ2FwIjogInJvdW5kIiwKICAibGluZUpvaW4iOiAicm91bmQiLAogICJvcGFjaXR5IjogMS4wLAogICJyYWRpdXMiOiA1LAogICJzdHJva2UiOiB0cnVlLAogICJ3ZWlnaHQiOiAzCn0KICAgICAgICAgICAgICAgICkKICAgICAgICAgICAgICAgIC5hZGRUbyhtYXBfNDNmYmU5NzJlOTlkNDE1ZThjNzMyOWY0NTljYTgyNDEpOwogICAgICAgICAgICAKICAgIAogICAgICAgICAgICB2YXIgcG9wdXBfOTMwOWZiYmYxZTgzNGJiY2FiM2NjYWIxM2Y4YmEwYzIgPSBMLnBvcHVwKHttYXhXaWR0aDogJzEwMCUnCiAgICAgICAgICAgIAogICAgICAgICAgICB9KTsKCiAgICAgICAgICAgIAogICAgICAgICAgICAgICAgdmFyIGh0bWxfNjMxYTdlMmU2NGQwNDk4Njk1YjcyZDQyNjQzMzkxYjIgPSAkKGA8ZGl2IGlkPSJodG1sXzYzMWE3ZTJlNjRkMDQ5ODY5NWI3MmQ0MjY0MzM5MWIyIiBzdHlsZT0id2lkdGg6IDEwMC4wJTsgaGVpZ2h0OiAxMDAuMCU7Ij5JbmdsZXNlcyBDZW50cm88L2Rpdj5gKVswXTsKICAgICAgICAgICAgICAgIHBvcHVwXzkzMDlmYmJmMWU4MzRiYmNhYjNjY2FiMTNmOGJhMGMyLnNldENvbnRlbnQoaHRtbF82MzFhN2UyZTY0ZDA0OTg2OTViNzJkNDI2NDMzOTFiMik7CiAgICAgICAgICAgIAoKICAgICAgICAgICAgY2lyY2xlX21hcmtlcl9hODE0NWUyZDlmODE0Zjc2OWE5NzRiMmU4ZTY5ODM0Yi5iaW5kUG9wdXAocG9wdXBfOTMwOWZiYmYxZTgzNGJiY2FiM2NjYWIxM2Y4YmEwYzIpCiAgICAgICAgICAgIDsKCiAgICAgICAgICAgIAogICAgICAgIAogICAgCiAgICAgICAgICAgIHZhciBjaXJjbGVfbWFya2VyX2E5OTUzYTg5OWMwNTRkMzc5OWQ3OTRhMmE2ZTU1OTRiID0gTC5jaXJjbGVNYXJrZXIoCiAgICAgICAgICAgICAgICBbLTI3LjU2MDAwNjksIC00OC41MTExMTldLAogICAgICAgICAgICAgICAgewogICJidWJibGluZ01vdXNlRXZlbnRzIjogdHJ1ZSwKICAiY29sb3IiOiAicmVkIiwKICAiZGFzaEFycmF5IjogbnVsbCwKICAiZGFzaE9mZnNldCI6IG51bGwsCiAgImZpbGwiOiB0cnVlLAogICJmaWxsQ29sb3IiOiAiIzMxODZjYyIsCiAgImZpbGxPcGFjaXR5IjogMC43LAogICJmaWxsUnVsZSI6ICJldmVub2RkIiwKICAibGluZUNhcCI6ICJyb3VuZCIsCiAgImxpbmVKb2luIjogInJvdW5kIiwKICAib3BhY2l0eSI6IDEuMCwKICAicmFkaXVzIjogNSwKICAic3Ryb2tlIjogdHJ1ZSwKICAid2VpZ2h0IjogMwp9CiAgICAgICAgICAgICAgICApCiAgICAgICAgICAgICAgICAuYWRkVG8obWFwXzQzZmJlOTcyZTk5ZDQxNWU4YzczMjlmNDU5Y2E4MjQxKTsKICAgICAgICAgICAgCiAgICAKICAgICAgICAgICAgdmFyIHBvcHVwX2NkZTFlNDBhZjE4NjQ0ZmFhNjQ5NGE1ZTQwNGZlZDExID0gTC5wb3B1cCh7bWF4V2lkdGg6ICcxMDAlJwogICAgICAgICAgICAKICAgICAgICAgICAgfSk7CgogICAgICAgICAgICAKICAgICAgICAgICAgICAgIHZhciBodG1sXzE1MzgwMzNlNGVhZjQwMDc4MjYyYzExMjk3YjQ3NDZmID0gJChgPGRpdiBpZD0iaHRtbF8xNTM4MDMzZTRlYWY0MDA3ODI2MmMxMTI5N2I0NzQ2ZiIgc3R5bGU9IndpZHRoOiAxMDAuMCU7IGhlaWdodDogMTAwLjAlOyI+Sm/Do28gUGF1bG88L2Rpdj5gKVswXTsKICAgICAgICAgICAgICAgIHBvcHVwX2NkZTFlNDBhZjE4NjQ0ZmFhNjQ5NGE1ZTQwNGZlZDExLnNldENvbnRlbnQoaHRtbF8xNTM4MDMzZTRlYWY0MDA3ODI2MmMxMTI5N2I0NzQ2Zik7CiAgICAgICAgICAgIAoKICAgICAgICAgICAgY2lyY2xlX21hcmtlcl9hOTk1M2E4OTljMDU0ZDM3OTlkNzk0YTJhNmU1NTk0Yi5iaW5kUG9wdXAocG9wdXBfY2RlMWU0MGFmMTg2NDRmYWE2NDk0YTVlNDA0ZmVkMTEpCiAgICAgICAgICAgIDsKCiAgICAgICAgICAgIAogICAgICAgIAogICAgCiAgICAgICAgICAgIHZhciBjaXJjbGVfbWFya2VyX2QwZDQwYjNmMDhhMjRmYTRiNDMzYWEwOWQzNjFmNWM3ID0gTC5jaXJjbGVNYXJrZXIoCiAgICAgICAgICAgICAgICBbLTI3LjY4MjUzODUsIC00OC40ODgxMzAzXSwKICAgICAgICAgICAgICAgIHsKICAiYnViYmxpbmdNb3VzZUV2ZW50cyI6IHRydWUsCiAgImNvbG9yIjogInJlZCIsCiAgImRhc2hBcnJheSI6IG51bGwsCiAgImRhc2hPZmZzZXQiOiBudWxsLAogICJmaWxsIjogdHJ1ZSwKICAiZmlsbENvbG9yIjogIiMzMTg2Y2MiLAogICJmaWxsT3BhY2l0eSI6IDAuNywKICAiZmlsbFJ1bGUiOiAiZXZlbm9kZCIsCiAgImxpbmVDYXAiOiAicm91bmQiLAogICJsaW5lSm9pbiI6ICJyb3VuZCIsCiAgIm9wYWNpdHkiOiAxLjAsCiAgInJhZGl1cyI6IDUsCiAgInN0cm9rZSI6IHRydWUsCiAgIndlaWdodCI6IDMKfQogICAgICAgICAgICAgICAgKQogICAgICAgICAgICAgICAgLmFkZFRvKG1hcF80M2ZiZTk3MmU5OWQ0MTVlOGM3MzI5ZjQ1OWNhODI0MSk7CiAgICAgICAgICAgIAogICAgCiAgICAgICAgICAgIHZhciBwb3B1cF85OTlhMjU0ZDYwZWE0MzlkYjMxZTlkOGViOTllNTA2OCA9IEwucG9wdXAoe21heFdpZHRoOiAnMTAwJScKICAgICAgICAgICAgCiAgICAgICAgICAgIH0pOwoKICAgICAgICAgICAgCiAgICAgICAgICAgICAgICB2YXIgaHRtbF9jMGIzZGE0ZTlmOWY0MGI4YTQzMmYyMTBhODY2OGVjOSA9ICQoYDxkaXYgaWQ9Imh0bWxfYzBiM2RhNGU5ZjlmNDBiOGE0MzJmMjEwYTg2NjhlYzkiIHN0eWxlPSJ3aWR0aDogMTAwLjAlOyBoZWlnaHQ6IDEwMC4wJTsiPkNhbXBlY2hlIExlc3RlPC9kaXY+YClbMF07CiAgICAgICAgICAgICAgICBwb3B1cF85OTlhMjU0ZDYwZWE0MzlkYjMxZTlkOGViOTllNTA2OC5zZXRDb250ZW50KGh0bWxfYzBiM2RhNGU5ZjlmNDBiOGE0MzJmMjEwYTg2NjhlYzkpOwogICAgICAgICAgICAKCiAgICAgICAgICAgIGNpcmNsZV9tYXJrZXJfZDBkNDBiM2YwOGEyNGZhNGI0MzNhYTA5ZDM2MWY1YzcuYmluZFBvcHVwKHBvcHVwXzk5OWEyNTRkNjBlYTQzOWRiMzFlOWQ4ZWI5OWU1MDY4KQogICAgICAgICAgICA7CgogICAgICAgICAgICAKICAgICAgICAKICAgIAogICAgICAgICAgICB2YXIgY2lyY2xlX21hcmtlcl83MTNmNmJiNTRjNTA0MzViOGY5ZjEwOTRhMDU1MmY3MyA9IEwuY2lyY2xlTWFya2VyKAogICAgICAgICAgICAgICAgWy0yNy42ODI1Mzg1LCAtNDguNDg4MTMwM10sCiAgICAgICAgICAgICAgICB7CiAgImJ1YmJsaW5nTW91c2VFdmVudHMiOiB0cnVlLAogICJjb2xvciI6ICJyZWQiLAogICJkYXNoQXJyYXkiOiBudWxsLAogICJkYXNoT2Zmc2V0IjogbnVsbCwKICAiZmlsbCI6IHRydWUsCiAgImZpbGxDb2xvciI6ICIjMzE4NmNjIiwKICAiZmlsbE9wYWNpdHkiOiAwLjcsCiAgImZpbGxSdWxlIjogImV2ZW5vZGQiLAogICJsaW5lQ2FwIjogInJvdW5kIiwKICAibGluZUpvaW4iOiAicm91bmQiLAogICJvcGFjaXR5IjogMS4wLAogICJyYWRpdXMiOiA1LAogICJzdHJva2UiOiB0cnVlLAogICJ3ZWlnaHQiOiAzCn0KICAgICAgICAgICAgICAgICkKICAgICAgICAgICAgICAgIC5hZGRUbyhtYXBfNDNmYmU5NzJlOTlkNDE1ZThjNzMyOWY0NTljYTgyNDEpOwogICAgICAgICAgICAKICAgIAogICAgICAgICAgICB2YXIgcG9wdXBfYWRhMzMwYzBlNjg0NGM3YTgwNjZlNjgwMWY0MWFhNTQgPSBMLnBvcHVwKHttYXhXaWR0aDogJzEwMCUnCiAgICAgICAgICAgIAogICAgICAgICAgICB9KTsKCiAgICAgICAgICAgIAogICAgICAgICAgICAgICAgdmFyIGh0bWxfOTBmYjg2ZTNkZWEzNDZhMjg4NGMzNzMzZmZlOTg2MTIgPSAkKGA8ZGl2IGlkPSJodG1sXzkwZmI4NmUzZGVhMzQ2YTI4ODRjMzczM2ZmZTk4NjEyIiBzdHlsZT0id2lkdGg6IDEwMC4wJTsgaGVpZ2h0OiAxMDAuMCU7Ij5DYW1wZWNoZSBTdWw8L2Rpdj5gKVswXTsKICAgICAgICAgICAgICAgIHBvcHVwX2FkYTMzMGMwZTY4NDRjN2E4MDY2ZTY4MDFmNDFhYTU0LnNldENvbnRlbnQoaHRtbF85MGZiODZlM2RlYTM0NmEyODg0YzM3MzNmZmU5ODYxMik7CiAgICAgICAgICAgIAoKICAgICAgICAgICAgY2lyY2xlX21hcmtlcl83MTNmNmJiNTRjNTA0MzViOGY5ZjEwOTRhMDU1MmY3My5iaW5kUG9wdXAocG9wdXBfYWRhMzMwYzBlNjg0NGM3YTgwNjZlNjgwMWY0MWFhNTQpCiAgICAgICAgICAgIDsKCiAgICAgICAgICAgIAogICAgICAgIAogICAgCiAgICAgICAgICAgIHZhciBjaXJjbGVfbWFya2VyXzQ1ZjU4MjY2MmM3OTRhNGE5ZjU5OWNkMGFkMzIzNzgyID0gTC5jaXJjbGVNYXJrZXIoCiAgICAgICAgICAgICAgICBbLTI3LjY2MzE3NTMsIC00OC41MTQ3Njc0XSwKICAgICAgICAgICAgICAgIHsKICAiYnViYmxpbmdNb3VzZUV2ZW50cyI6IHRydWUsCiAgImNvbG9yIjogInJlZCIsCiAgImRhc2hBcnJheSI6IG51bGwsCiAgImRhc2hPZmZzZXQiOiBudWxsLAogICJmaWxsIjogdHJ1ZSwKICAiZmlsbENvbG9yIjogIiMzMTg2Y2MiLAogICJmaWxsT3BhY2l0eSI6IDAuNywKICAiZmlsbFJ1bGUiOiAiZXZlbm9kZCIsCiAgImxpbmVDYXAiOiAicm91bmQiLAogICJsaW5lSm9pbiI6ICJyb3VuZCIsCiAgIm9wYWNpdHkiOiAxLjAsCiAgInJhZGl1cyI6IDUsCiAgInN0cm9rZSI6IHRydWUsCiAgIndlaWdodCI6IDMKfQogICAgICAgICAgICAgICAgKQogICAgICAgICAgICAgICAgLmFkZFRvKG1hcF80M2ZiZTk3MmU5OWQ0MTVlOGM3MzI5ZjQ1OWNhODI0MSk7CiAgICAgICAgICAgIAogICAgCiAgICAgICAgICAgIHZhciBwb3B1cF85YTc1YWVhNjhiMDM0OTU5YjA4OWVkNTkzNDE1MWIxMyA9IEwucG9wdXAoe21heFdpZHRoOiAnMTAwJScKICAgICAgICAgICAgCiAgICAgICAgICAgIH0pOwoKICAgICAgICAgICAgCiAgICAgICAgICAgICAgICB2YXIgaHRtbF9hZDNjNjk2NTNlOGM0MWE4OWQ4YzBmMzFhNzIwOWU4NyA9ICQoYDxkaXYgaWQ9Imh0bWxfYWQzYzY5NjUzZThjNDFhODlkOGMwZjMxYTcyMDllODciIHN0eWxlPSJ3aWR0aDogMTAwLjAlOyBoZWlnaHQ6IDEwMC4wJTsiPlJpbyBUYXZhcmVzIENlbnRyYWw8L2Rpdj5gKVswXTsKICAgICAgICAgICAgICAgIHBvcHVwXzlhNzVhZWE2OGIwMzQ5NTliMDg5ZWQ1OTM0MTUxYjEzLnNldENvbnRlbnQoaHRtbF9hZDNjNjk2NTNlOGM0MWE4OWQ4YzBmMzFhNzIwOWU4Nyk7CiAgICAgICAgICAgIAoKICAgICAgICAgICAgY2lyY2xlX21hcmtlcl80NWY1ODI2NjJjNzk0YTRhOWY1OTljZDBhZDMyMzc4Mi5iaW5kUG9wdXAocG9wdXBfOWE3NWFlYTY4YjAzNDk1OWIwODllZDU5MzQxNTFiMTMpCiAgICAgICAgICAgIDsKCiAgICAgICAgICAgIAogICAgICAgIAogICAgCiAgICAgICAgICAgIHZhciBjaXJjbGVfbWFya2VyXzczMDM2MTY1MmQ3MTQ0MDNiNTY1OGNkODZjZTliYjRjID0gTC5jaXJjbGVNYXJrZXIoCiAgICAgICAgICAgICAgICBbLTI3LjQ1Mzc0MDksIC00OC4zNzkxMTE2XSwKICAgICAgICAgICAgICAgIHsKICAiYnViYmxpbmdNb3VzZUV2ZW50cyI6IHRydWUsCiAgImNvbG9yIjogInJlZCIsCiAgImRhc2hBcnJheSI6IG51bGwsCiAgImRhc2hPZmZzZXQiOiBudWxsLAogICJmaWxsIjogdHJ1ZSwKICAiZmlsbENvbG9yIjogIiMzMTg2Y2MiLAogICJmaWxsT3BhY2l0eSI6IDAuNywKICAiZmlsbFJ1bGUiOiAiZXZlbm9kZCIsCiAgImxpbmVDYXAiOiAicm91bmQiLAogICJsaW5lSm9pbiI6ICJyb3VuZCIsCiAgIm9wYWNpdHkiOiAxLjAsCiAgInJhZGl1cyI6IDUsCiAgInN0cm9rZSI6IHRydWUsCiAgIndlaWdodCI6IDMKfQogICAgICAgICAgICAgICAgKQogICAgICAgICAgICAgICAgLmFkZFRvKG1hcF80M2ZiZTk3MmU5OWQ0MTVlOGM3MzI5ZjQ1OWNhODI0MSk7CiAgICAgICAgICAgIAogICAgCiAgICAgICAgICAgIHZhciBwb3B1cF9iZjE5NTk2NGMyM2M0N2JjYjRlOTBmOGRjN2IxMjcxOSA9IEwucG9wdXAoe21heFdpZHRoOiAnMTAwJScKICAgICAgICAgICAgCiAgICAgICAgICAgIH0pOwoKICAgICAgICAgICAgCiAgICAgICAgICAgICAgICB2YXIgaHRtbF80OGYxYjVkYzQ0MGI0ZThiYjVhZTE1MzgxNWU1MWJiMiA9ICQoYDxkaXYgaWQ9Imh0bWxfNDhmMWI1ZGM0NDBiNGU4YmI1YWUxNTM4MTVlNTFiYjIiIHN0eWxlPSJ3aWR0aDogMTAwLjAlOyBoZWlnaHQ6IDEwMC4wJTsiPlNhbnRpbmhvPC9kaXY+YClbMF07CiAgICAgICAgICAgICAgICBwb3B1cF9iZjE5NTk2NGMyM2M0N2JjYjRlOTBmOGRjN2IxMjcxOS5zZXRDb250ZW50KGh0bWxfNDhmMWI1ZGM0NDBiNGU4YmI1YWUxNTM4MTVlNTFiYjIpOwogICAgICAgICAgICAKCiAgICAgICAgICAgIGNpcmNsZV9tYXJrZXJfNzMwMzYxNjUyZDcxNDQwM2I1NjU4Y2Q4NmNlOWJiNGMuYmluZFBvcHVwKHBvcHVwX2JmMTk1OTY0YzIzYzQ3YmNiNGU5MGY4ZGM3YjEyNzE5KQogICAgICAgICAgICA7CgogICAgICAgICAgICAKICAgICAgICAKICAgIAogICAgICAgICAgICB2YXIgY2lyY2xlX21hcmtlcl9iNjkxMDA0NjlmMmI0NzMyOTA5Y2U0Mjc4Yzg4NDYxNCA9IEwuY2lyY2xlTWFya2VyKAogICAgICAgICAgICAgICAgWy0yNy4zOTY0Mjk0LCAtNDguNDI3NDI4NV0sCiAgICAgICAgICAgICAgICB7CiAgImJ1YmJsaW5nTW91c2VFdmVudHMiOiB0cnVlLAogICJjb2xvciI6ICJyZWQiLAogICJkYXNoQXJyYXkiOiBudWxsLAogICJkYXNoT2Zmc2V0IjogbnVsbCwKICAiZmlsbCI6IHRydWUsCiAgImZpbGxDb2xvciI6ICIjMzE4NmNjIiwKICAiZmlsbE9wYWNpdHkiOiAwLjcsCiAgImZpbGxSdWxlIjogImV2ZW5vZGQiLAogICJsaW5lQ2FwIjogInJvdW5kIiwKICAibGluZUpvaW4iOiAicm91bmQiLAogICJvcGFjaXR5IjogMS4wLAogICJyYWRpdXMiOiA1LAogICJzdHJva2UiOiB0cnVlLAogICJ3ZWlnaHQiOiAzCn0KICAgICAgICAgICAgICAgICkKICAgICAgICAgICAgICAgIC5hZGRUbyhtYXBfNDNmYmU5NzJlOTlkNDE1ZThjNzMyOWY0NTljYTgyNDEpOwogICAgICAgICAgICAKICAgIAogICAgICAgICAgICB2YXIgcG9wdXBfZmQxMThiZjI1NDlhNGJiMzk0NDgzMDA1NmY1NDMyYzggPSBMLnBvcHVwKHttYXhXaWR0aDogJzEwMCUnCiAgICAgICAgICAgIAogICAgICAgICAgICB9KTsKCiAgICAgICAgICAgIAogICAgICAgICAgICAgICAgdmFyIGh0bWxfZTRkMmYzZTA0ZmNmNDRmZTk2YzJlNDA5NDU5MjU2MGMgPSAkKGA8ZGl2IGlkPSJodG1sX2U0ZDJmM2UwNGZjZjQ0ZmU5NmMyZTQwOTQ1OTI1NjBjIiBzdHlsZT0id2lkdGg6IDEwMC4wJTsgaGVpZ2h0OiAxMDAuMCU7Ij5Qb250YSBkYXMgQ2FuYXM8L2Rpdj5gKVswXTsKICAgICAgICAgICAgICAgIHBvcHVwX2ZkMTE4YmYyNTQ5YTRiYjM5NDQ4MzAwNTZmNTQzMmM4LnNldENvbnRlbnQoaHRtbF9lNGQyZjNlMDRmY2Y0NGZlOTZjMmU0MDk0NTkyNTYwYyk7CiAgICAgICAgICAgIAoKICAgICAgICAgICAgY2lyY2xlX21hcmtlcl9iNjkxMDA0NjlmMmI0NzMyOTA5Y2U0Mjc4Yzg4NDYxNC5iaW5kUG9wdXAocG9wdXBfZmQxMThiZjI1NDlhNGJiMzk0NDgzMDA1NmY1NDMyYzgpCiAgICAgICAgICAgIDsKCiAgICAgICAgICAgIAogICAgICAgIAogICAgCiAgICAgICAgICAgIHZhciBjaXJjbGVfbWFya2VyX2ExMDA3OWM5NGJmMDQ0YzE4ODg2NmEwMjRkNDA0ODFhID0gTC5jaXJjbGVNYXJrZXIoCiAgICAgICAgICAgICAgICBbLTI3LjQ0Njk5NjcsIC00OC40MjkwOTQyXSwKICAgICAgICAgICAgICAgIHsKICAiYnViYmxpbmdNb3VzZUV2ZW50cyI6IHRydWUsCiAgImNvbG9yIjogInJlZCIsCiAgImRhc2hBcnJheSI6IG51bGwsCiAgImRhc2hPZmZzZXQiOiBudWxsLAogICJmaWxsIjogdHJ1ZSwKICAiZmlsbENvbG9yIjogIiMzMTg2Y2MiLAogICJmaWxsT3BhY2l0eSI6IDAuNywKICAiZmlsbFJ1bGUiOiAiZXZlbm9kZCIsCiAgImxpbmVDYXAiOiAicm91bmQiLAogICJsaW5lSm9pbiI6ICJyb3VuZCIsCiAgIm9wYWNpdHkiOiAxLjAsCiAgInJhZGl1cyI6IDUsCiAgInN0cm9rZSI6IHRydWUsCiAgIndlaWdodCI6IDMKfQogICAgICAgICAgICAgICAgKQogICAgICAgICAgICAgICAgLmFkZFRvKG1hcF80M2ZiZTk3MmU5OWQ0MTVlOGM3MzI5ZjQ1OWNhODI0MSk7CiAgICAgICAgICAgIAogICAgCiAgICAgICAgICAgIHZhciBwb3B1cF9kOTM5OWM5NjZiZDI0MGVmYWEyOTFiMDBkN2RhODQwOCA9IEwucG9wdXAoe21heFdpZHRoOiAnMTAwJScKICAgICAgICAgICAgCiAgICAgICAgICAgIH0pOwoKICAgICAgICAgICAgCiAgICAgICAgICAgICAgICB2YXIgaHRtbF85YzM2ODYxNjc0YWE0NTdmYjlhZjJmNWJlMTQ0NzY1YSA9ICQoYDxkaXYgaWQ9Imh0bWxfOWMzNjg2MTY3NGFhNDU3ZmI5YWYyZjViZTE0NDc2NWEiIHN0eWxlPSJ3aWR0aDogMTAwLjAlOyBoZWlnaHQ6IDEwMC4wJTsiPlZhcmdlbSBkbyBCb20gSmVzdXM8L2Rpdj5gKVswXTsKICAgICAgICAgICAgICAgIHBvcHVwX2Q5Mzk5Yzk2NmJkMjQwZWZhYTI5MWIwMGQ3ZGE4NDA4LnNldENvbnRlbnQoaHRtbF85YzM2ODYxNjc0YWE0NTdmYjlhZjJmNWJlMTQ0NzY1YSk7CiAgICAgICAgICAgIAoKICAgICAgICAgICAgY2lyY2xlX21hcmtlcl9hMTAwNzljOTRiZjA0NGMxODg4NjZhMDI0ZDQwNDgxYS5iaW5kUG9wdXAocG9wdXBfZDkzOTljOTY2YmQyNDBlZmFhMjkxYjAwZDdkYTg0MDgpCiAgICAgICAgICAgIDsKCiAgICAgICAgICAgIAogICAgICAgIAogICAgCiAgICAgICAgICAgIHZhciBjaXJjbGVfbWFya2VyX2ZiMjNjOGQyMThkNjQwZjQ4ZDViMzkyYjdhOTlkNmU0ID0gTC5jaXJjbGVNYXJrZXIoCiAgICAgICAgICAgICAgICBbLTI3Ljc0OTAzOSwgLTQ4LjUwNzY4NjddLAogICAgICAgICAgICAgICAgewogICJidWJibGluZ01vdXNlRXZlbnRzIjogdHJ1ZSwKICAiY29sb3IiOiAicmVkIiwKICAiZGFzaEFycmF5IjogbnVsbCwKICAiZGFzaE9mZnNldCI6IG51bGwsCiAgImZpbGwiOiB0cnVlLAogICJmaWxsQ29sb3IiOiAiIzMxODZjYyIsCiAgImZpbGxPcGFjaXR5IjogMC43LAogICJmaWxsUnVsZSI6ICJldmVub2RkIiwKICAibGluZUNhcCI6ICJyb3VuZCIsCiAgImxpbmVKb2luIjogInJvdW5kIiwKICAib3BhY2l0eSI6IDEuMCwKICAicmFkaXVzIjogNSwKICAic3Ryb2tlIjogdHJ1ZSwKICAid2VpZ2h0IjogMwp9CiAgICAgICAgICAgICAgICApCiAgICAgICAgICAgICAgICAuYWRkVG8obWFwXzQzZmJlOTcyZTk5ZDQxNWU4YzczMjlmNDU5Y2E4MjQxKTsKICAgICAgICAgICAgCiAgICAKICAgICAgICAgICAgdmFyIHBvcHVwXzhjNjQ0ZjExYmE2ODRlM2Q5ZTM4YjU2ZGJjZGVmOTZjID0gTC5wb3B1cCh7bWF4V2lkdGg6ICcxMDAlJwogICAgICAgICAgICAKICAgICAgICAgICAgfSk7CgogICAgICAgICAgICAKICAgICAgICAgICAgICAgIHZhciBodG1sXzc3NDk3YzEzOTk1ODQzNGQ5MDhkYmU5YTMxOGNkN2I2ID0gJChgPGRpdiBpZD0iaHRtbF83NzQ5N2MxMzk5NTg0MzRkOTA4ZGJlOWEzMThjZDdiNiIgc3R5bGU9IndpZHRoOiAxMDAuMCU7IGhlaWdodDogMTAwLjAlOyI+QXJtYcOnw6NvPC9kaXY+YClbMF07CiAgICAgICAgICAgICAgICBwb3B1cF84YzY0NGYxMWJhNjg0ZTNkOWUzOGI1NmRiY2RlZjk2Yy5zZXRDb250ZW50KGh0bWxfNzc0OTdjMTM5OTU4NDM0ZDkwOGRiZTlhMzE4Y2Q3YjYpOwogICAgICAgICAgICAKCiAgICAgICAgICAgIGNpcmNsZV9tYXJrZXJfZmIyM2M4ZDIxOGQ2NDBmNDhkNWIzOTJiN2E5OWQ2ZTQuYmluZFBvcHVwKHBvcHVwXzhjNjQ0ZjExYmE2ODRlM2Q5ZTM4YjU2ZGJjZGVmOTZjKQogICAgICAgICAgICA7CgogICAgICAgICAgICAKICAgICAgICAKICAgIAogICAgICAgICAgICB2YXIgY2lyY2xlX21hcmtlcl8yYzY0MTM0NjMyNTQ0MDA5YWYzZjMyNjk3YjczYjNlZSA9IEwuY2lyY2xlTWFya2VyKAogICAgICAgICAgICAgICAgWy0yNy40MjY1MzA3LCAtNDguNDIzNjc0OV0sCiAgICAgICAgICAgICAgICB7CiAgImJ1YmJsaW5nTW91c2VFdmVudHMiOiB0cnVlLAogICJjb2xvciI6ICJyZWQiLAogICJkYXNoQXJyYXkiOiBudWxsLAogICJkYXNoT2Zmc2V0IjogbnVsbCwKICAiZmlsbCI6IHRydWUsCiAgImZpbGxDb2xvciI6ICIjMzE4NmNjIiwKICAiZmlsbE9wYWNpdHkiOiAwLjcsCiAgImZpbGxSdWxlIjogImV2ZW5vZGQiLAogICJsaW5lQ2FwIjogInJvdW5kIiwKICAibGluZUpvaW4iOiAicm91bmQiLAogICJvcGFjaXR5IjogMS4wLAogICJyYWRpdXMiOiA1LAogICJzdHJva2UiOiB0cnVlLAogICJ3ZWlnaHQiOiAzCn0KICAgICAgICAgICAgICAgICkKICAgICAgICAgICAgICAgIC5hZGRUbyhtYXBfNDNmYmU5NzJlOTlkNDE1ZThjNzMyOWY0NTljYTgyNDEpOwogICAgICAgICAgICAKICAgIAogICAgICAgICAgICB2YXIgcG9wdXBfMzA2NzQ0YjE2ZTQ2NGFlMmExNTAxN2VkYmMwYWVmMzcgPSBMLnBvcHVwKHttYXhXaWR0aDogJzEwMCUnCiAgICAgICAgICAgIAogICAgICAgICAgICB9KTsKCiAgICAgICAgICAgIAogICAgICAgICAgICAgICAgdmFyIGh0bWxfMTRhZGRiZmQ1OWRlNDAzZGIwNGU5YjcyMDBmMzcyY2UgPSAkKGA8ZGl2IGlkPSJodG1sXzE0YWRkYmZkNTlkZTQwM2RiMDRlOWI3MjAwZjM3MmNlIiBzdHlsZT0id2lkdGg6IDEwMC4wJTsgaGVpZ2h0OiAxMDAuMCU7Ij5DYWNob2VpcmEgZG8gQm9tIEplc3VzIExlc3RlPC9kaXY+YClbMF07CiAgICAgICAgICAgICAgICBwb3B1cF8zMDY3NDRiMTZlNDY0YWUyYTE1MDE3ZWRiYzBhZWYzNy5zZXRDb250ZW50KGh0bWxfMTRhZGRiZmQ1OWRlNDAzZGIwNGU5YjcyMDBmMzcyY2UpOwogICAgICAgICAgICAKCiAgICAgICAgICAgIGNpcmNsZV9tYXJrZXJfMmM2NDEzNDYzMjU0NDAwOWFmM2YzMjY5N2I3M2IzZWUuYmluZFBvcHVwKHBvcHVwXzMwNjc0NGIxNmU0NjRhZTJhMTUwMTdlZGJjMGFlZjM3KQogICAgICAgICAgICA7CgogICAgICAgICAgICAKICAgICAgICAKICAgIAogICAgICAgICAgICB2YXIgY2lyY2xlX21hcmtlcl9mYTBkYmE4MGM2ODM0Y2ViOTA0ZTk4MmIxNDA4YjcwNiA9IEwuY2lyY2xlTWFya2VyKAogICAgICAgICAgICAgICAgWy0yNy43Nzk5NTA5LCAtNDguNTA3MzE4N10sCiAgICAgICAgICAgICAgICB7CiAgImJ1YmJsaW5nTW91c2VFdmVudHMiOiB0cnVlLAogICJjb2xvciI6ICJyZWQiLAogICJkYXNoQXJyYXkiOiBudWxsLAogICJkYXNoT2Zmc2V0IjogbnVsbCwKICAiZmlsbCI6IHRydWUsCiAgImZpbGxDb2xvciI6ICIjMzE4NmNjIiwKICAiZmlsbE9wYWNpdHkiOiAwLjcsCiAgImZpbGxSdWxlIjogImV2ZW5vZGQiLAogICJsaW5lQ2FwIjogInJvdW5kIiwKICAibGluZUpvaW4iOiAicm91bmQiLAogICJvcGFjaXR5IjogMS4wLAogICJyYWRpdXMiOiA1LAogICJzdHJva2UiOiB0cnVlLAogICJ3ZWlnaHQiOiAzCn0KICAgICAgICAgICAgICAgICkKICAgICAgICAgICAgICAgIC5hZGRUbyhtYXBfNDNmYmU5NzJlOTlkNDE1ZThjNzMyOWY0NTljYTgyNDEpOwogICAgICAgICAgICAKICAgIAogICAgICAgICAgICB2YXIgcG9wdXBfM2ZiNDk3MmU1M2FhNDFhM2FlYTEyOWUzODY1OWE1ZTEgPSBMLnBvcHVwKHttYXhXaWR0aDogJzEwMCUnCiAgICAgICAgICAgIAogICAgICAgICAgICB9KTsKCiAgICAgICAgICAgIAogICAgICAgICAgICAgICAgdmFyIGh0bWxfZmJmY2I4ZDYyY2RlNDZmNjhjMzRmOWRmZGFmYzYyODcgPSAkKGA8ZGl2IGlkPSJodG1sX2ZiZmNiOGQ2MmNkZTQ2ZjY4YzM0ZjlkZmRhZmM2Mjg3IiBzdHlsZT0id2lkdGg6IDEwMC4wJTsgaGVpZ2h0OiAxMDAuMCU7Ij5Qw6JudGFubyBkbyBTdWw8L2Rpdj5gKVswXTsKICAgICAgICAgICAgICAgIHBvcHVwXzNmYjQ5NzJlNTNhYTQxYTNhZWExMjllMzg2NTlhNWUxLnNldENvbnRlbnQoaHRtbF9mYmZjYjhkNjJjZGU0NmY2OGMzNGY5ZGZkYWZjNjI4Nyk7CiAgICAgICAgICAgIAoKICAgICAgICAgICAgY2lyY2xlX21hcmtlcl9mYTBkYmE4MGM2ODM0Y2ViOTA0ZTk4MmIxNDA4YjcwNi5iaW5kUG9wdXAocG9wdXBfM2ZiNDk3MmU1M2FhNDFhM2FlYTEyOWUzODY1OWE1ZTEpCiAgICAgICAgICAgIDsKCiAgICAgICAgICAgIAogICAgICAgIAogICAgCiAgICAgICAgICAgIHZhciBjaXJjbGVfbWFya2VyX2NlNzRlYTFiMzc3YTRhNjFiMmIzYWVmYWNhMjAzMTEyID0gTC5jaXJjbGVNYXJrZXIoCiAgICAgICAgICAgICAgICBbLTI3LjYxNDY1NjQsIC00OC41OTE1NDk2XSwKICAgICAgICAgICAgICAgIHsKICAiYnViYmxpbmdNb3VzZUV2ZW50cyI6IHRydWUsCiAgImNvbG9yIjogInJlZCIsCiAgImRhc2hBcnJheSI6IG51bGwsCiAgImRhc2hPZmZzZXQiOiBudWxsLAogICJmaWxsIjogdHJ1ZSwKICAiZmlsbENvbG9yIjogIiMzMTg2Y2MiLAogICJmaWxsT3BhY2l0eSI6IDAuNywKICAiZmlsbFJ1bGUiOiAiZXZlbm9kZCIsCiAgImxpbmVDYXAiOiAicm91bmQiLAogICJsaW5lSm9pbiI6ICJyb3VuZCIsCiAgIm9wYWNpdHkiOiAxLjAsCiAgInJhZGl1cyI6IDUsCiAgInN0cm9rZSI6IHRydWUsCiAgIndlaWdodCI6IDMKfQogICAgICAgICAgICAgICAgKQogICAgICAgICAgICAgICAgLmFkZFRvKG1hcF80M2ZiZTk3MmU5OWQ0MTVlOGM3MzI5ZjQ1OWNhODI0MSk7CiAgICAgICAgICAgIAogICAgCiAgICAgICAgICAgIHZhciBwb3B1cF8xZGY5MzhhMGFlM2I0OWRjODE1NDUxZmVlMjFiZGZhYSA9IEwucG9wdXAoe21heFdpZHRoOiAnMTAwJScKICAgICAgICAgICAgCiAgICAgICAgICAgIH0pOwoKICAgICAgICAgICAgCiAgICAgICAgICAgICAgICB2YXIgaHRtbF85MDFiNTNjMzA3ZmM0MTc5ODZlNjAzODdjYzA5MDVlNyA9ICQoYDxkaXYgaWQ9Imh0bWxfOTAxYjUzYzMwN2ZjNDE3OTg2ZTYwMzg3Y2MwOTA1ZTciIHN0eWxlPSJ3aWR0aDogMTAwLjAlOyBoZWlnaHQ6IDEwMC4wJTsiPkl0YWd1YcOndTwvZGl2PmApWzBdOwogICAgICAgICAgICAgICAgcG9wdXBfMWRmOTM4YTBhZTNiNDlkYzgxNTQ1MWZlZTIxYmRmYWEuc2V0Q29udGVudChodG1sXzkwMWI1M2MzMDdmYzQxNzk4NmU2MDM4N2NjMDkwNWU3KTsKICAgICAgICAgICAgCgogICAgICAgICAgICBjaXJjbGVfbWFya2VyX2NlNzRlYTFiMzc3YTRhNjFiMmIzYWVmYWNhMjAzMTEyLmJpbmRQb3B1cChwb3B1cF8xZGY5MzhhMGFlM2I0OWRjODE1NDUxZmVlMjFiZGZhYSkKICAgICAgICAgICAgOwoKICAgICAgICAgICAgCiAgICAgICAgCiAgICAKICAgICAgICAgICAgdmFyIGNpcmNsZV9tYXJrZXJfOTNmNGQwYjkyZDY5NDQxNDk5OTRlZGNjOWY2NDRhZjMgPSBMLmNpcmNsZU1hcmtlcigKICAgICAgICAgICAgICAgIFstMjcuNDQxNTY0MiwgLTQ4LjQ5MTc1NF0sCiAgICAgICAgICAgICAgICB7CiAgImJ1YmJsaW5nTW91c2VFdmVudHMiOiB0cnVlLAogICJjb2xvciI6ICJyZWQiLAogICJkYXNoQXJyYXkiOiBudWxsLAogICJkYXNoT2Zmc2V0IjogbnVsbCwKICAiZmlsbCI6IHRydWUsCiAgImZpbGxDb2xvciI6ICIjMzE4NmNjIiwKICAiZmlsbE9wYWNpdHkiOiAwLjcsCiAgImZpbGxSdWxlIjogImV2ZW5vZGQiLAogICJsaW5lQ2FwIjogInJvdW5kIiwKICAibGluZUpvaW4iOiAicm91bmQiLAogICJvcGFjaXR5IjogMS4wLAogICJyYWRpdXMiOiA1LAogICJzdHJva2UiOiB0cnVlLAogICJ3ZWlnaHQiOiAzCn0KICAgICAgICAgICAgICAgICkKICAgICAgICAgICAgICAgIC5hZGRUbyhtYXBfNDNmYmU5NzJlOTlkNDE1ZThjNzMyOWY0NTljYTgyNDEpOwogICAgICAgICAgICAKICAgIAogICAgICAgICAgICB2YXIgcG9wdXBfYWE1NzM2N2U2Yzc1NGUwZDliNGYzMmZmZTgxN2MwNGMgPSBMLnBvcHVwKHttYXhXaWR0aDogJzEwMCUnCiAgICAgICAgICAgIAogICAgICAgICAgICB9KTsKCiAgICAgICAgICAgIAogICAgICAgICAgICAgICAgdmFyIGh0bWxfMDcyNTFiM2RkNWIzNDNmZGFiYTUxODkwZjllZDdjYzEgPSAkKGA8ZGl2IGlkPSJodG1sXzA3MjUxYjNkZDViMzQzZmRhYmE1MTg5MGY5ZWQ3Y2MxIiBzdHlsZT0id2lkdGg6IDEwMC4wJTsgaGVpZ2h0OiAxMDAuMCU7Ij5KdXJlcmUgTGVzdGU8L2Rpdj5gKVswXTsKICAgICAgICAgICAgICAgIHBvcHVwX2FhNTczNjdlNmM3NTRlMGQ5YjRmMzJmZmU4MTdjMDRjLnNldENvbnRlbnQoaHRtbF8wNzI1MWIzZGQ1YjM0M2ZkYWJhNTE4OTBmOWVkN2NjMSk7CiAgICAgICAgICAgIAoKICAgICAgICAgICAgY2lyY2xlX21hcmtlcl85M2Y0ZDBiOTJkNjk0NDE0OTk5NGVkY2M5ZjY0NGFmMy5iaW5kUG9wdXAocG9wdXBfYWE1NzM2N2U2Yzc1NGUwZDliNGYzMmZmZTgxN2MwNGMpCiAgICAgICAgICAgIDsKCiAgICAgICAgICAgIAogICAgICAgIAogICAgCiAgICAgICAgICAgIHZhciBjaXJjbGVfbWFya2VyXzQ1YWE4MDZkODk4ZTQ2NmM4M2ZkMzRmM2E4NTYzNDBhID0gTC5jaXJjbGVNYXJrZXIoCiAgICAgICAgICAgICAgICBbLTI3LjQ2MjA4MiwgLTQ4LjQ0ODUxOTZdLAogICAgICAgICAgICAgICAgewogICJidWJibGluZ01vdXNlRXZlbnRzIjogdHJ1ZSwKICAiY29sb3IiOiAicmVkIiwKICAiZGFzaEFycmF5IjogbnVsbCwKICAiZGFzaE9mZnNldCI6IG51bGwsCiAgImZpbGwiOiB0cnVlLAogICJmaWxsQ29sb3IiOiAiIzMxODZjYyIsCiAgImZpbGxPcGFjaXR5IjogMC43LAogICJmaWxsUnVsZSI6ICJldmVub2RkIiwKICAibGluZUNhcCI6ICJyb3VuZCIsCiAgImxpbmVKb2luIjogInJvdW5kIiwKICAib3BhY2l0eSI6IDEuMCwKICAicmFkaXVzIjogNSwKICAic3Ryb2tlIjogdHJ1ZSwKICAid2VpZ2h0IjogMwp9CiAgICAgICAgICAgICAgICApCiAgICAgICAgICAgICAgICAuYWRkVG8obWFwXzQzZmJlOTcyZTk5ZDQxNWU4YzczMjlmNDU5Y2E4MjQxKTsKICAgICAgICAgICAgCiAgICAKICAgICAgICAgICAgdmFyIHBvcHVwXzA2NmZlMDllMDA4YTRhYjE5MTE1ODBlZTJmMDNjOGZjID0gTC5wb3B1cCh7bWF4V2lkdGg6ICcxMDAlJwogICAgICAgICAgICAKICAgICAgICAgICAgfSk7CgogICAgICAgICAgICAKICAgICAgICAgICAgICAgIHZhciBodG1sX2FhMzdlYzg2N2NhMDQ1Zjg5YjY3Nzg2ODVmODhjODZkID0gJChgPGRpdiBpZD0iaHRtbF9hYTM3ZWM4NjdjYTA0NWY4OWI2Nzc4Njg1Zjg4Yzg2ZCIgc3R5bGU9IndpZHRoOiAxMDAuMCU7IGhlaWdodDogMTAwLjAlOyI+VmFyZ2VtIEdyYW5kZTwvZGl2PmApWzBdOwogICAgICAgICAgICAgICAgcG9wdXBfMDY2ZmUwOWUwMDhhNGFiMTkxMTU4MGVlMmYwM2M4ZmMuc2V0Q29udGVudChodG1sX2FhMzdlYzg2N2NhMDQ1Zjg5YjY3Nzg2ODVmODhjODZkKTsKICAgICAgICAgICAgCgogICAgICAgICAgICBjaXJjbGVfbWFya2VyXzQ1YWE4MDZkODk4ZTQ2NmM4M2ZkMzRmM2E4NTYzNDBhLmJpbmRQb3B1cChwb3B1cF8wNjZmZTA5ZTAwOGE0YWIxOTExNTgwZWUyZjAzYzhmYykKICAgICAgICAgICAgOwoKICAgICAgICAgICAgCiAgICAgICAgCiAgICAKICAgICAgICAgICAgdmFyIGNpcmNsZV9tYXJrZXJfMDVlMDI4NzJmYTI0NGYyNjhlMDA3OWJhZWZmYjJhZTMgPSBMLmNpcmNsZU1hcmtlcigKICAgICAgICAgICAgICAgIFstMjcuNjgyNTM4NSwgLTQ4LjQ4ODEzMDNdLAogICAgICAgICAgICAgICAgewogICJidWJibGluZ01vdXNlRXZlbnRzIjogdHJ1ZSwKICAiY29sb3IiOiAicmVkIiwKICAiZGFzaEFycmF5IjogbnVsbCwKICAiZGFzaE9mZnNldCI6IG51bGwsCiAgImZpbGwiOiB0cnVlLAogICJmaWxsQ29sb3IiOiAiIzMxODZjYyIsCiAgImZpbGxPcGFjaXR5IjogMC43LAogICJmaWxsUnVsZSI6ICJldmVub2RkIiwKICAibGluZUNhcCI6ICJyb3VuZCIsCiAgImxpbmVKb2luIjogInJvdW5kIiwKICAib3BhY2l0eSI6IDEuMCwKICAicmFkaXVzIjogNSwKICAic3Ryb2tlIjogdHJ1ZSwKICAid2VpZ2h0IjogMwp9CiAgICAgICAgICAgICAgICApCiAgICAgICAgICAgICAgICAuYWRkVG8obWFwXzQzZmJlOTcyZTk5ZDQxNWU4YzczMjlmNDU5Y2E4MjQxKTsKICAgICAgICAgICAgCiAgICAKICAgICAgICAgICAgdmFyIHBvcHVwX2RjMDE2MmVhMjJlODQzNzM5YTc1NDFhZDgxMzdjMzM1ID0gTC5wb3B1cCh7bWF4V2lkdGg6ICcxMDAlJwogICAgICAgICAgICAKICAgICAgICAgICAgfSk7CgogICAgICAgICAgICAKICAgICAgICAgICAgICAgIHZhciBodG1sX2JlM2VkZDg2ZTA5ODQ1MWZiZGM1ZjdlNjA5NzY4YTQ3ID0gJChgPGRpdiBpZD0iaHRtbF9iZTNlZGQ4NmUwOTg0NTFmYmRjNWY3ZTYwOTc2OGE0NyIgc3R5bGU9IndpZHRoOiAxMDAuMCU7IGhlaWdodDogMTAwLjAlOyI+Q2FtcGVjaGUgQ2VudHJhbDwvZGl2PmApWzBdOwogICAgICAgICAgICAgICAgcG9wdXBfZGMwMTYyZWEyMmU4NDM3MzlhNzU0MWFkODEzN2MzMzUuc2V0Q29udGVudChodG1sX2JlM2VkZDg2ZTA5ODQ1MWZiZGM1ZjdlNjA5NzY4YTQ3KTsKICAgICAgICAgICAgCgogICAgICAgICAgICBjaXJjbGVfbWFya2VyXzA1ZTAyODcyZmEyNDRmMjY4ZTAwNzliYWVmZmIyYWUzLmJpbmRQb3B1cChwb3B1cF9kYzAxNjJlYTIyZTg0MzczOWE3NTQxYWQ4MTM3YzMzNSkKICAgICAgICAgICAgOwoKICAgICAgICAgICAgCiAgICAgICAgCiAgICAKICAgICAgICAgICAgdmFyIGNpcmNsZV9tYXJrZXJfMDJiMjY4OGE4Y2FmNDQ5MmIzMDgyZDRkNGE4MThlNDggPSBMLmNpcmNsZU1hcmtlcigKICAgICAgICAgICAgICAgIFstMjcuNjY2Mzc0NiwgLTQ4LjUzMjU3MjFdLAogICAgICAgICAgICAgICAgewogICJidWJibGluZ01vdXNlRXZlbnRzIjogdHJ1ZSwKICAiY29sb3IiOiAicmVkIiwKICAiZGFzaEFycmF5IjogbnVsbCwKICAiZGFzaE9mZnNldCI6IG51bGwsCiAgImZpbGwiOiB0cnVlLAogICJmaWxsQ29sb3IiOiAiIzMxODZjYyIsCiAgImZpbGxPcGFjaXR5IjogMC43LAogICJmaWxsUnVsZSI6ICJldmVub2RkIiwKICAibGluZUNhcCI6ICJyb3VuZCIsCiAgImxpbmVKb2luIjogInJvdW5kIiwKICAib3BhY2l0eSI6IDEuMCwKICAicmFkaXVzIjogNSwKICAic3Ryb2tlIjogdHJ1ZSwKICAid2VpZ2h0IjogMwp9CiAgICAgICAgICAgICAgICApCiAgICAgICAgICAgICAgICAuYWRkVG8obWFwXzQzZmJlOTcyZTk5ZDQxNWU4YzczMjlmNDU5Y2E4MjQxKTsKICAgICAgICAgICAgCiAgICAKICAgICAgICAgICAgdmFyIHBvcHVwXzUyMTFmNTY1MzNiZTQwYmNhZDU5ODNjZjlhOGE0YzZmID0gTC5wb3B1cCh7bWF4V2lkdGg6ICcxMDAlJwogICAgICAgICAgICAKICAgICAgICAgICAgfSk7CgogICAgICAgICAgICAKICAgICAgICAgICAgICAgIHZhciBodG1sXzkxZWIyNDZjOTc4NjQxYjE5NTA0ZjY1ODI4NWQwZGEwID0gJChgPGRpdiBpZD0iaHRtbF85MWViMjQ2Yzk3ODY0MWIxOTUwNGY2NTgyODVkMGRhMCIgc3R5bGU9IndpZHRoOiAxMDAuMCU7IGhlaWdodDogMTAwLjAlOyI+UmVzc2FjYWRhPC9kaXY+YClbMF07CiAgICAgICAgICAgICAgICBwb3B1cF81MjExZjU2NTMzYmU0MGJjYWQ1OTgzY2Y5YThhNGM2Zi5zZXRDb250ZW50KGh0bWxfOTFlYjI0NmM5Nzg2NDFiMTk1MDRmNjU4Mjg1ZDBkYTApOwogICAgICAgICAgICAKCiAgICAgICAgICAgIGNpcmNsZV9tYXJrZXJfMDJiMjY4OGE4Y2FmNDQ5MmIzMDgyZDRkNGE4MThlNDguYmluZFBvcHVwKHBvcHVwXzUyMTFmNTY1MzNiZTQwYmNhZDU5ODNjZjlhOGE0YzZmKQogICAgICAgICAgICA7CgogICAgICAgICAgICAKICAgICAgICAKICAgIAogICAgICAgICAgICB2YXIgY2lyY2xlX21hcmtlcl8yZDYwNzgxY2NhNWU0ZDBmOTU1NDNmMjcwMWY2NjNmZSA9IEwuY2lyY2xlTWFya2VyKAogICAgICAgICAgICAgICAgWy0yNy43MTQzMjk1LCAtNDguNTA2NTQ5NV0sCiAgICAgICAgICAgICAgICB7CiAgImJ1YmJsaW5nTW91c2VFdmVudHMiOiB0cnVlLAogICJjb2xvciI6ICJyZWQiLAogICJkYXNoQXJyYXkiOiBudWxsLAogICJkYXNoT2Zmc2V0IjogbnVsbCwKICAiZmlsbCI6IHRydWUsCiAgImZpbGxDb2xvciI6ICIjMzE4NmNjIiwKICAiZmlsbE9wYWNpdHkiOiAwLjcsCiAgImZpbGxSdWxlIjogImV2ZW5vZGQiLAogICJsaW5lQ2FwIjogInJvdW5kIiwKICAibGluZUpvaW4iOiAicm91bmQiLAogICJvcGFjaXR5IjogMS4wLAogICJyYWRpdXMiOiA1LAogICJzdHJva2UiOiB0cnVlLAogICJ3ZWlnaHQiOiAzCn0KICAgICAgICAgICAgICAgICkKICAgICAgICAgICAgICAgIC5hZGRUbyhtYXBfNDNmYmU5NzJlOTlkNDE1ZThjNzMyOWY0NTljYTgyNDEpOwogICAgICAgICAgICAKICAgIAogICAgICAgICAgICB2YXIgcG9wdXBfOGEwODY5NGY1ZmQ3NGZlMDhhZjZlMjYzMGI2ODY1MTkgPSBMLnBvcHVwKHttYXhXaWR0aDogJzEwMCUnCiAgICAgICAgICAgIAogICAgICAgICAgICB9KTsKCiAgICAgICAgICAgIAogICAgICAgICAgICAgICAgdmFyIGh0bWxfZmRmOGQ4MmFkMzk2NGM1MzhlM2IyNjE1M2FjYmRjNDIgPSAkKGA8ZGl2IGlkPSJodG1sX2ZkZjhkODJhZDM5NjRjNTM4ZTNiMjYxNTNhY2JkYzQyIiBzdHlsZT0id2lkdGg6IDEwMC4wJTsgaGVpZ2h0OiAxMDAuMCU7Ij5Nb3JybyBkYXMgUGVkcmFzPC9kaXY+YClbMF07CiAgICAgICAgICAgICAgICBwb3B1cF84YTA4Njk0ZjVmZDc0ZmUwOGFmNmUyNjMwYjY4NjUxOS5zZXRDb250ZW50KGh0bWxfZmRmOGQ4MmFkMzk2NGM1MzhlM2IyNjE1M2FjYmRjNDIpOwogICAgICAgICAgICAKCiAgICAgICAgICAgIGNpcmNsZV9tYXJrZXJfMmQ2MDc4MWNjYTVlNGQwZjk1NTQzZjI3MDFmNjYzZmUuYmluZFBvcHVwKHBvcHVwXzhhMDg2OTRmNWZkNzRmZTA4YWY2ZTI2MzBiNjg2NTE5KQogICAgICAgICAgICA7CgogICAgICAgICAgICAKICAgICAgICAKICAgIAogICAgICAgICAgICB2YXIgY2lyY2xlX21hcmtlcl9lOTI1NmZiZjAyNmQ0MDc4ODA3YWEwNmExNTNjMzdjMCA9IEwuY2lyY2xlTWFya2VyKAogICAgICAgICAgICAgICAgWy0yNy43MDM5MjU5NSwgLTQ4LjUzMzg5NDkzMTQ1MjldLAogICAgICAgICAgICAgICAgewogICJidWJibGluZ01vdXNlRXZlbnRzIjogdHJ1ZSwKICAiY29sb3IiOiAicmVkIiwKICAiZGFzaEFycmF5IjogbnVsbCwKICAiZGFzaE9mZnNldCI6IG51bGwsCiAgImZpbGwiOiB0cnVlLAogICJmaWxsQ29sb3IiOiAiIzMxODZjYyIsCiAgImZpbGxPcGFjaXR5IjogMC43LAogICJmaWxsUnVsZSI6ICJldmVub2RkIiwKICAibGluZUNhcCI6ICJyb3VuZCIsCiAgImxpbmVKb2luIjogInJvdW5kIiwKICAib3BhY2l0eSI6IDEuMCwKICAicmFkaXVzIjogNSwKICAic3Ryb2tlIjogdHJ1ZSwKICAid2VpZ2h0IjogMwp9CiAgICAgICAgICAgICAgICApCiAgICAgICAgICAgICAgICAuYWRkVG8obWFwXzQzZmJlOTcyZTk5ZDQxNWU4YzczMjlmNDU5Y2E4MjQxKTsKICAgICAgICAgICAgCiAgICAKICAgICAgICAgICAgdmFyIHBvcHVwXzIzNmE0ZjQ2NTQwOTRlYjA4MjczZTgyZTM0NDVmMjNmID0gTC5wb3B1cCh7bWF4V2lkdGg6ICcxMDAlJwogICAgICAgICAgICAKICAgICAgICAgICAgfSk7CgogICAgICAgICAgICAKICAgICAgICAgICAgICAgIHZhciBodG1sXzlkZDVlYzU2YmY0YjQyYWQ4YjAxNTFkNDhmNzZmMTI1ID0gJChgPGRpdiBpZD0iaHRtbF85ZGQ1ZWM1NmJmNGI0MmFkOGIwMTUxZDQ4Zjc2ZjEyNSIgc3R5bGU9IndpZHRoOiAxMDAuMCU7IGhlaWdodDogMTAwLjAlOyI+QWx0byBSaWJlaXLDo28gTGVzdGU8L2Rpdj5gKVswXTsKICAgICAgICAgICAgICAgIHBvcHVwXzIzNmE0ZjQ2NTQwOTRlYjA4MjczZTgyZTM0NDVmMjNmLnNldENvbnRlbnQoaHRtbF85ZGQ1ZWM1NmJmNGI0MmFkOGIwMTUxZDQ4Zjc2ZjEyNSk7CiAgICAgICAgICAgIAoKICAgICAgICAgICAgY2lyY2xlX21hcmtlcl9lOTI1NmZiZjAyNmQ0MDc4ODA3YWEwNmExNTNjMzdjMC5iaW5kUG9wdXAocG9wdXBfMjM2YTRmNDY1NDA5NGViMDgyNzNlODJlMzQ0NWYyM2YpCiAgICAgICAgICAgIDsKCiAgICAgICAgICAgIAogICAgICAgIAogICAgCiAgICAgICAgICAgIHZhciBjaXJjbGVfbWFya2VyXzMxOGQ2OWY5Y2JkOTRiMjVhODYxNWRiYThlYjY1MmNkID0gTC5jaXJjbGVNYXJrZXIoCiAgICAgICAgICAgICAgICBbLTI3LjcwMzkyNTk1LCAtNDguNTMzODk0OTMxNDUyOV0sCiAgICAgICAgICAgICAgICB7CiAgImJ1YmJsaW5nTW91c2VFdmVudHMiOiB0cnVlLAogICJjb2xvciI6ICJyZWQiLAogICJkYXNoQXJyYXkiOiBudWxsLAogICJkYXNoT2Zmc2V0IjogbnVsbCwKICAiZmlsbCI6IHRydWUsCiAgImZpbGxDb2xvciI6ICIjMzE4NmNjIiwKICAiZmlsbE9wYWNpdHkiOiAwLjcsCiAgImZpbGxSdWxlIjogImV2ZW5vZGQiLAogICJsaW5lQ2FwIjogInJvdW5kIiwKICAibGluZUpvaW4iOiAicm91bmQiLAogICJvcGFjaXR5IjogMS4wLAogICJyYWRpdXMiOiA1LAogICJzdHJva2UiOiB0cnVlLAogICJ3ZWlnaHQiOiAzCn0KICAgICAgICAgICAgICAgICkKICAgICAgICAgICAgICAgIC5hZGRUbyhtYXBfNDNmYmU5NzJlOTlkNDE1ZThjNzMyOWY0NTljYTgyNDEpOwogICAgICAgICAgICAKICAgIAogICAgICAgICAgICB2YXIgcG9wdXBfZWE0MWU4YmZmYTVkNGYzMjhlOWRjYWU1MzU1NjQ4ZjggPSBMLnBvcHVwKHttYXhXaWR0aDogJzEwMCUnCiAgICAgICAgICAgIAogICAgICAgICAgICB9KTsKCiAgICAgICAgICAgIAogICAgICAgICAgICAgICAgdmFyIGh0bWxfZGIxMTBiOTIxYTBiNDAxMWI2ZDY1YjAxZDU4MzA5NWYgPSAkKGA8ZGl2IGlkPSJodG1sX2RiMTEwYjkyMWEwYjQwMTFiNmQ2NWIwMWQ1ODMwOTVmIiBzdHlsZT0id2lkdGg6IDEwMC4wJTsgaGVpZ2h0OiAxMDAuMCU7Ij5BbHRvIFJpYmVpcsOjbzwvZGl2PmApWzBdOwogICAgICAgICAgICAgICAgcG9wdXBfZWE0MWU4YmZmYTVkNGYzMjhlOWRjYWU1MzU1NjQ4Zjguc2V0Q29udGVudChodG1sX2RiMTEwYjkyMWEwYjQwMTFiNmQ2NWIwMWQ1ODMwOTVmKTsKICAgICAgICAgICAgCgogICAgICAgICAgICBjaXJjbGVfbWFya2VyXzMxOGQ2OWY5Y2JkOTRiMjVhODYxNWRiYThlYjY1MmNkLmJpbmRQb3B1cChwb3B1cF9lYTQxZThiZmZhNWQ0ZjMyOGU5ZGNhZTUzNTU2NDhmOCkKICAgICAgICAgICAgOwoKICAgICAgICAgICAgCiAgICAgICAgCiAgICAKICAgICAgICAgICAgdmFyIGNpcmNsZV9tYXJrZXJfNTZlZmFjM2QxMWMwNGU1Y2E4NDJkMjU1M2RmZjVmMDMgPSBMLmNpcmNsZU1hcmtlcigKICAgICAgICAgICAgICAgIFstMjcuNzAzODkyNywgLTQ4LjUyODYzMTRdLAogICAgICAgICAgICAgICAgewogICJidWJibGluZ01vdXNlRXZlbnRzIjogdHJ1ZSwKICAiY29sb3IiOiAicmVkIiwKICAiZGFzaEFycmF5IjogbnVsbCwKICAiZGFzaE9mZnNldCI6IG51bGwsCiAgImZpbGwiOiB0cnVlLAogICJmaWxsQ29sb3IiOiAiIzMxODZjYyIsCiAgImZpbGxPcGFjaXR5IjogMC43LAogICJmaWxsUnVsZSI6ICJldmVub2RkIiwKICAibGluZUNhcCI6ICJyb3VuZCIsCiAgImxpbmVKb2luIjogInJvdW5kIiwKICAib3BhY2l0eSI6IDEuMCwKICAicmFkaXVzIjogNSwKICAic3Ryb2tlIjogdHJ1ZSwKICAid2VpZ2h0IjogMwp9CiAgICAgICAgICAgICAgICApCiAgICAgICAgICAgICAgICAuYWRkVG8obWFwXzQzZmJlOTcyZTk5ZDQxNWU4YzczMjlmNDU5Y2E4MjQxKTsKICAgICAgICAgICAgCiAgICAKICAgICAgICAgICAgdmFyIHBvcHVwX2Q5NTFlZjY0MDdkYzRlODNiOGZkNmY1MzgyYWQwZGE5ID0gTC5wb3B1cCh7bWF4V2lkdGg6ICcxMDAlJwogICAgICAgICAgICAKICAgICAgICAgICAgfSk7CgogICAgICAgICAgICAKICAgICAgICAgICAgICAgIHZhciBodG1sXzFmNTEyMTlhNWYzNDQzN2U5MmU2MmUyMzI5MmU1Yjc2ID0gJChgPGRpdiBpZD0iaHRtbF8xZjUxMjE5YTVmMzQ0MzdlOTJlNjJlMjMyOTJlNWI3NiIgc3R5bGU9IndpZHRoOiAxMDAuMCU7IGhlaWdodDogMTAwLjAlOyI+UmliZWlyw6NvIGRhIElsaGE8L2Rpdj5gKVswXTsKICAgICAgICAgICAgICAgIHBvcHVwX2Q5NTFlZjY0MDdkYzRlODNiOGZkNmY1MzgyYWQwZGE5LnNldENvbnRlbnQoaHRtbF8xZjUxMjE5YTVmMzQ0MzdlOTJlNjJlMjMyOTJlNWI3Nik7CiAgICAgICAgICAgIAoKICAgICAgICAgICAgY2lyY2xlX21hcmtlcl81NmVmYWMzZDExYzA0ZTVjYTg0MmQyNTUzZGZmNWYwMy5iaW5kUG9wdXAocG9wdXBfZDk1MWVmNjQwN2RjNGU4M2I4ZmQ2ZjUzODJhZDBkYTkpCiAgICAgICAgICAgIDsKCiAgICAgICAgICAgIAogICAgICAgIAogICAgCiAgICAgICAgICAgIHZhciBjaXJjbGVfbWFya2VyX2JlYmY5ZTViMjQ4NjRlZTFhNDM4ZTU3NWIwZmY3NjEzID0gTC5jaXJjbGVNYXJrZXIoCiAgICAgICAgICAgICAgICBbLTI3Ljk3NTkyOSwgLTQ4Ljk0MTk3M10sCiAgICAgICAgICAgICAgICB7CiAgImJ1YmJsaW5nTW91c2VFdmVudHMiOiB0cnVlLAogICJjb2xvciI6ICJyZWQiLAogICJkYXNoQXJyYXkiOiBudWxsLAogICJkYXNoT2Zmc2V0IjogbnVsbCwKICAiZmlsbCI6IHRydWUsCiAgImZpbGxDb2xvciI6ICIjMzE4NmNjIiwKICAiZmlsbE9wYWNpdHkiOiAwLjcsCiAgImZpbGxSdWxlIjogImV2ZW5vZGQiLAogICJsaW5lQ2FwIjogInJvdW5kIiwKICAibGluZUpvaW4iOiAicm91bmQiLAogICJvcGFjaXR5IjogMS4wLAogICJyYWRpdXMiOiA1LAogICJzdHJva2UiOiB0cnVlLAogICJ3ZWlnaHQiOiAzCn0KICAgICAgICAgICAgICAgICkKICAgICAgICAgICAgICAgIC5hZGRUbyhtYXBfNDNmYmU5NzJlOTlkNDE1ZThjNzMyOWY0NTljYTgyNDEpOwogICAgICAgICAgICAKICAgIAogICAgICAgICAgICB2YXIgcG9wdXBfZjI4NTkyNzMzYTM3NDAyMGE2YmFkYjM5NDYxMDI0ZGYgPSBMLnBvcHVwKHttYXhXaWR0aDogJzEwMCUnCiAgICAgICAgICAgIAogICAgICAgICAgICB9KTsKCiAgICAgICAgICAgIAogICAgICAgICAgICAgICAgdmFyIGh0bWxfMGIxYWVlMjdkZWJiNDMwNGFkNzA1ZGVhZDAwM2ViMzkgPSAkKGA8ZGl2IGlkPSJodG1sXzBiMWFlZTI3ZGViYjQzMDRhZDcwNWRlYWQwMDNlYjM5IiBzdHlsZT0id2lkdGg6IDEwMC4wJTsgaGVpZ2h0OiAxMDAuMCU7Ij5TYW50byBBbnTDtG5pbzwvZGl2PmApWzBdOwogICAgICAgICAgICAgICAgcG9wdXBfZjI4NTkyNzMzYTM3NDAyMGE2YmFkYjM5NDYxMDI0ZGYuc2V0Q29udGVudChodG1sXzBiMWFlZTI3ZGViYjQzMDRhZDcwNWRlYWQwMDNlYjM5KTsKICAgICAgICAgICAgCgogICAgICAgICAgICBjaXJjbGVfbWFya2VyX2JlYmY5ZTViMjQ4NjRlZTFhNDM4ZTU3NWIwZmY3NjEzLmJpbmRQb3B1cChwb3B1cF9mMjg1OTI3MzNhMzc0MDIwYTZiYWRiMzk0NjEwMjRkZikKICAgICAgICAgICAgOwoKICAgICAgICAgICAgCiAgICAgICAgCiAgICAKICAgICAgICAgICAgdmFyIGNpcmNsZV9tYXJrZXJfYWNkZWI2NWYwNGYxNDk2YjkyYTg1MTk5OTJjY2RhODggPSBMLmNpcmNsZU1hcmtlcigKICAgICAgICAgICAgICAgIFstMjcuNDkyNDAyNSwgLTQ4LjUyNjgzMTNdLAogICAgICAgICAgICAgICAgewogICJidWJibGluZ01vdXNlRXZlbnRzIjogdHJ1ZSwKICAiY29sb3IiOiAicmVkIiwKICAiZGFzaEFycmF5IjogbnVsbCwKICAiZGFzaE9mZnNldCI6IG51bGwsCiAgImZpbGwiOiB0cnVlLAogICJmaWxsQ29sb3IiOiAiIzMxODZjYyIsCiAgImZpbGxPcGFjaXR5IjogMC43LAogICJmaWxsUnVsZSI6ICJldmVub2RkIiwKICAibGluZUNhcCI6ICJyb3VuZCIsCiAgImxpbmVKb2luIjogInJvdW5kIiwKICAib3BhY2l0eSI6IDEuMCwKICAicmFkaXVzIjogNSwKICAic3Ryb2tlIjogdHJ1ZSwKICAid2VpZ2h0IjogMwp9CiAgICAgICAgICAgICAgICApCiAgICAgICAgICAgICAgICAuYWRkVG8obWFwXzQzZmJlOTcyZTk5ZDQxNWU4YzczMjlmNDU5Y2E4MjQxKTsKICAgICAgICAgICAgCiAgICAKICAgICAgICAgICAgdmFyIHBvcHVwXzkwYTZmODRhOTI2MjQxY2E4MTE4NTM3NWU1ZThkMGViID0gTC5wb3B1cCh7bWF4V2lkdGg6ICcxMDAlJwogICAgICAgICAgICAKICAgICAgICAgICAgfSk7CgogICAgICAgICAgICAKICAgICAgICAgICAgICAgIHZhciBodG1sXzVhMDMzM2EwODZiYzQxMTQ4YmQ4ZjJkOTVhY2YwYWU4ID0gJChgPGRpdiBpZD0iaHRtbF81YTAzMzNhMDg2YmM0MTE0OGJkOGYyZDk1YWNmMGFlOCIgc3R5bGU9IndpZHRoOiAxMDAuMCU7IGhlaWdodDogMTAwLjAlOyI+U2FtYmFxdWk8L2Rpdj5gKVswXTsKICAgICAgICAgICAgICAgIHBvcHVwXzkwYTZmODRhOTI2MjQxY2E4MTE4NTM3NWU1ZThkMGViLnNldENvbnRlbnQoaHRtbF81YTAzMzNhMDg2YmM0MTE0OGJkOGYyZDk1YWNmMGFlOCk7CiAgICAgICAgICAgIAoKICAgICAgICAgICAgY2lyY2xlX21hcmtlcl9hY2RlYjY1ZjA0ZjE0OTZiOTJhODUxOTk5MmNjZGE4OC5iaW5kUG9wdXAocG9wdXBfOTBhNmY4NGE5MjYyNDFjYTgxMTg1Mzc1ZTVlOGQwZWIpCiAgICAgICAgICAgIDsKCiAgICAgICAgICAgIAogICAgICAgIAogICAgCiAgICAgICAgICAgIHZhciBjaXJjbGVfbWFya2VyX2YyMjQzNzIyNWYyMjQ3MWE4NzhkODY0MTM3NDcwY2M5ID0gTC5jaXJjbGVNYXJrZXIoCiAgICAgICAgICAgICAgICBbLTI3LjQ0MDUyMzIsIC00OC4zNjQ3MTA3NDE0MDNdLAogICAgICAgICAgICAgICAgewogICJidWJibGluZ01vdXNlRXZlbnRzIjogdHJ1ZSwKICAiY29sb3IiOiAicmVkIiwKICAiZGFzaEFycmF5IjogbnVsbCwKICAiZGFzaE9mZnNldCI6IG51bGwsCiAgImZpbGwiOiB0cnVlLAogICJmaWxsQ29sb3IiOiAiIzMxODZjYyIsCiAgImZpbGxPcGFjaXR5IjogMC43LAogICJmaWxsUnVsZSI6ICJldmVub2RkIiwKICAibGluZUNhcCI6ICJyb3VuZCIsCiAgImxpbmVKb2luIjogInJvdW5kIiwKICAib3BhY2l0eSI6IDEuMCwKICAicmFkaXVzIjogNSwKICAic3Ryb2tlIjogdHJ1ZSwKICAid2VpZ2h0IjogMwp9CiAgICAgICAgICAgICAgICApCiAgICAgICAgICAgICAgICAuYWRkVG8obWFwXzQzZmJlOTcyZTk5ZDQxNWU4YzczMjlmNDU5Y2E4MjQxKTsKICAgICAgICAgICAgCiAgICAKICAgICAgICAgICAgdmFyIHBvcHVwX2Y1N2Q4NDNmM2NlOTRjY2E5ODI0MzM1ZTNiMTYxMjExID0gTC5wb3B1cCh7bWF4V2lkdGg6ICcxMDAlJwogICAgICAgICAgICAKICAgICAgICAgICAgfSk7CgogICAgICAgICAgICAKICAgICAgICAgICAgICAgIHZhciBodG1sXzQ5ODBmYmY4Yzc1ODQ0YmE4NGIyMGZhOGMwMzQ5MThjID0gJChgPGRpdiBpZD0iaHRtbF80OTgwZmJmOGM3NTg0NGJhODRiMjBmYThjMDM0OTE4YyIgc3R5bGU9IndpZHRoOiAxMDAuMCU7IGhlaWdodDogMTAwLjAlOyI+SW5nbGVzZXMgU3VsPC9kaXY+YClbMF07CiAgICAgICAgICAgICAgICBwb3B1cF9mNTdkODQzZjNjZTk0Y2NhOTgyNDMzNWUzYjE2MTIxMS5zZXRDb250ZW50KGh0bWxfNDk4MGZiZjhjNzU4NDRiYTg0YjIwZmE4YzAzNDkxOGMpOwogICAgICAgICAgICAKCiAgICAgICAgICAgIGNpcmNsZV9tYXJrZXJfZjIyNDM3MjI1ZjIyNDcxYTg3OGQ4NjQxMzc0NzBjYzkuYmluZFBvcHVwKHBvcHVwX2Y1N2Q4NDNmM2NlOTRjY2E5ODI0MzM1ZTNiMTYxMjExKQogICAgICAgICAgICA7CgogICAgICAgICAgICAKICAgICAgICAKICAgIAogICAgICAgICAgICB2YXIgY2lyY2xlX21hcmtlcl9kMTU4MjQ0ZmRiNzM0OGYyOGU4MmNiMGQ3MTQ4MGIzZiA9IEwuY2lyY2xlTWFya2VyKAogICAgICAgICAgICAgICAgWy0yNy42MTE4MDQ0LCAtNDguNTk0OTM5OV0sCiAgICAgICAgICAgICAgICB7CiAgImJ1YmJsaW5nTW91c2VFdmVudHMiOiB0cnVlLAogICJjb2xvciI6ICJyZWQiLAogICJkYXNoQXJyYXkiOiBudWxsLAogICJkYXNoT2Zmc2V0IjogbnVsbCwKICAiZmlsbCI6IHRydWUsCiAgImZpbGxDb2xvciI6ICIjMzE4NmNjIiwKICAiZmlsbE9wYWNpdHkiOiAwLjcsCiAgImZpbGxSdWxlIjogImV2ZW5vZGQiLAogICJsaW5lQ2FwIjogInJvdW5kIiwKICAibGluZUpvaW4iOiAicm91bmQiLAogICJvcGFjaXR5IjogMS4wLAogICJyYWRpdXMiOiA1LAogICJzdHJva2UiOiB0cnVlLAogICJ3ZWlnaHQiOiAzCn0KICAgICAgICAgICAgICAgICkKICAgICAgICAgICAgICAgIC5hZGRUbyhtYXBfNDNmYmU5NzJlOTlkNDE1ZThjNzMyOWY0NTljYTgyNDEpOwogICAgICAgICAgICAKICAgIAogICAgICAgICAgICB2YXIgcG9wdXBfODQ4OWM3OTk3NDJhNGEwYmIzYWVlZjRkOGNiM2U1Y2MgPSBMLnBvcHVwKHttYXhXaWR0aDogJzEwMCUnCiAgICAgICAgICAgIAogICAgICAgICAgICB9KTsKCiAgICAgICAgICAgIAogICAgICAgICAgICAgICAgdmFyIGh0bWxfNzFmOTZjZmQzOWMwNDRiOThiYWI4MTY1MmMzOGZlNDcgPSAkKGA8ZGl2IGlkPSJodG1sXzcxZjk2Y2ZkMzljMDQ0Yjk4YmFiODE2NTJjMzhmZTQ3IiBzdHlsZT0id2lkdGg6IDEwMC4wJTsgaGVpZ2h0OiAxMDAuMCU7Ij5Cb20gQWJyaWdvPC9kaXY+YClbMF07CiAgICAgICAgICAgICAgICBwb3B1cF84NDg5Yzc5OTc0MmE0YTBiYjNhZWVmNGQ4Y2IzZTVjYy5zZXRDb250ZW50KGh0bWxfNzFmOTZjZmQzOWMwNDRiOThiYWI4MTY1MmMzOGZlNDcpOwogICAgICAgICAgICAKCiAgICAgICAgICAgIGNpcmNsZV9tYXJrZXJfZDE1ODI0NGZkYjczNDhmMjhlODJjYjBkNzE0ODBiM2YuYmluZFBvcHVwKHBvcHVwXzg0ODljNzk5NzQyYTRhMGJiM2FlZWY0ZDhjYjNlNWNjKQogICAgICAgICAgICA7CgogICAgICAgICAgICAKICAgICAgICAKICAgIAogICAgICAgICAgICB2YXIgY2lyY2xlX21hcmtlcl8yZjgwNTU5MjFkM2Y0NGM4YTY1NGI3ZjIyODYwNDQ4NyA9IEwuY2lyY2xlTWFya2VyKAogICAgICAgICAgICAgICAgWy0yNy40MzU1NTEyLCAtNDguNDU4MDIzNl0sCiAgICAgICAgICAgICAgICB7CiAgImJ1YmJsaW5nTW91c2VFdmVudHMiOiB0cnVlLAogICJjb2xvciI6ICJyZWQiLAogICJkYXNoQXJyYXkiOiBudWxsLAogICJkYXNoT2Zmc2V0IjogbnVsbCwKICAiZmlsbCI6IHRydWUsCiAgImZpbGxDb2xvciI6ICIjMzE4NmNjIiwKICAiZmlsbE9wYWNpdHkiOiAwLjcsCiAgImZpbGxSdWxlIjogImV2ZW5vZGQiLAogICJsaW5lQ2FwIjogInJvdW5kIiwKICAibGluZUpvaW4iOiAicm91bmQiLAogICJvcGFjaXR5IjogMS4wLAogICJyYWRpdXMiOiA1LAogICJzdHJva2UiOiB0cnVlLAogICJ3ZWlnaHQiOiAzCn0KICAgICAgICAgICAgICAgICkKICAgICAgICAgICAgICAgIC5hZGRUbyhtYXBfNDNmYmU5NzJlOTlkNDE1ZThjNzMyOWY0NTljYTgyNDEpOwogICAgICAgICAgICAKICAgIAogICAgICAgICAgICB2YXIgcG9wdXBfNDk3MDEzMWYxOTBkNGNiZWI3ODBlMTNkYjE4YWM0N2MgPSBMLnBvcHVwKHttYXhXaWR0aDogJzEwMCUnCiAgICAgICAgICAgIAogICAgICAgICAgICB9KTsKCiAgICAgICAgICAgIAogICAgICAgICAgICAgICAgdmFyIGh0bWxfMjExN2M4NGZlODI0NDI3OWFmNWI0YmE4ZTg4NGI5MmIgPSAkKGA8ZGl2IGlkPSJodG1sXzIxMTdjODRmZTgyNDQyNzlhZjViNGJhOGU4ODRiOTJiIiBzdHlsZT0id2lkdGg6IDEwMC4wJTsgaGVpZ2h0OiAxMDAuMCU7Ij5KdXJlcmUgT2VzdGU8L2Rpdj5gKVswXTsKICAgICAgICAgICAgICAgIHBvcHVwXzQ5NzAxMzFmMTkwZDRjYmViNzgwZTEzZGIxOGFjNDdjLnNldENvbnRlbnQoaHRtbF8yMTE3Yzg0ZmU4MjQ0Mjc5YWY1YjRiYThlODg0YjkyYik7CiAgICAgICAgICAgIAoKICAgICAgICAgICAgY2lyY2xlX21hcmtlcl8yZjgwNTU5MjFkM2Y0NGM4YTY1NGI3ZjIyODYwNDQ4Ny5iaW5kUG9wdXAocG9wdXBfNDk3MDEzMWYxOTBkNGNiZWI3ODBlMTNkYjE4YWM0N2MpCiAgICAgICAgICAgIDsKCiAgICAgICAgICAgIAogICAgICAgIAogICAgCiAgICAgICAgICAgIHZhciBjaXJjbGVfbWFya2VyX2QxYWFlM2YwYWFjNTQ4MjA5ODY4ZDIyZDA4NmExOTAwID0gTC5jaXJjbGVNYXJrZXIoCiAgICAgICAgICAgICAgICBbLTI3LjYzMDg0MTYsIC00OC40NzI4ODFdLAogICAgICAgICAgICAgICAgewogICJidWJibGluZ01vdXNlRXZlbnRzIjogdHJ1ZSwKICAiY29sb3IiOiAicmVkIiwKICAiZGFzaEFycmF5IjogbnVsbCwKICAiZGFzaE9mZnNldCI6IG51bGwsCiAgImZpbGwiOiB0cnVlLAogICJmaWxsQ29sb3IiOiAiIzMxODZjYyIsCiAgImZpbGxPcGFjaXR5IjogMC43LAogICJmaWxsUnVsZSI6ICJldmVub2RkIiwKICAibGluZUNhcCI6ICJyb3VuZCIsCiAgImxpbmVKb2luIjogInJvdW5kIiwKICAib3BhY2l0eSI6IDEuMCwKICAicmFkaXVzIjogNSwKICAic3Ryb2tlIjogdHJ1ZSwKICAid2VpZ2h0IjogMwp9CiAgICAgICAgICAgICAgICApCiAgICAgICAgICAgICAgICAuYWRkVG8obWFwXzQzZmJlOTcyZTk5ZDQxNWU4YzczMjlmNDU5Y2E4MjQxKTsKICAgICAgICAgICAgCiAgICAKICAgICAgICAgICAgdmFyIHBvcHVwXzUzODI5ZmVlYTE3YzQ4MGFiZTg1MDE0NmYwNWYzOTJkID0gTC5wb3B1cCh7bWF4V2lkdGg6ICcxMDAlJwogICAgICAgICAgICAKICAgICAgICAgICAgfSk7CgogICAgICAgICAgICAKICAgICAgICAgICAgICAgIHZhciBodG1sXzJiYzZiMDg5ZTAxNDQ0Yjg4ZDNlY2U1MDAyNjBkMzQ0ID0gJChgPGRpdiBpZD0iaHRtbF8yYmM2YjA4OWUwMTQ0NGI4OGQzZWNlNTAwMjYwZDM0NCIgc3R5bGU9IndpZHRoOiAxMDAuMCU7IGhlaWdodDogMTAwLjAlOyI+UG9ydG8gZGEgTGFnb2E8L2Rpdj5gKVswXTsKICAgICAgICAgICAgICAgIHBvcHVwXzUzODI5ZmVlYTE3YzQ4MGFiZTg1MDE0NmYwNWYzOTJkLnNldENvbnRlbnQoaHRtbF8yYmM2YjA4OWUwMTQ0NGI4OGQzZWNlNTAwMjYwZDM0NCk7CiAgICAgICAgICAgIAoKICAgICAgICAgICAgY2lyY2xlX21hcmtlcl9kMWFhZTNmMGFhYzU0ODIwOTg2OGQyMmQwODZhMTkwMC5iaW5kUG9wdXAocG9wdXBfNTM4MjlmZWVhMTdjNDgwYWJlODUwMTQ2ZjA1ZjM5MmQpCiAgICAgICAgICAgIDsKCiAgICAgICAgICAgIAogICAgICAgIAogICAgCiAgICAgICAgICAgIHZhciBjaXJjbGVfbWFya2VyXzk4YmE2ZWY4YzI0YTRhZWQ5NDRlNWVmMWRjY2U2YTk3ID0gTC5jaXJjbGVNYXJrZXIoCiAgICAgICAgICAgICAgICBbLTI3LjQyNjUzMDcsIC00OC40MjM2NzQ5XSwKICAgICAgICAgICAgICAgIHsKICAiYnViYmxpbmdNb3VzZUV2ZW50cyI6IHRydWUsCiAgImNvbG9yIjogInJlZCIsCiAgImRhc2hBcnJheSI6IG51bGwsCiAgImRhc2hPZmZzZXQiOiBudWxsLAogICJmaWxsIjogdHJ1ZSwKICAiZmlsbENvbG9yIjogIiMzMTg2Y2MiLAogICJmaWxsT3BhY2l0eSI6IDAuNywKICAiZmlsbFJ1bGUiOiAiZXZlbm9kZCIsCiAgImxpbmVDYXAiOiAicm91bmQiLAogICJsaW5lSm9pbiI6ICJyb3VuZCIsCiAgIm9wYWNpdHkiOiAxLjAsCiAgInJhZGl1cyI6IDUsCiAgInN0cm9rZSI6IHRydWUsCiAgIndlaWdodCI6IDMKfQogICAgICAgICAgICAgICAgKQogICAgICAgICAgICAgICAgLmFkZFRvKG1hcF80M2ZiZTk3MmU5OWQ0MTVlOGM3MzI5ZjQ1OWNhODI0MSk7CiAgICAgICAgICAgIAogICAgCiAgICAgICAgICAgIHZhciBwb3B1cF9mN2JlYmE4NDI2ODA0OWM3ODRkMDJiYzM3NTU4NTE5ZiA9IEwucG9wdXAoe21heFdpZHRoOiAnMTAwJScKICAgICAgICAgICAgCiAgICAgICAgICAgIH0pOwoKICAgICAgICAgICAgCiAgICAgICAgICAgICAgICB2YXIgaHRtbF9jMmE1ODMwZjYxZjc0ZDc0OWU4ZjY5YjE3MWNkNzBjOSA9ICQoYDxkaXYgaWQ9Imh0bWxfYzJhNTgzMGY2MWY3NGQ3NDllOGY2OWIxNzFjZDcwYzkiIHN0eWxlPSJ3aWR0aDogMTAwLjAlOyBoZWlnaHQ6IDEwMC4wJTsiPkNhY2hvZWlyYSBkbyBCb20gSmVzdXM8L2Rpdj5gKVswXTsKICAgICAgICAgICAgICAgIHBvcHVwX2Y3YmViYTg0MjY4MDQ5Yzc4NGQwMmJjMzc1NTg1MTlmLnNldENvbnRlbnQoaHRtbF9jMmE1ODMwZjYxZjc0ZDc0OWU4ZjY5YjE3MWNkNzBjOSk7CiAgICAgICAgICAgIAoKICAgICAgICAgICAgY2lyY2xlX21hcmtlcl85OGJhNmVmOGMyNGE0YWVkOTQ0ZTVlZjFkY2NlNmE5Ny5iaW5kUG9wdXAocG9wdXBfZjdiZWJhODQyNjgwNDljNzg0ZDAyYmMzNzU1ODUxOWYpCiAgICAgICAgICAgIDsKCiAgICAgICAgICAgIAogICAgICAgIAogICAgCiAgICAgICAgICAgIHZhciBjaXJjbGVfbWFya2VyX2Y2Y2ZmNGU1YTkwZjQzZjY4NTZhNWYxYzA0YTIyMjM1ID0gTC5jaXJjbGVNYXJrZXIoCiAgICAgICAgICAgICAgICBbLTI3LjU3MjUyODQsIC00OC42NDMyMjQ1XSwKICAgICAgICAgICAgICAgIHsKICAiYnViYmxpbmdNb3VzZUV2ZW50cyI6IHRydWUsCiAgImNvbG9yIjogInJlZCIsCiAgImRhc2hBcnJheSI6IG51bGwsCiAgImRhc2hPZmZzZXQiOiBudWxsLAogICJmaWxsIjogdHJ1ZSwKICAiZmlsbENvbG9yIjogIiMzMTg2Y2MiLAogICJmaWxsT3BhY2l0eSI6IDAuNywKICAiZmlsbFJ1bGUiOiAiZXZlbm9kZCIsCiAgImxpbmVDYXAiOiAicm91bmQiLAogICJsaW5lSm9pbiI6ICJyb3VuZCIsCiAgIm9wYWNpdHkiOiAxLjAsCiAgInJhZGl1cyI6IDUsCiAgInN0cm9rZSI6IHRydWUsCiAgIndlaWdodCI6IDMKfQogICAgICAgICAgICAgICAgKQogICAgICAgICAgICAgICAgLmFkZFRvKG1hcF80M2ZiZTk3MmU5OWQ0MTVlOGM3MzI5ZjQ1OWNhODI0MSk7CiAgICAgICAgICAgIAogICAgCiAgICAgICAgICAgIHZhciBwb3B1cF80N2FjODE4OWMyMjk0ZjA1YTA1YTJkZjUwZDUzNTNkZiA9IEwucG9wdXAoe21heFdpZHRoOiAnMTAwJScKICAgICAgICAgICAgCiAgICAgICAgICAgIH0pOwoKICAgICAgICAgICAgCiAgICAgICAgICAgICAgICB2YXIgaHRtbF8yMmQ0ZTU2MmJiOTE0NWE3YWQ1MGUyZjcwMmU1N2U0NiA9ICQoYDxkaXYgaWQ9Imh0bWxfMjJkNGU1NjJiYjkxNDVhN2FkNTBlMmY3MDJlNTdlNDYiIHN0eWxlPSJ3aWR0aDogMTAwLjAlOyBoZWlnaHQ6IDEwMC4wJTsiPlBlZHJlZ2FsPC9kaXY+YClbMF07CiAgICAgICAgICAgICAgICBwb3B1cF80N2FjODE4OWMyMjk0ZjA1YTA1YTJkZjUwZDUzNTNkZi5zZXRDb250ZW50KGh0bWxfMjJkNGU1NjJiYjkxNDVhN2FkNTBlMmY3MDJlNTdlNDYpOwogICAgICAgICAgICAKCiAgICAgICAgICAgIGNpcmNsZV9tYXJrZXJfZjZjZmY0ZTVhOTBmNDNmNjg1NmE1ZjFjMDRhMjIyMzUuYmluZFBvcHVwKHBvcHVwXzQ3YWM4MTg5YzIyOTRmMDVhMDVhMmRmNTBkNTM1M2RmKQogICAgICAgICAgICA7CgogICAgICAgICAgICAKICAgICAgICAKICAgIAogICAgICAgICAgICB2YXIgY2lyY2xlX21hcmtlcl9jYjRkYjY4MDUwMzM0NmJmOWZmZmQyN2NkNTA5NjVkMCA9IEwuY2lyY2xlTWFya2VyKAogICAgICAgICAgICAgICAgWy0yNy41MDQ1MTYxLCAtNDguNDkwMzk4OV0sCiAgICAgICAgICAgICAgICB7CiAgImJ1YmJsaW5nTW91c2VFdmVudHMiOiB0cnVlLAogICJjb2xvciI6ICJyZWQiLAogICJkYXNoQXJyYXkiOiBudWxsLAogICJkYXNoT2Zmc2V0IjogbnVsbCwKICAiZmlsbCI6IHRydWUsCiAgImZpbGxDb2xvciI6ICIjMzE4NmNjIiwKICAiZmlsbE9wYWNpdHkiOiAwLjcsCiAgImZpbGxSdWxlIjogImV2ZW5vZGQiLAogICJsaW5lQ2FwIjogInJvdW5kIiwKICAibGluZUpvaW4iOiAicm91bmQiLAogICJvcGFjaXR5IjogMS4wLAogICJyYWRpdXMiOiA1LAogICJzdHJva2UiOiB0cnVlLAogICJ3ZWlnaHQiOiAzCn0KICAgICAgICAgICAgICAgICkKICAgICAgICAgICAgICAgIC5hZGRUbyhtYXBfNDNmYmU5NzJlOTlkNDE1ZThjNzMyOWY0NTljYTgyNDEpOwogICAgICAgICAgICAKICAgIAogICAgICAgICAgICB2YXIgcG9wdXBfN2Y1MjRhMGJjZTljNDMxYmJmZjBiN2VkZTFmZmYyMDggPSBMLnBvcHVwKHttYXhXaWR0aDogJzEwMCUnCiAgICAgICAgICAgIAogICAgICAgICAgICB9KTsKCiAgICAgICAgICAgIAogICAgICAgICAgICAgICAgdmFyIGh0bWxfYjEyODViOGE3ZGIzNGFmM2E0OGZmOTViZmNmMmQyOWEgPSAkKGA8ZGl2IGlkPSJodG1sX2IxMjg1YjhhN2RiMzRhZjNhNDhmZjk1YmZjZjJkMjlhIiBzdHlsZT0id2lkdGg6IDEwMC4wJTsgaGVpZ2h0OiAxMDAuMCU7Ij5SYXRvbmVzPC9kaXY+YClbMF07CiAgICAgICAgICAgICAgICBwb3B1cF83ZjUyNGEwYmNlOWM0MzFiYmZmMGI3ZWRlMWZmZjIwOC5zZXRDb250ZW50KGh0bWxfYjEyODViOGE3ZGIzNGFmM2E0OGZmOTViZmNmMmQyOWEpOwogICAgICAgICAgICAKCiAgICAgICAgICAgIGNpcmNsZV9tYXJrZXJfY2I0ZGI2ODA1MDMzNDZiZjlmZmZkMjdjZDUwOTY1ZDAuYmluZFBvcHVwKHBvcHVwXzdmNTI0YTBiY2U5YzQzMWJiZmYwYjdlZGUxZmZmMjA4KQogICAgICAgICAgICA7CgogICAgICAgICAgICAKICAgICAgICAKICAgIAogICAgICAgICAgICB2YXIgY2lyY2xlX21hcmtlcl83MWY5NmFmOWRiOTA0YmViYWY4MDE3ZGIwN2QzODFkZCA9IEwuY2lyY2xlTWFya2VyKAogICAgICAgICAgICAgICAgWy0yNy42MTI4NTA0LCAtNDguNDg1NDM1MV0sCiAgICAgICAgICAgICAgICB7CiAgImJ1YmJsaW5nTW91c2VFdmVudHMiOiB0cnVlLAogICJjb2xvciI6ICJyZWQiLAogICJkYXNoQXJyYXkiOiBudWxsLAogICJkYXNoT2Zmc2V0IjogbnVsbCwKICAiZmlsbCI6IHRydWUsCiAgImZpbGxDb2xvciI6ICIjMzE4NmNjIiwKICAiZmlsbE9wYWNpdHkiOiAwLjcsCiAgImZpbGxSdWxlIjogImV2ZW5vZGQiLAogICJsaW5lQ2FwIjogInJvdW5kIiwKICAibGluZUpvaW4iOiAicm91bmQiLAogICJvcGFjaXR5IjogMS4wLAogICJyYWRpdXMiOiA1LAogICJzdHJva2UiOiB0cnVlLAogICJ3ZWlnaHQiOiAzCn0KICAgICAgICAgICAgICAgICkKICAgICAgICAgICAgICAgIC5hZGRUbyhtYXBfNDNmYmU5NzJlOTlkNDE1ZThjNzMyOWY0NTljYTgyNDEpOwogICAgICAgICAgICAKICAgIAogICAgICAgICAgICB2YXIgcG9wdXBfMzIwOWQ4NGY1MmMxNDY4OWI4YWYyNzRkOTVhZjljNjAgPSBMLnBvcHVwKHttYXhXaWR0aDogJzEwMCUnCiAgICAgICAgICAgIAogICAgICAgICAgICB9KTsKCiAgICAgICAgICAgIAogICAgICAgICAgICAgICAgdmFyIGh0bWxfNThiYzdhYjM4ZTYwNGY0OWFkMmQ2OTQ5OTAwZGE2YzIgPSAkKGA8ZGl2IGlkPSJodG1sXzU4YmM3YWIzOGU2MDRmNDlhZDJkNjk0OTkwMGRhNmMyIiBzdHlsZT0id2lkdGg6IDEwMC4wJTsgaGVpZ2h0OiAxMDAuMCU7Ij5DYW50byBkYSBMYWdvYTwvZGl2PmApWzBdOwogICAgICAgICAgICAgICAgcG9wdXBfMzIwOWQ4NGY1MmMxNDY4OWI4YWYyNzRkOTVhZjljNjAuc2V0Q29udGVudChodG1sXzU4YmM3YWIzOGU2MDRmNDlhZDJkNjk0OTkwMGRhNmMyKTsKICAgICAgICAgICAgCgogICAgICAgICAgICBjaXJjbGVfbWFya2VyXzcxZjk2YWY5ZGI5MDRiZWJhZjgwMTdkYjA3ZDM4MWRkLmJpbmRQb3B1cChwb3B1cF8zMjA5ZDg0ZjUyYzE0Njg5YjhhZjI3NGQ5NWFmOWM2MCkKICAgICAgICAgICAgOwoKICAgICAgICAgICAgCiAgICAgICAgCiAgICAKICAgICAgICAgICAgdmFyIGNpcmNsZV9tYXJrZXJfNTVjNTFkYWFjMDhkNGM0ZmFhNjAzOTZjY2Y4NzhlZGYgPSBMLmNpcmNsZU1hcmtlcigKICAgICAgICAgICAgICAgIFstMjcuNTk3MzAwMiwgLTQ4LjU0OTYwOThdLAogICAgICAgICAgICAgICAgewogICJidWJibGluZ01vdXNlRXZlbnRzIjogdHJ1ZSwKICAiY29sb3IiOiAicmVkIiwKICAiZGFzaEFycmF5IjogbnVsbCwKICAiZGFzaE9mZnNldCI6IG51bGwsCiAgImZpbGwiOiB0cnVlLAogICJmaWxsQ29sb3IiOiAiIzMxODZjYyIsCiAgImZpbGxPcGFjaXR5IjogMC43LAogICJmaWxsUnVsZSI6ICJldmVub2RkIiwKICAibGluZUNhcCI6ICJyb3VuZCIsCiAgImxpbmVKb2luIjogInJvdW5kIiwKICAib3BhY2l0eSI6IDEuMCwKICAicmFkaXVzIjogNSwKICAic3Ryb2tlIjogdHJ1ZSwKICAid2VpZ2h0IjogMwp9CiAgICAgICAgICAgICAgICApCiAgICAgICAgICAgICAgICAuYWRkVG8obWFwXzQzZmJlOTcyZTk5ZDQxNWU4YzczMjlmNDU5Y2E4MjQxKTsKICAgICAgICAgICAgCiAgICAKICAgICAgICAgICAgdmFyIHBvcHVwX2Y2OTM5MGI5ZGU3NTQ0ZjI4Y2YyMmI2YjIyZGY1MzRiID0gTC5wb3B1cCh7bWF4V2lkdGg6ICcxMDAlJwogICAgICAgICAgICAKICAgICAgICAgICAgfSk7CgogICAgICAgICAgICAKICAgICAgICAgICAgICAgIHZhciBodG1sXzA4MjI4YTBlN2VkODRiOWViZDVlYjg5ZDUxMGZhZDBmID0gJChgPGRpdiBpZD0iaHRtbF8wODIyOGEwZTdlZDg0YjllYmQ1ZWI4OWQ1MTBmYWQwZiIgc3R5bGU9IndpZHRoOiAxMDAuMCU7IGhlaWdodDogMTAwLjAlOyI+UmV0aXJvPC9kaXY+YClbMF07CiAgICAgICAgICAgICAgICBwb3B1cF9mNjkzOTBiOWRlNzU0NGYyOGNmMjJiNmIyMmRmNTM0Yi5zZXRDb250ZW50KGh0bWxfMDgyMjhhMGU3ZWQ4NGI5ZWJkNWViODlkNTEwZmFkMGYpOwogICAgICAgICAgICAKCiAgICAgICAgICAgIGNpcmNsZV9tYXJrZXJfNTVjNTFkYWFjMDhkNGM0ZmFhNjAzOTZjY2Y4NzhlZGYuYmluZFBvcHVwKHBvcHVwX2Y2OTM5MGI5ZGU3NTQ0ZjI4Y2YyMmI2YjIyZGY1MzRiKQogICAgICAgICAgICA7CgogICAgICAgICAgICAKICAgICAgICAKICAgIAogICAgICAgICAgICB2YXIgY2lyY2xlX21hcmtlcl8zMDc2ODIyOTUzZDY0MjRiOGE1ODM2YzE1YjUwZWE5MSA9IEwuY2lyY2xlTWFya2VyKAogICAgICAgICAgICAgICAgWy0yNy41MzcyMDE0LCAtNDguNTI0NTU2OF0sCiAgICAgICAgICAgICAgICB7CiAgImJ1YmJsaW5nTW91c2VFdmVudHMiOiB0cnVlLAogICJjb2xvciI6ICJyZWQiLAogICJkYXNoQXJyYXkiOiBudWxsLAogICJkYXNoT2Zmc2V0IjogbnVsbCwKICAiZmlsbCI6IHRydWUsCiAgImZpbGxDb2xvciI6ICIjMzE4NmNjIiwKICAiZmlsbE9wYWNpdHkiOiAwLjcsCiAgImZpbGxSdWxlIjogImV2ZW5vZGQiLAogICJsaW5lQ2FwIjogInJvdW5kIiwKICAibGluZUpvaW4iOiAicm91bmQiLAogICJvcGFjaXR5IjogMS4wLAogICJyYWRpdXMiOiA1LAogICJzdHJva2UiOiB0cnVlLAogICJ3ZWlnaHQiOiAzCn0KICAgICAgICAgICAgICAgICkKICAgICAgICAgICAgICAgIC5hZGRUbyhtYXBfNDNmYmU5NzJlOTlkNDE1ZThjNzMyOWY0NTljYTgyNDEpOwogICAgICAgICAgICAKICAgIAogICAgICAgICAgICB2YXIgcG9wdXBfZWNmYjRkY2I4YjI2NGEyMWFjZTA5ZmVkZTdjMTQ4NmQgPSBMLnBvcHVwKHttYXhXaWR0aDogJzEwMCUnCiAgICAgICAgICAgIAogICAgICAgICAgICB9KTsKCiAgICAgICAgICAgIAogICAgICAgICAgICAgICAgdmFyIGh0bWxfYTg3MDA2ODIzZmZmNDQyNDkwMzM2OGM4ZGU3ZGJhMmUgPSAkKGA8ZGl2IGlkPSJodG1sX2E4NzAwNjgyM2ZmZjQ0MjQ5MDMzNjhjOGRlN2RiYTJlIiBzdHlsZT0id2lkdGg6IDEwMC4wJTsgaGVpZ2h0OiAxMDAuMCU7Ij5DYWN1cMOpPC9kaXY+YClbMF07CiAgICAgICAgICAgICAgICBwb3B1cF9lY2ZiNGRjYjhiMjY0YTIxYWNlMDlmZWRlN2MxNDg2ZC5zZXRDb250ZW50KGh0bWxfYTg3MDA2ODIzZmZmNDQyNDkwMzM2OGM4ZGU3ZGJhMmUpOwogICAgICAgICAgICAKCiAgICAgICAgICAgIGNpcmNsZV9tYXJrZXJfMzA3NjgyMjk1M2Q2NDI0YjhhNTgzNmMxNWI1MGVhOTEuYmluZFBvcHVwKHBvcHVwX2VjZmI0ZGNiOGIyNjRhMjFhY2UwOWZlZGU3YzE0ODZkKQogICAgICAgICAgICA7CgogICAgICAgICAgICAKICAgICAgICAKICAgIAogICAgICAgICAgICB2YXIgY2lyY2xlX21hcmtlcl80NTM4M2M2ODQ5M2E0NjJmOGJhMjM2NTlhMDVkMmE4OSA9IEwuY2lyY2xlTWFya2VyKAogICAgICAgICAgICAgICAgWy0yNy40ODQ1NjcsIC00OC41MTk3MDMxXSwKICAgICAgICAgICAgICAgIHsKICAiYnViYmxpbmdNb3VzZUV2ZW50cyI6IHRydWUsCiAgImNvbG9yIjogInJlZCIsCiAgImRhc2hBcnJheSI6IG51bGwsCiAgImRhc2hPZmZzZXQiOiBudWxsLAogICJmaWxsIjogdHJ1ZSwKICAiZmlsbENvbG9yIjogIiMzMTg2Y2MiLAogICJmaWxsT3BhY2l0eSI6IDAuNywKICAiZmlsbFJ1bGUiOiAiZXZlbm9kZCIsCiAgImxpbmVDYXAiOiAicm91bmQiLAogICJsaW5lSm9pbiI6ICJyb3VuZCIsCiAgIm9wYWNpdHkiOiAxLjAsCiAgInJhZGl1cyI6IDUsCiAgInN0cm9rZSI6IHRydWUsCiAgIndlaWdodCI6IDMKfQogICAgICAgICAgICAgICAgKQogICAgICAgICAgICAgICAgLmFkZFRvKG1hcF80M2ZiZTk3MmU5OWQ0MTVlOGM3MzI5ZjQ1OWNhODI0MSk7CiAgICAgICAgICAgIAogICAgCiAgICAgICAgICAgIHZhciBwb3B1cF84ZWMzNzIyODNiMGU0ZDI1OGI4ZDcyNTZjMjhhNjM1YiA9IEwucG9wdXAoe21heFdpZHRoOiAnMTAwJScKICAgICAgICAgICAgCiAgICAgICAgICAgIH0pOwoKICAgICAgICAgICAgCiAgICAgICAgICAgICAgICB2YXIgaHRtbF9jMGVlODg2Yzk5NTA0N2VmYjIwNmJhM2YyMWY4MTQyYSA9ICQoYDxkaXYgaWQ9Imh0bWxfYzBlZTg4NmM5OTUwNDdlZmIyMDZiYTNmMjFmODE0MmEiIHN0eWxlPSJ3aWR0aDogMTAwLjAlOyBoZWlnaHQ6IDEwMC4wJTsiPkJhcnJhIGRvIFNhbWJhcXVpPC9kaXY+YClbMF07CiAgICAgICAgICAgICAgICBwb3B1cF84ZWMzNzIyODNiMGU0ZDI1OGI4ZDcyNTZjMjhhNjM1Yi5zZXRDb250ZW50KGh0bWxfYzBlZTg4NmM5OTUwNDdlZmIyMDZiYTNmMjFmODE0MmEpOwogICAgICAgICAgICAKCiAgICAgICAgICAgIGNpcmNsZV9tYXJrZXJfNDUzODNjNjg0OTNhNDYyZjhiYTIzNjU5YTA1ZDJhODkuYmluZFBvcHVwKHBvcHVwXzhlYzM3MjI4M2IwZTRkMjU4YjhkNzI1NmMyOGE2MzViKQogICAgICAgICAgICA7CgogICAgICAgICAgICAKICAgICAgICAKICAgIAogICAgICAgICAgICB2YXIgY2lyY2xlX21hcmtlcl80ZTUwNGI0OTZkYTA0MDE1OTg0NGFjYTdmYjI0MjUyNiA9IEwuY2lyY2xlTWFya2VyKAogICAgICAgICAgICAgICAgWy0yNy43NjM0NTM0LCAtNDguNTc3NTM3MzQ0OTQ2OF0sCiAgICAgICAgICAgICAgICB7CiAgImJ1YmJsaW5nTW91c2VFdmVudHMiOiB0cnVlLAogICJjb2xvciI6ICJyZWQiLAogICJkYXNoQXJyYXkiOiBudWxsLAogICJkYXNoT2Zmc2V0IjogbnVsbCwKICAiZmlsbCI6IHRydWUsCiAgImZpbGxDb2xvciI6ICIjMzE4NmNjIiwKICAiZmlsbE9wYWNpdHkiOiAwLjcsCiAgImZpbGxSdWxlIjogImV2ZW5vZGQiLAogICJsaW5lQ2FwIjogInJvdW5kIiwKICAibGluZUpvaW4iOiAicm91bmQiLAogICJvcGFjaXR5IjogMS4wLAogICJyYWRpdXMiOiA1LAogICJzdHJva2UiOiB0cnVlLAogICJ3ZWlnaHQiOiAzCn0KICAgICAgICAgICAgICAgICkKICAgICAgICAgICAgICAgIC5hZGRUbyhtYXBfNDNmYmU5NzJlOTlkNDE1ZThjNzMyOWY0NTljYTgyNDEpOwogICAgICAgICAgICAKICAgIAogICAgICAgICAgICB2YXIgcG9wdXBfMjJiNTgxM2YxNmM3NGQxYmFmMzRjZTVkZmQxMzA2ZDQgPSBMLnBvcHVwKHttYXhXaWR0aDogJzEwMCUnCiAgICAgICAgICAgIAogICAgICAgICAgICB9KTsKCiAgICAgICAgICAgIAogICAgICAgICAgICAgICAgdmFyIGh0bWxfNWM0MjY3YjY3Mzk4NGUxMTljMGM5ODZjN2ZjOWU4M2MgPSAkKGA8ZGl2IGlkPSJodG1sXzVjNDI2N2I2NzM5ODRlMTE5YzBjOTg2YzdmYzllODNjIiBzdHlsZT0id2lkdGg6IDEwMC4wJTsgaGVpZ2h0OiAxMDAuMCU7Ij5DYWlhY2FuZ2E8L2Rpdj5gKVswXTsKICAgICAgICAgICAgICAgIHBvcHVwXzIyYjU4MTNmMTZjNzRkMWJhZjM0Y2U1ZGZkMTMwNmQ0LnNldENvbnRlbnQoaHRtbF81YzQyNjdiNjczOTg0ZTExOWMwYzk4NmM3ZmM5ZTgzYyk7CiAgICAgICAgICAgIAoKICAgICAgICAgICAgY2lyY2xlX21hcmtlcl80ZTUwNGI0OTZkYTA0MDE1OTg0NGFjYTdmYjI0MjUyNi5iaW5kUG9wdXAocG9wdXBfMjJiNTgxM2YxNmM3NGQxYmFmMzRjZTVkZmQxMzA2ZDQpCiAgICAgICAgICAgIDsKCiAgICAgICAgICAgIAogICAgICAgIAogICAgCiAgICAgICAgICAgIHZhciBjaXJjbGVfbWFya2VyX2Y4YWIyMzQ4OTE0MDRmMWVhZmYyZTE5N2YwY2NhYmNjID0gTC5jaXJjbGVNYXJrZXIoCiAgICAgICAgICAgICAgICBbLTI3LjM5MDI5MjMsIC00OC40MjU2NjkxXSwKICAgICAgICAgICAgICAgIHsKICAiYnViYmxpbmdNb3VzZUV2ZW50cyI6IHRydWUsCiAgImNvbG9yIjogInJlZCIsCiAgImRhc2hBcnJheSI6IG51bGwsCiAgImRhc2hPZmZzZXQiOiBudWxsLAogICJmaWxsIjogdHJ1ZSwKICAiZmlsbENvbG9yIjogIiMzMTg2Y2MiLAogICJmaWxsT3BhY2l0eSI6IDAuNywKICAiZmlsbFJ1bGUiOiAiZXZlbm9kZCIsCiAgImxpbmVDYXAiOiAicm91bmQiLAogICJsaW5lSm9pbiI6ICJyb3VuZCIsCiAgIm9wYWNpdHkiOiAxLjAsCiAgInJhZGl1cyI6IDUsCiAgInN0cm9rZSI6IHRydWUsCiAgIndlaWdodCI6IDMKfQogICAgICAgICAgICAgICAgKQogICAgICAgICAgICAgICAgLmFkZFRvKG1hcF80M2ZiZTk3MmU5OWQ0MTVlOGM3MzI5ZjQ1OWNhODI0MSk7CiAgICAgICAgICAgIAogICAgCiAgICAgICAgICAgIHZhciBwb3B1cF9iYWViNjAxMzhmNTc0YTY5OTc5M2RmM2ZmMzcyMjEyMSA9IEwucG9wdXAoe21heFdpZHRoOiAnMTAwJScKICAgICAgICAgICAgCiAgICAgICAgICAgIH0pOwoKICAgICAgICAgICAgCiAgICAgICAgICAgICAgICB2YXIgaHRtbF8wZWQ4MDAyMDRiZTU0Y2JkYjhjY2Y1YzA5MTQ4MjQwYiA9ICQoYDxkaXYgaWQ9Imh0bWxfMGVkODAwMjA0YmU1NGNiZGI4Y2NmNWMwOTE0ODI0MGIiIHN0eWxlPSJ3aWR0aDogMTAwLjAlOyBoZWlnaHQ6IDEwMC4wJTsiPkxhZ29pbmhhIGRvIE5vcnRlPC9kaXY+YClbMF07CiAgICAgICAgICAgICAgICBwb3B1cF9iYWViNjAxMzhmNTc0YTY5OTc5M2RmM2ZmMzcyMjEyMS5zZXRDb250ZW50KGh0bWxfMGVkODAwMjA0YmU1NGNiZGI4Y2NmNWMwOTE0ODI0MGIpOwogICAgICAgICAgICAKCiAgICAgICAgICAgIGNpcmNsZV9tYXJrZXJfZjhhYjIzNDg5MTQwNGYxZWFmZjJlMTk3ZjBjY2FiY2MuYmluZFBvcHVwKHBvcHVwX2JhZWI2MDEzOGY1NzRhNjk5NzkzZGYzZmYzNzIyMTIxKQogICAgICAgICAgICA7CgogICAgICAgICAgICAKICAgICAgICAKICAgIAogICAgICAgICAgICB2YXIgY2lyY2xlX21hcmtlcl81NzAzODUyNjg0YTE0NmY2YmYxODIwZWZiZjM4YWE5NyA9IEwuY2lyY2xlTWFya2VyKAogICAgICAgICAgICAgICAgWy0yNy42NzIxMjc0NSwgLTQ4LjU2MDk3Njc3ODczMjRdLAogICAgICAgICAgICAgICAgewogICJidWJibGluZ01vdXNlRXZlbnRzIjogdHJ1ZSwKICAiY29sb3IiOiAicmVkIiwKICAiZGFzaEFycmF5IjogbnVsbCwKICAiZGFzaE9mZnNldCI6IG51bGwsCiAgImZpbGwiOiB0cnVlLAogICJmaWxsQ29sb3IiOiAiIzMxODZjYyIsCiAgImZpbGxPcGFjaXR5IjogMC43LAogICJmaWxsUnVsZSI6ICJldmVub2RkIiwKICAibGluZUNhcCI6ICJyb3VuZCIsCiAgImxpbmVKb2luIjogInJvdW5kIiwKICAib3BhY2l0eSI6IDEuMCwKICAicmFkaXVzIjogNSwKICAic3Ryb2tlIjogdHJ1ZSwKICAid2VpZ2h0IjogMwp9CiAgICAgICAgICAgICAgICApCiAgICAgICAgICAgICAgICAuYWRkVG8obWFwXzQzZmJlOTcyZTk5ZDQxNWU4YzczMjlmNDU5Y2E4MjQxKTsKICAgICAgICAgICAgCiAgICAKICAgICAgICAgICAgdmFyIHBvcHVwXzc4YjNkNGQyYThkMTQ0NGJhN2YzMWQ2MmY3ODkwMmM2ID0gTC5wb3B1cCh7bWF4V2lkdGg6ICcxMDAlJwogICAgICAgICAgICAKICAgICAgICAgICAgfSk7CgogICAgICAgICAgICAKICAgICAgICAgICAgICAgIHZhciBodG1sXzVjYWIxZDY2NDM3ODQxNWZhNmVjMmY1YWQ1NGRjZTRiID0gJChgPGRpdiBpZD0iaHRtbF81Y2FiMWQ2NjQzNzg0MTVmYTZlYzJmNWFkNTRkY2U0YiIgc3R5bGU9IndpZHRoOiAxMDAuMCU7IGhlaWdodDogMTAwLjAlOyI+QmFzZSBBw6lyZWE8L2Rpdj5gKVswXTsKICAgICAgICAgICAgICAgIHBvcHVwXzc4YjNkNGQyYThkMTQ0NGJhN2YzMWQ2MmY3ODkwMmM2LnNldENvbnRlbnQoaHRtbF81Y2FiMWQ2NjQzNzg0MTVmYTZlYzJmNWFkNTRkY2U0Yik7CiAgICAgICAgICAgIAoKICAgICAgICAgICAgY2lyY2xlX21hcmtlcl81NzAzODUyNjg0YTE0NmY2YmYxODIwZWZiZjM4YWE5Ny5iaW5kUG9wdXAocG9wdXBfNzhiM2Q0ZDJhOGQxNDQ0YmE3ZjMxZDYyZjc4OTAyYzYpCiAgICAgICAgICAgIDsKCiAgICAgICAgICAgIAogICAgICAgIAogICAgCiAgICAgICAgICAgIHZhciBjaXJjbGVfbWFya2VyXzU2YWE4Y2E4MzMyYTQxYjE5MjU1MDA1Y2RjOTA0M2IxID0gTC5jaXJjbGVNYXJrZXIoCiAgICAgICAgICAgICAgICBbLTI3LjY0NzM2NDYsIC00OC40ODI2Nzk0NTc4ODJdLAogICAgICAgICAgICAgICAgewogICJidWJibGluZ01vdXNlRXZlbnRzIjogdHJ1ZSwKICAiY29sb3IiOiAicmVkIiwKICAiZGFzaEFycmF5IjogbnVsbCwKICAiZGFzaE9mZnNldCI6IG51bGwsCiAgImZpbGwiOiB0cnVlLAogICJmaWxsQ29sb3IiOiAiIzMxODZjYyIsCiAgImZpbGxPcGFjaXR5IjogMC43LAogICJmaWxsUnVsZSI6ICJldmVub2RkIiwKICAibGluZUNhcCI6ICJyb3VuZCIsCiAgImxpbmVKb2luIjogInJvdW5kIiwKICAib3BhY2l0eSI6IDEuMCwKICAicmFkaXVzIjogNSwKICAic3Ryb2tlIjogdHJ1ZSwKICAid2VpZ2h0IjogMwp9CiAgICAgICAgICAgICAgICApCiAgICAgICAgICAgICAgICAuYWRkVG8obWFwXzQzZmJlOTcyZTk5ZDQxNWU4YzczMjlmNDU5Y2E4MjQxKTsKICAgICAgICAgICAgCiAgICAKICAgICAgICAgICAgdmFyIHBvcHVwX2JiMjIzOWJiOGRmMjQ0YWFhNjZjM2FmZWY1ZjUyMjdjID0gTC5wb3B1cCh7bWF4V2lkdGg6ICcxMDAlJwogICAgICAgICAgICAKICAgICAgICAgICAgfSk7CgogICAgICAgICAgICAKICAgICAgICAgICAgICAgIHZhciBodG1sXzlhZDExYWJmYTUzZTRmOTBiN2JkOTg3ZDY4NTc3YzI3ID0gJChgPGRpdiBpZD0iaHRtbF85YWQxMWFiZmE1M2U0ZjkwYjdiZDk4N2Q2ODU3N2MyNyIgc3R5bGU9IndpZHRoOiAxMDAuMCU7IGhlaWdodDogMTAwLjAlOyI+UGVkcml0YTwvZGl2PmApWzBdOwogICAgICAgICAgICAgICAgcG9wdXBfYmIyMjM5YmI4ZGYyNDRhYWE2NmMzYWZlZjVmNTIyN2Muc2V0Q29udGVudChodG1sXzlhZDExYWJmYTUzZTRmOTBiN2JkOTg3ZDY4NTc3YzI3KTsKICAgICAgICAgICAgCgogICAgICAgICAgICBjaXJjbGVfbWFya2VyXzU2YWE4Y2E4MzMyYTQxYjE5MjU1MDA1Y2RjOTA0M2IxLmJpbmRQb3B1cChwb3B1cF9iYjIyMzliYjhkZjI0NGFhYTY2YzNhZmVmNWY1MjI3YykKICAgICAgICAgICAgOwoKICAgICAgICAgICAgCiAgICAgICAgCiAgICAKICAgICAgICAgICAgdmFyIGNpcmNsZV9tYXJrZXJfYzA1M2I2MTIyN2ZkNGRhOGFiYjMyN2I0MDMzYWU4ODEgPSBMLmNpcmNsZU1hcmtlcigKICAgICAgICAgICAgICAgIFstMjcuNTg2NDc3MTUsIC00OC40OTcyOTA3MDc0MDg2XSwKICAgICAgICAgICAgICAgIHsKICAiYnViYmxpbmdNb3VzZUV2ZW50cyI6IHRydWUsCiAgImNvbG9yIjogInJlZCIsCiAgImRhc2hBcnJheSI6IG51bGwsCiAgImRhc2hPZmZzZXQiOiBudWxsLAogICJmaWxsIjogdHJ1ZSwKICAiZmlsbENvbG9yIjogIiMzMTg2Y2MiLAogICJmaWxsT3BhY2l0eSI6IDAuNywKICAiZmlsbFJ1bGUiOiAiZXZlbm9kZCIsCiAgImxpbmVDYXAiOiAicm91bmQiLAogICJsaW5lSm9pbiI6ICJyb3VuZCIsCiAgIm9wYWNpdHkiOiAxLjAsCiAgInJhZGl1cyI6IDUsCiAgInN0cm9rZSI6IHRydWUsCiAgIndlaWdodCI6IDMKfQogICAgICAgICAgICAgICAgKQogICAgICAgICAgICAgICAgLmFkZFRvKG1hcF80M2ZiZTk3MmU5OWQ0MTVlOGM3MzI5ZjQ1OWNhODI0MSk7CiAgICAgICAgICAgIAogICAgCiAgICAgICAgICAgIHZhciBwb3B1cF83NThmMmE3NzUwMmQ0NjVkOTY4ODI1M2VkNTJhMzY5OCA9IEwucG9wdXAoe21heFdpZHRoOiAnMTAwJScKICAgICAgICAgICAgCiAgICAgICAgICAgIH0pOwoKICAgICAgICAgICAgCiAgICAgICAgICAgICAgICB2YXIgaHRtbF8zODkyNmEyYjhjZWI0NWI0YjdjZGZlYzY5MzhmM2RmMyA9ICQoYDxkaXYgaWQ9Imh0bWxfMzg5MjZhMmI4Y2ViNDViNGI3Y2RmZWM2OTM4ZjNkZjMiIHN0eWxlPSJ3aWR0aDogMTAwLjAlOyBoZWlnaHQ6IDEwMC4wJTsiPkHDp29yZXM8L2Rpdj5gKVswXTsKICAgICAgICAgICAgICAgIHBvcHVwXzc1OGYyYTc3NTAyZDQ2NWQ5Njg4MjUzZWQ1MmEzNjk4LnNldENvbnRlbnQoaHRtbF8zODkyNmEyYjhjZWI0NWI0YjdjZGZlYzY5MzhmM2RmMyk7CiAgICAgICAgICAgIAoKICAgICAgICAgICAgY2lyY2xlX21hcmtlcl9jMDUzYjYxMjI3ZmQ0ZGE4YWJiMzI3YjQwMzNhZTg4MS5iaW5kUG9wdXAocG9wdXBfNzU4ZjJhNzc1MDJkNDY1ZDk2ODgyNTNlZDUyYTM2OTgpCiAgICAgICAgICAgIDsKCiAgICAgICAgICAgIAogICAgICAgIAogICAgCiAgICAgICAgICAgIHZhciBjaXJjbGVfbWFya2VyXzE5NTIwMTFkNDQxYzQyZGE4ZTZiZWQ5ZDZhYWRhMmU5ID0gTC5jaXJjbGVNYXJrZXIoCiAgICAgICAgICAgICAgICBbLTI3Ljc0MTQyODgsIC00OC41NTc0MDMxXSwKICAgICAgICAgICAgICAgIHsKICAiYnViYmxpbmdNb3VzZUV2ZW50cyI6IHRydWUsCiAgImNvbG9yIjogInJlZCIsCiAgImRhc2hBcnJheSI6IG51bGwsCiAgImRhc2hPZmZzZXQiOiBudWxsLAogICJmaWxsIjogdHJ1ZSwKICAiZmlsbENvbG9yIjogIiMzMTg2Y2MiLAogICJmaWxsT3BhY2l0eSI6IDAuNywKICAiZmlsbFJ1bGUiOiAiZXZlbm9kZCIsCiAgImxpbmVDYXAiOiAicm91bmQiLAogICJsaW5lSm9pbiI6ICJyb3VuZCIsCiAgIm9wYWNpdHkiOiAxLjAsCiAgInJhZGl1cyI6IDUsCiAgInN0cm9rZSI6IHRydWUsCiAgIndlaWdodCI6IDMKfQogICAgICAgICAgICAgICAgKQogICAgICAgICAgICAgICAgLmFkZFRvKG1hcF80M2ZiZTk3MmU5OWQ0MTVlOGM3MzI5ZjQ1OWNhODI0MSk7CiAgICAgICAgICAgIAogICAgCiAgICAgICAgICAgIHZhciBwb3B1cF83N2MyNGIzOTMyYTY0YTY4OThiNDlhYTM2YTk3YWNhZiA9IEwucG9wdXAoe21heFdpZHRoOiAnMTAwJScKICAgICAgICAgICAgCiAgICAgICAgICAgIH0pOwoKICAgICAgICAgICAgCiAgICAgICAgICAgICAgICB2YXIgaHRtbF8wN2E3ODJmOTQ2ZWQ0MDNlYTk2ZjBmYzc1NmVhNjdiMiA9ICQoYDxkaXYgaWQ9Imh0bWxfMDdhNzgyZjk0NmVkNDAzZWE5NmYwZmM3NTZlYTY3YjIiIHN0eWxlPSJ3aWR0aDogMTAwLjAlOyBoZWlnaHQ6IDEwMC4wJTsiPkNvc3RlaXJhIGRvIFJpYmVpcsOjbzwvZGl2PmApWzBdOwogICAgICAgICAgICAgICAgcG9wdXBfNzdjMjRiMzkzMmE2NGE2ODk4YjQ5YWEzNmE5N2FjYWYuc2V0Q29udGVudChodG1sXzA3YTc4MmY5NDZlZDQwM2VhOTZmMGZjNzU2ZWE2N2IyKTsKICAgICAgICAgICAgCgogICAgICAgICAgICBjaXJjbGVfbWFya2VyXzE5NTIwMTFkNDQxYzQyZGE4ZTZiZWQ5ZDZhYWRhMmU5LmJpbmRQb3B1cChwb3B1cF83N2MyNGIzOTMyYTY0YTY4OThiNDlhYTM2YTk3YWNhZikKICAgICAgICAgICAgOwoKICAgICAgICAgICAgCiAgICAgICAgCiAgICAKICAgICAgICAgICAgdmFyIGNpcmNsZV9tYXJrZXJfM2IwZjRjNzhiZDIxNGRlNThlMGVhMGViNTljZjRjYmQgPSBMLmNpcmNsZU1hcmtlcigKICAgICAgICAgICAgICAgIFstMjcuNjg2ODEzMiwgLTQ4LjU2NDA2MjddLAogICAgICAgICAgICAgICAgewogICJidWJibGluZ01vdXNlRXZlbnRzIjogdHJ1ZSwKICAiY29sb3IiOiAicmVkIiwKICAiZGFzaEFycmF5IjogbnVsbCwKICAiZGFzaE9mZnNldCI6IG51bGwsCiAgImZpbGwiOiB0cnVlLAogICJmaWxsQ29sb3IiOiAiIzMxODZjYyIsCiAgImZpbGxPcGFjaXR5IjogMC43LAogICJmaWxsUnVsZSI6ICJldmVub2RkIiwKICAibGluZUNhcCI6ICJyb3VuZCIsCiAgImxpbmVKb2luIjogInJvdW5kIiwKICAib3BhY2l0eSI6IDEuMCwKICAicmFkaXVzIjogNSwKICAic3Ryb2tlIjogdHJ1ZSwKICAid2VpZ2h0IjogMwp9CiAgICAgICAgICAgICAgICApCiAgICAgICAgICAgICAgICAuYWRkVG8obWFwXzQzZmJlOTcyZTk5ZDQxNWU4YzczMjlmNDU5Y2E4MjQxKTsKICAgICAgICAgICAgCiAgICAKICAgICAgICAgICAgdmFyIHBvcHVwXzY4OTg5NjVhZGY3NjRjZjhhNGFlNmUwYTRmMzc5MzFkID0gTC5wb3B1cCh7bWF4V2lkdGg6ICcxMDAlJwogICAgICAgICAgICAKICAgICAgICAgICAgfSk7CgogICAgICAgICAgICAKICAgICAgICAgICAgICAgIHZhciBodG1sX2ZlZTA3NzNlNTIwZjQ0NjhiYzgzNWI3MWJkYWJlMzA1ID0gJChgPGRpdiBpZD0iaHRtbF9mZWUwNzczZTUyMGY0NDY4YmM4MzViNzFiZGFiZTMwNSIgc3R5bGU9IndpZHRoOiAxMDAuMCU7IGhlaWdodDogMTAwLjAlOyI+VGFwZXJhPC9kaXY+YClbMF07CiAgICAgICAgICAgICAgICBwb3B1cF82ODk4OTY1YWRmNzY0Y2Y4YTRhZTZlMGE0ZjM3OTMxZC5zZXRDb250ZW50KGh0bWxfZmVlMDc3M2U1MjBmNDQ2OGJjODM1YjcxYmRhYmUzMDUpOwogICAgICAgICAgICAKCiAgICAgICAgICAgIGNpcmNsZV9tYXJrZXJfM2IwZjRjNzhiZDIxNGRlNThlMGVhMGViNTljZjRjYmQuYmluZFBvcHVwKHBvcHVwXzY4OTg5NjVhZGY3NjRjZjhhNGFlNmUwYTRmMzc5MzFkKQogICAgICAgICAgICA7CgogICAgICAgICAgICAKICAgICAgICAKICAgIAogICAgICAgICAgICB2YXIgY2lyY2xlX21hcmtlcl82NzQwZjY0MjI4Zjg0ZDMxYmVjMTM3MzBjY2IzNDFkNiA9IEwuY2lyY2xlTWFya2VyKAogICAgICAgICAgICAgICAgWy0yNy40NDg5NTM3LCAtNDguNTMxMjUwNF0sCiAgICAgICAgICAgICAgICB7CiAgImJ1YmJsaW5nTW91c2VFdmVudHMiOiB0cnVlLAogICJjb2xvciI6ICJyZWQiLAogICJkYXNoQXJyYXkiOiBudWxsLAogICJkYXNoT2Zmc2V0IjogbnVsbCwKICAiZmlsbCI6IHRydWUsCiAgImZpbGxDb2xvciI6ICIjMzE4NmNjIiwKICAiZmlsbE9wYWNpdHkiOiAwLjcsCiAgImZpbGxSdWxlIjogImV2ZW5vZGQiLAogICJsaW5lQ2FwIjogInJvdW5kIiwKICAibGluZUpvaW4iOiAicm91bmQiLAogICJvcGFjaXR5IjogMS4wLAogICJyYWRpdXMiOiA1LAogICJzdHJva2UiOiB0cnVlLAogICJ3ZWlnaHQiOiAzCn0KICAgICAgICAgICAgICAgICkKICAgICAgICAgICAgICAgIC5hZGRUbyhtYXBfNDNmYmU5NzJlOTlkNDE1ZThjNzMyOWY0NTljYTgyNDEpOwogICAgICAgICAgICAKICAgIAogICAgICAgICAgICB2YXIgcG9wdXBfN2YyODVjNjI4ZjcwNDJiZmI2OGJjMmQxZGY4MDYzNGIgPSBMLnBvcHVwKHttYXhXaWR0aDogJzEwMCUnCiAgICAgICAgICAgIAogICAgICAgICAgICB9KTsKCiAgICAgICAgICAgIAogICAgICAgICAgICAgICAgdmFyIGh0bWxfNGQ5NWJkZjU2NmM3NGJhN2FhNTVmODI0MDE1MWEzOGEgPSAkKGA8ZGl2IGlkPSJodG1sXzRkOTViZGY1NjZjNzRiYTdhYTU1ZjgyNDAxNTFhMzhhIiBzdHlsZT0id2lkdGg6IDEwMC4wJTsgaGVpZ2h0OiAxMDAuMCU7Ij5EYW5pZWxhPC9kaXY+YClbMF07CiAgICAgICAgICAgICAgICBwb3B1cF83ZjI4NWM2MjhmNzA0MmJmYjY4YmMyZDFkZjgwNjM0Yi5zZXRDb250ZW50KGh0bWxfNGQ5NWJkZjU2NmM3NGJhN2FhNTVmODI0MDE1MWEzOGEpOwogICAgICAgICAgICAKCiAgICAgICAgICAgIGNpcmNsZV9tYXJrZXJfNjc0MGY2NDIyOGY4NGQzMWJlYzEzNzMwY2NiMzQxZDYuYmluZFBvcHVwKHBvcHVwXzdmMjg1YzYyOGY3MDQyYmZiNjhiYzJkMWRmODA2MzRiKQogICAgICAgICAgICA7CgogICAgICAgICAgICAKICAgICAgICAKICAgIAogICAgICAgICAgICB2YXIgY2lyY2xlX21hcmtlcl83ZGZlMzJhNGUxZGM0MWFlYmU2YTM4MTAzYThiZDJkMiA9IEwuY2lyY2xlTWFya2VyKAogICAgICAgICAgICAgICAgWy0yNy40NzQ0Nzk1LCAtNDguNDYxNjc1Nl0sCiAgICAgICAgICAgICAgICB7CiAgImJ1YmJsaW5nTW91c2VFdmVudHMiOiB0cnVlLAogICJjb2xvciI6ICJyZWQiLAogICJkYXNoQXJyYXkiOiBudWxsLAogICJkYXNoT2Zmc2V0IjogbnVsbCwKICAiZmlsbCI6IHRydWUsCiAgImZpbGxDb2xvciI6ICIjMzE4NmNjIiwKICAiZmlsbE9wYWNpdHkiOiAwLjcsCiAgImZpbGxSdWxlIjogImV2ZW5vZGQiLAogICJsaW5lQ2FwIjogInJvdW5kIiwKICAibGluZUpvaW4iOiAicm91bmQiLAogICJvcGFjaXR5IjogMS4wLAogICJyYWRpdXMiOiA1LAogICJzdHJva2UiOiB0cnVlLAogICJ3ZWlnaHQiOiAzCn0KICAgICAgICAgICAgICAgICkKICAgICAgICAgICAgICAgIC5hZGRUbyhtYXBfNDNmYmU5NzJlOTlkNDE1ZThjNzMyOWY0NTljYTgyNDEpOwogICAgICAgICAgICAKICAgIAogICAgICAgICAgICB2YXIgcG9wdXBfMDVkMWIxYzE0NzZkNDhlMWFiNjQ1MmU5MWM3Mjg4YTUgPSBMLnBvcHVwKHttYXhXaWR0aDogJzEwMCUnCiAgICAgICAgICAgIAogICAgICAgICAgICB9KTsKCiAgICAgICAgICAgIAogICAgICAgICAgICAgICAgdmFyIGh0bWxfMjhmMmI3MTYzNzM4NDVhMWE3ODQxYTU4MTI2MGM3OGEgPSAkKGA8ZGl2IGlkPSJodG1sXzI4ZjJiNzE2MzczODQ1YTFhNzg0MWE1ODEyNjBjNzhhIiBzdHlsZT0id2lkdGg6IDEwMC4wJTsgaGVpZ2h0OiAxMDAuMCU7Ij5WYXJnZW0gUGVxdWVuYTwvZGl2PmApWzBdOwogICAgICAgICAgICAgICAgcG9wdXBfMDVkMWIxYzE0NzZkNDhlMWFiNjQ1MmU5MWM3Mjg4YTUuc2V0Q29udGVudChodG1sXzI4ZjJiNzE2MzczODQ1YTFhNzg0MWE1ODEyNjBjNzhhKTsKICAgICAgICAgICAgCgogICAgICAgICAgICBjaXJjbGVfbWFya2VyXzdkZmUzMmE0ZTFkYzQxYWViZTZhMzgxMDNhOGJkMmQyLmJpbmRQb3B1cChwb3B1cF8wNWQxYjFjMTQ3NmQ0OGUxYWI2NDUyZTkxYzcyODhhNSkKICAgICAgICAgICAgOwoKICAgICAgICAgICAgCiAgICAgICAgCiAgICAKICAgICAgICAgICAgdmFyIGNpcmNsZV9tYXJrZXJfNTQzODYyOTk0NzcwNGYyYWI3YTIwYWIxMDE2NDg5NTAgPSBMLmNpcmNsZU1hcmtlcigKICAgICAgICAgICAgICAgIFstMjcuNTk0MDc0NSwgLTQ4LjQ2MDkzOTldLAogICAgICAgICAgICAgICAgewogICJidWJibGluZ01vdXNlRXZlbnRzIjogdHJ1ZSwKICAiY29sb3IiOiAicmVkIiwKICAiZGFzaEFycmF5IjogbnVsbCwKICAiZGFzaE9mZnNldCI6IG51bGwsCiAgImZpbGwiOiB0cnVlLAogICJmaWxsQ29sb3IiOiAiIzMxODZjYyIsCiAgImZpbGxPcGFjaXR5IjogMC43LAogICJmaWxsUnVsZSI6ICJldmVub2RkIiwKICAibGluZUNhcCI6ICJyb3VuZCIsCiAgImxpbmVKb2luIjogInJvdW5kIiwKICAib3BhY2l0eSI6IDEuMCwKICAicmFkaXVzIjogNSwKICAic3Ryb2tlIjogdHJ1ZSwKICAid2VpZ2h0IjogMwp9CiAgICAgICAgICAgICAgICApCiAgICAgICAgICAgICAgICAuYWRkVG8obWFwXzQzZmJlOTcyZTk5ZDQxNWU4YzczMjlmNDU5Y2E4MjQxKTsKICAgICAgICAgICAgCiAgICAKICAgICAgICAgICAgdmFyIHBvcHVwXzcxN2MzNmRhMzc1NDRmOWNhYTU0NjE1OWVjZDQ1ZjY0ID0gTC5wb3B1cCh7bWF4V2lkdGg6ICcxMDAlJwogICAgICAgICAgICAKICAgICAgICAgICAgfSk7CgogICAgICAgICAgICAKICAgICAgICAgICAgICAgIHZhciBodG1sX2I4ZWNhYTc1M2Q3ZjQ2MDU4YmQ4MTUzMTU4NTdmZGQzID0gJChgPGRpdiBpZD0iaHRtbF9iOGVjYWE3NTNkN2Y0NjA1OGJkODE1MzE1ODU3ZmRkMyIgc3R5bGU9IndpZHRoOiAxMDAuMCU7IGhlaWdodDogMTAwLjAlOyI+Q2FudG8gZG9zIEFyYcOnw6FzPC9kaXY+YClbMF07CiAgICAgICAgICAgICAgICBwb3B1cF83MTdjMzZkYTM3NTQ0ZjljYWE1NDYxNTllY2Q0NWY2NC5zZXRDb250ZW50KGh0bWxfYjhlY2FhNzUzZDdmNDYwNThiZDgxNTMxNTg1N2ZkZDMpOwogICAgICAgICAgICAKCiAgICAgICAgICAgIGNpcmNsZV9tYXJrZXJfNTQzODYyOTk0NzcwNGYyYWI3YTIwYWIxMDE2NDg5NTAuYmluZFBvcHVwKHBvcHVwXzcxN2MzNmRhMzc1NDRmOWNhYTU0NjE1OWVjZDQ1ZjY0KQogICAgICAgICAgICA7CgogICAgICAgICAgICAKICAgICAgICAKICAgIAogICAgICAgICAgICB2YXIgY2lyY2xlX21hcmtlcl81MTljOGE0ZDRmNmE0NDM1YTA3NDhmYzFiM2RhZDY1ZCA9IEwuY2lyY2xlTWFya2VyKAogICAgICAgICAgICAgICAgWy0yNy41MTg0MTQ5LCAtNDguNTE1NDUzM10sCiAgICAgICAgICAgICAgICB7CiAgImJ1YmJsaW5nTW91c2VFdmVudHMiOiB0cnVlLAogICJjb2xvciI6ICJyZWQiLAogICJkYXNoQXJyYXkiOiBudWxsLAogICJkYXNoT2Zmc2V0IjogbnVsbCwKICAiZmlsbCI6IHRydWUsCiAgImZpbGxDb2xvciI6ICIjMzE4NmNjIiwKICAiZmlsbE9wYWNpdHkiOiAwLjcsCiAgImZpbGxSdWxlIjogImV2ZW5vZGQiLAogICJsaW5lQ2FwIjogInJvdW5kIiwKICAibGluZUpvaW4iOiAicm91bmQiLAogICJvcGFjaXR5IjogMS4wLAogICJyYWRpdXMiOiA1LAogICJzdHJva2UiOiB0cnVlLAogICJ3ZWlnaHQiOiAzCn0KICAgICAgICAgICAgICAgICkKICAgICAgICAgICAgICAgIC5hZGRUbyhtYXBfNDNmYmU5NzJlOTlkNDE1ZThjNzMyOWY0NTljYTgyNDEpOwogICAgICAgICAgICAKICAgIAogICAgICAgICAgICB2YXIgcG9wdXBfMDlkYjU5NDllMDhkNGI3Njg1ZTQ5ZDMwYmY3ZDI2Y2UgPSBMLnBvcHVwKHttYXhXaWR0aDogJzEwMCUnCiAgICAgICAgICAgIAogICAgICAgICAgICB9KTsKCiAgICAgICAgICAgIAogICAgICAgICAgICAgICAgdmFyIGh0bWxfOWM3NmFiODYwN2EyNGE2ZDg2ZmE1ZWU5OTE4NDQ3N2YgPSAkKGA8ZGl2IGlkPSJodG1sXzljNzZhYjg2MDdhMjRhNmQ4NmZhNWVlOTkxODQ0NzdmIiBzdHlsZT0id2lkdGg6IDEwMC4wJTsgaGVpZ2h0OiAxMDAuMCU7Ij5SZWNhbnRvIGRvcyBBw6dvcmVzPC9kaXY+YClbMF07CiAgICAgICAgICAgICAgICBwb3B1cF8wOWRiNTk0OWUwOGQ0Yjc2ODVlNDlkMzBiZjdkMjZjZS5zZXRDb250ZW50KGh0bWxfOWM3NmFiODYwN2EyNGE2ZDg2ZmE1ZWU5OTE4NDQ3N2YpOwogICAgICAgICAgICAKCiAgICAgICAgICAgIGNpcmNsZV9tYXJrZXJfNTE5YzhhNGQ0ZjZhNDQzNWEwNzQ4ZmMxYjNkYWQ2NWQuYmluZFBvcHVwKHBvcHVwXzA5ZGI1OTQ5ZTA4ZDRiNzY4NWU0OWQzMGJmN2QyNmNlKQogICAgICAgICAgICA7CgogICAgICAgICAgICAKICAgICAgICAKICAgIAogICAgICAgICAgICB2YXIgY2lyY2xlX21hcmtlcl9mMzQ4NWVjOThlNmM0YTkxOGU0MTU4MmJkYjIwNzNmZCA9IEwuY2lyY2xlTWFya2VyKAogICAgICAgICAgICAgICAgWy0yNy40MjEzMDI0LCAtNDguNDMyOTAzXSwKICAgICAgICAgICAgICAgIHsKICAiYnViYmxpbmdNb3VzZUV2ZW50cyI6IHRydWUsCiAgImNvbG9yIjogInJlZCIsCiAgImRhc2hBcnJheSI6IG51bGwsCiAgImRhc2hPZmZzZXQiOiBudWxsLAogICJmaWxsIjogdHJ1ZSwKICAiZmlsbENvbG9yIjogIiMzMTg2Y2MiLAogICJmaWxsT3BhY2l0eSI6IDAuNywKICAiZmlsbFJ1bGUiOiAiZXZlbm9kZCIsCiAgImxpbmVDYXAiOiAicm91bmQiLAogICJsaW5lSm9pbiI6ICJyb3VuZCIsCiAgIm9wYWNpdHkiOiAxLjAsCiAgInJhZGl1cyI6IDUsCiAgInN0cm9rZSI6IHRydWUsCiAgIndlaWdodCI6IDMKfQogICAgICAgICAgICAgICAgKQogICAgICAgICAgICAgICAgLmFkZFRvKG1hcF80M2ZiZTk3MmU5OWQ0MTVlOGM3MzI5ZjQ1OWNhODI0MSk7CiAgICAgICAgICAgIAogICAgCiAgICAgICAgICAgIHZhciBwb3B1cF82NjNlNWMwMjU0ZWM0ODNmYmRlMDc0ZjNlMTMyNzE4MiA9IEwucG9wdXAoe21heFdpZHRoOiAnMTAwJScKICAgICAgICAgICAgCiAgICAgICAgICAgIH0pOwoKICAgICAgICAgICAgCiAgICAgICAgICAgICAgICB2YXIgaHRtbF9kOTc5YWZjZjE1MDk0MWQwOGI4NTQ5YjgzODU0YzQ2NSA9ICQoYDxkaXYgaWQ9Imh0bWxfZDk3OWFmY2YxNTA5NDFkMDhiODU0OWI4Mzg1NGM0NjUiIHN0eWxlPSJ3aWR0aDogMTAwLjAlOyBoZWlnaHQ6IDEwMC4wJTsiPkZvcnRlPC9kaXY+YClbMF07CiAgICAgICAgICAgICAgICBwb3B1cF82NjNlNWMwMjU0ZWM0ODNmYmRlMDc0ZjNlMTMyNzE4Mi5zZXRDb250ZW50KGh0bWxfZDk3OWFmY2YxNTA5NDFkMDhiODU0OWI4Mzg1NGM0NjUpOwogICAgICAgICAgICAKCiAgICAgICAgICAgIGNpcmNsZV9tYXJrZXJfZjM0ODVlYzk4ZTZjNGE5MThlNDE1ODJiZGIyMDczZmQuYmluZFBvcHVwKHBvcHVwXzY2M2U1YzAyNTRlYzQ4M2ZiZGUwNzRmM2UxMzI3MTgyKQogICAgICAgICAgICA7CgogICAgICAgICAgICAKICAgICAgICAKICAgIAogICAgICAgICAgICB2YXIgY2lyY2xlX21hcmtlcl9lYzk3NmU4MDRiYzM0ZjgxODU4MmM0MzU4MzBiZTA5YSA9IEwuY2lyY2xlTWFya2VyKAogICAgICAgICAgICAgICAgWy0yNy40MTg3NzkzLCAtNDguNDA4MDUwNzM4MjMyNF0sCiAgICAgICAgICAgICAgICB7CiAgImJ1YmJsaW5nTW91c2VFdmVudHMiOiB0cnVlLAogICJjb2xvciI6ICJyZWQiLAogICJkYXNoQXJyYXkiOiBudWxsLAogICJkYXNoT2Zmc2V0IjogbnVsbCwKICAiZmlsbCI6IHRydWUsCiAgImZpbGxDb2xvciI6ICIjMzE4NmNjIiwKICAiZmlsbE9wYWNpdHkiOiAwLjcsCiAgImZpbGxSdWxlIjogImV2ZW5vZGQiLAogICJsaW5lQ2FwIjogInJvdW5kIiwKICAibGluZUpvaW4iOiAicm91bmQiLAogICJvcGFjaXR5IjogMS4wLAogICJyYWRpdXMiOiA1LAogICJzdHJva2UiOiB0cnVlLAogICJ3ZWlnaHQiOiAzCn0KICAgICAgICAgICAgICAgICkKICAgICAgICAgICAgICAgIC5hZGRUbyhtYXBfNDNmYmU5NzJlOTlkNDE1ZThjNzMyOWY0NTljYTgyNDEpOwogICAgICAgICAgICAKICAgIAogICAgICAgICAgICB2YXIgcG9wdXBfOTZlNDI4MWJhYjFmNDVlNjkzNzRjYmVlNzYwNGYxMjMgPSBMLnBvcHVwKHttYXhXaWR0aDogJzEwMCUnCiAgICAgICAgICAgIAogICAgICAgICAgICB9KTsKCiAgICAgICAgICAgIAogICAgICAgICAgICAgICAgdmFyIGh0bWxfMjA2NzM4YTE4ZjFjNDE5Yzg3OTUzYTMzMDk4Mzc5ZjIgPSAkKGA8ZGl2IGlkPSJodG1sXzIwNjczOGExOGYxYzQxOWM4Nzk1M2EzMzA5ODM3OWYyIiBzdHlsZT0id2lkdGg6IDEwMC4wJTsgaGVpZ2h0OiAxMDAuMCU7Ij5JbmdsZXNlcyBOb3J0ZTwvZGl2PmApWzBdOwogICAgICAgICAgICAgICAgcG9wdXBfOTZlNDI4MWJhYjFmNDVlNjkzNzRjYmVlNzYwNGYxMjMuc2V0Q29udGVudChodG1sXzIwNjczOGExOGYxYzQxOWM4Nzk1M2EzMzA5ODM3OWYyKTsKICAgICAgICAgICAgCgogICAgICAgICAgICBjaXJjbGVfbWFya2VyX2VjOTc2ZTgwNGJjMzRmODE4NTgyYzQzNTgzMGJlMDlhLmJpbmRQb3B1cChwb3B1cF85NmU0MjgxYmFiMWY0NWU2OTM3NGNiZWU3NjA0ZjEyMykKICAgICAgICAgICAgOwoKICAgICAgICAgICAgCiAgICAgICAgCiAgICAKICAgICAgICAgICAgdmFyIGNpcmNsZV9tYXJrZXJfMGExODk4MDIzZDYzNDU5ZmIyNDcyMTQ3N2M3Yzc3YzUgPSBMLmNpcmNsZU1hcmtlcigKICAgICAgICAgICAgICAgIFstMjcuNTk2NjkwOSwgLTQ4LjUzNTI3NDldLAogICAgICAgICAgICAgICAgewogICJidWJibGluZ01vdXNlRXZlbnRzIjogdHJ1ZSwKICAiY29sb3IiOiAicmVkIiwKICAiZGFzaEFycmF5IjogbnVsbCwKICAiZGFzaE9mZnNldCI6IG51bGwsCiAgImZpbGwiOiB0cnVlLAogICJmaWxsQ29sb3IiOiAiIzMxODZjYyIsCiAgImZpbGxPcGFjaXR5IjogMC43LAogICJmaWxsUnVsZSI6ICJldmVub2RkIiwKICAibGluZUNhcCI6ICJyb3VuZCIsCiAgImxpbmVKb2luIjogInJvdW5kIiwKICAib3BhY2l0eSI6IDEuMCwKICAicmFkaXVzIjogNSwKICAic3Ryb2tlIjogdHJ1ZSwKICAid2VpZ2h0IjogMwp9CiAgICAgICAgICAgICAgICApCiAgICAgICAgICAgICAgICAuYWRkVG8obWFwXzQzZmJlOTcyZTk5ZDQxNWU4YzczMjlmNDU5Y2E4MjQxKTsKICAgICAgICAgICAgCiAgICAKICAgICAgICAgICAgdmFyIHBvcHVwXzYwMmEzYTZkMzQwMDQxMWNhM2M3Y2NhODc0N2RkY2U3ID0gTC5wb3B1cCh7bWF4V2lkdGg6ICcxMDAlJwogICAgICAgICAgICAKICAgICAgICAgICAgfSk7CgogICAgICAgICAgICAKICAgICAgICAgICAgICAgIHZhciBodG1sX2Y5ZDk3YmNiNjk2NzRlNmQ5ZTA2MWFhNWQwZTM4YmJlID0gJChgPGRpdiBpZD0iaHRtbF9mOWQ5N2JjYjY5Njc0ZTZkOWUwNjFhYTVkMGUzOGJiZSIgc3R5bGU9IndpZHRoOiAxMDAuMCU7IGhlaWdodDogMTAwLjAlOyI+Q2FpZWlyYTwvZGl2PmApWzBdOwogICAgICAgICAgICAgICAgcG9wdXBfNjAyYTNhNmQzNDAwNDExY2EzYzdjY2E4NzQ3ZGRjZTcuc2V0Q29udGVudChodG1sX2Y5ZDk3YmNiNjk2NzRlNmQ5ZTA2MWFhNWQwZTM4YmJlKTsKICAgICAgICAgICAgCgogICAgICAgICAgICBjaXJjbGVfbWFya2VyXzBhMTg5ODAyM2Q2MzQ1OWZiMjQ3MjE0NzdjN2M3N2M1LmJpbmRQb3B1cChwb3B1cF82MDJhM2E2ZDM0MDA0MTFjYTNjN2NjYTg3NDdkZGNlNykKICAgICAgICAgICAgOwoKICAgICAgICAgICAgCiAgICAgICAgCiAgICAKICAgICAgICAgICAgdmFyIGNpcmNsZV9tYXJrZXJfMDRmNzY0YTFiODNmNDA1ZjljNDAwNDdmYjhmNjgwOWQgPSBMLmNpcmNsZU1hcmtlcigKICAgICAgICAgICAgICAgIFstMjcuMzk3NjEyOCwgLTQ4LjQxNTgyNTRdLAogICAgICAgICAgICAgICAgewogICJidWJibGluZ01vdXNlRXZlbnRzIjogdHJ1ZSwKICAiY29sb3IiOiAicmVkIiwKICAiZGFzaEFycmF5IjogbnVsbCwKICAiZGFzaE9mZnNldCI6IG51bGwsCiAgImZpbGwiOiB0cnVlLAogICJmaWxsQ29sb3IiOiAiIzMxODZjYyIsCiAgImZpbGxPcGFjaXR5IjogMC43LAogICJmaWxsUnVsZSI6ICJldmVub2RkIiwKICAibGluZUNhcCI6ICJyb3VuZCIsCiAgImxpbmVKb2luIjogInJvdW5kIiwKICAib3BhY2l0eSI6IDEuMCwKICAicmFkaXVzIjogNSwKICAic3Ryb2tlIjogdHJ1ZSwKICAid2VpZ2h0IjogMwp9CiAgICAgICAgICAgICAgICApCiAgICAgICAgICAgICAgICAuYWRkVG8obWFwXzQzZmJlOTcyZTk5ZDQxNWU4YzczMjlmNDU5Y2E4MjQxKTsKICAgICAgICAgICAgCiAgICAKICAgICAgICAgICAgdmFyIHBvcHVwXzZlNTBhNGYzZjY2MjQ5ZTI4NTI2YWFlZTI0N2YzNDljID0gTC5wb3B1cCh7bWF4V2lkdGg6ICcxMDAlJwogICAgICAgICAgICAKICAgICAgICAgICAgfSk7CgogICAgICAgICAgICAKICAgICAgICAgICAgICAgIHZhciBodG1sXzQ0MTYyMjQzNmQ2OTQ4ZjU5MzgwZWUzOTZhZTg0ZmY4ID0gJChgPGRpdiBpZD0iaHRtbF80NDE2MjI0MzZkNjk0OGY1OTM4MGVlMzk2YWU4NGZmOCIgc3R5bGU9IndpZHRoOiAxMDAuMCU7IGhlaWdodDogMTAwLjAlOyI+UHJhaWEgQnJhdmE8L2Rpdj5gKVswXTsKICAgICAgICAgICAgICAgIHBvcHVwXzZlNTBhNGYzZjY2MjQ5ZTI4NTI2YWFlZTI0N2YzNDljLnNldENvbnRlbnQoaHRtbF80NDE2MjI0MzZkNjk0OGY1OTM4MGVlMzk2YWU4NGZmOCk7CiAgICAgICAgICAgIAoKICAgICAgICAgICAgY2lyY2xlX21hcmtlcl8wNGY3NjRhMWI4M2Y0MDVmOWM0MDA0N2ZiOGY2ODA5ZC5iaW5kUG9wdXAocG9wdXBfNmU1MGE0ZjNmNjYyNDllMjg1MjZhYWVlMjQ3ZjM0OWMpCiAgICAgICAgICAgIDsKCiAgICAgICAgICAgIAogICAgICAgIAogICAgCiAgICAgICAgICAgIHZhciBjaXJjbGVfbWFya2VyXzlkNzlhYTRjZGY0OTRkNmFhN2ZhM2Q0NGZkMTllMWQzID0gTC5jaXJjbGVNYXJrZXIoCiAgICAgICAgICAgICAgICBbLTI3LjY4ODU3MzQ1LCAtNDguNTY4NTA4MjA0NzY3Ml0sCiAgICAgICAgICAgICAgICB7CiAgImJ1YmJsaW5nTW91c2VFdmVudHMiOiB0cnVlLAogICJjb2xvciI6ICJibHVlIiwKICAiZGFzaEFycmF5IjogbnVsbCwKICAiZGFzaE9mZnNldCI6IG51bGwsCiAgImZpbGwiOiB0cnVlLAogICJmaWxsQ29sb3IiOiAiIzMxODZjYyIsCiAgImZpbGxPcGFjaXR5IjogMC43LAogICJmaWxsUnVsZSI6ICJldmVub2RkIiwKICAibGluZUNhcCI6ICJyb3VuZCIsCiAgImxpbmVKb2luIjogInJvdW5kIiwKICAib3BhY2l0eSI6IDEuMCwKICAicmFkaXVzIjogNSwKICAic3Ryb2tlIjogdHJ1ZSwKICAid2VpZ2h0IjogMwp9CiAgICAgICAgICAgICAgICApCiAgICAgICAgICAgICAgICAuYWRkVG8obWFwXzQzZmJlOTcyZTk5ZDQxNWU4YzczMjlmNDU5Y2E4MjQxKTsKICAgICAgICAgICAgCiAgICAKICAgICAgICAgICAgdmFyIHBvcHVwX2QxMjUwNDkzNTQ3OTRkMWU4OTZiNTEyMDVjY2E2Y2E1ID0gTC5wb3B1cCh7bWF4V2lkdGg6ICcxMDAlJwogICAgICAgICAgICAKICAgICAgICAgICAgfSk7CgogICAgICAgICAgICAKICAgICAgICAgICAgICAgIHZhciBodG1sX2QxMTkxN2UxZDRjYzRkMTQ4ODhlNTI3YWJhYzJjNzU0ID0gJChgPGRpdiBpZD0iaHRtbF9kMTE5MTdlMWQ0Y2M0ZDE0ODg4ZTUyN2FiYWMyYzc1NCIgc3R5bGU9IndpZHRoOiAxMDAuMCU7IGhlaWdodDogMTAwLjAlOyI+UHJhaWEgZGEgVGFwZXJhPC9kaXY+YClbMF07CiAgICAgICAgICAgICAgICBwb3B1cF9kMTI1MDQ5MzU0Nzk0ZDFlODk2YjUxMjA1Y2NhNmNhNS5zZXRDb250ZW50KGh0bWxfZDExOTE3ZTFkNGNjNGQxNDg4OGU1MjdhYmFjMmM3NTQpOwogICAgICAgICAgICAKCiAgICAgICAgICAgIGNpcmNsZV9tYXJrZXJfOWQ3OWFhNGNkZjQ5NGQ2YWE3ZmEzZDQ0ZmQxOWUxZDMuYmluZFBvcHVwKHBvcHVwX2QxMjUwNDkzNTQ3OTRkMWU4OTZiNTEyMDVjY2E2Y2E1KQogICAgICAgICAgICA7CgogICAgICAgICAgICAKICAgICAgICAKICAgIAogICAgICAgICAgICB2YXIgY2lyY2xlX21hcmtlcl8zMjYyMzI2YjBjMzY0NTkxYWM2N2ExMjExOWNlNzZmZSA9IEwuY2lyY2xlTWFya2VyKAogICAgICAgICAgICAgICAgWy0yNy40NTgyNDYzNSwgLTQ4LjM3NDc2Nzk1MDcxNjRdLAogICAgICAgICAgICAgICAgewogICJidWJibGluZ01vdXNlRXZlbnRzIjogdHJ1ZSwKICAiY29sb3IiOiAiYmx1ZSIsCiAgImRhc2hBcnJheSI6IG51bGwsCiAgImRhc2hPZmZzZXQiOiBudWxsLAogICJmaWxsIjogdHJ1ZSwKICAiZmlsbENvbG9yIjogIiMzMTg2Y2MiLAogICJmaWxsT3BhY2l0eSI6IDAuNywKICAiZmlsbFJ1bGUiOiAiZXZlbm9kZCIsCiAgImxpbmVDYXAiOiAicm91bmQiLAogICJsaW5lSm9pbiI6ICJyb3VuZCIsCiAgIm9wYWNpdHkiOiAxLjAsCiAgInJhZGl1cyI6IDUsCiAgInN0cm9rZSI6IHRydWUsCiAgIndlaWdodCI6IDMKfQogICAgICAgICAgICAgICAgKQogICAgICAgICAgICAgICAgLmFkZFRvKG1hcF80M2ZiZTk3MmU5OWQ0MTVlOGM3MzI5ZjQ1OWNhODI0MSk7CiAgICAgICAgICAgIAogICAgCiAgICAgICAgICAgIHZhciBwb3B1cF83NmRlZTg2NThlNjQ0M2NiYTdkODIyZjQ4MmY2NzM0ZCA9IEwucG9wdXAoe21heFdpZHRoOiAnMTAwJScKICAgICAgICAgICAgCiAgICAgICAgICAgIH0pOwoKICAgICAgICAgICAgCiAgICAgICAgICAgICAgICB2YXIgaHRtbF85ZDBlODQzNjliOWE0MmUzOWM2MGE0YWVmMTQwOWI2NSA9ICQoYDxkaXYgaWQ9Imh0bWxfOWQwZTg0MzY5YjlhNDJlMzljNjBhNGFlZjE0MDliNjUiIHN0eWxlPSJ3aWR0aDogMTAwLjAlOyBoZWlnaHQ6IDEwMC4wJTsiPlByYWlhIGRvIFNhbnRpbmhvPC9kaXY+YClbMF07CiAgICAgICAgICAgICAgICBwb3B1cF83NmRlZTg2NThlNjQ0M2NiYTdkODIyZjQ4MmY2NzM0ZC5zZXRDb250ZW50KGh0bWxfOWQwZTg0MzY5YjlhNDJlMzljNjBhNGFlZjE0MDliNjUpOwogICAgICAgICAgICAKCiAgICAgICAgICAgIGNpcmNsZV9tYXJrZXJfMzI2MjMyNmIwYzM2NDU5MWFjNjdhMTIxMTljZTc2ZmUuYmluZFBvcHVwKHBvcHVwXzc2ZGVlODY1OGU2NDQzY2JhN2Q4MjJmNDgyZjY3MzRkKQogICAgICAgICAgICA7CgogICAgICAgICAgICAKICAgICAgICAKICAgIAogICAgICAgICAgICB2YXIgY2lyY2xlX21hcmtlcl8wOWExNzU0N2ExMzI0OThkODJiOWQ3Zjk2ZmE0ZmRjMCA9IEwuY2lyY2xlTWFya2VyKAogICAgICAgICAgICAgICAgWy0yNy40Mjk0NDY4LCAtNDguMzk2NTMzODIzODcxOF0sCiAgICAgICAgICAgICAgICB7CiAgImJ1YmJsaW5nTW91c2VFdmVudHMiOiB0cnVlLAogICJjb2xvciI6ICJibHVlIiwKICAiZGFzaEFycmF5IjogbnVsbCwKICAiZGFzaE9mZnNldCI6IG51bGwsCiAgImZpbGwiOiB0cnVlLAogICJmaWxsQ29sb3IiOiAiIzMxODZjYyIsCiAgImZpbGxPcGFjaXR5IjogMC43LAogICJmaWxsUnVsZSI6ICJldmVub2RkIiwKICAibGluZUNhcCI6ICJyb3VuZCIsCiAgImxpbmVKb2luIjogInJvdW5kIiwKICAib3BhY2l0eSI6IDEuMCwKICAicmFkaXVzIjogNSwKICAic3Ryb2tlIjogdHJ1ZSwKICAid2VpZ2h0IjogMwp9CiAgICAgICAgICAgICAgICApCiAgICAgICAgICAgICAgICAuYWRkVG8obWFwXzQzZmJlOTcyZTk5ZDQxNWU4YzczMjlmNDU5Y2E4MjQxKTsKICAgICAgICAgICAgCiAgICAKICAgICAgICAgICAgdmFyIHBvcHVwXzE3ZDYzZWNiNTc1MDQ0YTA4YjQ1Y2M1YTFlZjg2NTJjID0gTC5wb3B1cCh7bWF4V2lkdGg6ICcxMDAlJwogICAgICAgICAgICAKICAgICAgICAgICAgfSk7CgogICAgICAgICAgICAKICAgICAgICAgICAgICAgIHZhciBodG1sXzYxMGU1NThlMjUyZTQ2ZTQ5ZWQ4NGU3NDllYzRhNDdhID0gJChgPGRpdiBpZD0iaHRtbF82MTBlNTU4ZTI1MmU0NmU0OWVkODRlNzQ5ZWM0YTQ3YSIgc3R5bGU9IndpZHRoOiAxMDAuMCU7IGhlaWdodDogMTAwLjAlOyI+UHJhaWEgZG9zIEluZ2xlc2VzPC9kaXY+YClbMF07CiAgICAgICAgICAgICAgICBwb3B1cF8xN2Q2M2VjYjU3NTA0NGEwOGI0NWNjNWExZWY4NjUyYy5zZXRDb250ZW50KGh0bWxfNjEwZTU1OGUyNTJlNDZlNDllZDg0ZTc0OWVjNGE0N2EpOwogICAgICAgICAgICAKCiAgICAgICAgICAgIGNpcmNsZV9tYXJrZXJfMDlhMTc1NDdhMTMyNDk4ZDgyYjlkN2Y5NmZhNGZkYzAuYmluZFBvcHVwKHBvcHVwXzE3ZDYzZWNiNTc1MDQ0YTA4YjQ1Y2M1YTFlZjg2NTJjKQogICAgICAgICAgICA7CgogICAgICAgICAgICAKICAgICAgICAKICAgIAogICAgICAgICAgICB2YXIgY2lyY2xlX21hcmtlcl9hZjIxYzIxN2MxNmM0ZDYxODA2OTZkZjQ3ZDI5N2U4NSA9IEwuY2lyY2xlTWFya2VyKAogICAgICAgICAgICAgICAgWy0yNy4zODg5Nzc2NSwgLTQ4LjQyNjM2OTgzMjYzMjddLAogICAgICAgICAgICAgICAgewogICJidWJibGluZ01vdXNlRXZlbnRzIjogdHJ1ZSwKICAiY29sb3IiOiAiYmx1ZSIsCiAgImRhc2hBcnJheSI6IG51bGwsCiAgImRhc2hPZmZzZXQiOiBudWxsLAogICJmaWxsIjogdHJ1ZSwKICAiZmlsbENvbG9yIjogIiMzMTg2Y2MiLAogICJmaWxsT3BhY2l0eSI6IDAuNywKICAiZmlsbFJ1bGUiOiAiZXZlbm9kZCIsCiAgImxpbmVDYXAiOiAicm91bmQiLAogICJsaW5lSm9pbiI6ICJyb3VuZCIsCiAgIm9wYWNpdHkiOiAxLjAsCiAgInJhZGl1cyI6IDUsCiAgInN0cm9rZSI6IHRydWUsCiAgIndlaWdodCI6IDMKfQogICAgICAgICAgICAgICAgKQogICAgICAgICAgICAgICAgLmFkZFRvKG1hcF80M2ZiZTk3MmU5OWQ0MTVlOGM3MzI5ZjQ1OWNhODI0MSk7CiAgICAgICAgICAgIAogICAgCiAgICAgICAgICAgIHZhciBwb3B1cF8wN2Q3NTNkMmMzM2Q0ZTU0OTFlN2JmY2YwYmQ1MWMxYSA9IEwucG9wdXAoe21heFdpZHRoOiAnMTAwJScKICAgICAgICAgICAgCiAgICAgICAgICAgIH0pOwoKICAgICAgICAgICAgCiAgICAgICAgICAgICAgICB2YXIgaHRtbF84NzRmODBhMzlhZjA0ZjgxOTdjMWIwYzk5MTg2OTE5NSA9ICQoYDxkaXYgaWQ9Imh0bWxfODc0ZjgwYTM5YWYwNGY4MTk3YzFiMGM5OTE4NjkxOTUiIHN0eWxlPSJ3aWR0aDogMTAwLjAlOyBoZWlnaHQ6IDEwMC4wJTsiPlByYWlhIGRhIExhZ29pbmhhPC9kaXY+YClbMF07CiAgICAgICAgICAgICAgICBwb3B1cF8wN2Q3NTNkMmMzM2Q0ZTU0OTFlN2JmY2YwYmQ1MWMxYS5zZXRDb250ZW50KGh0bWxfODc0ZjgwYTM5YWYwNGY4MTk3YzFiMGM5OTE4NjkxOTUpOwogICAgICAgICAgICAKCiAgICAgICAgICAgIGNpcmNsZV9tYXJrZXJfYWYyMWMyMTdjMTZjNGQ2MTgwNjk2ZGY0N2QyOTdlODUuYmluZFBvcHVwKHBvcHVwXzA3ZDc1M2QyYzMzZDRlNTQ5MWU3YmZjZjBiZDUxYzFhKQogICAgICAgICAgICA7CgogICAgICAgICAgICAKICAgICAgICAKICAgIAogICAgICAgICAgICB2YXIgY2lyY2xlX21hcmtlcl8wNzgwNjNhMzkwMWQ0NmJhYmRhOTFiNGQzODRlODM3MiA9IEwuY2lyY2xlTWFya2VyKAogICAgICAgICAgICAgICAgWy0yNy4zOTc2MTI4LCAtNDguNDE1ODI1NF0sCiAgICAgICAgICAgICAgICB7CiAgImJ1YmJsaW5nTW91c2VFdmVudHMiOiB0cnVlLAogICJjb2xvciI6ICJibHVlIiwKICAiZGFzaEFycmF5IjogbnVsbCwKICAiZGFzaE9mZnNldCI6IG51bGwsCiAgImZpbGwiOiB0cnVlLAogICJmaWxsQ29sb3IiOiAiIzMxODZjYyIsCiAgImZpbGxPcGFjaXR5IjogMC43LAogICJmaWxsUnVsZSI6ICJldmVub2RkIiwKICAibGluZUNhcCI6ICJyb3VuZCIsCiAgImxpbmVKb2luIjogInJvdW5kIiwKICAib3BhY2l0eSI6IDEuMCwKICAicmFkaXVzIjogNSwKICAic3Ryb2tlIjogdHJ1ZSwKICAid2VpZ2h0IjogMwp9CiAgICAgICAgICAgICAgICApCiAgICAgICAgICAgICAgICAuYWRkVG8obWFwXzQzZmJlOTcyZTk5ZDQxNWU4YzczMjlmNDU5Y2E4MjQxKTsKICAgICAgICAgICAgCiAgICAKICAgICAgICAgICAgdmFyIHBvcHVwXzlhOTgwYzZkMThlNzRkZTBhNjQyZDdlM2Q3ZWFhYjYyID0gTC5wb3B1cCh7bWF4V2lkdGg6ICcxMDAlJwogICAgICAgICAgICAKICAgICAgICAgICAgfSk7CgogICAgICAgICAgICAKICAgICAgICAgICAgICAgIHZhciBodG1sX2NmZjY1ZGY3ZDMxNTQ3ZTI4NjY0NjRiMjk4MGY3YjY2ID0gJChgPGRpdiBpZD0iaHRtbF9jZmY2NWRmN2QzMTU0N2UyODY2NDY0YjI5ODBmN2I2NiIgc3R5bGU9IndpZHRoOiAxMDAuMCU7IGhlaWdodDogMTAwLjAlOyI+UHJhaWEgQnJhdmEgKEZsb3JpYW7Ds3BvbGlzKTwvZGl2PmApWzBdOwogICAgICAgICAgICAgICAgcG9wdXBfOWE5ODBjNmQxOGU3NGRlMGE2NDJkN2UzZDdlYWFiNjIuc2V0Q29udGVudChodG1sX2NmZjY1ZGY3ZDMxNTQ3ZTI4NjY0NjRiMjk4MGY3YjY2KTsKICAgICAgICAgICAgCgogICAgICAgICAgICBjaXJjbGVfbWFya2VyXzA3ODA2M2EzOTAxZDQ2YmFiZGE5MWI0ZDM4NGU4MzcyLmJpbmRQb3B1cChwb3B1cF85YTk4MGM2ZDE4ZTc0ZGUwYTY0MmQ3ZTNkN2VhYWI2MikKICAgICAgICAgICAgOwoKICAgICAgICAgICAgCiAgICAgICAgCiAgICAKICAgICAgICAgICAgdmFyIGNpcmNsZV9tYXJrZXJfOGE4NTYxNjU4NzEyNGZjM2JmZGQ2MWI0NDJiM2E3YmUgPSBMLmNpcmNsZU1hcmtlcigKICAgICAgICAgICAgICAgIFstMjcuMzk4NzI2MDUsIC00OC40MTM2MjgzNTY1NTc2XSwKICAgICAgICAgICAgICAgIHsKICAiYnViYmxpbmdNb3VzZUV2ZW50cyI6IHRydWUsCiAgImNvbG9yIjogImJsdWUiLAogICJkYXNoQXJyYXkiOiBudWxsLAogICJkYXNoT2Zmc2V0IjogbnVsbCwKICAiZmlsbCI6IHRydWUsCiAgImZpbGxDb2xvciI6ICIjMzE4NmNjIiwKICAiZmlsbE9wYWNpdHkiOiAwLjcsCiAgImZpbGxSdWxlIjogImV2ZW5vZGQiLAogICJsaW5lQ2FwIjogInJvdW5kIiwKICAibGluZUpvaW4iOiAicm91bmQiLAogICJvcGFjaXR5IjogMS4wLAogICJyYWRpdXMiOiA1LAogICJzdHJva2UiOiB0cnVlLAogICJ3ZWlnaHQiOiAzCn0KICAgICAgICAgICAgICAgICkKICAgICAgICAgICAgICAgIC5hZGRUbyhtYXBfNDNmYmU5NzJlOTlkNDE1ZThjNzMyOWY0NTljYTgyNDEpOwogICAgICAgICAgICAKICAgIAogICAgICAgICAgICB2YXIgcG9wdXBfNDBkNjczZWQyYTM2NDJhNTg0M2NiODE3OWE3MDc2YTcgPSBMLnBvcHVwKHttYXhXaWR0aDogJzEwMCUnCiAgICAgICAgICAgIAogICAgICAgICAgICB9KTsKCiAgICAgICAgICAgIAogICAgICAgICAgICAgICAgdmFyIGh0bWxfOGU2NmJmNDYxYzI2NGU5NzkzZDBlZWUyNzcwODFiYTEgPSAkKGA8ZGl2IGlkPSJodG1sXzhlNjZiZjQ2MWMyNjRlOTc5M2QwZWVlMjc3MDgxYmExIiBzdHlsZT0id2lkdGg6IDEwMC4wJTsgaGVpZ2h0OiAxMDAuMCU7Ij5QcmFpYSBkYSBQb250YSBkYXMgQ2FuYXM8L2Rpdj5gKVswXTsKICAgICAgICAgICAgICAgIHBvcHVwXzQwZDY3M2VkMmEzNjQyYTU4NDNjYjgxNzlhNzA3NmE3LnNldENvbnRlbnQoaHRtbF84ZTY2YmY0NjFjMjY0ZTk3OTNkMGVlZTI3NzA4MWJhMSk7CiAgICAgICAgICAgIAoKICAgICAgICAgICAgY2lyY2xlX21hcmtlcl84YTg1NjE2NTg3MTI0ZmMzYmZkZDYxYjQ0MmIzYTdiZS5iaW5kUG9wdXAocG9wdXBfNDBkNjczZWQyYTM2NDJhNTg0M2NiODE3OWE3MDc2YTcpCiAgICAgICAgICAgIDsKCiAgICAgICAgICAgIAogICAgICAgIAogICAgCiAgICAgICAgICAgIHZhciBjaXJjbGVfbWFya2VyXzU5MDlkZWU2ODUzMjRjYjJhNjhlNDRkMmIyMGM0YTRiID0gTC5jaXJjbGVNYXJrZXIoCiAgICAgICAgICAgICAgICBbLTI3LjM4ODk3NzY1LCAtNDguNDI2MzY5ODMyNjMyN10sCiAgICAgICAgICAgICAgICB7CiAgImJ1YmJsaW5nTW91c2VFdmVudHMiOiB0cnVlLAogICJjb2xvciI6ICJibHVlIiwKICAiZGFzaEFycmF5IjogbnVsbCwKICAiZGFzaE9mZnNldCI6IG51bGwsCiAgImZpbGwiOiB0cnVlLAogICJmaWxsQ29sb3IiOiAiIzMxODZjYyIsCiAgImZpbGxPcGFjaXR5IjogMC43LAogICJmaWxsUnVsZSI6ICJldmVub2RkIiwKICAibGluZUNhcCI6ICJyb3VuZCIsCiAgImxpbmVKb2luIjogInJvdW5kIiwKICAib3BhY2l0eSI6IDEuMCwKICAicmFkaXVzIjogNSwKICAic3Ryb2tlIjogdHJ1ZSwKICAid2VpZ2h0IjogMwp9CiAgICAgICAgICAgICAgICApCiAgICAgICAgICAgICAgICAuYWRkVG8obWFwXzQzZmJlOTcyZTk5ZDQxNWU4YzczMjlmNDU5Y2E4MjQxKTsKICAgICAgICAgICAgCiAgICAKICAgICAgICAgICAgdmFyIHBvcHVwXzY4YmFiMTIxYzg3MjQzN2ViZDU2NmUyMDA5N2I2OTkzID0gTC5wb3B1cCh7bWF4V2lkdGg6ICcxMDAlJwogICAgICAgICAgICAKICAgICAgICAgICAgfSk7CgogICAgICAgICAgICAKICAgICAgICAgICAgICAgIHZhciBodG1sXzBjY2U1ZDRkZTUwNTQzZDM4MGFmMjY4YTI4Yzg4YTEwID0gJChgPGRpdiBpZD0iaHRtbF8wY2NlNWQ0ZGU1MDU0M2QzODBhZjI2OGEyOGM4OGExMCIgc3R5bGU9IndpZHRoOiAxMDAuMCU7IGhlaWdodDogMTAwLjAlOyI+UHJhaWEgQ2FjaG9laXJhIGRvIEJvbSBKZXN1czwvZGl2PmApWzBdOwogICAgICAgICAgICAgICAgcG9wdXBfNjhiYWIxMjFjODcyNDM3ZWJkNTY2ZTIwMDk3YjY5OTMuc2V0Q29udGVudChodG1sXzBjY2U1ZDRkZTUwNTQzZDM4MGFmMjY4YTI4Yzg4YTEwKTsKICAgICAgICAgICAgCgogICAgICAgICAgICBjaXJjbGVfbWFya2VyXzU5MDlkZWU2ODUzMjRjYjJhNjhlNDRkMmIyMGM0YTRiLmJpbmRQb3B1cChwb3B1cF82OGJhYjEyMWM4NzI0MzdlYmQ1NjZlMjAwOTdiNjk5MykKICAgICAgICAgICAgOwoKICAgICAgICAgICAgCiAgICAgICAgCiAgICAKICAgICAgICAgICAgdmFyIGNpcmNsZV9tYXJrZXJfZDlmMjY0NDY0ZDIxNDczOGJmYjZmYWM3ZWUyY2IxNmQgPSBMLmNpcmNsZU1hcmtlcigKICAgICAgICAgICAgICAgIFstMjcuNDI2Nzc4LCAtNDguNDcxNDc5NDgwMzAzN10sCiAgICAgICAgICAgICAgICB7CiAgImJ1YmJsaW5nTW91c2VFdmVudHMiOiB0cnVlLAogICJjb2xvciI6ICJibHVlIiwKICAiZGFzaEFycmF5IjogbnVsbCwKICAiZGFzaE9mZnNldCI6IG51bGwsCiAgImZpbGwiOiB0cnVlLAogICJmaWxsQ29sb3IiOiAiIzMxODZjYyIsCiAgImZpbGxPcGFjaXR5IjogMC43LAogICJmaWxsUnVsZSI6ICJldmVub2RkIiwKICAibGluZUNhcCI6ICJyb3VuZCIsCiAgImxpbmVKb2luIjogInJvdW5kIiwKICAib3BhY2l0eSI6IDEuMCwKICAicmFkaXVzIjogNSwKICAic3Ryb2tlIjogdHJ1ZSwKICAid2VpZ2h0IjogMwp9CiAgICAgICAgICAgICAgICApCiAgICAgICAgICAgICAgICAuYWRkVG8obWFwXzQzZmJlOTcyZTk5ZDQxNWU4YzczMjlmNDU5Y2E4MjQxKTsKICAgICAgICAgICAgCiAgICAKICAgICAgICAgICAgdmFyIHBvcHVwXzg2MmNlZTM1Y2VmMTQ3ZDk4MDMyYWY2ZDUyMGY4MmNiID0gTC5wb3B1cCh7bWF4V2lkdGg6ICcxMDAlJwogICAgICAgICAgICAKICAgICAgICAgICAgfSk7CgogICAgICAgICAgICAKICAgICAgICAgICAgICAgIHZhciBodG1sX2EzMGViZGMxNDEwODQ0NDVhYWYxYjM0YjZkMWRiZGE2ID0gJChgPGRpdiBpZD0iaHRtbF9hMzBlYmRjMTQxMDg0NDQ1YWFmMWIzNGI2ZDFkYmRhNiIgc3R5bGU9IndpZHRoOiAxMDAuMCU7IGhlaWdodDogMTAwLjAlOyI+UHJhaWEgZGUgQ2FuYXN2aWVpcmFzPC9kaXY+YClbMF07CiAgICAgICAgICAgICAgICBwb3B1cF84NjJjZWUzNWNlZjE0N2Q5ODAzMmFmNmQ1MjBmODJjYi5zZXRDb250ZW50KGh0bWxfYTMwZWJkYzE0MTA4NDQ0NWFhZjFiMzRiNmQxZGJkYTYpOwogICAgICAgICAgICAKCiAgICAgICAgICAgIGNpcmNsZV9tYXJrZXJfZDlmMjY0NDY0ZDIxNDczOGJmYjZmYWM3ZWUyY2IxNmQuYmluZFBvcHVwKHBvcHVwXzg2MmNlZTM1Y2VmMTQ3ZDk4MDMyYWY2ZDUyMGY4MmNiKQogICAgICAgICAgICA7CgogICAgICAgICAgICAKICAgICAgICAKICAgIAogICAgICAgICAgICB2YXIgY2lyY2xlX21hcmtlcl9hMTY2Yzg5ZDk3NGU0Njg2YmMyZDg1MDVhMDgxNzA0ZCA9IEwuY2lyY2xlTWFya2VyKAogICAgICAgICAgICAgICAgWy0yNy40MzM0NDAzNSwgLTQ4LjQ3OTM1NjEwNDU1OTFdLAogICAgICAgICAgICAgICAgewogICJidWJibGluZ01vdXNlRXZlbnRzIjogdHJ1ZSwKICAiY29sb3IiOiAiYmx1ZSIsCiAgImRhc2hBcnJheSI6IG51bGwsCiAgImRhc2hPZmZzZXQiOiBudWxsLAogICJmaWxsIjogdHJ1ZSwKICAiZmlsbENvbG9yIjogIiMzMTg2Y2MiLAogICJmaWxsT3BhY2l0eSI6IDAuNywKICAiZmlsbFJ1bGUiOiAiZXZlbm9kZCIsCiAgImxpbmVDYXAiOiAicm91bmQiLAogICJsaW5lSm9pbiI6ICJyb3VuZCIsCiAgIm9wYWNpdHkiOiAxLjAsCiAgInJhZGl1cyI6IDUsCiAgInN0cm9rZSI6IHRydWUsCiAgIndlaWdodCI6IDMKfQogICAgICAgICAgICAgICAgKQogICAgICAgICAgICAgICAgLmFkZFRvKG1hcF80M2ZiZTk3MmU5OWQ0MTVlOGM3MzI5ZjQ1OWNhODI0MSk7CiAgICAgICAgICAgIAogICAgCiAgICAgICAgICAgIHZhciBwb3B1cF8zYjE1ZDlhMGFjZTk0ZWQ2ODBmOTdhZDQ0OTM4ZmViNiA9IEwucG9wdXAoe21heFdpZHRoOiAnMTAwJScKICAgICAgICAgICAgCiAgICAgICAgICAgIH0pOwoKICAgICAgICAgICAgCiAgICAgICAgICAgICAgICB2YXIgaHRtbF82MGQ0MDlkN2M1NGM0YTBiOWE1YTIxNzlkNTJiY2ZkOCA9ICQoYDxkaXYgaWQ9Imh0bWxfNjBkNDA5ZDdjNTRjNGEwYjlhNWEyMTc5ZDUyYmNmZDgiIHN0eWxlPSJ3aWR0aDogMTAwLjAlOyBoZWlnaHQ6IDEwMC4wJTsiPlByYWlhIGRlIENhbmFqdXLDqjwvZGl2PmApWzBdOwogICAgICAgICAgICAgICAgcG9wdXBfM2IxNWQ5YTBhY2U5NGVkNjgwZjk3YWQ0NDkzOGZlYjYuc2V0Q29udGVudChodG1sXzYwZDQwOWQ3YzU0YzRhMGI5YTVhMjE3OWQ1MmJjZmQ4KTsKICAgICAgICAgICAgCgogICAgICAgICAgICBjaXJjbGVfbWFya2VyX2ExNjZjODlkOTc0ZTQ2ODZiYzJkODUwNWEwODE3MDRkLmJpbmRQb3B1cChwb3B1cF8zYjE1ZDlhMGFjZTk0ZWQ2ODBmOTdhZDQ0OTM4ZmViNikKICAgICAgICAgICAgOwoKICAgICAgICAgICAgCiAgICAgICAgCiAgICAKICAgICAgICAgICAgdmFyIGNpcmNsZV9tYXJrZXJfNjU3Y2U4NzJiZjc1NDA3ZjhlNzMxYzhlNjY1YTU2MjAgPSBMLmNpcmNsZU1hcmtlcigKICAgICAgICAgICAgICAgIFstMjcuNDMzNDQwMzUsIC00OC40NzkzNTYxMDQ1NTkxXSwKICAgICAgICAgICAgICAgIHsKICAiYnViYmxpbmdNb3VzZUV2ZW50cyI6IHRydWUsCiAgImNvbG9yIjogImJsdWUiLAogICJkYXNoQXJyYXkiOiBudWxsLAogICJkYXNoT2Zmc2V0IjogbnVsbCwKICAiZmlsbCI6IHRydWUsCiAgImZpbGxDb2xvciI6ICIjMzE4NmNjIiwKICAiZmlsbE9wYWNpdHkiOiAwLjcsCiAgImZpbGxSdWxlIjogImV2ZW5vZGQiLAogICJsaW5lQ2FwIjogInJvdW5kIiwKICAibGluZUpvaW4iOiAicm91bmQiLAogICJvcGFjaXR5IjogMS4wLAogICJyYWRpdXMiOiA1LAogICJzdHJva2UiOiB0cnVlLAogICJ3ZWlnaHQiOiAzCn0KICAgICAgICAgICAgICAgICkKICAgICAgICAgICAgICAgIC5hZGRUbyhtYXBfNDNmYmU5NzJlOTlkNDE1ZThjNzMyOWY0NTljYTgyNDEpOwogICAgICAgICAgICAKICAgIAogICAgICAgICAgICB2YXIgcG9wdXBfN2YwYTcwYWFiZjA0NGIzZmJhZGU4ZjFkZmEzNDllYWQgPSBMLnBvcHVwKHttYXhXaWR0aDogJzEwMCUnCiAgICAgICAgICAgIAogICAgICAgICAgICB9KTsKCiAgICAgICAgICAgIAogICAgICAgICAgICAgICAgdmFyIGh0bWxfYjk5Nzg2OThjNWVlNDBkMDgwOWJkNTM5ZDAwNTU2ODMgPSAkKGA8ZGl2IGlkPSJodG1sX2I5OTc4Njk4YzVlZTQwZDA4MDliZDUzOWQwMDU1NjgzIiBzdHlsZT0id2lkdGg6IDEwMC4wJTsgaGVpZ2h0OiAxMDAuMCU7Ij5QcmFpYSBkZSBKdXJlcsOqPC9kaXY+YClbMF07CiAgICAgICAgICAgICAgICBwb3B1cF83ZjBhNzBhYWJmMDQ0YjNmYmFkZThmMWRmYTM0OWVhZC5zZXRDb250ZW50KGh0bWxfYjk5Nzg2OThjNWVlNDBkMDgwOWJkNTM5ZDAwNTU2ODMpOwogICAgICAgICAgICAKCiAgICAgICAgICAgIGNpcmNsZV9tYXJrZXJfNjU3Y2U4NzJiZjc1NDA3ZjhlNzMxYzhlNjY1YTU2MjAuYmluZFBvcHVwKHBvcHVwXzdmMGE3MGFhYmYwNDRiM2ZiYWRlOGYxZGZhMzQ5ZWFkKQogICAgICAgICAgICA7CgogICAgICAgICAgICAKICAgICAgICAKICAgIAogICAgICAgICAgICB2YXIgY2lyY2xlX21hcmtlcl82NGEzNzhhYjBjY2U0MjQ4YmMzYmNmODBmOGQyOTg4NSA9IEwuY2lyY2xlTWFya2VyKAogICAgICAgICAgICAgICAgWy0yNy40MzQ4OTgxLCAtNDguNTIwMzA1NTIzMjEyNV0sCiAgICAgICAgICAgICAgICB7CiAgImJ1YmJsaW5nTW91c2VFdmVudHMiOiB0cnVlLAogICJjb2xvciI6ICJibHVlIiwKICAiZGFzaEFycmF5IjogbnVsbCwKICAiZGFzaE9mZnNldCI6IG51bGwsCiAgImZpbGwiOiB0cnVlLAogICJmaWxsQ29sb3IiOiAiIzMxODZjYyIsCiAgImZpbGxPcGFjaXR5IjogMC43LAogICJmaWxsUnVsZSI6ICJldmVub2RkIiwKICAibGluZUNhcCI6ICJyb3VuZCIsCiAgImxpbmVKb2luIjogInJvdW5kIiwKICAib3BhY2l0eSI6IDEuMCwKICAicmFkaXVzIjogNSwKICAic3Ryb2tlIjogdHJ1ZSwKICAid2VpZ2h0IjogMwp9CiAgICAgICAgICAgICAgICApCiAgICAgICAgICAgICAgICAuYWRkVG8obWFwXzQzZmJlOTcyZTk5ZDQxNWU4YzczMjlmNDU5Y2E4MjQxKTsKICAgICAgICAgICAgCiAgICAKICAgICAgICAgICAgdmFyIHBvcHVwX2ZiMzA3YWU3MThlZDRiNDdhZTI2NWIxNTk5N2VkMjY4ID0gTC5wb3B1cCh7bWF4V2lkdGg6ICcxMDAlJwogICAgICAgICAgICAKICAgICAgICAgICAgfSk7CgogICAgICAgICAgICAKICAgICAgICAgICAgICAgIHZhciBodG1sXzU4MWIxNjA0ZDcwYTRiMWJhYzZjNjA1MThmZDRhNGZjID0gJChgPGRpdiBpZD0iaHRtbF81ODFiMTYwNGQ3MGE0YjFiYWM2YzYwNTE4ZmQ0YTRmYyIgc3R5bGU9IndpZHRoOiAxMDAuMCU7IGhlaWdodDogMTAwLjAlOyI+UHJhaWEgZG8gRm9ydGUgKEZsb3JpYW7Ds3BvbGlzKTwvZGl2PmApWzBdOwogICAgICAgICAgICAgICAgcG9wdXBfZmIzMDdhZTcxOGVkNGI0N2FlMjY1YjE1OTk3ZWQyNjguc2V0Q29udGVudChodG1sXzU4MWIxNjA0ZDcwYTRiMWJhYzZjNjA1MThmZDRhNGZjKTsKICAgICAgICAgICAgCgogICAgICAgICAgICBjaXJjbGVfbWFya2VyXzY0YTM3OGFiMGNjZTQyNDhiYzNiY2Y4MGY4ZDI5ODg1LmJpbmRQb3B1cChwb3B1cF9mYjMwN2FlNzE4ZWQ0YjQ3YWUyNjViMTU5OTdlZDI2OCkKICAgICAgICAgICAgOwoKICAgICAgICAgICAgCiAgICAgICAgCiAgICAKICAgICAgICAgICAgdmFyIGNpcmNsZV9tYXJrZXJfYzRjZjJkNzJkYjNiNGVhOGEwMDFmMWRhOTAxOWNmOTAgPSBMLmNpcmNsZU1hcmtlcigKICAgICAgICAgICAgICAgIFstMjcuNDQ4ODczOCwgLTQ4LjUzODM3NTgwNDc5NzZdLAogICAgICAgICAgICAgICAgewogICJidWJibGluZ01vdXNlRXZlbnRzIjogdHJ1ZSwKICAiY29sb3IiOiAiYmx1ZSIsCiAgImRhc2hBcnJheSI6IG51bGwsCiAgImRhc2hPZmZzZXQiOiBudWxsLAogICJmaWxsIjogdHJ1ZSwKICAiZmlsbENvbG9yIjogIiMzMTg2Y2MiLAogICJmaWxsT3BhY2l0eSI6IDAuNywKICAiZmlsbFJ1bGUiOiAiZXZlbm9kZCIsCiAgImxpbmVDYXAiOiAicm91bmQiLAogICJsaW5lSm9pbiI6ICJyb3VuZCIsCiAgIm9wYWNpdHkiOiAxLjAsCiAgInJhZGl1cyI6IDUsCiAgInN0cm9rZSI6IHRydWUsCiAgIndlaWdodCI6IDMKfQogICAgICAgICAgICAgICAgKQogICAgICAgICAgICAgICAgLmFkZFRvKG1hcF80M2ZiZTk3MmU5OWQ0MTVlOGM3MzI5ZjQ1OWNhODI0MSk7CiAgICAgICAgICAgIAogICAgCiAgICAgICAgICAgIHZhciBwb3B1cF8wMzAxNTI1MmI1YjI0YWI4OTBkMzMzZWNiYjhjMTdhMCA9IEwucG9wdXAoe21heFdpZHRoOiAnMTAwJScKICAgICAgICAgICAgCiAgICAgICAgICAgIH0pOwoKICAgICAgICAgICAgCiAgICAgICAgICAgICAgICB2YXIgaHRtbF80NzVjOTg3MzkxM2Q0MDUwOWVlZGI5ZDcwYzU2MTFjNyA9ICQoYDxkaXYgaWQ9Imh0bWxfNDc1Yzk4NzM5MTNkNDA1MDllZWRiOWQ3MGM1NjExYzciIHN0eWxlPSJ3aWR0aDogMTAwLjAlOyBoZWlnaHQ6IDEwMC4wJTsiPlByYWlhIGRhIERhbmllbGE8L2Rpdj5gKVswXTsKICAgICAgICAgICAgICAgIHBvcHVwXzAzMDE1MjUyYjViMjRhYjg5MGQzMzNlY2JiOGMxN2EwLnNldENvbnRlbnQoaHRtbF80NzVjOTg3MzkxM2Q0MDUwOWVlZGI5ZDcwYzU2MTFjNyk7CiAgICAgICAgICAgIAoKICAgICAgICAgICAgY2lyY2xlX21hcmtlcl9jNGNmMmQ3MmRiM2I0ZWE4YTAwMWYxZGE5MDE5Y2Y5MC5iaW5kUG9wdXAocG9wdXBfMDMwMTUyNTJiNWIyNGFiODkwZDMzM2VjYmI4YzE3YTApCiAgICAgICAgICAgIDsKCiAgICAgICAgICAgIAogICAgICAgIAogICAgCiAgICAgICAgICAgIHZhciBjaXJjbGVfbWFya2VyXzVhMDE1NjViMDU0YTQzZWM4NWU2YWJkM2Y4ZGJkODM5ID0gTC5jaXJjbGVNYXJrZXIoCiAgICAgICAgICAgICAgICBbLTI3LjQ1NjE4NDk1LCAtNDguNTQ0NjU3MTM0Nzg4M10sCiAgICAgICAgICAgICAgICB7CiAgImJ1YmJsaW5nTW91c2VFdmVudHMiOiB0cnVlLAogICJjb2xvciI6ICJibHVlIiwKICAiZGFzaEFycmF5IjogbnVsbCwKICAiZGFzaE9mZnNldCI6IG51bGwsCiAgImZpbGwiOiB0cnVlLAogICJmaWxsQ29sb3IiOiAiIzMxODZjYyIsCiAgImZpbGxPcGFjaXR5IjogMC43LAogICJmaWxsUnVsZSI6ICJldmVub2RkIiwKICAibGluZUNhcCI6ICJyb3VuZCIsCiAgImxpbmVKb2luIjogInJvdW5kIiwKICAib3BhY2l0eSI6IDEuMCwKICAicmFkaXVzIjogNSwKICAic3Ryb2tlIjogdHJ1ZSwKICAid2VpZ2h0IjogMwp9CiAgICAgICAgICAgICAgICApCiAgICAgICAgICAgICAgICAuYWRkVG8obWFwXzQzZmJlOTcyZTk5ZDQxNWU4YzczMjlmNDU5Y2E4MjQxKTsKICAgICAgICAgICAgCiAgICAKICAgICAgICAgICAgdmFyIHBvcHVwXzI5MDhkNzI3ZjQyZDRiYzE4ZGI3NjdlOTc2NDJkM2EyID0gTC5wb3B1cCh7bWF4V2lkdGg6ICcxMDAlJwogICAgICAgICAgICAKICAgICAgICAgICAgfSk7CgogICAgICAgICAgICAKICAgICAgICAgICAgICAgIHZhciBodG1sX2IyNzFhZmZlOTkxYzQxNmRiNzQyNTZlNDY2MDcyNjg2ID0gJChgPGRpdiBpZD0iaHRtbF9iMjcxYWZmZTk5MWM0MTZkYjc0MjU2ZTQ2NjA3MjY4NiIgc3R5bGU9IndpZHRoOiAxMDAuMCU7IGhlaWdodDogMTAwLjAlOyI+UHJhaWEgZG8gUG9udGFsPC9kaXY+YClbMF07CiAgICAgICAgICAgICAgICBwb3B1cF8yOTA4ZDcyN2Y0MmQ0YmMxOGRiNzY3ZTk3NjQyZDNhMi5zZXRDb250ZW50KGh0bWxfYjI3MWFmZmU5OTFjNDE2ZGI3NDI1NmU0NjYwNzI2ODYpOwogICAgICAgICAgICAKCiAgICAgICAgICAgIGNpcmNsZV9tYXJrZXJfNWEwMTU2NWIwNTRhNDNlYzg1ZTZhYmQzZjhkYmQ4MzkuYmluZFBvcHVwKHBvcHVwXzI5MDhkNzI3ZjQyZDRiYzE4ZGI3NjdlOTc2NDJkM2EyKQogICAgICAgICAgICA7CgogICAgICAgICAgICAKICAgICAgICAKICAgIAogICAgICAgICAgICB2YXIgY2lyY2xlX21hcmtlcl80Nzg2MDU0ZjRlMmE0Nzk3OTg2YWU5OTk0MDY0NWE3OSA9IEwuY2lyY2xlTWFya2VyKAogICAgICAgICAgICAgICAgWy0yNy42MzQzNjI1LCAtNDguNDU0Mjk1MTI5NDY5Nl0sCiAgICAgICAgICAgICAgICB7CiAgImJ1YmJsaW5nTW91c2VFdmVudHMiOiB0cnVlLAogICJjb2xvciI6ICJibHVlIiwKICAiZGFzaEFycmF5IjogbnVsbCwKICAiZGFzaE9mZnNldCI6IG51bGwsCiAgImZpbGwiOiB0cnVlLAogICJmaWxsQ29sb3IiOiAiIzMxODZjYyIsCiAgImZpbGxPcGFjaXR5IjogMC43LAogICJmaWxsUnVsZSI6ICJldmVub2RkIiwKICAibGluZUNhcCI6ICJyb3VuZCIsCiAgImxpbmVKb2luIjogInJvdW5kIiwKICAib3BhY2l0eSI6IDEuMCwKICAicmFkaXVzIjogNSwKICAic3Ryb2tlIjogdHJ1ZSwKICAid2VpZ2h0IjogMwp9CiAgICAgICAgICAgICAgICApCiAgICAgICAgICAgICAgICAuYWRkVG8obWFwXzQzZmJlOTcyZTk5ZDQxNWU4YzczMjlmNDU5Y2E4MjQxKTsKICAgICAgICAgICAgCiAgICAKICAgICAgICAgICAgdmFyIHBvcHVwXzZlNmM1NzE3N2UyNTRhODg5NDRiMGU1NjBkNjBkOTI5ID0gTC5wb3B1cCh7bWF4V2lkdGg6ICcxMDAlJwogICAgICAgICAgICAKICAgICAgICAgICAgfSk7CgogICAgICAgICAgICAKICAgICAgICAgICAgICAgIHZhciBodG1sXzJhY2QwNDVmNTc2NTQ1Njk4NTdmMzdlMjNjNWE5ODA4ID0gJChgPGRpdiBpZD0iaHRtbF8yYWNkMDQ1ZjU3NjU0NTY5ODU3ZjM3ZTIzYzVhOTgwOCIgc3R5bGU9IndpZHRoOiAxMDAuMCU7IGhlaWdodDogMTAwLjAlOyI+UHJhaWEgZGEgSm9hcXVpbmE8L2Rpdj5gKVswXTsKICAgICAgICAgICAgICAgIHBvcHVwXzZlNmM1NzE3N2UyNTRhODg5NDRiMGU1NjBkNjBkOTI5LnNldENvbnRlbnQoaHRtbF8yYWNkMDQ1ZjU3NjU0NTY5ODU3ZjM3ZTIzYzVhOTgwOCk7CiAgICAgICAgICAgIAoKICAgICAgICAgICAgY2lyY2xlX21hcmtlcl80Nzg2MDU0ZjRlMmE0Nzk3OTg2YWU5OTk0MDY0NWE3OS5iaW5kUG9wdXAocG9wdXBfNmU2YzU3MTc3ZTI1NGE4ODk0NGIwZTU2MGQ2MGQ5MjkpCiAgICAgICAgICAgIDsKCiAgICAgICAgICAgIAogICAgICAgIAogICAgCiAgICAgICAgICAgIHZhciBjaXJjbGVfbWFya2VyXzVkNWM5MmE1ZWI4YjQzYjZhYmI4YWQ4ZTZjZTkxMjZhID0gTC5jaXJjbGVNYXJrZXIoCiAgICAgICAgICAgICAgICBbLTI3LjYxMzQ5MDE1LCAtNDguNDMzMzM5NjQ5MDg4XSwKICAgICAgICAgICAgICAgIHsKICAiYnViYmxpbmdNb3VzZUV2ZW50cyI6IHRydWUsCiAgImNvbG9yIjogImJsdWUiLAogICJkYXNoQXJyYXkiOiBudWxsLAogICJkYXNoT2Zmc2V0IjogbnVsbCwKICAiZmlsbCI6IHRydWUsCiAgImZpbGxDb2xvciI6ICIjMzE4NmNjIiwKICAiZmlsbE9wYWNpdHkiOiAwLjcsCiAgImZpbGxSdWxlIjogImV2ZW5vZGQiLAogICJsaW5lQ2FwIjogInJvdW5kIiwKICAibGluZUpvaW4iOiAicm91bmQiLAogICJvcGFjaXR5IjogMS4wLAogICJyYWRpdXMiOiA1LAogICJzdHJva2UiOiB0cnVlLAogICJ3ZWlnaHQiOiAzCn0KICAgICAgICAgICAgICAgICkKICAgICAgICAgICAgICAgIC5hZGRUbyhtYXBfNDNmYmU5NzJlOTlkNDE1ZThjNzMyOWY0NTljYTgyNDEpOwogICAgICAgICAgICAKICAgIAogICAgICAgICAgICB2YXIgcG9wdXBfODU1Nzg2OGVkNzc3NGNkNThjM2RlYTRiMjQ1ZDQxOWUgPSBMLnBvcHVwKHttYXhXaWR0aDogJzEwMCUnCiAgICAgICAgICAgIAogICAgICAgICAgICB9KTsKCiAgICAgICAgICAgIAogICAgICAgICAgICAgICAgdmFyIGh0bWxfMGFhMGI1NzRmNDU0NGIxNjg2NzlhOTM5OTkzOTMzNjYgPSAkKGA8ZGl2IGlkPSJodG1sXzBhYTBiNTc0ZjQ1NDRiMTY4Njc5YTkzOTk5MzkzMzY2IiBzdHlsZT0id2lkdGg6IDEwMC4wJTsgaGVpZ2h0OiAxMDAuMCU7Ij5QcmFpYSBkbyBHcmF2YXTDoTwvZGl2PmApWzBdOwogICAgICAgICAgICAgICAgcG9wdXBfODU1Nzg2OGVkNzc3NGNkNThjM2RlYTRiMjQ1ZDQxOWUuc2V0Q29udGVudChodG1sXzBhYTBiNTc0ZjQ1NDRiMTY4Njc5YTkzOTk5MzkzMzY2KTsKICAgICAgICAgICAgCgogICAgICAgICAgICBjaXJjbGVfbWFya2VyXzVkNWM5MmE1ZWI4YjQzYjZhYmI4YWQ4ZTZjZTkxMjZhLmJpbmRQb3B1cChwb3B1cF84NTU3ODY4ZWQ3Nzc0Y2Q1OGMzZGVhNGIyNDVkNDE5ZSkKICAgICAgICAgICAgOwoKICAgICAgICAgICAgCiAgICAgICAgCiAgICAKICAgICAgICAgICAgdmFyIGNpcmNsZV9tYXJrZXJfNTkwNGFmMTYxZjEwNDQ2Y2IyNzBkN2JiYzc5YzM0NDkgPSBMLmNpcmNsZU1hcmtlcigKICAgICAgICAgICAgICAgIFstMjcuNjAzMjU1ODUsIC00OC40MzMzMDA4OTg5ODM2XSwKICAgICAgICAgICAgICAgIHsKICAiYnViYmxpbmdNb3VzZUV2ZW50cyI6IHRydWUsCiAgImNvbG9yIjogImJsdWUiLAogICJkYXNoQXJyYXkiOiBudWxsLAogICJkYXNoT2Zmc2V0IjogbnVsbCwKICAiZmlsbCI6IHRydWUsCiAgImZpbGxDb2xvciI6ICIjMzE4NmNjIiwKICAiZmlsbE9wYWNpdHkiOiAwLjcsCiAgImZpbGxSdWxlIjogImV2ZW5vZGQiLAogICJsaW5lQ2FwIjogInJvdW5kIiwKICAibGluZUpvaW4iOiAicm91bmQiLAogICJvcGFjaXR5IjogMS4wLAogICJyYWRpdXMiOiA1LAogICJzdHJva2UiOiB0cnVlLAogICJ3ZWlnaHQiOiAzCn0KICAgICAgICAgICAgICAgICkKICAgICAgICAgICAgICAgIC5hZGRUbyhtYXBfNDNmYmU5NzJlOTlkNDE1ZThjNzMyOWY0NTljYTgyNDEpOwogICAgICAgICAgICAKICAgIAogICAgICAgICAgICB2YXIgcG9wdXBfNjMyY2I2ZTE3NWZhNDgwYjlmODVmMWNlYmJkODdlNGIgPSBMLnBvcHVwKHttYXhXaWR0aDogJzEwMCUnCiAgICAgICAgICAgIAogICAgICAgICAgICB9KTsKCiAgICAgICAgICAgIAogICAgICAgICAgICAgICAgdmFyIGh0bWxfZDc4MGY0M2ZmZDcxNDY5NzliOWNhMjRlNjMyYWJkYjEgPSAkKGA8ZGl2IGlkPSJodG1sX2Q3ODBmNDNmZmQ3MTQ2OTc5YjljYTI0ZTYzMmFiZGIxIiBzdHlsZT0id2lkdGg6IDEwMC4wJTsgaGVpZ2h0OiAxMDAuMCU7Ij5QcmFpYSBNb2xlPC9kaXY+YClbMF07CiAgICAgICAgICAgICAgICBwb3B1cF82MzJjYjZlMTc1ZmE0ODBiOWY4NWYxY2ViYmQ4N2U0Yi5zZXRDb250ZW50KGh0bWxfZDc4MGY0M2ZmZDcxNDY5NzliOWNhMjRlNjMyYWJkYjEpOwogICAgICAgICAgICAKCiAgICAgICAgICAgIGNpcmNsZV9tYXJrZXJfNTkwNGFmMTYxZjEwNDQ2Y2IyNzBkN2JiYzc5YzM0NDkuYmluZFBvcHVwKHBvcHVwXzYzMmNiNmUxNzVmYTQ4MGI5Zjg1ZjFjZWJiZDg3ZTRiKQogICAgICAgICAgICA7CgogICAgICAgICAgICAKICAgICAgICAKICAgIAogICAgICAgICAgICB2YXIgY2lyY2xlX21hcmtlcl9mNWU2NGJiZDNmZjA0MDJmYmQ0ODRmNjc2MTg3ZDk5ZSA9IEwuY2lyY2xlTWFya2VyKAogICAgICAgICAgICAgICAgWy0yNy41OTM1MjAzLCAtNDguNDI2ODA5NzAzOTg1XSwKICAgICAgICAgICAgICAgIHsKICAiYnViYmxpbmdNb3VzZUV2ZW50cyI6IHRydWUsCiAgImNvbG9yIjogImJsdWUiLAogICJkYXNoQXJyYXkiOiBudWxsLAogICJkYXNoT2Zmc2V0IjogbnVsbCwKICAiZmlsbCI6IHRydWUsCiAgImZpbGxDb2xvciI6ICIjMzE4NmNjIiwKICAiZmlsbE9wYWNpdHkiOiAwLjcsCiAgImZpbGxSdWxlIjogImV2ZW5vZGQiLAogICJsaW5lQ2FwIjogInJvdW5kIiwKICAibGluZUpvaW4iOiAicm91bmQiLAogICJvcGFjaXR5IjogMS4wLAogICJyYWRpdXMiOiA1LAogICJzdHJva2UiOiB0cnVlLAogICJ3ZWlnaHQiOiAzCn0KICAgICAgICAgICAgICAgICkKICAgICAgICAgICAgICAgIC5hZGRUbyhtYXBfNDNmYmU5NzJlOTlkNDE1ZThjNzMyOWY0NTljYTgyNDEpOwogICAgICAgICAgICAKICAgIAogICAgICAgICAgICB2YXIgcG9wdXBfYzgzYzhmMDA5OWJlNDAzMzljYmZkOWVlZDhkYTNkMWEgPSBMLnBvcHVwKHttYXhXaWR0aDogJzEwMCUnCiAgICAgICAgICAgIAogICAgICAgICAgICB9KTsKCiAgICAgICAgICAgIAogICAgICAgICAgICAgICAgdmFyIGh0bWxfODM0ZTQ2MjAyYTAwNGI3OTgzYjk5NWI3OGFiZWFmOTcgPSAkKGA8ZGl2IGlkPSJodG1sXzgzNGU0NjIwMmEwMDRiNzk4M2I5OTViNzhhYmVhZjk3IiBzdHlsZT0id2lkdGg6IDEwMC4wJTsgaGVpZ2h0OiAxMDAuMCU7Ij5QcmFpYSBkYSBHYWxoZXRhPC9kaXY+YClbMF07CiAgICAgICAgICAgICAgICBwb3B1cF9jODNjOGYwMDk5YmU0MDMzOWNiZmQ5ZWVkOGRhM2QxYS5zZXRDb250ZW50KGh0bWxfODM0ZTQ2MjAyYTAwNGI3OTgzYjk5NWI3OGFiZWFmOTcpOwogICAgICAgICAgICAKCiAgICAgICAgICAgIGNpcmNsZV9tYXJrZXJfZjVlNjRiYmQzZmYwNDAyZmJkNDg0ZjY3NjE4N2Q5OWUuYmluZFBvcHVwKHBvcHVwX2M4M2M4ZjAwOTliZTQwMzM5Y2JmZDllZWQ4ZGEzZDFhKQogICAgICAgICAgICA7CgogICAgICAgICAgICAKICAgICAgICAKICAgIAogICAgICAgICAgICB2YXIgY2lyY2xlX21hcmtlcl9mYzk4NmIxZjAwMGM0YWIwYWZmMjNjN2YxNDczNjFiNiA9IEwuY2lyY2xlTWFya2VyKAogICAgICAgICAgICAgICAgWy0yNy41NzQ3ODA0LCAtNDguNDIxMzk3N10sCiAgICAgICAgICAgICAgICB7CiAgImJ1YmJsaW5nTW91c2VFdmVudHMiOiB0cnVlLAogICJjb2xvciI6ICJibHVlIiwKICAiZGFzaEFycmF5IjogbnVsbCwKICAiZGFzaE9mZnNldCI6IG51bGwsCiAgImZpbGwiOiB0cnVlLAogICJmaWxsQ29sb3IiOiAiIzMxODZjYyIsCiAgImZpbGxPcGFjaXR5IjogMC43LAogICJmaWxsUnVsZSI6ICJldmVub2RkIiwKICAibGluZUNhcCI6ICJyb3VuZCIsCiAgImxpbmVKb2luIjogInJvdW5kIiwKICAib3BhY2l0eSI6IDEuMCwKICAicmFkaXVzIjogNSwKICAic3Ryb2tlIjogdHJ1ZSwKICAid2VpZ2h0IjogMwp9CiAgICAgICAgICAgICAgICApCiAgICAgICAgICAgICAgICAuYWRkVG8obWFwXzQzZmJlOTcyZTk5ZDQxNWU4YzczMjlmNDU5Y2E4MjQxKTsKICAgICAgICAgICAgCiAgICAKICAgICAgICAgICAgdmFyIHBvcHVwX2M1OTNlZDU2MzdkNjQ3ZGE4M2VlMTc0ZjU0NDgyMTJiID0gTC5wb3B1cCh7bWF4V2lkdGg6ICcxMDAlJwogICAgICAgICAgICAKICAgICAgICAgICAgfSk7CgogICAgICAgICAgICAKICAgICAgICAgICAgICAgIHZhciBodG1sX2NkNGUzYTlmOTc4YjRkMmFhYWJiMTdhOGQ2ODQ3NDFjID0gJChgPGRpdiBpZD0iaHRtbF9jZDRlM2E5Zjk3OGI0ZDJhYWFiYjE3YThkNjg0NzQxYyIgc3R5bGU9IndpZHRoOiAxMDAuMCU7IGhlaWdodDogMTAwLjAlOyI+UHJhaW5oYSAoQmFycmEgZGEgTGFnb2EpPC9kaXY+YClbMF07CiAgICAgICAgICAgICAgICBwb3B1cF9jNTkzZWQ1NjM3ZDY0N2RhODNlZTE3NGY1NDQ4MjEyYi5zZXRDb250ZW50KGh0bWxfY2Q0ZTNhOWY5NzhiNGQyYWFhYmIxN2E4ZDY4NDc0MWMpOwogICAgICAgICAgICAKCiAgICAgICAgICAgIGNpcmNsZV9tYXJrZXJfZmM5ODZiMWYwMDBjNGFiMGFmZjIzYzdmMTQ3MzYxYjYuYmluZFBvcHVwKHBvcHVwX2M1OTNlZDU2MzdkNjQ3ZGE4M2VlMTc0ZjU0NDgyMTJiKQogICAgICAgICAgICA7CgogICAgICAgICAgICAKICAgICAgICAKICAgIAogICAgICAgICAgICB2YXIgY2lyY2xlX21hcmtlcl81YWYxODFhOTg0Nzk0NTRmYmZjNDk4MGQzOWU4MmRjZSA9IEwuY2lyY2xlTWFya2VyKAogICAgICAgICAgICAgICAgWy0yNy41NzEzMDYwNSwgLTQ4LjQyNjg5MjQ0NTI5N10sCiAgICAgICAgICAgICAgICB7CiAgImJ1YmJsaW5nTW91c2VFdmVudHMiOiB0cnVlLAogICJjb2xvciI6ICJibHVlIiwKICAiZGFzaEFycmF5IjogbnVsbCwKICAiZGFzaE9mZnNldCI6IG51bGwsCiAgImZpbGwiOiB0cnVlLAogICJmaWxsQ29sb3IiOiAiIzMxODZjYyIsCiAgImZpbGxPcGFjaXR5IjogMC43LAogICJmaWxsUnVsZSI6ICJldmVub2RkIiwKICAibGluZUNhcCI6ICJyb3VuZCIsCiAgImxpbmVKb2luIjogInJvdW5kIiwKICAib3BhY2l0eSI6IDEuMCwKICAicmFkaXVzIjogNSwKICAic3Ryb2tlIjogdHJ1ZSwKICAid2VpZ2h0IjogMwp9CiAgICAgICAgICAgICAgICApCiAgICAgICAgICAgICAgICAuYWRkVG8obWFwXzQzZmJlOTcyZTk5ZDQxNWU4YzczMjlmNDU5Y2E4MjQxKTsKICAgICAgICAgICAgCiAgICAKICAgICAgICAgICAgdmFyIHBvcHVwXzZjYTdmYjYwMWM4OTRlODA5NjQ5N2NjODE4MzE0NTA5ID0gTC5wb3B1cCh7bWF4V2lkdGg6ICcxMDAlJwogICAgICAgICAgICAKICAgICAgICAgICAgfSk7CgogICAgICAgICAgICAKICAgICAgICAgICAgICAgIHZhciBodG1sXzQwNDhiOGVmOTQ1NzRmM2U5ZjZjMjBjZmEzMjRjNWRkID0gJChgPGRpdiBpZD0iaHRtbF80MDQ4YjhlZjk0NTc0ZjNlOWY2YzIwY2ZhMzI0YzVkZCIgc3R5bGU9IndpZHRoOiAxMDAuMCU7IGhlaWdodDogMTAwLjAlOyI+UHJhaWEgZGEgQmFycmEgZGEgTGFnb2E8L2Rpdj5gKVswXTsKICAgICAgICAgICAgICAgIHBvcHVwXzZjYTdmYjYwMWM4OTRlODA5NjQ5N2NjODE4MzE0NTA5LnNldENvbnRlbnQoaHRtbF80MDQ4YjhlZjk0NTc0ZjNlOWY2YzIwY2ZhMzI0YzVkZCk7CiAgICAgICAgICAgIAoKICAgICAgICAgICAgY2lyY2xlX21hcmtlcl81YWYxODFhOTg0Nzk0NTRmYmZjNDk4MGQzOWU4MmRjZS5iaW5kUG9wdXAocG9wdXBfNmNhN2ZiNjAxYzg5NGU4MDk2NDk3Y2M4MTgzMTQ1MDkpCiAgICAgICAgICAgIDsKCiAgICAgICAgICAgIAogICAgICAgIAogICAgCiAgICAgICAgICAgIHZhciBjaXJjbGVfbWFya2VyX2Y2ODFhZTRiMGJmNjRkNDliYzljMzYxMWNhNDNjZWY4ID0gTC5jaXJjbGVNYXJrZXIoCiAgICAgICAgICAgICAgICBbLTI3LjUyMjcxNzYsIC00OC40MTY0MjQ4MzIxMDI1XSwKICAgICAgICAgICAgICAgIHsKICAiYnViYmxpbmdNb3VzZUV2ZW50cyI6IHRydWUsCiAgImNvbG9yIjogImJsdWUiLAogICJkYXNoQXJyYXkiOiBudWxsLAogICJkYXNoT2Zmc2V0IjogbnVsbCwKICAiZmlsbCI6IHRydWUsCiAgImZpbGxDb2xvciI6ICIjMzE4NmNjIiwKICAiZmlsbE9wYWNpdHkiOiAwLjcsCiAgImZpbGxSdWxlIjogImV2ZW5vZGQiLAogICJsaW5lQ2FwIjogInJvdW5kIiwKICAibGluZUpvaW4iOiAicm91bmQiLAogICJvcGFjaXR5IjogMS4wLAogICJyYWRpdXMiOiA1LAogICJzdHJva2UiOiB0cnVlLAogICJ3ZWlnaHQiOiAzCn0KICAgICAgICAgICAgICAgICkKICAgICAgICAgICAgICAgIC5hZGRUbyhtYXBfNDNmYmU5NzJlOTlkNDE1ZThjNzMyOWY0NTljYTgyNDEpOwogICAgICAgICAgICAKICAgIAogICAgICAgICAgICB2YXIgcG9wdXBfYjc3ZmU1MTBlOWFjNGExMjlmZWQzZTFhYjM3MWIwNTUgPSBMLnBvcHVwKHttYXhXaWR0aDogJzEwMCUnCiAgICAgICAgICAgIAogICAgICAgICAgICB9KTsKCiAgICAgICAgICAgIAogICAgICAgICAgICAgICAgdmFyIGh0bWxfMTVhNjA3ZWE4Y2MzNDUxOWI0NWU3MmQ5ZTBmYzczYTkgPSAkKGA8ZGl2IGlkPSJodG1sXzE1YTYwN2VhOGNjMzQ1MTliNDVlNzJkOWUwZmM3M2E5IiBzdHlsZT0id2lkdGg6IDEwMC4wJTsgaGVpZ2h0OiAxMDAuMCU7Ij5QcmFpYSBkZSBNb8OnYW1iaXF1ZTwvZGl2PmApWzBdOwogICAgICAgICAgICAgICAgcG9wdXBfYjc3ZmU1MTBlOWFjNGExMjlmZWQzZTFhYjM3MWIwNTUuc2V0Q29udGVudChodG1sXzE1YTYwN2VhOGNjMzQ1MTliNDVlNzJkOWUwZmM3M2E5KTsKICAgICAgICAgICAgCgogICAgICAgICAgICBjaXJjbGVfbWFya2VyX2Y2ODFhZTRiMGJmNjRkNDliYzljMzYxMWNhNDNjZWY4LmJpbmRQb3B1cChwb3B1cF9iNzdmZTUxMGU5YWM0YTEyOWZlZDNlMWFiMzcxYjA1NSkKICAgICAgICAgICAgOwoKICAgICAgICAgICAgCiAgICAgICAgCiAgICAKICAgICAgICAgICAgdmFyIGNpcmNsZV9tYXJrZXJfNmIwYWMyZDk0OWRmNGUzNzk3YmIzOWJjMzcxZTVlZjIgPSBMLmNpcmNsZU1hcmtlcigKICAgICAgICAgICAgICAgIFstMjcuNjcwNzYzMDUsIC00OC40NzcwNDg2NDc5MzU2XSwKICAgICAgICAgICAgICAgIHsKICAiYnViYmxpbmdNb3VzZUV2ZW50cyI6IHRydWUsCiAgImNvbG9yIjogImJsdWUiLAogICJkYXNoQXJyYXkiOiBudWxsLAogICJkYXNoT2Zmc2V0IjogbnVsbCwKICAiZmlsbCI6IHRydWUsCiAgImZpbGxDb2xvciI6ICIjMzE4NmNjIiwKICAiZmlsbE9wYWNpdHkiOiAwLjcsCiAgImZpbGxSdWxlIjogImV2ZW5vZGQiLAogICJsaW5lQ2FwIjogInJvdW5kIiwKICAibGluZUpvaW4iOiAicm91bmQiLAogICJvcGFjaXR5IjogMS4wLAogICJyYWRpdXMiOiA1LAogICJzdHJva2UiOiB0cnVlLAogICJ3ZWlnaHQiOiAzCn0KICAgICAgICAgICAgICAgICkKICAgICAgICAgICAgICAgIC5hZGRUbyhtYXBfNDNmYmU5NzJlOTlkNDE1ZThjNzMyOWY0NTljYTgyNDEpOwogICAgICAgICAgICAKICAgIAogICAgICAgICAgICB2YXIgcG9wdXBfNmY5M2EwNzZkNDE2NDM1Y2JkZjZjMGNkMjNkZjMxMzkgPSBMLnBvcHVwKHttYXhXaWR0aDogJzEwMCUnCiAgICAgICAgICAgIAogICAgICAgICAgICB9KTsKCiAgICAgICAgICAgIAogICAgICAgICAgICAgICAgdmFyIGh0bWxfMGEyZTg3YTE2MjRhNDVhZTllNDhmZThlZGNlYmQyYzQgPSAkKGA8ZGl2IGlkPSJodG1sXzBhMmU4N2ExNjI0YTQ1YWU5ZTQ4ZmU4ZWRjZWJkMmM0IiBzdHlsZT0id2lkdGg6IDEwMC4wJTsgaGVpZ2h0OiAxMDAuMCU7Ij5QcmFpYSBkbyBDYW1wZWNoZTwvZGl2PmApWzBdOwogICAgICAgICAgICAgICAgcG9wdXBfNmY5M2EwNzZkNDE2NDM1Y2JkZjZjMGNkMjNkZjMxMzkuc2V0Q29udGVudChodG1sXzBhMmU4N2ExNjI0YTQ1YWU5ZTQ4ZmU4ZWRjZWJkMmM0KTsKICAgICAgICAgICAgCgogICAgICAgICAgICBjaXJjbGVfbWFya2VyXzZiMGFjMmQ5NDlkZjRlMzc5N2JiMzliYzM3MWU1ZWYyLmJpbmRQb3B1cChwb3B1cF82ZjkzYTA3NmQ0MTY0MzVjYmRmNmMwY2QyM2RmMzEzOSkKICAgICAgICAgICAgOwoKICAgICAgICAgICAgCiAgICAgICAgCiAgICAKICAgICAgICAgICAgdmFyIGNpcmNsZV9tYXJrZXJfYTJlY2Q2NTRhNmY4NDA5YmEyMTE4ZGFiYWJhZWM1NGQgPSBMLmNpcmNsZU1hcmtlcigKICAgICAgICAgICAgICAgIFstMjcuNzEwNzAwNywgLTQ4LjUwMDE1NDUwNjY2NjZdLAogICAgICAgICAgICAgICAgewogICJidWJibGluZ01vdXNlRXZlbnRzIjogdHJ1ZSwKICAiY29sb3IiOiAiYmx1ZSIsCiAgImRhc2hBcnJheSI6IG51bGwsCiAgImRhc2hPZmZzZXQiOiBudWxsLAogICJmaWxsIjogdHJ1ZSwKICAiZmlsbENvbG9yIjogIiMzMTg2Y2MiLAogICJmaWxsT3BhY2l0eSI6IDAuNywKICAiZmlsbFJ1bGUiOiAiZXZlbm9kZCIsCiAgImxpbmVDYXAiOiAicm91bmQiLAogICJsaW5lSm9pbiI6ICJyb3VuZCIsCiAgIm9wYWNpdHkiOiAxLjAsCiAgInJhZGl1cyI6IDUsCiAgInN0cm9rZSI6IHRydWUsCiAgIndlaWdodCI6IDMKfQogICAgICAgICAgICAgICAgKQogICAgICAgICAgICAgICAgLmFkZFRvKG1hcF80M2ZiZTk3MmU5OWQ0MTVlOGM3MzI5ZjQ1OWNhODI0MSk7CiAgICAgICAgICAgIAogICAgCiAgICAgICAgICAgIHZhciBwb3B1cF81OGQ2ZDQyMjgxNTU0MTA3YmVmM2U1ZWM2N2E4MTUwYiA9IEwucG9wdXAoe21heFdpZHRoOiAnMTAwJScKICAgICAgICAgICAgCiAgICAgICAgICAgIH0pOwoKICAgICAgICAgICAgCiAgICAgICAgICAgICAgICB2YXIgaHRtbF85YzY1NTlkY2FjZGQ0MjcwYmY4NzMxMjYwOTI5YTllMyA9ICQoYDxkaXYgaWQ9Imh0bWxfOWM2NTU5ZGNhY2RkNDI3MGJmODczMTI2MDkyOWE5ZTMiIHN0eWxlPSJ3aWR0aDogMTAwLjAlOyBoZWlnaHQ6IDEwMC4wJTsiPlByYWlhIGRvIE1vcnJvIGRhcyBQZWRyYXM8L2Rpdj5gKVswXTsKICAgICAgICAgICAgICAgIHBvcHVwXzU4ZDZkNDIyODE1NTQxMDdiZWYzZTVlYzY3YTgxNTBiLnNldENvbnRlbnQoaHRtbF85YzY1NTlkY2FjZGQ0MjcwYmY4NzMxMjYwOTI5YTllMyk7CiAgICAgICAgICAgIAoKICAgICAgICAgICAgY2lyY2xlX21hcmtlcl9hMmVjZDY1NGE2Zjg0MDliYTIxMThkYWJhYmFlYzU0ZC5iaW5kUG9wdXAocG9wdXBfNThkNmQ0MjI4MTU1NDEwN2JlZjNlNWVjNjdhODE1MGIpCiAgICAgICAgICAgIDsKCiAgICAgICAgICAgIAogICAgICAgIAogICAgCiAgICAgICAgICAgIHZhciBjaXJjbGVfbWFya2VyXzJiOWNlZTVlOTUxNDRjNGVhNmRmNDc5ZmIyZTMyYmMwID0gTC5jaXJjbGVNYXJrZXIoCiAgICAgICAgICAgICAgICBbLTI3LjczNTY5NDA1LCAtNDguNTA3ODY3NTQ4NzcyMV0sCiAgICAgICAgICAgICAgICB7CiAgImJ1YmJsaW5nTW91c2VFdmVudHMiOiB0cnVlLAogICJjb2xvciI6ICJibHVlIiwKICAiZGFzaEFycmF5IjogbnVsbCwKICAiZGFzaE9mZnNldCI6IG51bGwsCiAgImZpbGwiOiB0cnVlLAogICJmaWxsQ29sb3IiOiAiIzMxODZjYyIsCiAgImZpbGxPcGFjaXR5IjogMC43LAogICJmaWxsUnVsZSI6ICJldmVub2RkIiwKICAibGluZUNhcCI6ICJyb3VuZCIsCiAgImxpbmVKb2luIjogInJvdW5kIiwKICAib3BhY2l0eSI6IDEuMCwKICAicmFkaXVzIjogNSwKICAic3Ryb2tlIjogdHJ1ZSwKICAid2VpZ2h0IjogMwp9CiAgICAgICAgICAgICAgICApCiAgICAgICAgICAgICAgICAuYWRkVG8obWFwXzQzZmJlOTcyZTk5ZDQxNWU4YzczMjlmNDU5Y2E4MjQxKTsKICAgICAgICAgICAgCiAgICAKICAgICAgICAgICAgdmFyIHBvcHVwXzRlZGFmMDJhM2ZiZDQ3MDU5OGUyMThjYzkxOTM5MGUzID0gTC5wb3B1cCh7bWF4V2lkdGg6ICcxMDAlJwogICAgICAgICAgICAKICAgICAgICAgICAgfSk7CgogICAgICAgICAgICAKICAgICAgICAgICAgICAgIHZhciBodG1sXzllNjY3MDgxOTE0MjQ3YmZiYWQ4NDdkZjE1N2QwMWUxID0gJChgPGRpdiBpZD0iaHRtbF85ZTY2NzA4MTkxNDI0N2JmYmFkODQ3ZGYxNTdkMDFlMSIgc3R5bGU9IndpZHRoOiAxMDAuMCU7IGhlaWdodDogMTAwLjAlOyI+UHJhaWEgZGEgQXJtYcOnw6NvIGRvIFDDom50YW5vIGRvIFN1bDwvZGl2PmApWzBdOwogICAgICAgICAgICAgICAgcG9wdXBfNGVkYWYwMmEzZmJkNDcwNTk4ZTIxOGNjOTE5MzkwZTMuc2V0Q29udGVudChodG1sXzllNjY3MDgxOTE0MjQ3YmZiYWQ4NDdkZjE1N2QwMWUxKTsKICAgICAgICAgICAgCgogICAgICAgICAgICBjaXJjbGVfbWFya2VyXzJiOWNlZTVlOTUxNDRjNGVhNmRmNDc5ZmIyZTMyYmMwLmJpbmRQb3B1cChwb3B1cF80ZWRhZjAyYTNmYmQ0NzA1OThlMjE4Y2M5MTkzOTBlMykKICAgICAgICAgICAgOwoKICAgICAgICAgICAgCiAgICAgICAgCiAgICAKICAgICAgICAgICAgdmFyIGNpcmNsZV9tYXJrZXJfY2U2NmM2YzI2YmEyNGQzMWEyNGM4MzRiODgzMzU4YjAgPSBMLmNpcmNsZU1hcmtlcigKICAgICAgICAgICAgICAgIFstMjcuNzU0MjY3OSwgLTQ4LjQ5ODk3MTM2OTU0ODVdLAogICAgICAgICAgICAgICAgewogICJidWJibGluZ01vdXNlRXZlbnRzIjogdHJ1ZSwKICAiY29sb3IiOiAiYmx1ZSIsCiAgImRhc2hBcnJheSI6IG51bGwsCiAgImRhc2hPZmZzZXQiOiBudWxsLAogICJmaWxsIjogdHJ1ZSwKICAiZmlsbENvbG9yIjogIiMzMTg2Y2MiLAogICJmaWxsT3BhY2l0eSI6IDAuNywKICAiZmlsbFJ1bGUiOiAiZXZlbm9kZCIsCiAgImxpbmVDYXAiOiAicm91bmQiLAogICJsaW5lSm9pbiI6ICJyb3VuZCIsCiAgIm9wYWNpdHkiOiAxLjAsCiAgInJhZGl1cyI6IDUsCiAgInN0cm9rZSI6IHRydWUsCiAgIndlaWdodCI6IDMKfQogICAgICAgICAgICAgICAgKQogICAgICAgICAgICAgICAgLmFkZFRvKG1hcF80M2ZiZTk3MmU5OWQ0MTVlOGM3MzI5ZjQ1OWNhODI0MSk7CiAgICAgICAgICAgIAogICAgCiAgICAgICAgICAgIHZhciBwb3B1cF9kZWQyODhkMTAzZjQ0NTBjOGFhYTRlMmJlYzcxZmU3NiA9IEwucG9wdXAoe21heFdpZHRoOiAnMTAwJScKICAgICAgICAgICAgCiAgICAgICAgICAgIH0pOwoKICAgICAgICAgICAgCiAgICAgICAgICAgICAgICB2YXIgaHRtbF81OWQxMjk5MGFkYjU0MmRlYWMwOTBkODVmNDExODcwOSA9ICQoYDxkaXYgaWQ9Imh0bWxfNTlkMTI5OTBhZGI1NDJkZWFjMDkwZDg1ZjQxMTg3MDkiIHN0eWxlPSJ3aWR0aDogMTAwLjAlOyBoZWlnaHQ6IDEwMC4wJTsiPlByYWlhIGRvIE1hdGFkZWlybzwvZGl2PmApWzBdOwogICAgICAgICAgICAgICAgcG9wdXBfZGVkMjg4ZDEwM2Y0NDUwYzhhYWE0ZTJiZWM3MWZlNzYuc2V0Q29udGVudChodG1sXzU5ZDEyOTkwYWRiNTQyZGVhYzA5MGQ4NWY0MTE4NzA5KTsKICAgICAgICAgICAgCgogICAgICAgICAgICBjaXJjbGVfbWFya2VyX2NlNjZjNmMyNmJhMjRkMzFhMjRjODM0Yjg4MzM1OGIwLmJpbmRQb3B1cChwb3B1cF9kZWQyODhkMTAzZjQ0NTBjOGFhYTRlMmJlYzcxZmU3NikKICAgICAgICAgICAgOwoKICAgICAgICAgICAgCiAgICAgICAgCiAgICAKICAgICAgICAgICAgdmFyIGNpcmNsZV9tYXJrZXJfMjAzYzUxYjgyNDI4NDQxY2FhZDhiYmUxNmY3NjFhMzIgPSBMLmNpcmNsZU1hcmtlcigKICAgICAgICAgICAgICAgIFstMjcuNzc0MDIxNzUsIC00OC40ODY4ODY0ODEwMTY5XSwKICAgICAgICAgICAgICAgIHsKICAiYnViYmxpbmdNb3VzZUV2ZW50cyI6IHRydWUsCiAgImNvbG9yIjogImJsdWUiLAogICJkYXNoQXJyYXkiOiBudWxsLAogICJkYXNoT2Zmc2V0IjogbnVsbCwKICAiZmlsbCI6IHRydWUsCiAgImZpbGxDb2xvciI6ICIjMzE4NmNjIiwKICAiZmlsbE9wYWNpdHkiOiAwLjcsCiAgImZpbGxSdWxlIjogImV2ZW5vZGQiLAogICJsaW5lQ2FwIjogInJvdW5kIiwKICAibGluZUpvaW4iOiAicm91bmQiLAogICJvcGFjaXR5IjogMS4wLAogICJyYWRpdXMiOiA1LAogICJzdHJva2UiOiB0cnVlLAogICJ3ZWlnaHQiOiAzCn0KICAgICAgICAgICAgICAgICkKICAgICAgICAgICAgICAgIC5hZGRUbyhtYXBfNDNmYmU5NzJlOTlkNDE1ZThjNzMyOWY0NTljYTgyNDEpOwogICAgICAgICAgICAKICAgIAogICAgICAgICAgICB2YXIgcG9wdXBfOTk3OTQ3MTFjZTgxNDc1ZjhkY2FlNDdjNDk5Zjg1ZDEgPSBMLnBvcHVwKHttYXhXaWR0aDogJzEwMCUnCiAgICAgICAgICAgIAogICAgICAgICAgICB9KTsKCiAgICAgICAgICAgIAogICAgICAgICAgICAgICAgdmFyIGh0bWxfZTMwMTQ1NzhkMzM4NGQ4OGExMWQ0NmEzYzZiYmE5MjQgPSAkKGA8ZGl2IGlkPSJodG1sX2UzMDE0NTc4ZDMzODRkODhhMTFkNDZhM2M2YmJhOTI0IiBzdHlsZT0id2lkdGg6IDEwMC4wJTsgaGVpZ2h0OiAxMDAuMCU7Ij5QcmFpYSBkYSBMYWdvaW5oYSBkbyBMZXN0ZTwvZGl2PmApWzBdOwogICAgICAgICAgICAgICAgcG9wdXBfOTk3OTQ3MTFjZTgxNDc1ZjhkY2FlNDdjNDk5Zjg1ZDEuc2V0Q29udGVudChodG1sX2UzMDE0NTc4ZDMzODRkODhhMTFkNDZhM2M2YmJhOTI0KTsKICAgICAgICAgICAgCgogICAgICAgICAgICBjaXJjbGVfbWFya2VyXzIwM2M1MWI4MjQyODQ0MWNhYWQ4YmJlMTZmNzYxYTMyLmJpbmRQb3B1cChwb3B1cF85OTc5NDcxMWNlODE0NzVmOGRjYWU0N2M0OTlmODVkMSkKICAgICAgICAgICAgOwoKICAgICAgICAgICAgCiAgICAgICAgCiAgICAKICAgICAgICAgICAgdmFyIGNpcmNsZV9tYXJrZXJfYWI4OGRkNWM3YTRiNGRkYWE0Zjk3NjQ3N2RhOWY1ZDMgPSBMLmNpcmNsZU1hcmtlcigKICAgICAgICAgICAgICAgIFstMjcuNzg1NDUwMiwgLTQ4LjUyNTY4NTU4OTMwNzddLAogICAgICAgICAgICAgICAgewogICJidWJibGluZ01vdXNlRXZlbnRzIjogdHJ1ZSwKICAiY29sb3IiOiAiYmx1ZSIsCiAgImRhc2hBcnJheSI6IG51bGwsCiAgImRhc2hPZmZzZXQiOiBudWxsLAogICJmaWxsIjogdHJ1ZSwKICAiZmlsbENvbG9yIjogIiMzMTg2Y2MiLAogICJmaWxsT3BhY2l0eSI6IDAuNywKICAiZmlsbFJ1bGUiOiAiZXZlbm9kZCIsCiAgImxpbmVDYXAiOiAicm91bmQiLAogICJsaW5lSm9pbiI6ICJyb3VuZCIsCiAgIm9wYWNpdHkiOiAxLjAsCiAgInJhZGl1cyI6IDUsCiAgInN0cm9rZSI6IHRydWUsCiAgIndlaWdodCI6IDMKfQogICAgICAgICAgICAgICAgKQogICAgICAgICAgICAgICAgLmFkZFRvKG1hcF80M2ZiZTk3MmU5OWQ0MTVlOGM3MzI5ZjQ1OWNhODI0MSk7CiAgICAgICAgICAgIAogICAgCiAgICAgICAgICAgIHZhciBwb3B1cF9mNzY0ZGY5Zjg5MjU0OTU0YjNlM2Q4M2ZkN2FmOGQxMyA9IEwucG9wdXAoe21heFdpZHRoOiAnMTAwJScKICAgICAgICAgICAgCiAgICAgICAgICAgIH0pOwoKICAgICAgICAgICAgCiAgICAgICAgICAgICAgICB2YXIgaHRtbF8xZDVkOWRjMWViNTg0YzE0YjIyZjkwZjcyNDIyZjI2NyA9ICQoYDxkaXYgaWQ9Imh0bWxfMWQ1ZDlkYzFlYjU4NGMxNGIyMmY5MGY3MjQyMmYyNjciIHN0eWxlPSJ3aWR0aDogMTAwLjAlOyBoZWlnaHQ6IDEwMC4wJTsiPlByYWlhIGRvIFDDom50YW5vIGRvIFN1bDwvZGl2PmApWzBdOwogICAgICAgICAgICAgICAgcG9wdXBfZjc2NGRmOWY4OTI1NDk1NGIzZTNkODNmZDdhZjhkMTMuc2V0Q29udGVudChodG1sXzFkNWQ5ZGMxZWI1ODRjMTRiMjJmOTBmNzI0MjJmMjY3KTsKICAgICAgICAgICAgCgogICAgICAgICAgICBjaXJjbGVfbWFya2VyX2FiODhkZDVjN2E0YjRkZGFhNGY5NzY0NzdkYTlmNWQzLmJpbmRQb3B1cChwb3B1cF9mNzY0ZGY5Zjg5MjU0OTU0YjNlM2Q4M2ZkN2FmOGQxMykKICAgICAgICAgICAgOwoKICAgICAgICAgICAgCiAgICAgICAgCiAgICAKICAgICAgICAgICAgdmFyIGNpcmNsZV9tYXJrZXJfODQyZWNkN2Q5YTVhNGExNmFkZDVlZWZjNDc0MDBhYzYgPSBMLmNpcmNsZU1hcmtlcigKICAgICAgICAgICAgICAgIFstMjcuNzgzMTQ5NCwgLTQ4LjUyNTE1MjJdLAogICAgICAgICAgICAgICAgewogICJidWJibGluZ01vdXNlRXZlbnRzIjogdHJ1ZSwKICAiY29sb3IiOiAiYmx1ZSIsCiAgImRhc2hBcnJheSI6IG51bGwsCiAgImRhc2hPZmZzZXQiOiBudWxsLAogICJmaWxsIjogdHJ1ZSwKICAiZmlsbENvbG9yIjogIiMzMTg2Y2MiLAogICJmaWxsT3BhY2l0eSI6IDAuNywKICAiZmlsbFJ1bGUiOiAiZXZlbm9kZCIsCiAgImxpbmVDYXAiOiAicm91bmQiLAogICJsaW5lSm9pbiI6ICJyb3VuZCIsCiAgIm9wYWNpdHkiOiAxLjAsCiAgInJhZGl1cyI6IDUsCiAgInN0cm9rZSI6IHRydWUsCiAgIndlaWdodCI6IDMKfQogICAgICAgICAgICAgICAgKQogICAgICAgICAgICAgICAgLmFkZFRvKG1hcF80M2ZiZTk3MmU5OWQ0MTVlOGM3MzI5ZjQ1OWNhODI0MSk7CiAgICAgICAgICAgIAogICAgCiAgICAgICAgICAgIHZhciBwb3B1cF9mNTNhMWJkMWFkZDg0MTI3ODk0N2I3NjBhMzU2NTdmMyA9IEwucG9wdXAoe21heFdpZHRoOiAnMTAwJScKICAgICAgICAgICAgCiAgICAgICAgICAgIH0pOwoKICAgICAgICAgICAgCiAgICAgICAgICAgICAgICB2YXIgaHRtbF9mOTY5ZDBmMmUyYzE0ODU0OWExMzE5OWQ2ZWI4NmJkOCA9ICQoYDxkaXYgaWQ9Imh0bWxfZjk2OWQwZjJlMmMxNDg1NDlhMTMxOTlkNmViODZiZDgiIHN0eWxlPSJ3aWR0aDogMTAwLjAlOyBoZWlnaHQ6IDEwMC4wJTsiPlByYWlhIGRvcyBBw6dvcmVzPC9kaXY+YClbMF07CiAgICAgICAgICAgICAgICBwb3B1cF9mNTNhMWJkMWFkZDg0MTI3ODk0N2I3NjBhMzU2NTdmMy5zZXRDb250ZW50KGh0bWxfZjk2OWQwZjJlMmMxNDg1NDlhMTMxOTlkNmViODZiZDgpOwogICAgICAgICAgICAKCiAgICAgICAgICAgIGNpcmNsZV9tYXJrZXJfODQyZWNkN2Q5YTVhNGExNmFkZDVlZWZjNDc0MDBhYzYuYmluZFBvcHVwKHBvcHVwX2Y1M2ExYmQxYWRkODQxMjc4OTQ3Yjc2MGEzNTY1N2YzKQogICAgICAgICAgICA7CgogICAgICAgICAgICAKICAgICAgICAKICAgIAogICAgICAgICAgICB2YXIgY2lyY2xlX21hcmtlcl8xMDNjNzc2YTc2MmE0NDg0YmVjY2ZjZDljYTc2ZWRjOSA9IEwuY2lyY2xlTWFya2VyKAogICAgICAgICAgICAgICAgWy0yNy43OTM5NjUsIC00OC41MzM5Mjg0XSwKICAgICAgICAgICAgICAgIHsKICAiYnViYmxpbmdNb3VzZUV2ZW50cyI6IHRydWUsCiAgImNvbG9yIjogImJsdWUiLAogICJkYXNoQXJyYXkiOiBudWxsLAogICJkYXNoT2Zmc2V0IjogbnVsbCwKICAiZmlsbCI6IHRydWUsCiAgImZpbGxDb2xvciI6ICIjMzE4NmNjIiwKICAiZmlsbE9wYWNpdHkiOiAwLjcsCiAgImZpbGxSdWxlIjogImV2ZW5vZGQiLAogICJsaW5lQ2FwIjogInJvdW5kIiwKICAibGluZUpvaW4iOiAicm91bmQiLAogICJvcGFjaXR5IjogMS4wLAogICJyYWRpdXMiOiA1LAogICJzdHJva2UiOiB0cnVlLAogICJ3ZWlnaHQiOiAzCn0KICAgICAgICAgICAgICAgICkKICAgICAgICAgICAgICAgIC5hZGRUbyhtYXBfNDNmYmU5NzJlOTlkNDE1ZThjNzMyOWY0NTljYTgyNDEpOwogICAgICAgICAgICAKICAgIAogICAgICAgICAgICB2YXIgcG9wdXBfMjcyN2JmOTg5YTYxNGI2ZmJjNmQ2ZDVkMjYxNjcxOWEgPSBMLnBvcHVwKHttYXhXaWR0aDogJzEwMCUnCiAgICAgICAgICAgIAogICAgICAgICAgICB9KTsKCiAgICAgICAgICAgIAogICAgICAgICAgICAgICAgdmFyIGh0bWxfNGQ4NWQxM2U0NGUxNDE3ZGFlMWE4MjcyZDk3MjgzZTIgPSAkKGA8ZGl2IGlkPSJodG1sXzRkODVkMTNlNDRlMTQxN2RhZTFhODI3MmQ5NzI4M2UyIiBzdHlsZT0id2lkdGg6IDEwMC4wJTsgaGVpZ2h0OiAxMDAuMCU7Ij5QcmFpYSBkYSBTb2xpZMOjbzwvZGl2PmApWzBdOwogICAgICAgICAgICAgICAgcG9wdXBfMjcyN2JmOTg5YTYxNGI2ZmJjNmQ2ZDVkMjYxNjcxOWEuc2V0Q29udGVudChodG1sXzRkODVkMTNlNDRlMTQxN2RhZTFhODI3MmQ5NzI4M2UyKTsKICAgICAgICAgICAgCgogICAgICAgICAgICBjaXJjbGVfbWFya2VyXzEwM2M3NzZhNzYyYTQ0ODRiZWNjZmNkOWNhNzZlZGM5LmJpbmRQb3B1cChwb3B1cF8yNzI3YmY5ODlhNjE0YjZmYmM2ZDZkNWQyNjE2NzE5YSkKICAgICAgICAgICAgOwoKICAgICAgICAgICAgCiAgICAgICAgCiAgICAKICAgICAgICAgICAgdmFyIGNpcmNsZV9tYXJrZXJfNGRkYWE3NmRhOTNiNDFiZDkzMWY5NTNlOTU3NTgzYjMgPSBMLmNpcmNsZU1hcmtlcigKICAgICAgICAgICAgICAgIFstMjcuNTE4NjQzOCwgLTQ4LjQ0MjA0NTEzNzMwM10sCiAgICAgICAgICAgICAgICB7CiAgImJ1YmJsaW5nTW91c2VFdmVudHMiOiB0cnVlLAogICJjb2xvciI6ICJibHVlIiwKICAiZGFzaEFycmF5IjogbnVsbCwKICAiZGFzaE9mZnNldCI6IG51bGwsCiAgImZpbGwiOiB0cnVlLAogICJmaWxsQ29sb3IiOiAiIzMxODZjYyIsCiAgImZpbGxPcGFjaXR5IjogMC43LAogICJmaWxsUnVsZSI6ICJldmVub2RkIiwKICAibGluZUNhcCI6ICJyb3VuZCIsCiAgImxpbmVKb2luIjogInJvdW5kIiwKICAib3BhY2l0eSI6IDEuMCwKICAicmFkaXVzIjogNSwKICAic3Ryb2tlIjogdHJ1ZSwKICAid2VpZ2h0IjogMwp9CiAgICAgICAgICAgICAgICApCiAgICAgICAgICAgICAgICAuYWRkVG8obWFwXzQzZmJlOTcyZTk5ZDQxNWU4YzczMjlmNDU5Y2E4MjQxKTsKICAgICAgICAgICAgCiAgICAKICAgICAgICAgICAgdmFyIHBvcHVwXzNjMGQyZjc4ZDk0YzQ2MjZiNTExMzUwZjA2MjU1YzBlID0gTC5wb3B1cCh7bWF4V2lkdGg6ICcxMDAlJwogICAgICAgICAgICAKICAgICAgICAgICAgfSk7CgogICAgICAgICAgICAKICAgICAgICAgICAgICAgIHZhciBodG1sXzY5ZjY4ZTE0ZGQ0MjQ4MDI4MjFhNjc4Yzg0NzZkNmVmID0gJChgPGRpdiBpZD0iaHRtbF82OWY2OGUxNGRkNDI0ODAyODIxYTY3OGM4NDc2ZDZlZiIgc3R5bGU9IndpZHRoOiAxMDAuMCU7IGhlaWdodDogMTAwLjAlOyI+UHJhaWEgZG8gU2FxdWluaG88L2Rpdj5gKVswXTsKICAgICAgICAgICAgICAgIHBvcHVwXzNjMGQyZjc4ZDk0YzQ2MjZiNTExMzUwZjA2MjU1YzBlLnNldENvbnRlbnQoaHRtbF82OWY2OGUxNGRkNDI0ODAyODIxYTY3OGM4NDc2ZDZlZik7CiAgICAgICAgICAgIAoKICAgICAgICAgICAgY2lyY2xlX21hcmtlcl80ZGRhYTc2ZGE5M2I0MWJkOTMxZjk1M2U5NTc1ODNiMy5iaW5kUG9wdXAocG9wdXBfM2MwZDJmNzhkOTRjNDYyNmI1MTEzNTBmMDYyNTVjMGUpCiAgICAgICAgICAgIDsKCiAgICAgICAgICAgIAogICAgICAgIAogICAgCiAgICAgICAgICAgIHZhciBjaXJjbGVfbWFya2VyX2JiMjNhMjg2MWIyOTQwNzg4ZWFhNzkwYzc3MzJkZWJlID0gTC5jaXJjbGVNYXJrZXIoCiAgICAgICAgICAgICAgICBbLTI3LjgxNzAzNTg1LCAtNDguNTYzODE4NzIxMDU3OV0sCiAgICAgICAgICAgICAgICB7CiAgImJ1YmJsaW5nTW91c2VFdmVudHMiOiB0cnVlLAogICJjb2xvciI6ICJibHVlIiwKICAiZGFzaEFycmF5IjogbnVsbCwKICAiZGFzaE9mZnNldCI6IG51bGwsCiAgImZpbGwiOiB0cnVlLAogICJmaWxsQ29sb3IiOiAiIzMxODZjYyIsCiAgImZpbGxPcGFjaXR5IjogMC43LAogICJmaWxsUnVsZSI6ICJldmVub2RkIiwKICAibGluZUNhcCI6ICJyb3VuZCIsCiAgImxpbmVKb2luIjogInJvdW5kIiwKICAib3BhY2l0eSI6IDEuMCwKICAicmFkaXVzIjogNSwKICAic3Ryb2tlIjogdHJ1ZSwKICAid2VpZ2h0IjogMwp9CiAgICAgICAgICAgICAgICApCiAgICAgICAgICAgICAgICAuYWRkVG8obWFwXzQzZmJlOTcyZTk5ZDQxNWU4YzczMjlmNDU5Y2E4MjQxKTsKICAgICAgICAgICAgCiAgICAKICAgICAgICAgICAgdmFyIHBvcHVwX2ZjOGFkY2U4NGNjOTQ2NThhMDRkZDliZTg0NDY2MjE1ID0gTC5wb3B1cCh7bWF4V2lkdGg6ICcxMDAlJwogICAgICAgICAgICAKICAgICAgICAgICAgfSk7CgogICAgICAgICAgICAKICAgICAgICAgICAgICAgIHZhciBodG1sXzk5NzhjODcwOTMzMDQ5YmVhYWM1OTg5NjVjYzBhMDUzID0gJChgPGRpdiBpZD0iaHRtbF85OTc4Yzg3MDkzMzA0OWJlYWFjNTk4OTY1Y2MwYTA1MyIgc3R5bGU9IndpZHRoOiAxMDAuMCU7IGhlaWdodDogMTAwLjAlOyI+UHJhaWEgZGUgTmF1ZnJhZ2Fkb3M8L2Rpdj5gKVswXTsKICAgICAgICAgICAgICAgIHBvcHVwX2ZjOGFkY2U4NGNjOTQ2NThhMDRkZDliZTg0NDY2MjE1LnNldENvbnRlbnQoaHRtbF85OTc4Yzg3MDkzMzA0OWJlYWFjNTk4OTY1Y2MwYTA1Myk7CiAgICAgICAgICAgIAoKICAgICAgICAgICAgY2lyY2xlX21hcmtlcl9iYjIzYTI4NjFiMjk0MDc4OGVhYTc5MGM3NzMyZGViZS5iaW5kUG9wdXAocG9wdXBfZmM4YWRjZTg0Y2M5NDY1OGEwNGRkOWJlODQ0NjYyMTUpCiAgICAgICAgICAgIDsKCiAgICAgICAgICAgIAogICAgICAgIAogICAgCiAgICAgICAgICAgIHZhciBjaXJjbGVfbWFya2VyX2MzZjBhOWQ1NjkyMjQ2MzQ4MjFjMjQzZDFlZWQ2ZGVkID0gTC5jaXJjbGVNYXJrZXIoCiAgICAgICAgICAgICAgICBbLTI3LjYxMzg0MTc1LCAtNDguNTg1NjgxMDc4NzU4NF0sCiAgICAgICAgICAgICAgICB7CiAgImJ1YmJsaW5nTW91c2VFdmVudHMiOiB0cnVlLAogICJjb2xvciI6ICJibHVlIiwKICAiZGFzaEFycmF5IjogbnVsbCwKICAiZGFzaE9mZnNldCI6IG51bGwsCiAgImZpbGwiOiB0cnVlLAogICJmaWxsQ29sb3IiOiAiIzMxODZjYyIsCiAgImZpbGxPcGFjaXR5IjogMC43LAogICJmaWxsUnVsZSI6ICJldmVub2RkIiwKICAibGluZUNhcCI6ICJyb3VuZCIsCiAgImxpbmVKb2luIjogInJvdW5kIiwKICAib3BhY2l0eSI6IDEuMCwKICAicmFkaXVzIjogNSwKICAic3Ryb2tlIjogdHJ1ZSwKICAid2VpZ2h0IjogMwp9CiAgICAgICAgICAgICAgICApCiAgICAgICAgICAgICAgICAuYWRkVG8obWFwXzQzZmJlOTcyZTk5ZDQxNWU4YzczMjlmNDU5Y2E4MjQxKTsKICAgICAgICAgICAgCiAgICAKICAgICAgICAgICAgdmFyIHBvcHVwX2M0ZTI0OTc3NGZkZjQxMzg4ZjNkOTA3MjBkMmZjYmJjID0gTC5wb3B1cCh7bWF4V2lkdGg6ICcxMDAlJwogICAgICAgICAgICAKICAgICAgICAgICAgfSk7CgogICAgICAgICAgICAKICAgICAgICAgICAgICAgIHZhciBodG1sX2FhZGNlN2JjYmVmYzQ4MjNhOGMwMWY1NDczNmNiMzUyID0gJChgPGRpdiBpZD0iaHRtbF9hYWRjZTdiY2JlZmM0ODIzYThjMDFmNTQ3MzZjYjM1MiIgc3R5bGU9IndpZHRoOiAxMDAuMCU7IGhlaWdodDogMTAwLjAlOyI+UHJhaWEgZGUgQ29xdWVpcm9zIChGbG9yaWFuw7Nwb2xpcyk8L2Rpdj5gKVswXTsKICAgICAgICAgICAgICAgIHBvcHVwX2M0ZTI0OTc3NGZkZjQxMzg4ZjNkOTA3MjBkMmZjYmJjLnNldENvbnRlbnQoaHRtbF9hYWRjZTdiY2JlZmM0ODIzYThjMDFmNTQ3MzZjYjM1Mik7CiAgICAgICAgICAgIAoKICAgICAgICAgICAgY2lyY2xlX21hcmtlcl9jM2YwYTlkNTY5MjI0NjM0ODIxYzI0M2QxZWVkNmRlZC5iaW5kUG9wdXAocG9wdXBfYzRlMjQ5Nzc0ZmRmNDEzODhmM2Q5MDcyMGQyZmNiYmMpCiAgICAgICAgICAgIDsKCiAgICAgICAgICAgIAogICAgICAgIAogICAgCiAgICAgICAgICAgIHZhciBjaXJjbGVfbWFya2VyXzFhMDMwOTRlNTFmZTQ0OTdhZjcwYmQyYTkzZjQ0YTcyID0gTC5jaXJjbGVNYXJrZXIoCiAgICAgICAgICAgICAgICBbLTI3LjYxNjA0MDM1LCAtNDguNTk0NzE3MzMyODY0XSwKICAgICAgICAgICAgICAgIHsKICAiYnViYmxpbmdNb3VzZUV2ZW50cyI6IHRydWUsCiAgImNvbG9yIjogImJsdWUiLAogICJkYXNoQXJyYXkiOiBudWxsLAogICJkYXNoT2Zmc2V0IjogbnVsbCwKICAiZmlsbCI6IHRydWUsCiAgImZpbGxDb2xvciI6ICIjMzE4NmNjIiwKICAiZmlsbE9wYWNpdHkiOiAwLjcsCiAgImZpbGxSdWxlIjogImV2ZW5vZGQiLAogICJsaW5lQ2FwIjogInJvdW5kIiwKICAibGluZUpvaW4iOiAicm91bmQiLAogICJvcGFjaXR5IjogMS4wLAogICJyYWRpdXMiOiA1LAogICJzdHJva2UiOiB0cnVlLAogICJ3ZWlnaHQiOiAzCn0KICAgICAgICAgICAgICAgICkKICAgICAgICAgICAgICAgIC5hZGRUbyhtYXBfNDNmYmU5NzJlOTlkNDE1ZThjNzMyOWY0NTljYTgyNDEpOwogICAgICAgICAgICAKICAgIAogICAgICAgICAgICB2YXIgcG9wdXBfMTlkOWMzNjlkMjJjNDc4NDhiMGUzMzcwMTEzNDg3OWYgPSBMLnBvcHVwKHttYXhXaWR0aDogJzEwMCUnCiAgICAgICAgICAgIAogICAgICAgICAgICB9KTsKCiAgICAgICAgICAgIAogICAgICAgICAgICAgICAgdmFyIGh0bWxfYWMwNzRkNzRkMTUxNGZmY2FiZTQ0OTA1YjQ1MzYzNzIgPSAkKGA8ZGl2IGlkPSJodG1sX2FjMDc0ZDc0ZDE1MTRmZmNhYmU0NDkwNWI0NTM2MzcyIiBzdHlsZT0id2lkdGg6IDEwMC4wJTsgaGVpZ2h0OiAxMDAuMCU7Ij5QcmFpYSBkYXMgUGFsbWVpcmFzPC9kaXY+YClbMF07CiAgICAgICAgICAgICAgICBwb3B1cF8xOWQ5YzM2OWQyMmM0Nzg0OGIwZTMzNzAxMTM0ODc5Zi5zZXRDb250ZW50KGh0bWxfYWMwNzRkNzRkMTUxNGZmY2FiZTQ0OTA1YjQ1MzYzNzIpOwogICAgICAgICAgICAKCiAgICAgICAgICAgIGNpcmNsZV9tYXJrZXJfMWEwMzA5NGU1MWZlNDQ5N2FmNzBiZDJhOTNmNDRhNzIuYmluZFBvcHVwKHBvcHVwXzE5ZDljMzY5ZDIyYzQ3ODQ4YjBlMzM3MDExMzQ4NzlmKQogICAgICAgICAgICA7CgogICAgICAgICAgICAKICAgICAgICAKICAgIAogICAgICAgICAgICB2YXIgY2lyY2xlX21hcmtlcl83NWFkZTM3YzlkYTY0OTYzOTZhMTkyN2M3OTk0YzI3ZSA9IEwuY2lyY2xlTWFya2VyKAogICAgICAgICAgICAgICAgWy0yNy42MTM4NDE3NSwgLTQ4LjU4NTY4MTA3ODc1ODRdLAogICAgICAgICAgICAgICAgewogICJidWJibGluZ01vdXNlRXZlbnRzIjogdHJ1ZSwKICAiY29sb3IiOiAiYmx1ZSIsCiAgImRhc2hBcnJheSI6IG51bGwsCiAgImRhc2hPZmZzZXQiOiBudWxsLAogICJmaWxsIjogdHJ1ZSwKICAiZmlsbENvbG9yIjogIiMzMTg2Y2MiLAogICJmaWxsT3BhY2l0eSI6IDAuNywKICAiZmlsbFJ1bGUiOiAiZXZlbm9kZCIsCiAgImxpbmVDYXAiOiAicm91bmQiLAogICJsaW5lSm9pbiI6ICJyb3VuZCIsCiAgIm9wYWNpdHkiOiAxLjAsCiAgInJhZGl1cyI6IDUsCiAgInN0cm9rZSI6IHRydWUsCiAgIndlaWdodCI6IDMKfQogICAgICAgICAgICAgICAgKQogICAgICAgICAgICAgICAgLmFkZFRvKG1hcF80M2ZiZTk3MmU5OWQ0MTVlOGM3MzI5ZjQ1OWNhODI0MSk7CiAgICAgICAgICAgIAogICAgCiAgICAgICAgICAgIHZhciBwb3B1cF81NGQxOTkxYzc2YWM0ODI4YTZlMjczNGY1NDYwNTZmOSA9IEwucG9wdXAoe21heFdpZHRoOiAnMTAwJScKICAgICAgICAgICAgCiAgICAgICAgICAgIH0pOwoKICAgICAgICAgICAgCiAgICAgICAgICAgICAgICB2YXIgaHRtbF9kOTdkNjM2MzAxMmE0ZTkwOGQ1MTNhNjk4ZTM3OWMwYiA9ICQoYDxkaXYgaWQ9Imh0bWxfZDk3ZDYzNjMwMTJhNGU5MDhkNTEzYTY5OGUzNzljMGIiIHN0eWxlPSJ3aWR0aDogMTAwLjAlOyBoZWlnaHQ6IDEwMC4wJTsiPlByYWlhIGRvIE1laW88L2Rpdj5gKVswXTsKICAgICAgICAgICAgICAgIHBvcHVwXzU0ZDE5OTFjNzZhYzQ4MjhhNmUyNzM0ZjU0NjA1NmY5LnNldENvbnRlbnQoaHRtbF9kOTdkNjM2MzAxMmE0ZTkwOGQ1MTNhNjk4ZTM3OWMwYik7CiAgICAgICAgICAgIAoKICAgICAgICAgICAgY2lyY2xlX21hcmtlcl83NWFkZTM3YzlkYTY0OTYzOTZhMTkyN2M3OTk0YzI3ZS5iaW5kUG9wdXAocG9wdXBfNTRkMTk5MWM3NmFjNDgyOGE2ZTI3MzRmNTQ2MDU2ZjkpCiAgICAgICAgICAgIDsKCiAgICAgICAgICAgIAogICAgICAgIAo8L3NjcmlwdD4=\" style=\"position:absolute;width:100%;height:100%;left:0;top:0;border:none !important;\" allowfullscreen webkitallowfullscreen mozallowfullscreen></iframe></div></div>"
            ],
            "text/plain": [
              "<folium.folium.Map at 0x7f83d39b4d68>"
            ]
          },
          "metadata": {
            "tags": []
          },
          "execution_count": 134
        }
      ]
    },
    {
      "cell_type": "markdown",
      "metadata": {
        "id": "BvuUcs2SXAmJ",
        "colab_type": "text"
      },
      "source": [
        "# The battle of Neighborhoods"
      ]
    },
    {
      "cell_type": "markdown",
      "metadata": {
        "id": "YuJiCkZJHdbK",
        "colab_type": "text"
      },
      "source": [
        "#### Which neighborhood has more beaches?"
      ]
    },
    {
      "cell_type": "code",
      "metadata": {
        "id": "5RXaLStAHfyG",
        "colab_type": "code",
        "outputId": "1000c426-9bef-44bf-c382-c978b0ee218c",
        "colab": {
          "base_uri": "https://localhost:8080/",
          "height": 204
        }
      },
      "source": [
        "from scipy.spatial.distance import cdist\n",
        "\n",
        "def closest_point(point, points):\n",
        "    \"\"\" Find closest point from a list of points. \"\"\"\n",
        "    return points[cdist([point], points).argmin()]\n",
        "\n",
        "def match_value(df, col1, x, col2):\n",
        "    \"\"\" Match value x from col1 row to value in col2. \"\"\"\n",
        "    return df[df[col1] == x][col2].values[0]\n",
        "\n",
        "df1 = neighborhoods\n",
        "df2 = beaches\n",
        "\n",
        "df1['point'] = [(x, y) for x,y in zip(df1['Latitude'], df1['Longitude'])]\n",
        "df2['point'] = [(x, y) for x,y in zip(df2['Latitude'], df2['Longitude'])]\n",
        "\n",
        "df2['closest'] = [closest_point(x, list(df1['point'])) for x in df2['point']]\n",
        "df2['Neighborhood'] = [match_value(df1, 'point', x, 'Name') for x in df2['closest']]\n",
        "\n",
        "df2 = df2.drop(columns=['point', 'closest'])\n",
        "df1 = df1.drop(columns=['point'])\n",
        "neighborhoods = neighborhoods.drop(columns=['point'])\n",
        "df2.head()"
      ],
      "execution_count": 135,
      "outputs": [
        {
          "output_type": "execute_result",
          "data": {
            "text/html": [
              "<div>\n",
              "<style scoped>\n",
              "    .dataframe tbody tr th:only-of-type {\n",
              "        vertical-align: middle;\n",
              "    }\n",
              "\n",
              "    .dataframe tbody tr th {\n",
              "        vertical-align: top;\n",
              "    }\n",
              "\n",
              "    .dataframe thead th {\n",
              "        text-align: right;\n",
              "    }\n",
              "</style>\n",
              "<table border=\"1\" class=\"dataframe\">\n",
              "  <thead>\n",
              "    <tr style=\"text-align: right;\">\n",
              "      <th></th>\n",
              "      <th>Beach</th>\n",
              "      <th>Latitude</th>\n",
              "      <th>Longitude</th>\n",
              "      <th>Neighborhood</th>\n",
              "    </tr>\n",
              "  </thead>\n",
              "  <tbody>\n",
              "    <tr>\n",
              "      <th>0</th>\n",
              "      <td>Praia da Tapera</td>\n",
              "      <td>-27.688573</td>\n",
              "      <td>-48.568508</td>\n",
              "      <td>Tapera</td>\n",
              "    </tr>\n",
              "    <tr>\n",
              "      <th>1</th>\n",
              "      <td>Praia do Santinho</td>\n",
              "      <td>-27.458246</td>\n",
              "      <td>-48.374768</td>\n",
              "      <td>Santinho</td>\n",
              "    </tr>\n",
              "    <tr>\n",
              "      <th>2</th>\n",
              "      <td>Praia dos Ingleses</td>\n",
              "      <td>-27.429447</td>\n",
              "      <td>-48.396534</td>\n",
              "      <td>Ingleses Centro</td>\n",
              "    </tr>\n",
              "    <tr>\n",
              "      <th>3</th>\n",
              "      <td>Praia da Lagoinha</td>\n",
              "      <td>-27.388978</td>\n",
              "      <td>-48.426370</td>\n",
              "      <td>Lagoinha do Norte</td>\n",
              "    </tr>\n",
              "    <tr>\n",
              "      <th>4</th>\n",
              "      <td>Praia Brava (Florianópolis)</td>\n",
              "      <td>-27.397613</td>\n",
              "      <td>-48.415825</td>\n",
              "      <td>Praia Brava</td>\n",
              "    </tr>\n",
              "  </tbody>\n",
              "</table>\n",
              "</div>"
            ],
            "text/plain": [
              "                         Beach   Latitude  Longitude       Neighborhood\n",
              "0  Praia da Tapera             -27.688573 -48.568508  Tapera           \n",
              "1  Praia do Santinho           -27.458246 -48.374768  Santinho         \n",
              "2  Praia dos Ingleses          -27.429447 -48.396534  Ingleses Centro  \n",
              "3  Praia da Lagoinha           -27.388978 -48.426370  Lagoinha do Norte\n",
              "4  Praia Brava (Florianópolis) -27.397613 -48.415825  Praia Brava      "
            ]
          },
          "metadata": {
            "tags": []
          },
          "execution_count": 135
        }
      ]
    },
    {
      "cell_type": "code",
      "metadata": {
        "id": "1AhhVyl_vfU3",
        "colab_type": "code",
        "outputId": "c6c9af5c-7f85-4ac7-f6b7-4d8c19f27c2e",
        "colab": {
          "base_uri": "https://localhost:8080/",
          "height": 374
        }
      },
      "source": [
        "#now we get the counts for each neighborhood\n",
        "counts = df2.groupby(['Neighborhood']).size()\n",
        "counts"
      ],
      "execution_count": 136,
      "outputs": [
        {
          "output_type": "execute_result",
          "data": {
            "text/plain": [
              "Neighborhood\n",
              "Armação                     2\n",
              "Barra da Lagoa              3\n",
              "Caiacanga                   1\n",
              "Campeche Leste              1\n",
              "Canasvieiras                1\n",
              "Canto dos Araçás            2\n",
              "Coqueiros                   2\n",
              "Daniela                     3\n",
              "Ingleses Centro             1\n",
              "Itaguaçu                    1\n",
              "Jurere Leste                2\n",
              "Lagoinha do Norte           2\n",
              "Morro das Pedras            1\n",
              "Porto da Lagoa              1\n",
              "Praia Brava                 2\n",
              "Pântano do Sul              4\n",
              "Santinho                    1\n",
              "São João do Rio Vermelho    2\n",
              "Tapera                      1\n",
              "dtype: int64"
            ]
          },
          "metadata": {
            "tags": []
          },
          "execution_count": 136
        }
      ]
    },
    {
      "cell_type": "code",
      "metadata": {
        "id": "fxnuagWu00sy",
        "colab_type": "code",
        "colab": {}
      },
      "source": [
        "#adding the BeachesCount column to dataframe with default 0\n",
        "neighborhoods.insert(3, 'BeachesCount', 0)"
      ],
      "execution_count": 0,
      "outputs": []
    },
    {
      "cell_type": "code",
      "metadata": {
        "id": "mjEMRVNn3k7f",
        "colab_type": "code",
        "colab": {}
      },
      "source": [
        "neighborhoods.set_index('Name', inplace=True) #Name is the index"
      ],
      "execution_count": 0,
      "outputs": []
    },
    {
      "cell_type": "code",
      "metadata": {
        "id": "UN5Mo-9grrm0",
        "colab_type": "code",
        "colab": {}
      },
      "source": [
        "# Assigning the value of the count list to each neighborhood\n",
        "for n in counts.index:\n",
        "  neighborhoods.loc[n,'BeachesCount'] = counts[n]"
      ],
      "execution_count": 0,
      "outputs": []
    },
    {
      "cell_type": "code",
      "metadata": {
        "id": "2kwVuzxevFF2",
        "colab_type": "code",
        "outputId": "d73b5a48-fddb-4d95-fbfc-093f05a29606",
        "colab": {
          "base_uri": "https://localhost:8080/",
          "height": 235
        }
      },
      "source": [
        "neighborhoods.sort_values(by='BeachesCount', ascending=False).head()"
      ],
      "execution_count": 140,
      "outputs": [
        {
          "output_type": "execute_result",
          "data": {
            "text/html": [
              "<div>\n",
              "<style scoped>\n",
              "    .dataframe tbody tr th:only-of-type {\n",
              "        vertical-align: middle;\n",
              "    }\n",
              "\n",
              "    .dataframe tbody tr th {\n",
              "        vertical-align: top;\n",
              "    }\n",
              "\n",
              "    .dataframe thead th {\n",
              "        text-align: right;\n",
              "    }\n",
              "</style>\n",
              "<table border=\"1\" class=\"dataframe\">\n",
              "  <thead>\n",
              "    <tr style=\"text-align: right;\">\n",
              "      <th></th>\n",
              "      <th>Latitude</th>\n",
              "      <th>Longitude</th>\n",
              "      <th>BeachesCount</th>\n",
              "    </tr>\n",
              "    <tr>\n",
              "      <th>Name</th>\n",
              "      <th></th>\n",
              "      <th></th>\n",
              "      <th></th>\n",
              "    </tr>\n",
              "  </thead>\n",
              "  <tbody>\n",
              "    <tr>\n",
              "      <th>Pântano do Sul</th>\n",
              "      <td>-27.779951</td>\n",
              "      <td>-48.507319</td>\n",
              "      <td>4</td>\n",
              "    </tr>\n",
              "    <tr>\n",
              "      <th>Daniela</th>\n",
              "      <td>-27.448954</td>\n",
              "      <td>-48.531250</td>\n",
              "      <td>3</td>\n",
              "    </tr>\n",
              "    <tr>\n",
              "      <th>Barra da Lagoa</th>\n",
              "      <td>-27.574778</td>\n",
              "      <td>-48.425835</td>\n",
              "      <td>3</td>\n",
              "    </tr>\n",
              "    <tr>\n",
              "      <th>São João do Rio Vermelho</th>\n",
              "      <td>-27.483806</td>\n",
              "      <td>-48.409638</td>\n",
              "      <td>2</td>\n",
              "    </tr>\n",
              "    <tr>\n",
              "      <th>Canto dos Araçás</th>\n",
              "      <td>-27.594075</td>\n",
              "      <td>-48.460940</td>\n",
              "      <td>2</td>\n",
              "    </tr>\n",
              "  </tbody>\n",
              "</table>\n",
              "</div>"
            ],
            "text/plain": [
              "                           Latitude  Longitude  BeachesCount\n",
              "Name                                                        \n",
              "Pântano do Sul           -27.779951 -48.507319  4           \n",
              "Daniela                  -27.448954 -48.531250  3           \n",
              "Barra da Lagoa           -27.574778 -48.425835  3           \n",
              "São João do Rio Vermelho -27.483806 -48.409638  2           \n",
              "Canto dos Araçás         -27.594075 -48.460940  2           "
            ]
          },
          "metadata": {
            "tags": []
          },
          "execution_count": 140
        }
      ]
    },
    {
      "cell_type": "code",
      "metadata": {
        "id": "A9sjsUHaE9yd",
        "colab_type": "code",
        "outputId": "438667ee-bddc-453b-e885-5272b0c0225b",
        "colab": {
          "base_uri": "https://localhost:8080/",
          "height": 111
        }
      },
      "source": [
        "winnerdf = neighborhoods.sort_values(by='BeachesCount', ascending=False)[:1]\n",
        "winnerdf"
      ],
      "execution_count": 141,
      "outputs": [
        {
          "output_type": "execute_result",
          "data": {
            "text/html": [
              "<div>\n",
              "<style scoped>\n",
              "    .dataframe tbody tr th:only-of-type {\n",
              "        vertical-align: middle;\n",
              "    }\n",
              "\n",
              "    .dataframe tbody tr th {\n",
              "        vertical-align: top;\n",
              "    }\n",
              "\n",
              "    .dataframe thead th {\n",
              "        text-align: right;\n",
              "    }\n",
              "</style>\n",
              "<table border=\"1\" class=\"dataframe\">\n",
              "  <thead>\n",
              "    <tr style=\"text-align: right;\">\n",
              "      <th></th>\n",
              "      <th>Latitude</th>\n",
              "      <th>Longitude</th>\n",
              "      <th>BeachesCount</th>\n",
              "    </tr>\n",
              "    <tr>\n",
              "      <th>Name</th>\n",
              "      <th></th>\n",
              "      <th></th>\n",
              "      <th></th>\n",
              "    </tr>\n",
              "  </thead>\n",
              "  <tbody>\n",
              "    <tr>\n",
              "      <th>Pântano do Sul</th>\n",
              "      <td>-27.779951</td>\n",
              "      <td>-48.507319</td>\n",
              "      <td>4</td>\n",
              "    </tr>\n",
              "  </tbody>\n",
              "</table>\n",
              "</div>"
            ],
            "text/plain": [
              "                 Latitude  Longitude  BeachesCount\n",
              "Name                                              \n",
              "Pântano do Sul -27.779951 -48.507319  4           "
            ]
          },
          "metadata": {
            "tags": []
          },
          "execution_count": 141
        }
      ]
    },
    {
      "cell_type": "markdown",
      "metadata": {
        "id": "LM-G61g9qS0h",
        "colab_type": "text"
      },
      "source": [
        "# Exploring the neighborhood"
      ]
    },
    {
      "cell_type": "markdown",
      "metadata": {
        "id": "K_7QXpDaXAmK",
        "colab_type": "text"
      },
      "source": [
        "#### Define Foursquare Credentials and Version"
      ]
    },
    {
      "cell_type": "code",
      "metadata": {
        "jupyter": {
          "outputs_hidden": false
        },
        "id": "gOzB3_1NXAmM",
        "colab_type": "code",
        "outputId": "7e79586b-5c46-4db3-9797-cafba1a79abd",
        "colab": {
          "base_uri": "https://localhost:8080/",
          "height": 68
        }
      },
      "source": [
        "CLIENT_ID = 'XCZZBWCOGQ5BJ5KD3NOGA4J0LW52XU25S4IJCS5Z5GRJOGCV' # your Foursquare ID\n",
        "CLIENT_SECRET = '5JWA0FLEQE0OEDHAJRXKDD2HPWBSUH5LKUASZXDPP13Q0OQ5' # your Foursquare Secret\n",
        "VERSION = '20180605' # Foursquare API version\n",
        "\n",
        "print('Your credentails:')\n",
        "print('CLIENT_ID: ' + CLIENT_ID)\n",
        "print('CLIENT_SECRET:' + CLIENT_SECRET)"
      ],
      "execution_count": 142,
      "outputs": [
        {
          "output_type": "stream",
          "text": [
            "Your credentails:\n",
            "CLIENT_ID: XCZZBWCOGQ5BJ5KD3NOGA4J0LW52XU25S4IJCS5Z5GRJOGCV\n",
            "CLIENT_SECRET:5JWA0FLEQE0OEDHAJRXKDD2HPWBSUH5LKUASZXDPP13Q0OQ5\n"
          ],
          "name": "stdout"
        }
      ]
    },
    {
      "cell_type": "markdown",
      "metadata": {
        "id": "5ODir15_XAmO",
        "colab_type": "text"
      },
      "source": [
        "#### Let's explore the winner neighborhood in our dataframe."
      ]
    },
    {
      "cell_type": "markdown",
      "metadata": {
        "id": "lA0kWlYlXAmT",
        "colab_type": "text"
      },
      "source": [
        "Get the neighborhood's latitude and longitude values."
      ]
    },
    {
      "cell_type": "code",
      "metadata": {
        "jupyter": {
          "outputs_hidden": false
        },
        "id": "VRT6n8C9XAmU",
        "colab_type": "code",
        "outputId": "211773dd-89c5-47de-9077-f14f2b4e2a17",
        "colab": {
          "base_uri": "https://localhost:8080/",
          "height": 34
        }
      },
      "source": [
        "neighborhood_latitude = winnerdf['Latitude'][0] # neighborhood latitude value\n",
        "neighborhood_longitude = winnerdf['Longitude'][0] # neighborhood longitude value\n",
        "neighborhood_name = winnerdf.index[0]\n",
        "\n",
        "print('Latitude and longitude values of {} are {}, {}.'.format(neighborhood_name, \n",
        "                                                               neighborhood_latitude, \n",
        "                                                               neighborhood_longitude))"
      ],
      "execution_count": 143,
      "outputs": [
        {
          "output_type": "stream",
          "text": [
            "Latitude and longitude values of Pântano do Sul are -27.7799509, -48.5073187.\n"
          ],
          "name": "stdout"
        }
      ]
    },
    {
      "cell_type": "markdown",
      "metadata": {
        "id": "yupH50S8XAmb",
        "colab_type": "text"
      },
      "source": [
        "#### Now, let's get the top 100 venues that are in within a radius of 500 meters."
      ]
    },
    {
      "cell_type": "markdown",
      "metadata": {
        "id": "qEkK1zlFXAmc",
        "colab_type": "text"
      },
      "source": [
        "First, let's create the GET request URL. Name your URL **url**."
      ]
    },
    {
      "cell_type": "code",
      "metadata": {
        "jupyter": {
          "outputs_hidden": false
        },
        "scrolled": true,
        "id": "pjYAnh4hXAmc",
        "colab_type": "code",
        "colab": {}
      },
      "source": [
        "LIMIT = 100 # limit of number of venues returned by Foursquare API\n",
        "radius = 500 # define radius\n",
        "\n",
        "url = 'https://api.foursquare.com/v2/venues/explore?&client_id={}&client_secret={}&v={}&ll={},{}&radius={}&limit={}'.format(\n",
        "    CLIENT_ID, \n",
        "    CLIENT_SECRET, \n",
        "    VERSION, \n",
        "    neighborhood_latitude, \n",
        "    neighborhood_longitude, \n",
        "    radius, \n",
        "    LIMIT)"
      ],
      "execution_count": 0,
      "outputs": []
    },
    {
      "cell_type": "markdown",
      "metadata": {
        "id": "qs4Jo6pJXAmh",
        "colab_type": "text"
      },
      "source": [
        "Send the GET request and examine the resutls"
      ]
    },
    {
      "cell_type": "code",
      "metadata": {
        "jupyter": {
          "outputs_hidden": false
        },
        "id": "mYJAy8KxXAmi",
        "colab_type": "code",
        "colab": {}
      },
      "source": [
        "results = requests.get(url).json()\n",
        "# results"
      ],
      "execution_count": 0,
      "outputs": []
    },
    {
      "cell_type": "markdown",
      "metadata": {
        "id": "bIXykUn3XAmp",
        "colab_type": "text"
      },
      "source": [
        "From the Foursquare lab in the previous module, we know that all the information is in the *items* key. Before we proceed, let's borrow the **get_category_type** function from the Foursquare lab.\n",
        "\n"
      ]
    },
    {
      "cell_type": "code",
      "metadata": {
        "id": "R90eIBctXAmq",
        "colab_type": "code",
        "colab": {}
      },
      "source": [
        "# function that extracts the category of the venue\n",
        "def get_category_type(row):\n",
        "    try:\n",
        "        categories_list = row['categories']\n",
        "    except:\n",
        "        categories_list = row['venue.categories']\n",
        "        \n",
        "    if len(categories_list) == 0:\n",
        "        return None\n",
        "    else:\n",
        "        return categories_list[0]['name']"
      ],
      "execution_count": 0,
      "outputs": []
    },
    {
      "cell_type": "markdown",
      "metadata": {
        "id": "4vOX6nz7XAmt",
        "colab_type": "text"
      },
      "source": [
        "Now we are ready to clean the json and structure it into a *pandas* dataframe."
      ]
    },
    {
      "cell_type": "code",
      "metadata": {
        "jupyter": {
          "outputs_hidden": false
        },
        "id": "isUEt3SzXAmu",
        "colab_type": "code",
        "outputId": "86b924ab-74cb-430e-f07b-bca310001787",
        "colab": {
          "base_uri": "https://localhost:8080/",
          "height": 204
        }
      },
      "source": [
        "venues = results['response']['groups'][0]['items']\n",
        "    \n",
        "nearby_venues = json_normalize(venues) # flatten JSON\n",
        "\n",
        "# filter columns\n",
        "filtered_columns = ['venue.name', 'venue.categories', 'venue.location.lat', 'venue.location.lng']\n",
        "nearby_venues =nearby_venues.loc[:, filtered_columns]\n",
        "\n",
        "# filter the category for each row\n",
        "nearby_venues['venue.categories'] = nearby_venues.apply(get_category_type, axis=1)\n",
        "\n",
        "# clean columns\n",
        "nearby_venues.columns = [col.split(\".\")[-1] for col in nearby_venues.columns]\n",
        "\n",
        "nearby_venues.head()"
      ],
      "execution_count": 147,
      "outputs": [
        {
          "output_type": "execute_result",
          "data": {
            "text/html": [
              "<div>\n",
              "<style scoped>\n",
              "    .dataframe tbody tr th:only-of-type {\n",
              "        vertical-align: middle;\n",
              "    }\n",
              "\n",
              "    .dataframe tbody tr th {\n",
              "        vertical-align: top;\n",
              "    }\n",
              "\n",
              "    .dataframe thead th {\n",
              "        text-align: right;\n",
              "    }\n",
              "</style>\n",
              "<table border=\"1\" class=\"dataframe\">\n",
              "  <thead>\n",
              "    <tr style=\"text-align: right;\">\n",
              "      <th></th>\n",
              "      <th>name</th>\n",
              "      <th>categories</th>\n",
              "      <th>lat</th>\n",
              "      <th>lng</th>\n",
              "    </tr>\n",
              "  </thead>\n",
              "  <tbody>\n",
              "    <tr>\n",
              "      <th>0</th>\n",
              "      <td>Trilha Da Lagoinha Do Leste</td>\n",
              "      <td>Trail</td>\n",
              "      <td>-27.778994</td>\n",
              "      <td>-48.507371</td>\n",
              "    </tr>\n",
              "    <tr>\n",
              "      <th>1</th>\n",
              "      <td>Bar do Arante</td>\n",
              "      <td>Seafood Restaurant</td>\n",
              "      <td>-27.781907</td>\n",
              "      <td>-48.508127</td>\n",
              "    </tr>\n",
              "    <tr>\n",
              "      <th>2</th>\n",
              "      <td>Praia do Pântano do Sul</td>\n",
              "      <td>Beach</td>\n",
              "      <td>-27.781840</td>\n",
              "      <td>-48.508255</td>\n",
              "    </tr>\n",
              "    <tr>\n",
              "      <th>3</th>\n",
              "      <td>Bar do Vadinho</td>\n",
              "      <td>Seafood Restaurant</td>\n",
              "      <td>-27.782623</td>\n",
              "      <td>-48.506746</td>\n",
              "    </tr>\n",
              "    <tr>\n",
              "      <th>4</th>\n",
              "      <td>Praia Lagoinha do Leste</td>\n",
              "      <td>Beach</td>\n",
              "      <td>-27.778513</td>\n",
              "      <td>-48.503191</td>\n",
              "    </tr>\n",
              "  </tbody>\n",
              "</table>\n",
              "</div>"
            ],
            "text/plain": [
              "                          name          categories        lat        lng\n",
              "0  Trilha Da Lagoinha Do Leste  Trail              -27.778994 -48.507371\n",
              "1  Bar do Arante                Seafood Restaurant -27.781907 -48.508127\n",
              "2  Praia do Pântano do Sul      Beach              -27.781840 -48.508255\n",
              "3  Bar do Vadinho               Seafood Restaurant -27.782623 -48.506746\n",
              "4  Praia Lagoinha do Leste      Beach              -27.778513 -48.503191"
            ]
          },
          "metadata": {
            "tags": []
          },
          "execution_count": 147
        }
      ]
    },
    {
      "cell_type": "markdown",
      "metadata": {
        "id": "50ZAIqy6XAmw",
        "colab_type": "text"
      },
      "source": [
        "Nice restaurants and outdoor activities, looks cool huh?"
      ]
    },
    {
      "cell_type": "markdown",
      "metadata": {
        "id": "D4_iYZ-oyRCQ",
        "colab_type": "text"
      },
      "source": [
        "## Finding some place to live\n",
        "Now that we find our favorite place, let's look for a home there to buy it."
      ]
    },
    {
      "cell_type": "code",
      "metadata": {
        "id": "0qTuxArHyE_S",
        "colab_type": "code",
        "outputId": "c6047573-0991-4f44-9c6c-cc4a29660524",
        "colab": {
          "base_uri": "https://localhost:8080/",
          "height": 289
        }
      },
      "source": [
        "import unicodedata #used to normalization of accents\n",
        "\n",
        "# normalizes and replaces\" \" to \"-\" on the name\n",
        "winnerNormalizedName = unicodedata.normalize('NFKD', winner.index[0].replace(\" \", \"-\")).encode('ascii','ignore') \n",
        "winnerNormalizedName = str(winnerNormalizedName).replace(\"b'\",\"\").replace(\"'\",\"\").lower()\n",
        "\n",
        "# making a request to a website looking for real state ads\n",
        "requestURL = 'https://sc.olx.com.br/florianopolis-e-regiao/sul/'+winnerNormalizedName+'/imoveis/venda'\n",
        "\n",
        "request = requests.get(requestURL)\n",
        "soup = bs(request.text, 'html.parser')\n",
        "\n",
        "# start the scraping on the parsed HTML\n",
        "ads = soup.findAll(\"a\",class_=\"OLXad-list-link\")\n",
        "\n",
        "# define the dataframe columns\n",
        "placesToLive = pd.DataFrame(columns=['Title','Details', 'Price', 'Image', 'Link'])\n",
        "\n",
        "#creating a function to remove text tags\n",
        "def cleanText(text):\n",
        "  return text.replace(\"\\t\", \"\").replace(\"\\n\", \"\")\n",
        "\n",
        "# loop and scrap each ad\n",
        "for ad in ads:\n",
        "  title = ad.find(\"h2\",class_=\"OLXad-list-title\").find(text=True)\n",
        "  img = ad.find(\"img\",class_=\"image\")['src']\n",
        "  details = ad.find(\"p\",class_=\"text detail-specific\").find(text=True)\n",
        "  price = ad.find(\"p\",class_=\"OLXad-list-price\").find(text=True)\n",
        "  href = ad['href']\n",
        "  row = {'Title': cleanText(title),\n",
        "                        'Details': cleanText(details),\n",
        "                        'Price': price,\n",
        "                        'Link': href,\n",
        "                        'Image': img}\n",
        "  #add to dataframe\n",
        "  placesToLive = placesToLive.append(row,ignore_index=True)\n",
        "  \n",
        "placesToLive.head()"
      ],
      "execution_count": 148,
      "outputs": [
        {
          "output_type": "execute_result",
          "data": {
            "text/html": [
              "<div>\n",
              "<style scoped>\n",
              "    .dataframe tbody tr th:only-of-type {\n",
              "        vertical-align: middle;\n",
              "    }\n",
              "\n",
              "    .dataframe tbody tr th {\n",
              "        vertical-align: top;\n",
              "    }\n",
              "\n",
              "    .dataframe thead th {\n",
              "        text-align: right;\n",
              "    }\n",
              "</style>\n",
              "<table border=\"1\" class=\"dataframe\">\n",
              "  <thead>\n",
              "    <tr style=\"text-align: right;\">\n",
              "      <th></th>\n",
              "      <th>Title</th>\n",
              "      <th>Details</th>\n",
              "      <th>Price</th>\n",
              "      <th>Image</th>\n",
              "      <th>Link</th>\n",
              "    </tr>\n",
              "  </thead>\n",
              "  <tbody>\n",
              "    <tr>\n",
              "      <th>0</th>\n",
              "      <td>Apto Floripa (Sul) 100m praia de Açores</td>\n",
              "      <td>2 quartos | 64 m² | Condomínio: R$ 450 | 1 vaga</td>\n",
              "      <td>R$ 405.000</td>\n",
              "      <td>https://img.olx.com.br/thumbs256x256/16/166908032914213.jpg</td>\n",
              "      <td>https://sc.olx.com.br/florianopolis-e-regiao/imoveis/apto-floripa-sul-100m-praia-de-acores-649371209</td>\n",
              "    </tr>\n",
              "    <tr>\n",
              "      <th>1</th>\n",
              "      <td>Casa à venda com 2 dormitórios em Rio vermelho, Florianópolis cod:612</td>\n",
              "      <td>2 quartos | 62 m² | 2 vagas</td>\n",
              "      <td>R$ 138.000</td>\n",
              "      <td>https://img.olx.com.br/thumbs256x256/80/800903029667715.jpg</td>\n",
              "      <td>https://sc.olx.com.br/florianopolis-e-regiao/imoveis/casa-a-venda-com-2-dormitorios-em-rio-vermelho-florianopolis-cod-612-635747581</td>\n",
              "    </tr>\n",
              "    <tr>\n",
              "      <th>2</th>\n",
              "      <td>Apartamento com 2 dormitórios à venda, por R$ 430.000-Açores-Florianópolis/SC- AP0576</td>\n",
              "      <td>2 quartos | 73 m² | 1 vaga</td>\n",
              "      <td>R$ 430.000</td>\n",
              "      <td>https://img.olx.com.br/thumbs256x256/73/736904092456145.jpg</td>\n",
              "      <td>https://sc.olx.com.br/florianopolis-e-regiao/imoveis/apartamento-com-2-dormitorios-a-venda-por-r-430-000-acores-florianopolis-sc-ap0576-670806769</td>\n",
              "    </tr>\n",
              "    <tr>\n",
              "      <th>3</th>\n",
              "      <td>Ampla casa pântano do sul - florianópolis, 600 metros da praia, 3 dormitórios sendo 1 suít</td>\n",
              "      <td>3 quartos | 250 m²</td>\n",
              "      <td>R$ 690.000</td>\n",
              "      <td>https://img.olx.com.br/thumbs256x256/73/730903092971221.jpg</td>\n",
              "      <td>https://sc.olx.com.br/florianopolis-e-regiao/imoveis/ampla-casa-pantano-do-sul-florianopolis-600-metros-da-praia-3-dormitorios-sendo-1-suit-670734143</td>\n",
              "    </tr>\n",
              "    <tr>\n",
              "      <th>4</th>\n",
              "      <td>Apartamento à venda com 2 dormitórios em Açores, Florianópolis cod:1779</td>\n",
              "      <td>2 quartos | 75 m² | 1 vaga</td>\n",
              "      <td>R$ 485.000</td>\n",
              "      <td>https://static.bn-static.com/img-49631/desktop/transparent.png</td>\n",
              "      <td>https://sc.olx.com.br/florianopolis-e-regiao/imoveis/apartamento-a-venda-com-2-dormitorios-em-acores-florianopolis-cod-1779-598537643</td>\n",
              "    </tr>\n",
              "  </tbody>\n",
              "</table>\n",
              "</div>"
            ],
            "text/plain": [
              "                                                                                        Title  \\\n",
              "0  Apto Floripa (Sul) 100m praia de Açores                                                      \n",
              "1  Casa à venda com 2 dormitórios em Rio vermelho, Florianópolis cod:612                        \n",
              "2  Apartamento com 2 dormitórios à venda, por R$ 430.000-Açores-Florianópolis/SC- AP0576        \n",
              "3  Ampla casa pântano do sul - florianópolis, 600 metros da praia, 3 dormitórios sendo 1 suít   \n",
              "4  Apartamento à venda com 2 dormitórios em Açores, Florianópolis cod:1779                      \n",
              "\n",
              "                                            Details        Price  \\\n",
              "0   2 quartos | 64 m² | Condomínio: R$ 450 | 1 vaga   R$ 405.000   \n",
              "1   2 quartos | 62 m² | 2 vagas                       R$ 138.000   \n",
              "2   2 quartos | 73 m² | 1 vaga                        R$ 430.000   \n",
              "3   3 quartos | 250 m²                                R$ 690.000   \n",
              "4   2 quartos | 75 m² | 1 vaga                        R$ 485.000   \n",
              "\n",
              "                                                            Image  \\\n",
              "0  https://img.olx.com.br/thumbs256x256/16/166908032914213.jpg      \n",
              "1  https://img.olx.com.br/thumbs256x256/80/800903029667715.jpg      \n",
              "2  https://img.olx.com.br/thumbs256x256/73/736904092456145.jpg      \n",
              "3  https://img.olx.com.br/thumbs256x256/73/730903092971221.jpg      \n",
              "4  https://static.bn-static.com/img-49631/desktop/transparent.png   \n",
              "\n",
              "                                                                                                                                                    Link  \n",
              "0  https://sc.olx.com.br/florianopolis-e-regiao/imoveis/apto-floripa-sul-100m-praia-de-acores-649371209                                                   \n",
              "1  https://sc.olx.com.br/florianopolis-e-regiao/imoveis/casa-a-venda-com-2-dormitorios-em-rio-vermelho-florianopolis-cod-612-635747581                    \n",
              "2  https://sc.olx.com.br/florianopolis-e-regiao/imoveis/apartamento-com-2-dormitorios-a-venda-por-r-430-000-acores-florianopolis-sc-ap0576-670806769      \n",
              "3  https://sc.olx.com.br/florianopolis-e-regiao/imoveis/ampla-casa-pantano-do-sul-florianopolis-600-metros-da-praia-3-dormitorios-sendo-1-suit-670734143  \n",
              "4  https://sc.olx.com.br/florianopolis-e-regiao/imoveis/apartamento-a-venda-com-2-dormitorios-em-acores-florianopolis-cod-1779-598537643                  "
            ]
          },
          "metadata": {
            "tags": []
          },
          "execution_count": 148
        }
      ]
    },
    {
      "cell_type": "markdown",
      "metadata": {
        "id": "vf6b0ZFGt6yd",
        "colab_type": "text"
      },
      "source": [
        "For better visualization we will show the dataframe as HTML table"
      ]
    },
    {
      "cell_type": "code",
      "metadata": {
        "id": "yPENxCrpJOQX",
        "colab_type": "code",
        "outputId": "4eb1dbe0-52d0-4c4c-93a5-ea0171434f93",
        "colab": {
          "base_uri": "https://localhost:8080/",
          "height": 1000
        }
      },
      "source": [
        "from IPython.core.display import HTML\n",
        "\n",
        "# convert your links to html tags \n",
        "def path_to_image_html(path):\n",
        "    return '<img src=\"'+ path + '\" width=\"300\" >'\n",
        "  \n",
        "  # convert your links to html tags \n",
        "def path_link_html(path):\n",
        "    return '<a href=\"'+ path + '\">'+path+'</a>'\n",
        "\n",
        "pd.set_option('display.max_colwidth', -1)\n",
        "\n",
        "HTML(placesToLive.head().to_html(escape=False ,formatters=dict(Image=path_to_image_html)))\n"
      ],
      "execution_count": 149,
      "outputs": [
        {
          "output_type": "execute_result",
          "data": {
            "text/html": [
              "<table border=\"1\" class=\"dataframe\">\n",
              "  <thead>\n",
              "    <tr style=\"text-align: right;\">\n",
              "      <th></th>\n",
              "      <th>Title</th>\n",
              "      <th>Details</th>\n",
              "      <th>Price</th>\n",
              "      <th>Image</th>\n",
              "      <th>Link</th>\n",
              "    </tr>\n",
              "  </thead>\n",
              "  <tbody>\n",
              "    <tr>\n",
              "      <th>0</th>\n",
              "      <td>Apto Floripa (Sul) 100m praia de Açores</td>\n",
              "      <td>2 quartos | 64 m² | Condomínio: R$ 450 | 1 vaga</td>\n",
              "      <td>R$ 405.000</td>\n",
              "      <td><img src=\"https://img.olx.com.br/thumbs256x256/16/166908032914213.jpg\" width=\"300\" ></td>\n",
              "      <td>https://sc.olx.com.br/florianopolis-e-regiao/imoveis/apto-floripa-sul-100m-praia-de-acores-649371209</td>\n",
              "    </tr>\n",
              "    <tr>\n",
              "      <th>1</th>\n",
              "      <td>Casa à venda com 2 dormitórios em Rio vermelho, Florianópolis cod:612</td>\n",
              "      <td>2 quartos | 62 m² | 2 vagas</td>\n",
              "      <td>R$ 138.000</td>\n",
              "      <td><img src=\"https://img.olx.com.br/thumbs256x256/80/800903029667715.jpg\" width=\"300\" ></td>\n",
              "      <td>https://sc.olx.com.br/florianopolis-e-regiao/imoveis/casa-a-venda-com-2-dormitorios-em-rio-vermelho-florianopolis-cod-612-635747581</td>\n",
              "    </tr>\n",
              "    <tr>\n",
              "      <th>2</th>\n",
              "      <td>Apartamento com 2 dormitórios à venda, por R$ 430.000-Açores-Florianópolis/SC- AP0576</td>\n",
              "      <td>2 quartos | 73 m² | 1 vaga</td>\n",
              "      <td>R$ 430.000</td>\n",
              "      <td><img src=\"https://img.olx.com.br/thumbs256x256/73/736904092456145.jpg\" width=\"300\" ></td>\n",
              "      <td>https://sc.olx.com.br/florianopolis-e-regiao/imoveis/apartamento-com-2-dormitorios-a-venda-por-r-430-000-acores-florianopolis-sc-ap0576-670806769</td>\n",
              "    </tr>\n",
              "    <tr>\n",
              "      <th>3</th>\n",
              "      <td>Ampla casa pântano do sul - florianópolis, 600 metros da praia, 3 dormitórios sendo 1 suít</td>\n",
              "      <td>3 quartos | 250 m²</td>\n",
              "      <td>R$ 690.000</td>\n",
              "      <td><img src=\"https://img.olx.com.br/thumbs256x256/73/730903092971221.jpg\" width=\"300\" ></td>\n",
              "      <td>https://sc.olx.com.br/florianopolis-e-regiao/imoveis/ampla-casa-pantano-do-sul-florianopolis-600-metros-da-praia-3-dormitorios-sendo-1-suit-670734143</td>\n",
              "    </tr>\n",
              "    <tr>\n",
              "      <th>4</th>\n",
              "      <td>Apartamento à venda com 2 dormitórios em Açores, Florianópolis cod:1779</td>\n",
              "      <td>2 quartos | 75 m² | 1 vaga</td>\n",
              "      <td>R$ 485.000</td>\n",
              "      <td><img src=\"https://static.bn-static.com/img-49631/desktop/transparent.png\" width=\"300\" ></td>\n",
              "      <td>https://sc.olx.com.br/florianopolis-e-regiao/imoveis/apartamento-a-venda-com-2-dormitorios-em-acores-florianopolis-cod-1779-598537643</td>\n",
              "    </tr>\n",
              "  </tbody>\n",
              "</table>"
            ],
            "text/plain": [
              "<IPython.core.display.HTML object>"
            ]
          },
          "metadata": {
            "tags": []
          },
          "execution_count": 149
        }
      ]
    },
    {
      "cell_type": "markdown",
      "metadata": {
        "id": "-yk2IKlGuP4m",
        "colab_type": "text"
      },
      "source": [
        "# The winner:"
      ]
    },
    {
      "cell_type": "markdown",
      "metadata": {
        "id": "YfGsPmVOvnvR",
        "colab_type": "text"
      },
      "source": [
        "**What about this view on your backyard?**"
      ]
    },
    {
      "cell_type": "code",
      "metadata": {
        "id": "6eswK3eZqFeh",
        "colab_type": "code",
        "colab": {
          "base_uri": "https://localhost:8080/",
          "height": 246
        },
        "outputId": "5e67d86a-c9ae-4525-dab4-afe732f18181"
      },
      "source": [
        "HTML(path_to_image_html(placesToLive.iloc[0]['Image']))"
      ],
      "execution_count": 150,
      "outputs": [
        {
          "output_type": "execute_result",
          "data": {
            "text/html": [
              "<img src=\"https://img.olx.com.br/thumbs256x256/16/166908032914213.jpg\" width=\"300\" >"
            ],
            "text/plain": [
              "<IPython.core.display.HTML object>"
            ]
          },
          "metadata": {
            "tags": []
          },
          "execution_count": 150
        }
      ]
    },
    {
      "cell_type": "code",
      "metadata": {
        "colab_type": "code",
        "outputId": "eb0fa017-a3b2-4f1c-d016-2106f4caa4df",
        "id": "QsgPMAcKwn_R",
        "colab": {
          "base_uri": "https://localhost:8080/",
          "height": 34
        }
      },
      "source": [
        "HTML(path_link_html(placesToLive.iloc[0]['Link']))"
      ],
      "execution_count": 151,
      "outputs": [
        {
          "output_type": "execute_result",
          "data": {
            "text/html": [
              "<a href=\"https://sc.olx.com.br/florianopolis-e-regiao/imoveis/apto-floripa-sul-100m-praia-de-acores-649371209\">https://sc.olx.com.br/florianopolis-e-regiao/imoveis/apto-floripa-sul-100m-praia-de-acores-649371209</a>"
            ],
            "text/plain": [
              "<IPython.core.display.HTML object>"
            ]
          },
          "metadata": {
            "tags": []
          },
          "execution_count": 151
        }
      ]
    },
    {
      "cell_type": "markdown",
      "metadata": {
        "colab_type": "text",
        "id": "CFGLKIkXxR8r"
      },
      "source": [
        "<a id='item4'></a>"
      ]
    }
  ]
}