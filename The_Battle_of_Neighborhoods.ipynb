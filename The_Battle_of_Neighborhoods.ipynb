{
  "nbformat": 4,
  "nbformat_minor": 0,
  "metadata": {
    "kernelspec": {
      "display_name": "Python",
      "language": "python",
      "name": "conda-env-python-py"
    },
    "language_info": {
      "codemirror_mode": {
        "name": "ipython",
        "version": 3
      },
      "file_extension": ".py",
      "mimetype": "text/x-python",
      "name": "python",
      "nbconvert_exporter": "python",
      "pygments_lexer": "ipython3",
      "version": "3.6.7"
    },
    "widgets": {
      "state": {},
      "version": "1.1.2"
    },
    "colab": {
      "name": "The_Battle_of_Neighborhoods_P2.ipynb",
      "provenance": [],
      "collapsed_sections": [
        "K_7QXpDaXAmK",
        "5ODir15_XAmO",
        "yupH50S8XAmb",
        "mmefjN3HXAm1",
        "nMcEj31lXAnB",
        "JMfbGFmlXAnE",
        "5qYh1njMXAnN",
        "fNt76dSEXAnb",
        "eFcaVsKdXAnf",
        "4M_5raXvXAnj",
        "N-m96FRFXAno",
        "L9p9Sz0AXAn9",
        "HSdl6fxIXAn-",
        "PV54ZqaaXAoB",
        "7tSG-IouXAoF",
        "H-vO9MNGXAoH"
      ],
      "include_colab_link": true
    }
  },
  "cells": [
    {
      "cell_type": "markdown",
      "metadata": {
        "id": "view-in-github",
        "colab_type": "text"
      },
      "source": [
        "<a href=\"https://colab.research.google.com/github/mourodrigo/dataScienceCapstone/blob/master/The_Battle_of_Neighborhoods.ipynb\" target=\"_parent\"><img src=\"https://colab.research.google.com/assets/colab-badge.svg\" alt=\"Open In Colab\"/></a>"
      ]
    },
    {
      "cell_type": "markdown",
      "metadata": {
        "id": "0imGgO-KXAlA",
        "colab_type": "text"
      },
      "source": [
        "<a href=\"https://cognitiveclass.ai\"><img src = \"https://ibm.box.com/shared/static/9gegpsmnsoo25ikkbl4qzlvlyjbgxs5x.png\" width = 400> </a>\n",
        "\n",
        "<h1 align=center><font size = 5>Segmenting and Clustering Neighborhoods in New York City</font></h1>"
      ]
    },
    {
      "cell_type": "markdown",
      "metadata": {
        "id": "9ihyGGptXAlC",
        "colab_type": "text"
      },
      "source": [
        "## Introduction\n",
        "\n",
        "In this lab, you will learn how to convert addresses into their equivalent latitude and longitude values. Also, you will use the Foursquare API to explore neighborhoods in New York City. You will use the **explore** function to get the most common venue categories in each neighborhood, and then use this feature to group the neighborhoods into clusters. You will use the *k*-means clustering algorithm to complete this task. Finally, you will use the Folium library to visualize the neighborhoods in New York City and their emerging clusters."
      ]
    },
    {
      "cell_type": "markdown",
      "metadata": {
        "id": "dkTRJi2XXAlD",
        "colab_type": "text"
      },
      "source": [
        "## Table of Contents\n",
        "\n",
        "<div class=\"alert alert-block alert-info\" style=\"margin-top: 20px\">\n",
        "\n",
        "<font size = 3>\n",
        "\n",
        "1. <a href=\"#item1\">Download and Explore Dataset</a>\n",
        "\n",
        "2. <a href=\"#item2\">Explore Neighborhoods in New York City</a>\n",
        "\n",
        "3. <a href=\"#item3\">Analyze Each Neighborhood</a>\n",
        "\n",
        "4. <a href=\"#item4\">Cluster Neighborhoods</a>\n",
        "\n",
        "5. <a href=\"#item5\">Examine Clusters</a>    \n",
        "</font>\n",
        "</div>"
      ]
    },
    {
      "cell_type": "markdown",
      "metadata": {
        "id": "nPmxSK_oXAlE",
        "colab_type": "text"
      },
      "source": [
        "Before we get the data and start exploring it, let's download all the dependencies that we will need."
      ]
    },
    {
      "cell_type": "code",
      "metadata": {
        "jupyter": {
          "outputs_hidden": false
        },
        "id": "9hqtje7KXAlF",
        "colab_type": "code",
        "outputId": "4456f643-2358-4e30-a0a1-6e095fe29f45",
        "colab": {
          "base_uri": "https://localhost:8080/",
          "height": 34
        }
      },
      "source": [
        "import numpy as np # library to handle data in a vectorized manner\n",
        "\n",
        "import pandas as pd # library for data analsysis\n",
        "pd.set_option('display.max_columns', None)\n",
        "pd.set_option('display.max_rows', None)\n",
        "\n",
        "import json # library to handle JSON files\n",
        "\n",
        "#!conda install -c conda-forge geopy --yes # uncomment this line if you haven't completed the Foursquare API lab\n",
        "from geopy.geocoders import Nominatim # convert an address into latitude and longitude values\n",
        "\n",
        "import requests # library to handle requests\n",
        "from pandas.io.json import json_normalize # tranform JSON file into a pandas dataframe\n",
        "\n",
        "# Matplotlib and associated plotting modules\n",
        "import matplotlib.cm as cm\n",
        "import matplotlib.colors as colors\n",
        "\n",
        "# import k-means from clustering stage\n",
        "from sklearn.cluster import KMeans\n",
        "\n",
        "#!conda install -c conda-forge folium=0.5.0 --yes # uncomment this line if you haven't completed the Foursquare API lab\n",
        "import folium # map rendering library\n",
        "\n",
        "print('Libraries imported.')"
      ],
      "execution_count": 241,
      "outputs": [
        {
          "output_type": "stream",
          "text": [
            "Libraries imported.\n"
          ],
          "name": "stdout"
        }
      ]
    },
    {
      "cell_type": "markdown",
      "metadata": {
        "id": "RS4bsE8CXAlJ",
        "colab_type": "text"
      },
      "source": [
        "<a id='item1'></a>"
      ]
    },
    {
      "cell_type": "markdown",
      "metadata": {
        "id": "w2o2abeVXAlK",
        "colab_type": "text"
      },
      "source": [
        "## 1. Download and Explore Dataset"
      ]
    },
    {
      "cell_type": "markdown",
      "metadata": {
        "colab_type": "text",
        "id": "aJZtfZvq91vD"
      },
      "source": [
        "Neighborhood has a total of 5 boroughs and 306 neighborhoods. In order to segement the neighborhoods and explore them, we will essentially need a dataset that contains the 5 boroughs and the neighborhoods that exist in each borough as well as the the latitude and logitude coordinates of each neighborhood. \n",
        "\n",
        "Luckily, this dataset exists for free on the web. Feel free to try to find this dataset on your own, but here is the link to the dataset: https://geo.nyu.edu/catalog/nyu_2451_34572"
      ]
    },
    {
      "cell_type": "markdown",
      "metadata": {
        "colab_type": "text",
        "id": "cGFlqH1I91mD"
      },
      "source": [
        "For your convenience, I downloaded the files and placed it on the server, so you can simply run a `wget` command and access the data. So let's go ahead and do that."
      ]
    },
    {
      "cell_type": "code",
      "metadata": {
        "jupyter": {
          "outputs_hidden": false
        },
        "scrolled": true,
        "colab_type": "code",
        "outputId": "ef2e5ac5-d7f7-402b-bd24-159aaf952f40",
        "id": "xlhp0A0-91em",
        "colab": {
          "base_uri": "https://localhost:8080/",
          "height": 34
        }
      },
      "source": [
        "!wget -q -O 'newyork_data.json' https://cocl.us/new_york_dataset\n",
        "print('Data downloaded!')"
      ],
      "execution_count": 242,
      "outputs": [
        {
          "output_type": "stream",
          "text": [
            "Data downloaded!\n"
          ],
          "name": "stdout"
        }
      ]
    },
    {
      "cell_type": "markdown",
      "metadata": {
        "id": "WXWu1YMlXAlP",
        "colab_type": "text"
      },
      "source": [
        "#### Load and explore the data"
      ]
    },
    {
      "cell_type": "markdown",
      "metadata": {
        "id": "ejKlYACQXAlP",
        "colab_type": "text"
      },
      "source": [
        "Next, let's load the data."
      ]
    },
    {
      "cell_type": "code",
      "metadata": {
        "jupyter": {
          "outputs_hidden": false
        },
        "id": "Pb0X1z7WXAlQ",
        "colab_type": "code",
        "colab": {}
      },
      "source": [
        "with open('newyork_data.json') as json_data:\n",
        "    newyork_data = json.load(json_data)"
      ],
      "execution_count": 0,
      "outputs": []
    },
    {
      "cell_type": "markdown",
      "metadata": {
        "id": "KcHOaCjJXAlS",
        "colab_type": "text"
      },
      "source": [
        "Let's take a quick look at the data."
      ]
    },
    {
      "cell_type": "markdown",
      "metadata": {
        "id": "Cm7bm3vqXAlX",
        "colab_type": "text"
      },
      "source": [
        "Notice how all the relevant data is in the *features* key, which is basically a list of the neighborhoods. So, let's define a new variable that includes this data."
      ]
    },
    {
      "cell_type": "code",
      "metadata": {
        "id": "_6SxmU_WXAlY",
        "colab_type": "code",
        "colab": {}
      },
      "source": [
        "neighborhoods_data = newyork_data['features']"
      ],
      "execution_count": 0,
      "outputs": []
    },
    {
      "cell_type": "markdown",
      "metadata": {
        "id": "d8V9ILwCXAla",
        "colab_type": "text"
      },
      "source": [
        "Let's take a look at the first item in this list."
      ]
    },
    {
      "cell_type": "markdown",
      "metadata": {
        "id": "0DCjXcKGXAld",
        "colab_type": "text"
      },
      "source": [
        "#### Tranform the data into a *pandas* dataframe"
      ]
    },
    {
      "cell_type": "markdown",
      "metadata": {
        "id": "wPr7xYOiXAle",
        "colab_type": "text"
      },
      "source": [
        "The next task is essentially transforming this data of nested Python dictionaries into a *pandas* dataframe. So let's start by creating an empty dataframe."
      ]
    },
    {
      "cell_type": "code",
      "metadata": {
        "id": "sqNOLYBoXAlf",
        "colab_type": "code",
        "colab": {}
      },
      "source": [
        "# define the dataframe columns\n",
        "column_names = ['Borough', 'Neighborhood', 'Latitude', 'Longitude'] \n",
        "\n",
        "# instantiate the dataframe\n",
        "neighborhoods = pd.DataFrame(columns=column_names)"
      ],
      "execution_count": 0,
      "outputs": []
    },
    {
      "cell_type": "markdown",
      "metadata": {
        "id": "bCElYBTkXAli",
        "colab_type": "text"
      },
      "source": [
        "Take a look at the empty dataframe to confirm that the columns are as intended."
      ]
    },
    {
      "cell_type": "code",
      "metadata": {
        "jupyter": {
          "outputs_hidden": false
        },
        "id": "3kgFgp7jXAli",
        "colab_type": "code",
        "outputId": "17690b48-9d95-4b36-9a4c-69b1cb4cea48",
        "colab": {
          "base_uri": "https://localhost:8080/",
          "height": 49
        }
      },
      "source": [
        "neighborhoods"
      ],
      "execution_count": 246,
      "outputs": [
        {
          "output_type": "execute_result",
          "data": {
            "text/html": [
              "<div>\n",
              "<style scoped>\n",
              "    .dataframe tbody tr th:only-of-type {\n",
              "        vertical-align: middle;\n",
              "    }\n",
              "\n",
              "    .dataframe tbody tr th {\n",
              "        vertical-align: top;\n",
              "    }\n",
              "\n",
              "    .dataframe thead th {\n",
              "        text-align: right;\n",
              "    }\n",
              "</style>\n",
              "<table border=\"1\" class=\"dataframe\">\n",
              "  <thead>\n",
              "    <tr style=\"text-align: right;\">\n",
              "      <th></th>\n",
              "      <th>Borough</th>\n",
              "      <th>Neighborhood</th>\n",
              "      <th>Latitude</th>\n",
              "      <th>Longitude</th>\n",
              "    </tr>\n",
              "  </thead>\n",
              "  <tbody>\n",
              "  </tbody>\n",
              "</table>\n",
              "</div>"
            ],
            "text/plain": [
              "Empty DataFrame\n",
              "Columns: [Borough, Neighborhood, Latitude, Longitude]\n",
              "Index: []"
            ]
          },
          "metadata": {
            "tags": []
          },
          "execution_count": 246
        }
      ]
    },
    {
      "cell_type": "markdown",
      "metadata": {
        "id": "UHSg8fzXXAll",
        "colab_type": "text"
      },
      "source": [
        "Then let's loop through the data and fill the dataframe one row at a time."
      ]
    },
    {
      "cell_type": "code",
      "metadata": {
        "jupyter": {
          "outputs_hidden": false
        },
        "id": "qLBebbcFXAlm",
        "colab_type": "code",
        "colab": {}
      },
      "source": [
        "for data in neighborhoods_data:\n",
        "    borough = neighborhood_name = data['properties']['borough'] \n",
        "    neighborhood_name = data['properties']['name']\n",
        "        \n",
        "    neighborhood_latlon = data['geometry']['coordinates']\n",
        "    neighborhood_lat = neighborhood_latlon[1]\n",
        "    neighborhood_lon = neighborhood_latlon[0]\n",
        "    \n",
        "    neighborhoods = neighborhoods.append({'Borough': borough,\n",
        "                                          'Neighborhood': neighborhood_name,\n",
        "                                          'Latitude': neighborhood_lat,\n",
        "                                          'Longitude': neighborhood_lon}, ignore_index=True)"
      ],
      "execution_count": 0,
      "outputs": []
    },
    {
      "cell_type": "markdown",
      "metadata": {
        "id": "8UCOES9rXAlo",
        "colab_type": "text"
      },
      "source": [
        "Quickly examine the resulting dataframe."
      ]
    },
    {
      "cell_type": "code",
      "metadata": {
        "jupyter": {
          "outputs_hidden": false
        },
        "scrolled": true,
        "id": "Q4erPpZKXAlp",
        "colab_type": "code",
        "outputId": "a72eb699-9246-4a28-b443-3808852b5b3d",
        "colab": {
          "base_uri": "https://localhost:8080/",
          "height": 204
        }
      },
      "source": [
        "neighborhoods.head()"
      ],
      "execution_count": 248,
      "outputs": [
        {
          "output_type": "execute_result",
          "data": {
            "text/html": [
              "<div>\n",
              "<style scoped>\n",
              "    .dataframe tbody tr th:only-of-type {\n",
              "        vertical-align: middle;\n",
              "    }\n",
              "\n",
              "    .dataframe tbody tr th {\n",
              "        vertical-align: top;\n",
              "    }\n",
              "\n",
              "    .dataframe thead th {\n",
              "        text-align: right;\n",
              "    }\n",
              "</style>\n",
              "<table border=\"1\" class=\"dataframe\">\n",
              "  <thead>\n",
              "    <tr style=\"text-align: right;\">\n",
              "      <th></th>\n",
              "      <th>Borough</th>\n",
              "      <th>Neighborhood</th>\n",
              "      <th>Latitude</th>\n",
              "      <th>Longitude</th>\n",
              "    </tr>\n",
              "  </thead>\n",
              "  <tbody>\n",
              "    <tr>\n",
              "      <th>0</th>\n",
              "      <td>Bronx</td>\n",
              "      <td>Wakefield</td>\n",
              "      <td>40.894705</td>\n",
              "      <td>-73.847201</td>\n",
              "    </tr>\n",
              "    <tr>\n",
              "      <th>1</th>\n",
              "      <td>Bronx</td>\n",
              "      <td>Co-op City</td>\n",
              "      <td>40.874294</td>\n",
              "      <td>-73.829939</td>\n",
              "    </tr>\n",
              "    <tr>\n",
              "      <th>2</th>\n",
              "      <td>Bronx</td>\n",
              "      <td>Eastchester</td>\n",
              "      <td>40.887556</td>\n",
              "      <td>-73.827806</td>\n",
              "    </tr>\n",
              "    <tr>\n",
              "      <th>3</th>\n",
              "      <td>Bronx</td>\n",
              "      <td>Fieldston</td>\n",
              "      <td>40.895437</td>\n",
              "      <td>-73.905643</td>\n",
              "    </tr>\n",
              "    <tr>\n",
              "      <th>4</th>\n",
              "      <td>Bronx</td>\n",
              "      <td>Riverdale</td>\n",
              "      <td>40.890834</td>\n",
              "      <td>-73.912585</td>\n",
              "    </tr>\n",
              "  </tbody>\n",
              "</table>\n",
              "</div>"
            ],
            "text/plain": [
              "  Borough Neighborhood   Latitude  Longitude\n",
              "0   Bronx    Wakefield  40.894705 -73.847201\n",
              "1   Bronx   Co-op City  40.874294 -73.829939\n",
              "2   Bronx  Eastchester  40.887556 -73.827806\n",
              "3   Bronx    Fieldston  40.895437 -73.905643\n",
              "4   Bronx    Riverdale  40.890834 -73.912585"
            ]
          },
          "metadata": {
            "tags": []
          },
          "execution_count": 248
        }
      ]
    },
    {
      "cell_type": "markdown",
      "metadata": {
        "id": "njMKQVxeXAls",
        "colab_type": "text"
      },
      "source": [
        "And make sure that the dataset has all 5 boroughs and 306 neighborhoods."
      ]
    },
    {
      "cell_type": "code",
      "metadata": {
        "jupyter": {
          "outputs_hidden": false
        },
        "id": "J6Bc6L9sXAlt",
        "colab_type": "code",
        "outputId": "dcb29d24-18d0-4434-a656-699d841354e8",
        "colab": {
          "base_uri": "https://localhost:8080/",
          "height": 34
        }
      },
      "source": [
        "print('The dataframe has {} boroughs and {} neighborhoods.'.format(\n",
        "        len(neighborhoods['Borough'].unique()),\n",
        "        neighborhoods.shape[0]\n",
        "    )\n",
        ")"
      ],
      "execution_count": 249,
      "outputs": [
        {
          "output_type": "stream",
          "text": [
            "The dataframe has 5 boroughs and 306 neighborhoods.\n"
          ],
          "name": "stdout"
        }
      ]
    },
    {
      "cell_type": "markdown",
      "metadata": {
        "id": "roeWWGGTXAlw",
        "colab_type": "text"
      },
      "source": [
        "#### Use geopy library to get the latitude and longitude values of New York City."
      ]
    },
    {
      "cell_type": "markdown",
      "metadata": {
        "id": "V5o7Ox4FXAlx",
        "colab_type": "text"
      },
      "source": [
        "In order to define an instance of the geocoder, we need to define a user_agent. We will name our agent <em>ny_explorer</em>, as shown below."
      ]
    },
    {
      "cell_type": "code",
      "metadata": {
        "jupyter": {
          "outputs_hidden": false
        },
        "scrolled": true,
        "id": "07oezu7OXAly",
        "colab_type": "code",
        "outputId": "6ce23841-1909-42ac-d882-9ab1e1d42cdb",
        "colab": {
          "base_uri": "https://localhost:8080/",
          "height": 34
        }
      },
      "source": [
        "city_name = 'Florianopolis, SC'\n",
        "\n",
        "geolocator = Nominatim(user_agent=\"foursquare_explorer\")\n",
        "location = geolocator.geocode(city_name)\n",
        "latitude = location.latitude\n",
        "longitude = location.longitude\n",
        "print('The geograpical coordinate of Florianopolis are {}, {}.'.format(latitude, longitude))"
      ],
      "execution_count": 250,
      "outputs": [
        {
          "output_type": "stream",
          "text": [
            "The geograpical coordinate of Florianopolis are -27.5973002, -48.5496098.\n"
          ],
          "name": "stdout"
        }
      ]
    },
    {
      "cell_type": "markdown",
      "metadata": {
        "id": "MjN_-gP5XAl2",
        "colab_type": "text"
      },
      "source": [
        "#### Create a map of New York with neighborhoods superimposed on top."
      ]
    },
    {
      "cell_type": "code",
      "metadata": {
        "id": "0yJEjzTt77Zm",
        "colab_type": "code",
        "outputId": "4213a848-86bf-4c61-82b9-52e6511e90a0",
        "colab": {
          "base_uri": "https://localhost:8080/",
          "height": 1000
        }
      },
      "source": [
        "# create map of Manhattan using latitude and longitude values\n",
        "city_map = folium.Map(location=[latitude, longitude], zoom_start=11)\n",
        "\n",
        "city_map"
      ],
      "execution_count": 251,
      "outputs": [
        {
          "output_type": "execute_result",
          "data": {
            "text/html": [
              "<div style=\"width:100%;\"><div style=\"position:relative;width:100%;height:0;padding-bottom:60%;\"><iframe src=\"data:text/html;charset=utf-8;base64,PCFET0NUWVBFIGh0bWw+CjxoZWFkPiAgICAKICAgIDxtZXRhIGh0dHAtZXF1aXY9ImNvbnRlbnQtdHlwZSIgY29udGVudD0idGV4dC9odG1sOyBjaGFyc2V0PVVURi04IiAvPgogICAgPHNjcmlwdD5MX1BSRUZFUl9DQU5WQVM9ZmFsc2U7IExfTk9fVE9VQ0g9ZmFsc2U7IExfRElTQUJMRV8zRD1mYWxzZTs8L3NjcmlwdD4KICAgIDxzY3JpcHQgc3JjPSJodHRwczovL2Nkbi5qc2RlbGl2ci5uZXQvbnBtL2xlYWZsZXRAMS40LjAvZGlzdC9sZWFmbGV0LmpzIj48L3NjcmlwdD4KICAgIDxzY3JpcHQgc3JjPSJodHRwczovL2NvZGUuanF1ZXJ5LmNvbS9qcXVlcnktMS4xMi40Lm1pbi5qcyI+PC9zY3JpcHQ+CiAgICA8c2NyaXB0IHNyYz0iaHR0cHM6Ly9tYXhjZG4uYm9vdHN0cmFwY2RuLmNvbS9ib290c3RyYXAvMy4yLjAvanMvYm9vdHN0cmFwLm1pbi5qcyI+PC9zY3JpcHQ+CiAgICA8c2NyaXB0IHNyYz0iaHR0cHM6Ly9jZG5qcy5jbG91ZGZsYXJlLmNvbS9hamF4L2xpYnMvTGVhZmxldC5hd2Vzb21lLW1hcmtlcnMvMi4wLjIvbGVhZmxldC5hd2Vzb21lLW1hcmtlcnMuanMiPjwvc2NyaXB0PgogICAgPGxpbmsgcmVsPSJzdHlsZXNoZWV0IiBocmVmPSJodHRwczovL2Nkbi5qc2RlbGl2ci5uZXQvbnBtL2xlYWZsZXRAMS40LjAvZGlzdC9sZWFmbGV0LmNzcyIvPgogICAgPGxpbmsgcmVsPSJzdHlsZXNoZWV0IiBocmVmPSJodHRwczovL21heGNkbi5ib290c3RyYXBjZG4uY29tL2Jvb3RzdHJhcC8zLjIuMC9jc3MvYm9vdHN0cmFwLm1pbi5jc3MiLz4KICAgIDxsaW5rIHJlbD0ic3R5bGVzaGVldCIgaHJlZj0iaHR0cHM6Ly9tYXhjZG4uYm9vdHN0cmFwY2RuLmNvbS9ib290c3RyYXAvMy4yLjAvY3NzL2Jvb3RzdHJhcC10aGVtZS5taW4uY3NzIi8+CiAgICA8bGluayByZWw9InN0eWxlc2hlZXQiIGhyZWY9Imh0dHBzOi8vbWF4Y2RuLmJvb3RzdHJhcGNkbi5jb20vZm9udC1hd2Vzb21lLzQuNi4zL2Nzcy9mb250LWF3ZXNvbWUubWluLmNzcyIvPgogICAgPGxpbmsgcmVsPSJzdHlsZXNoZWV0IiBocmVmPSJodHRwczovL2NkbmpzLmNsb3VkZmxhcmUuY29tL2FqYXgvbGlicy9MZWFmbGV0LmF3ZXNvbWUtbWFya2Vycy8yLjAuMi9sZWFmbGV0LmF3ZXNvbWUtbWFya2Vycy5jc3MiLz4KICAgIDxsaW5rIHJlbD0ic3R5bGVzaGVldCIgaHJlZj0iaHR0cHM6Ly9yYXdjZG4uZ2l0aGFjay5jb20vcHl0aG9uLXZpc3VhbGl6YXRpb24vZm9saXVtL21hc3Rlci9mb2xpdW0vdGVtcGxhdGVzL2xlYWZsZXQuYXdlc29tZS5yb3RhdGUuY3NzIi8+CiAgICA8c3R5bGU+aHRtbCwgYm9keSB7d2lkdGg6IDEwMCU7aGVpZ2h0OiAxMDAlO21hcmdpbjogMDtwYWRkaW5nOiAwO308L3N0eWxlPgogICAgPHN0eWxlPiNtYXAge3Bvc2l0aW9uOmFic29sdXRlO3RvcDowO2JvdHRvbTowO3JpZ2h0OjA7bGVmdDowO308L3N0eWxlPgogICAgCiAgICA8bWV0YSBuYW1lPSJ2aWV3cG9ydCIgY29udGVudD0id2lkdGg9ZGV2aWNlLXdpZHRoLAogICAgICAgIGluaXRpYWwtc2NhbGU9MS4wLCBtYXhpbXVtLXNjYWxlPTEuMCwgdXNlci1zY2FsYWJsZT1ubyIgLz4KICAgIDxzdHlsZT4jbWFwX2Y0YjcwZmMzZThkNzQzNDBiOTdkYjdjMzZhNDRjN2Y5IHsKICAgICAgICBwb3NpdGlvbjogcmVsYXRpdmU7CiAgICAgICAgd2lkdGg6IDEwMC4wJTsKICAgICAgICBoZWlnaHQ6IDEwMC4wJTsKICAgICAgICBsZWZ0OiAwLjAlOwogICAgICAgIHRvcDogMC4wJTsKICAgICAgICB9CiAgICA8L3N0eWxlPgo8L2hlYWQ+Cjxib2R5PiAgICAKICAgIAogICAgPGRpdiBjbGFzcz0iZm9saXVtLW1hcCIgaWQ9Im1hcF9mNGI3MGZjM2U4ZDc0MzQwYjk3ZGI3YzM2YTQ0YzdmOSIgPjwvZGl2Pgo8L2JvZHk+CjxzY3JpcHQ+ICAgIAogICAgCiAgICAKICAgICAgICB2YXIgYm91bmRzID0gbnVsbDsKICAgIAoKICAgIHZhciBtYXBfZjRiNzBmYzNlOGQ3NDM0MGI5N2RiN2MzNmE0NGM3ZjkgPSBMLm1hcCgKICAgICAgICAnbWFwX2Y0YjcwZmMzZThkNzQzNDBiOTdkYjdjMzZhNDRjN2Y5JywgewogICAgICAgIGNlbnRlcjogWy0yNy41OTczMDAyLCAtNDguNTQ5NjA5OF0sCiAgICAgICAgem9vbTogMTEsCiAgICAgICAgbWF4Qm91bmRzOiBib3VuZHMsCiAgICAgICAgbGF5ZXJzOiBbXSwKICAgICAgICB3b3JsZENvcHlKdW1wOiBmYWxzZSwKICAgICAgICBjcnM6IEwuQ1JTLkVQU0czODU3LAogICAgICAgIHpvb21Db250cm9sOiB0cnVlLAogICAgICAgIH0pOwoKCiAgICAKICAgIHZhciB0aWxlX2xheWVyX2MwNWZjM2RkYTQyMzQ2NmNiODRkM2ZjZWM3NzIyMTk5ID0gTC50aWxlTGF5ZXIoCiAgICAgICAgJ2h0dHBzOi8ve3N9LnRpbGUub3BlbnN0cmVldG1hcC5vcmcve3p9L3t4fS97eX0ucG5nJywKICAgICAgICB7CiAgICAgICAgImF0dHJpYnV0aW9uIjogbnVsbCwKICAgICAgICAiZGV0ZWN0UmV0aW5hIjogZmFsc2UsCiAgICAgICAgIm1heE5hdGl2ZVpvb20iOiAxOCwKICAgICAgICAibWF4Wm9vbSI6IDE4LAogICAgICAgICJtaW5ab29tIjogMCwKICAgICAgICAibm9XcmFwIjogZmFsc2UsCiAgICAgICAgIm9wYWNpdHkiOiAxLAogICAgICAgICJzdWJkb21haW5zIjogImFiYyIsCiAgICAgICAgInRtcyI6IGZhbHNlCn0pLmFkZFRvKG1hcF9mNGI3MGZjM2U4ZDc0MzQwYjk3ZGI3YzM2YTQ0YzdmOSk7Cjwvc2NyaXB0Pg==\" style=\"position:absolute;width:100%;height:100%;left:0;top:0;border:none !important;\" allowfullscreen webkitallowfullscreen mozallowfullscreen></iframe></div></div>"
            ],
            "text/plain": [
              "<folium.folium.Map at 0x7f7f0fb03080>"
            ]
          },
          "metadata": {
            "tags": []
          },
          "execution_count": 251
        }
      ]
    },
    {
      "cell_type": "markdown",
      "metadata": {
        "id": "4oSnk14Lwatl",
        "colab_type": "text"
      },
      "source": [
        "Preparing the dataframe structure"
      ]
    },
    {
      "cell_type": "markdown",
      "metadata": {
        "id": "js3KAisjXAmB",
        "colab_type": "text"
      },
      "source": [
        "Let's get the geographical coordinates of Florianopolis Neighborhoods."
      ]
    },
    {
      "cell_type": "code",
      "metadata": {
        "id": "rJPSDDtYrd00",
        "colab_type": "code",
        "outputId": "c033dbda-e77d-4702-d3ed-1cb40eca1491",
        "colab": {
          "base_uri": "https://localhost:8080/",
          "height": 136
        }
      },
      "source": [
        "!pip install wikipedia\n",
        "\n",
        "import wikipedia\n",
        "import requests\n",
        "from bs4 import BeautifulSoup as bs\n",
        "import time\n",
        "import numpy as np\n",
        "import pandas as pd"
      ],
      "execution_count": 252,
      "outputs": [
        {
          "output_type": "stream",
          "text": [
            "Requirement already satisfied: wikipedia in /usr/local/lib/python3.6/dist-packages (1.4.0)\n",
            "Requirement already satisfied: requests<3.0.0,>=2.0.0 in /usr/local/lib/python3.6/dist-packages (from wikipedia) (2.21.0)\n",
            "Requirement already satisfied: beautifulsoup4 in /usr/local/lib/python3.6/dist-packages (from wikipedia) (4.6.3)\n",
            "Requirement already satisfied: certifi>=2017.4.17 in /usr/local/lib/python3.6/dist-packages (from requests<3.0.0,>=2.0.0->wikipedia) (2019.9.11)\n",
            "Requirement already satisfied: urllib3<1.25,>=1.21.1 in /usr/local/lib/python3.6/dist-packages (from requests<3.0.0,>=2.0.0->wikipedia) (1.24.3)\n",
            "Requirement already satisfied: chardet<3.1.0,>=3.0.2 in /usr/local/lib/python3.6/dist-packages (from requests<3.0.0,>=2.0.0->wikipedia) (3.0.4)\n",
            "Requirement already satisfied: idna<2.9,>=2.5 in /usr/local/lib/python3.6/dist-packages (from requests<3.0.0,>=2.0.0->wikipedia) (2.8)\n"
          ],
          "name": "stdout"
        }
      ]
    },
    {
      "cell_type": "code",
      "metadata": {
        "id": "IHrAJMsTrrGy",
        "colab_type": "code",
        "outputId": "56f4e1f1-5060-40d9-e8b0-e4e33ad40c28",
        "colab": {
          "base_uri": "https://localhost:8080/",
          "height": 1000
        }
      },
      "source": [
        "wiki = requests.get('https://pt.wikipedia.org/wiki/Lista_de_distritos_e_bairros_de_Florian%C3%B3polis')\n",
        "soup = bs(wiki.text, 'lxml') \n",
        "table = soup.findAll(\"table\",class_=\"wikitable\")[1]\n",
        "neighborhood_names = []\n",
        "for items in table.find_all(\"tr\")[:-1]:\n",
        "    data = [' '.join(item.text.split()) for item in items.find_all(['th','td'])]\n",
        "    neighborhood_names.append(data[1])\n",
        "\n",
        "neighborhood_names.remove(neighborhood_names[0])\n",
        "neighborhood_names"
      ],
      "execution_count": 253,
      "outputs": [
        {
          "output_type": "execute_result",
          "data": {
            "text/plain": [
              "['Centro',\n",
              " 'Capoeiras',\n",
              " 'Trindade',\n",
              " 'Agronômica',\n",
              " 'Saco dos Limões',\n",
              " 'Coqueiros',\n",
              " 'Monte Cristo',\n",
              " 'Jardim Atlântico',\n",
              " 'Itacorubi',\n",
              " 'Costeira do Pirajubaé',\n",
              " 'Capivari',\n",
              " 'Tapera da Base',\n",
              " 'Estreito',\n",
              " 'Monte Verde',\n",
              " 'Balneário',\n",
              " 'São João do Rio Vermelho',\n",
              " 'Canto',\n",
              " 'Abraão',\n",
              " 'Santa Mônica',\n",
              " 'Lagoa',\n",
              " 'Saco Grande',\n",
              " 'Córrego Grande',\n",
              " 'Canasvieiras',\n",
              " 'Pantanal',\n",
              " 'Coloninha',\n",
              " 'Barra da Lagoa',\n",
              " 'Carianos',\n",
              " 'José Mendes',\n",
              " 'Ingleses Centro',\n",
              " 'João Paulo',\n",
              " 'Campeche Leste',\n",
              " 'Campeche Sul',\n",
              " 'Rio Tavares Central',\n",
              " 'Santinho',\n",
              " 'Ponta das Canas',\n",
              " 'Vargem do Bom Jesus',\n",
              " 'Armação',\n",
              " 'Cachoeira do Bom Jesus Leste',\n",
              " 'Pântano do Sul',\n",
              " 'Itaguaçu',\n",
              " 'Jurere Leste',\n",
              " 'Campeche Norte',\n",
              " 'Vargem Grande',\n",
              " 'Campeche Central',\n",
              " 'Ressacada',\n",
              " 'Morro das Pedras',\n",
              " 'Alto Ribeirão Leste',\n",
              " 'Alto Ribeirão',\n",
              " 'Ribeirão da Ilha',\n",
              " 'Santo Antônio',\n",
              " 'Sambaqui',\n",
              " 'Ingleses Sul',\n",
              " 'Bom Abrigo',\n",
              " 'Jurere Oeste',\n",
              " 'Porto da Lagoa',\n",
              " 'Cachoeira do Bom Jesus',\n",
              " 'Rio Tavares do Norte',\n",
              " 'Pedregal',\n",
              " 'Ratones',\n",
              " 'Canto da Lagoa',\n",
              " 'Retiro',\n",
              " 'Cacupé',\n",
              " 'Lagoa Pequena',\n",
              " 'Barra do Sambaqui',\n",
              " 'Caiacanga',\n",
              " 'Lagoinha do Norte',\n",
              " 'Base Aérea',\n",
              " 'Pedrita',\n",
              " 'Açores',\n",
              " 'Costeira do Ribeirão',\n",
              " 'Moenda',\n",
              " 'Tapera',\n",
              " 'Daniela',\n",
              " 'Vargem Pequena',\n",
              " 'Canto dos Araçás',\n",
              " 'Recanto dos Açores',\n",
              " 'Canto do Lamim',\n",
              " 'Vargem de Fora',\n",
              " 'Dunas da Lagoa',\n",
              " 'Autódromo',\n",
              " 'Forte',\n",
              " 'Ingleses Norte',\n",
              " 'Caieira',\n",
              " 'Praia Brava']"
            ]
          },
          "metadata": {
            "tags": []
          },
          "execution_count": 253
        }
      ]
    },
    {
      "cell_type": "code",
      "metadata": {
        "id": "_a3OSEnLvUkW",
        "colab_type": "code",
        "outputId": "5885a11b-b8f5-4c74-ba8f-cd2126b31ce2",
        "colab": {
          "base_uri": "https://localhost:8080/",
          "height": 49
        }
      },
      "source": [
        "#preparing neighborhoods dataframe\n",
        "column_names = ['Name', 'Latitude', 'Longitude'] \n",
        "neighborhoods = pd.DataFrame(columns=column_names)\n",
        "neighborhoods"
      ],
      "execution_count": 254,
      "outputs": [
        {
          "output_type": "execute_result",
          "data": {
            "text/html": [
              "<div>\n",
              "<style scoped>\n",
              "    .dataframe tbody tr th:only-of-type {\n",
              "        vertical-align: middle;\n",
              "    }\n",
              "\n",
              "    .dataframe tbody tr th {\n",
              "        vertical-align: top;\n",
              "    }\n",
              "\n",
              "    .dataframe thead th {\n",
              "        text-align: right;\n",
              "    }\n",
              "</style>\n",
              "<table border=\"1\" class=\"dataframe\">\n",
              "  <thead>\n",
              "    <tr style=\"text-align: right;\">\n",
              "      <th></th>\n",
              "      <th>Name</th>\n",
              "      <th>Latitude</th>\n",
              "      <th>Longitude</th>\n",
              "    </tr>\n",
              "  </thead>\n",
              "  <tbody>\n",
              "  </tbody>\n",
              "</table>\n",
              "</div>"
            ],
            "text/plain": [
              "Empty DataFrame\n",
              "Columns: [Name, Latitude, Longitude]\n",
              "Index: []"
            ]
          },
          "metadata": {
            "tags": []
          },
          "execution_count": 254
        }
      ]
    },
    {
      "cell_type": "code",
      "metadata": {
        "jupyter": {
          "outputs_hidden": false
        },
        "id": "eRz25R6uXAmC",
        "colab_type": "code",
        "outputId": "84fdb017-9240-4c4d-e908-a270c3b398b8",
        "colab": {
          "base_uri": "https://localhost:8080/",
          "height": 51
        }
      },
      "source": [
        "print(\"Checking for neighborhoods latitude/longitude on foursquare API...\")\n",
        "\n",
        "for name in neighborhood_names:\n",
        "  geolocator = Nominatim(user_agent=\"foursquare_explorer\")\n",
        "  location = geolocator.geocode(name+\",\"+city_name)\n",
        "  #print(location)\n",
        "  if location is not None:\n",
        "    latitude = location.latitude\n",
        "    longitude = location.longitude\n",
        "    #print('The geograpical coordinate of {} are {}, {}.'.format(name, latitude, longitude))\n",
        "    neighborhoods = neighborhoods.append({'Name': name,\n",
        "                                            'Latitude':latitude,\n",
        "                                            'Longitude':longitude}, ignore_index=True)\n",
        "  \n",
        "print(\"Done!\")"
      ],
      "execution_count": 255,
      "outputs": [
        {
          "output_type": "stream",
          "text": [
            "Checking for neighborhoods latitude/longitude on foursquare API...\n",
            "Done!\n"
          ],
          "name": "stdout"
        }
      ]
    },
    {
      "cell_type": "markdown",
      "metadata": {
        "id": "EFI2DYwY1jmJ",
        "colab_type": "text"
      },
      "source": [
        "Now we have the coordinates of the neighborhoods."
      ]
    },
    {
      "cell_type": "code",
      "metadata": {
        "id": "5cULEpYO1pxV",
        "colab_type": "code",
        "outputId": "abda77ad-c0c3-4720-d2e3-bdf71807e896",
        "colab": {
          "base_uri": "https://localhost:8080/",
          "height": 204
        }
      },
      "source": [
        "neighborhoods.head()"
      ],
      "execution_count": 256,
      "outputs": [
        {
          "output_type": "execute_result",
          "data": {
            "text/html": [
              "<div>\n",
              "<style scoped>\n",
              "    .dataframe tbody tr th:only-of-type {\n",
              "        vertical-align: middle;\n",
              "    }\n",
              "\n",
              "    .dataframe tbody tr th {\n",
              "        vertical-align: top;\n",
              "    }\n",
              "\n",
              "    .dataframe thead th {\n",
              "        text-align: right;\n",
              "    }\n",
              "</style>\n",
              "<table border=\"1\" class=\"dataframe\">\n",
              "  <thead>\n",
              "    <tr style=\"text-align: right;\">\n",
              "      <th></th>\n",
              "      <th>Name</th>\n",
              "      <th>Latitude</th>\n",
              "      <th>Longitude</th>\n",
              "    </tr>\n",
              "  </thead>\n",
              "  <tbody>\n",
              "    <tr>\n",
              "      <th>0</th>\n",
              "      <td>Centro</td>\n",
              "      <td>-27.592925</td>\n",
              "      <td>-48.550060</td>\n",
              "    </tr>\n",
              "    <tr>\n",
              "      <th>1</th>\n",
              "      <td>Capoeiras</td>\n",
              "      <td>-27.597333</td>\n",
              "      <td>-48.590008</td>\n",
              "    </tr>\n",
              "    <tr>\n",
              "      <th>2</th>\n",
              "      <td>Trindade</td>\n",
              "      <td>-27.589383</td>\n",
              "      <td>-48.522400</td>\n",
              "    </tr>\n",
              "    <tr>\n",
              "      <th>3</th>\n",
              "      <td>Agronômica</td>\n",
              "      <td>-27.578145</td>\n",
              "      <td>-48.535717</td>\n",
              "    </tr>\n",
              "    <tr>\n",
              "      <th>4</th>\n",
              "      <td>Saco dos Limões</td>\n",
              "      <td>-27.608268</td>\n",
              "      <td>-48.534343</td>\n",
              "    </tr>\n",
              "  </tbody>\n",
              "</table>\n",
              "</div>"
            ],
            "text/plain": [
              "              Name   Latitude  Longitude\n",
              "0           Centro -27.592925 -48.550060\n",
              "1        Capoeiras -27.597333 -48.590008\n",
              "2         Trindade -27.589383 -48.522400\n",
              "3       Agronômica -27.578145 -48.535717\n",
              "4  Saco dos Limões -27.608268 -48.534343"
            ]
          },
          "metadata": {
            "tags": []
          },
          "execution_count": 256
        }
      ]
    },
    {
      "cell_type": "code",
      "metadata": {
        "id": "co6lq9_V-fWE",
        "colab_type": "code",
        "outputId": "f3fac862-33d5-42df-9a0a-ad0ee3b857a6",
        "colab": {
          "base_uri": "https://localhost:8080/",
          "height": 1000
        }
      },
      "source": [
        "# add markers to map\n",
        "for lat, lng, label in zip(neighborhoods['Latitude'], neighborhoods['Longitude'], neighborhoods['Name']):\n",
        "    label = folium.Popup(label, parse_html=True)\n",
        "    folium.CircleMarker(\n",
        "        [lat, lng],\n",
        "        radius=5,\n",
        "        popup=label,\n",
        "        color='red',\n",
        "        fill=True,\n",
        "        fill_color='#3186cc',\n",
        "        fill_opacity=0.7,\n",
        "        parse_html=False).add_to(city_map)  \n",
        "    \n",
        "city_map"
      ],
      "execution_count": 257,
      "outputs": [
        {
          "output_type": "execute_result",
          "data": {
            "text/html": [
              "<div style=\"width:100%;\"><div style=\"position:relative;width:100%;height:0;padding-bottom:60%;\"><iframe src=\"data:text/html;charset=utf-8;base64,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\" style=\"position:absolute;width:100%;height:100%;left:0;top:0;border:none !important;\" allowfullscreen webkitallowfullscreen mozallowfullscreen></iframe></div></div>"
            ],
            "text/plain": [
              "<folium.folium.Map at 0x7f7f0fb03080>"
            ]
          },
          "metadata": {
            "tags": []
          },
          "execution_count": 257
        }
      ]
    },
    {
      "cell_type": "code",
      "metadata": {
        "id": "z9RgELSViLFg",
        "colab_type": "code",
        "outputId": "0ac8f935-67e5-4ac6-9d26-3557dbf7db01",
        "colab": {
          "base_uri": "https://localhost:8080/",
          "height": 782
        }
      },
      "source": [
        "#get list of beaches from wikipedia\n",
        "wiki = requests.get('https://pt.wikipedia.org/wiki/Lista_de_praias_de_Florianópolis')\n",
        "soup = bs(wiki.text, 'lxml') \n",
        "table = soup.findAll(\"li\")\n",
        "\n",
        "#filtering\n",
        "beach_names=[]\n",
        "for item in table:\n",
        "      a = item.find(\"a\")\n",
        "      if a is not None:\n",
        "        title = a.get('title')\n",
        "        if title is not None and title.find(\"Prai\") >= 0:\n",
        "          if title.endswith(' (página não existe)'):\n",
        "              newTitle = title[:-20]\n",
        "              beach_names.append(newTitle)\n",
        "          else:\n",
        "              beach_names.append(title)\n",
        "\n",
        "#removing the last unecessary item which is still on the list\n",
        "del beach_names[-1]\n",
        "beach_names"
      ],
      "execution_count": 258,
      "outputs": [
        {
          "output_type": "execute_result",
          "data": {
            "text/plain": [
              "['Praia de Caieira da Barra do Sul',\n",
              " 'Praia do Ribeirão da Ilha',\n",
              " 'Praia da Tapera',\n",
              " 'Praia de Sambaqui',\n",
              " 'Praia de Santo Antônio de Lisboa',\n",
              " 'Praia do Cacupé',\n",
              " 'Praia do Santinho',\n",
              " 'Praia dos Ingleses',\n",
              " 'Praia da Lagoinha',\n",
              " 'Praia Brava (Florianópolis)',\n",
              " 'Praia da Ponta das Canas',\n",
              " 'Praia Cachoeira do Bom Jesus',\n",
              " 'Praia de Canasvieiras',\n",
              " 'Praia de Canajurê',\n",
              " 'Praia de Jurerê',\n",
              " 'Praia do Forte (Florianópolis)',\n",
              " 'Praia da Daniela',\n",
              " 'Praia do Pontal',\n",
              " 'Praia da Joaquina',\n",
              " 'Praia do Gravatá',\n",
              " 'Praia Mole',\n",
              " 'Praia da Galheta',\n",
              " 'Prainha (Barra da Lagoa)',\n",
              " 'Praia da Barra da Lagoa',\n",
              " 'Praia da Lagoa da Conceição',\n",
              " 'Praia de Moçambique',\n",
              " 'Praia do Campeche',\n",
              " 'Praia da Ilha do Campeche',\n",
              " 'Praia do Morro das Pedras',\n",
              " 'Praia do Caldeirão',\n",
              " 'Praia da Armação do Pântano do Sul',\n",
              " 'Praia do Matadeiro',\n",
              " 'Praia da Lagoinha do Leste',\n",
              " 'Praia do Pântano do Sul',\n",
              " 'Praia dos Açores',\n",
              " 'Praia da Solidão',\n",
              " 'Praia do Saquinho',\n",
              " 'Praia de Naufragados',\n",
              " 'Praia de Bom Abrigo',\n",
              " 'Praia de Coqueiros (Florianópolis)',\n",
              " 'Praia de Itaguaçu',\n",
              " 'Praia do Matadouro (Continente Florianópolis)',\n",
              " 'Praia das Palmeiras',\n",
              " 'Praia do Meio',\n",
              " 'Praia do Balneário (Florianópolis)']"
            ]
          },
          "metadata": {
            "tags": []
          },
          "execution_count": 258
        }
      ]
    },
    {
      "cell_type": "code",
      "metadata": {
        "id": "PqiEPaCk2r80",
        "colab_type": "code",
        "outputId": "d2154d42-219a-46ae-c610-16ae34a8a1af",
        "colab": {
          "base_uri": "https://localhost:8080/",
          "height": 49
        }
      },
      "source": [
        "#beach dataframe preparation\n",
        "beaches = pd.DataFrame(columns=['Beach', 'Latitude', 'Longitude'])\n",
        "beaches"
      ],
      "execution_count": 259,
      "outputs": [
        {
          "output_type": "execute_result",
          "data": {
            "text/html": [
              "<div>\n",
              "<style scoped>\n",
              "    .dataframe tbody tr th:only-of-type {\n",
              "        vertical-align: middle;\n",
              "    }\n",
              "\n",
              "    .dataframe tbody tr th {\n",
              "        vertical-align: top;\n",
              "    }\n",
              "\n",
              "    .dataframe thead th {\n",
              "        text-align: right;\n",
              "    }\n",
              "</style>\n",
              "<table border=\"1\" class=\"dataframe\">\n",
              "  <thead>\n",
              "    <tr style=\"text-align: right;\">\n",
              "      <th></th>\n",
              "      <th>Beach</th>\n",
              "      <th>Latitude</th>\n",
              "      <th>Longitude</th>\n",
              "    </tr>\n",
              "  </thead>\n",
              "  <tbody>\n",
              "  </tbody>\n",
              "</table>\n",
              "</div>"
            ],
            "text/plain": [
              "Empty DataFrame\n",
              "Columns: [Beach, Latitude, Longitude]\n",
              "Index: []"
            ]
          },
          "metadata": {
            "tags": []
          },
          "execution_count": 259
        }
      ]
    },
    {
      "cell_type": "code",
      "metadata": {
        "id": "ZG7f7mQp287h",
        "colab_type": "code",
        "outputId": "2b064532-bbe0-463f-fd15-c5fe18691ad3",
        "colab": {
          "base_uri": "https://localhost:8080/",
          "height": 51
        }
      },
      "source": [
        "print(\"Checking for beaches latitude/longitude on foursquare API...\")\n",
        "\n",
        "for name in beach_names:\n",
        "  geolocator = Nominatim(user_agent=\"foursquare_explorer\")\n",
        "  location = geolocator.geocode(name+\", \"+city_name)\n",
        "  #print(location)\n",
        "  if location is not None:\n",
        "    latitude = location.latitude\n",
        "    longitude = location.longitude\n",
        "#     print('The geograpical coordinate of {} are {}, {}.'.format(name, latitude, longitude))\n",
        "    beaches = beaches.append({'Beach': name,\n",
        "                                            'Latitude':latitude,\n",
        "                                            'Longitude':longitude}, ignore_index=True)\n",
        "  \n",
        "print(\"Done!\")"
      ],
      "execution_count": 260,
      "outputs": [
        {
          "output_type": "stream",
          "text": [
            "Checking for beaches latitude/longitude on foursquare API...\n",
            "Done!\n"
          ],
          "name": "stdout"
        }
      ]
    },
    {
      "cell_type": "markdown",
      "metadata": {
        "id": "OYBnFbTUXAmF",
        "colab_type": "text"
      },
      "source": [
        "As we did with all of New York City, let's visualizat Manhattan the neighborhoods in it."
      ]
    },
    {
      "cell_type": "code",
      "metadata": {
        "jupyter": {
          "outputs_hidden": false
        },
        "id": "9dnh9y8cXAmF",
        "colab_type": "code",
        "outputId": "8ac1cab4-e25e-4e2d-cc45-8cc32fb41ce7",
        "colab": {
          "base_uri": "https://localhost:8080/",
          "height": 1000
        }
      },
      "source": [
        "# add markers to map\n",
        "for lat, lng, label in zip(beaches['Latitude'], beaches['Longitude'], beaches['Beach']):\n",
        "    label = folium.Popup(label, parse_html=True)\n",
        "    folium.CircleMarker(\n",
        "        [lat, lng],\n",
        "        radius=5,\n",
        "        popup=label,\n",
        "        color='blue',\n",
        "        fill=True,\n",
        "        fill_color='#3186cc',\n",
        "        fill_opacity=0.7,\n",
        "        parse_html=False).add_to(city_map)  \n",
        "    \n",
        "city_map"
      ],
      "execution_count": 261,
      "outputs": [
        {
          "output_type": "execute_result",
          "data": {
            "text/html": [
              "<div style=\"width:100%;\"><div style=\"position:relative;width:100%;height:0;padding-bottom:60%;\"><iframe src=\"data:text/html;charset=utf-8;base64,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\" style=\"position:absolute;width:100%;height:100%;left:0;top:0;border:none !important;\" allowfullscreen webkitallowfullscreen mozallowfullscreen></iframe></div></div>"
            ],
            "text/plain": [
              "<folium.folium.Map at 0x7f7f0fb03080>"
            ]
          },
          "metadata": {
            "tags": []
          },
          "execution_count": 261
        }
      ]
    },
    {
      "cell_type": "markdown",
      "metadata": {
        "id": "BvuUcs2SXAmJ",
        "colab_type": "text"
      },
      "source": [
        "Next, we are going to start utilizing the Foursquare API to explore the neighborhoods and segment them."
      ]
    },
    {
      "cell_type": "markdown",
      "metadata": {
        "id": "YuJiCkZJHdbK",
        "colab_type": "text"
      },
      "source": [
        "#### Which neighborhood has more beaches?"
      ]
    },
    {
      "cell_type": "code",
      "metadata": {
        "id": "5RXaLStAHfyG",
        "colab_type": "code",
        "outputId": "cfa3846f-bc07-4fad-ff9f-2f1145673b67",
        "colab": {
          "base_uri": "https://localhost:8080/",
          "height": 204
        }
      },
      "source": [
        "from scipy.spatial.distance import cdist\n",
        "\n",
        "def closest_point(point, points):\n",
        "    \"\"\" Find closest point from a list of points. \"\"\"\n",
        "    return points[cdist([point], points).argmin()]\n",
        "\n",
        "def match_value(df, col1, x, col2):\n",
        "    \"\"\" Match value x from col1 row to value in col2. \"\"\"\n",
        "    return df[df[col1] == x][col2].values[0]\n",
        "\n",
        "df1 = neighborhoods\n",
        "df2 = beaches\n",
        "\n",
        "df1['point'] = [(x, y) for x,y in zip(df1['Latitude'], df1['Longitude'])]\n",
        "df2['point'] = [(x, y) for x,y in zip(df2['Latitude'], df2['Longitude'])]\n",
        "\n",
        "df2['closest'] = [closest_point(x, list(df1['point'])) for x in df2['point']]\n",
        "df2['Neighborhood'] = [match_value(df1, 'point', x, 'Name') for x in df2['closest']]\n",
        "\n",
        "df2 = df2.drop(columns=['point', 'closest'])\n",
        "df1 = df1.drop(columns=['point'])\n",
        "neighborhoods = neighborhoods.drop(columns=['point'])\n",
        "df2.head()"
      ],
      "execution_count": 263,
      "outputs": [
        {
          "output_type": "execute_result",
          "data": {
            "text/html": [
              "<div>\n",
              "<style scoped>\n",
              "    .dataframe tbody tr th:only-of-type {\n",
              "        vertical-align: middle;\n",
              "    }\n",
              "\n",
              "    .dataframe tbody tr th {\n",
              "        vertical-align: top;\n",
              "    }\n",
              "\n",
              "    .dataframe thead th {\n",
              "        text-align: right;\n",
              "    }\n",
              "</style>\n",
              "<table border=\"1\" class=\"dataframe\">\n",
              "  <thead>\n",
              "    <tr style=\"text-align: right;\">\n",
              "      <th></th>\n",
              "      <th>Beach</th>\n",
              "      <th>Latitude</th>\n",
              "      <th>Longitude</th>\n",
              "      <th>Neighborhood</th>\n",
              "    </tr>\n",
              "  </thead>\n",
              "  <tbody>\n",
              "    <tr>\n",
              "      <th>0</th>\n",
              "      <td>Praia da Tapera</td>\n",
              "      <td>-27.688573</td>\n",
              "      <td>-48.568508</td>\n",
              "      <td>Tapera</td>\n",
              "    </tr>\n",
              "    <tr>\n",
              "      <th>1</th>\n",
              "      <td>Praia do Santinho</td>\n",
              "      <td>-27.458246</td>\n",
              "      <td>-48.374768</td>\n",
              "      <td>Santinho</td>\n",
              "    </tr>\n",
              "    <tr>\n",
              "      <th>2</th>\n",
              "      <td>Praia dos Ingleses</td>\n",
              "      <td>-27.429447</td>\n",
              "      <td>-48.396534</td>\n",
              "      <td>Ingleses Centro</td>\n",
              "    </tr>\n",
              "    <tr>\n",
              "      <th>3</th>\n",
              "      <td>Praia da Lagoinha</td>\n",
              "      <td>-27.388978</td>\n",
              "      <td>-48.426370</td>\n",
              "      <td>Lagoinha do Norte</td>\n",
              "    </tr>\n",
              "    <tr>\n",
              "      <th>4</th>\n",
              "      <td>Praia Brava (Florianópolis)</td>\n",
              "      <td>-27.397613</td>\n",
              "      <td>-48.415825</td>\n",
              "      <td>Praia Brava</td>\n",
              "    </tr>\n",
              "  </tbody>\n",
              "</table>\n",
              "</div>"
            ],
            "text/plain": [
              "                         Beach   Latitude  Longitude       Neighborhood\n",
              "0              Praia da Tapera -27.688573 -48.568508             Tapera\n",
              "1            Praia do Santinho -27.458246 -48.374768           Santinho\n",
              "2           Praia dos Ingleses -27.429447 -48.396534    Ingleses Centro\n",
              "3            Praia da Lagoinha -27.388978 -48.426370  Lagoinha do Norte\n",
              "4  Praia Brava (Florianópolis) -27.397613 -48.415825        Praia Brava"
            ]
          },
          "metadata": {
            "tags": []
          },
          "execution_count": 263
        }
      ]
    },
    {
      "cell_type": "code",
      "metadata": {
        "id": "1AhhVyl_vfU3",
        "colab_type": "code",
        "outputId": "067c3f84-1c15-437b-bfea-16b4924f3091",
        "colab": {
          "base_uri": "https://localhost:8080/",
          "height": 374
        }
      },
      "source": [
        "#now we get the counts for each neighborhood\n",
        "counts = df2.groupby(['Neighborhood']).size()\n",
        "counts"
      ],
      "execution_count": 264,
      "outputs": [
        {
          "output_type": "execute_result",
          "data": {
            "text/plain": [
              "Neighborhood\n",
              "Armação                     2\n",
              "Barra da Lagoa              3\n",
              "Caiacanga                   1\n",
              "Campeche Leste              1\n",
              "Canasvieiras                1\n",
              "Canto dos Araçás            2\n",
              "Coqueiros                   2\n",
              "Daniela                     3\n",
              "Ingleses Centro             1\n",
              "Itaguaçu                    1\n",
              "Jurere Leste                2\n",
              "Lagoinha do Norte           2\n",
              "Morro das Pedras            1\n",
              "Porto da Lagoa              1\n",
              "Praia Brava                 2\n",
              "Pântano do Sul              4\n",
              "Santinho                    1\n",
              "São João do Rio Vermelho    2\n",
              "Tapera                      1\n",
              "dtype: int64"
            ]
          },
          "metadata": {
            "tags": []
          },
          "execution_count": 264
        }
      ]
    },
    {
      "cell_type": "code",
      "metadata": {
        "id": "fxnuagWu00sy",
        "colab_type": "code",
        "colab": {}
      },
      "source": [
        "#adding the BeachesCount column to dataframe with default 0\n",
        "neighborhoods.insert(3, 'BeachesCount', 0)"
      ],
      "execution_count": 0,
      "outputs": []
    },
    {
      "cell_type": "code",
      "metadata": {
        "id": "mjEMRVNn3k7f",
        "colab_type": "code",
        "colab": {}
      },
      "source": [
        "neighborhoods.set_index('Name', inplace=True) #Beach is the index"
      ],
      "execution_count": 0,
      "outputs": []
    },
    {
      "cell_type": "code",
      "metadata": {
        "id": "UN5Mo-9grrm0",
        "colab_type": "code",
        "colab": {}
      },
      "source": [
        "# Assigning the value of the count list to each neighborhood\n",
        "for n in counts.index:\n",
        "  neighborhoods.loc[n,'BeachesCount'] = counts[n]"
      ],
      "execution_count": 0,
      "outputs": []
    },
    {
      "cell_type": "code",
      "metadata": {
        "id": "2kwVuzxevFF2",
        "colab_type": "code",
        "colab": {
          "base_uri": "https://localhost:8080/",
          "height": 235
        },
        "outputId": "4383e027-7ea0-43ea-a745-d9002eb06c67"
      },
      "source": [
        "neighborhoods.sort_values(by='BeachesCount', ascending=False).head()"
      ],
      "execution_count": 268,
      "outputs": [
        {
          "output_type": "execute_result",
          "data": {
            "text/html": [
              "<div>\n",
              "<style scoped>\n",
              "    .dataframe tbody tr th:only-of-type {\n",
              "        vertical-align: middle;\n",
              "    }\n",
              "\n",
              "    .dataframe tbody tr th {\n",
              "        vertical-align: top;\n",
              "    }\n",
              "\n",
              "    .dataframe thead th {\n",
              "        text-align: right;\n",
              "    }\n",
              "</style>\n",
              "<table border=\"1\" class=\"dataframe\">\n",
              "  <thead>\n",
              "    <tr style=\"text-align: right;\">\n",
              "      <th></th>\n",
              "      <th>Latitude</th>\n",
              "      <th>Longitude</th>\n",
              "      <th>BeachesCount</th>\n",
              "    </tr>\n",
              "    <tr>\n",
              "      <th>Name</th>\n",
              "      <th></th>\n",
              "      <th></th>\n",
              "      <th></th>\n",
              "    </tr>\n",
              "  </thead>\n",
              "  <tbody>\n",
              "    <tr>\n",
              "      <th>Pântano do Sul</th>\n",
              "      <td>-27.779951</td>\n",
              "      <td>-48.507319</td>\n",
              "      <td>4</td>\n",
              "    </tr>\n",
              "    <tr>\n",
              "      <th>Daniela</th>\n",
              "      <td>-27.448954</td>\n",
              "      <td>-48.531250</td>\n",
              "      <td>3</td>\n",
              "    </tr>\n",
              "    <tr>\n",
              "      <th>Barra da Lagoa</th>\n",
              "      <td>-27.574778</td>\n",
              "      <td>-48.425835</td>\n",
              "      <td>3</td>\n",
              "    </tr>\n",
              "    <tr>\n",
              "      <th>São João do Rio Vermelho</th>\n",
              "      <td>-27.483806</td>\n",
              "      <td>-48.409638</td>\n",
              "      <td>2</td>\n",
              "    </tr>\n",
              "    <tr>\n",
              "      <th>Canto dos Araçás</th>\n",
              "      <td>-27.594075</td>\n",
              "      <td>-48.460940</td>\n",
              "      <td>2</td>\n",
              "    </tr>\n",
              "  </tbody>\n",
              "</table>\n",
              "</div>"
            ],
            "text/plain": [
              "                           Latitude  Longitude  BeachesCount\n",
              "Name                                                        \n",
              "Pântano do Sul           -27.779951 -48.507319             4\n",
              "Daniela                  -27.448954 -48.531250             3\n",
              "Barra da Lagoa           -27.574778 -48.425835             3\n",
              "São João do Rio Vermelho -27.483806 -48.409638             2\n",
              "Canto dos Araçás         -27.594075 -48.460940             2"
            ]
          },
          "metadata": {
            "tags": []
          },
          "execution_count": 268
        }
      ]
    },
    {
      "cell_type": "markdown",
      "metadata": {
        "id": "K_7QXpDaXAmK",
        "colab_type": "text"
      },
      "source": [
        "#### Define Foursquare Credentials and Version"
      ]
    },
    {
      "cell_type": "code",
      "metadata": {
        "jupyter": {
          "outputs_hidden": false
        },
        "id": "gOzB3_1NXAmM",
        "colab_type": "code",
        "colab": {}
      },
      "source": [
        "CLIENT_ID = 'XCZZBWCOGQ5BJ5KD3NOGA4J0LW52XU25S4IJCS5Z5GRJOGCV' # your Foursquare ID\n",
        "CLIENT_SECRET = '5JWA0FLEQE0OEDHAJRXKDD2HPWBSUH5LKUASZXDPP13Q0OQ5' # your Foursquare Secret\n",
        "VERSION = '20180605' # Foursquare API version\n",
        "\n",
        "print('Your credentails:')\n",
        "print('CLIENT_ID: ' + CLIENT_ID)\n",
        "print('CLIENT_SECRET:' + CLIENT_SECRET)"
      ],
      "execution_count": 0,
      "outputs": []
    },
    {
      "cell_type": "markdown",
      "metadata": {
        "id": "5ODir15_XAmO",
        "colab_type": "text"
      },
      "source": [
        "#### Let's explore the first neighborhood in our dataframe."
      ]
    },
    {
      "cell_type": "markdown",
      "metadata": {
        "id": "7exhs39eXAmP",
        "colab_type": "text"
      },
      "source": [
        "Get the neighborhood's name."
      ]
    },
    {
      "cell_type": "code",
      "metadata": {
        "jupyter": {
          "outputs_hidden": false
        },
        "id": "kFAGt-2PXAmQ",
        "colab_type": "code",
        "colab": {}
      },
      "source": [
        "manhattan_data.loc[0, 'Neighborhood']"
      ],
      "execution_count": 0,
      "outputs": []
    },
    {
      "cell_type": "markdown",
      "metadata": {
        "id": "lA0kWlYlXAmT",
        "colab_type": "text"
      },
      "source": [
        "Get the neighborhood's latitude and longitude values."
      ]
    },
    {
      "cell_type": "code",
      "metadata": {
        "jupyter": {
          "outputs_hidden": false
        },
        "id": "VRT6n8C9XAmU",
        "colab_type": "code",
        "colab": {}
      },
      "source": [
        "neighborhood_latitude = manhattan_data.loc[0, 'Latitude'] # neighborhood latitude value\n",
        "neighborhood_longitude = manhattan_data.loc[0, 'Longitude'] # neighborhood longitude value\n",
        "\n",
        "neighborhood_name = manhattan_data.loc[0, 'Neighborhood'] # neighborhood name\n",
        "\n",
        "print('Latitude and longitude values of {} are {}, {}.'.format(neighborhood_name, \n",
        "                                                               neighborhood_latitude, \n",
        "                                                               neighborhood_longitude))"
      ],
      "execution_count": 0,
      "outputs": []
    },
    {
      "cell_type": "markdown",
      "metadata": {
        "id": "yupH50S8XAmb",
        "colab_type": "text"
      },
      "source": [
        "#### Now, let's get the top 100 venues that are in Marble Hill within a radius of 500 meters."
      ]
    },
    {
      "cell_type": "markdown",
      "metadata": {
        "id": "qEkK1zlFXAmc",
        "colab_type": "text"
      },
      "source": [
        "First, let's create the GET request URL. Name your URL **url**."
      ]
    },
    {
      "cell_type": "code",
      "metadata": {
        "jupyter": {
          "outputs_hidden": false
        },
        "scrolled": true,
        "id": "pjYAnh4hXAmc",
        "colab_type": "code",
        "colab": {}
      },
      "source": [
        "LIMIT = 100 # limit of number of venues returned by Foursquare API\n",
        "radius = 500 # define radius\n",
        "\n",
        "url = 'https://api.foursquare.com/v2/venues/explore?&client_id={}&client_secret={}&v={}&ll={},{}&radius={}&limit={}'.format(\n",
        "    CLIENT_ID, \n",
        "    CLIENT_SECRET, \n",
        "    VERSION, \n",
        "    neighborhood_latitude, \n",
        "    neighborhood_longitude, \n",
        "    radius, \n",
        "    LIMIT)"
      ],
      "execution_count": 0,
      "outputs": []
    },
    {
      "cell_type": "markdown",
      "metadata": {
        "id": "ifppibTeXAmg",
        "colab_type": "text"
      },
      "source": [
        "Double-click __here__ for the solution.\n",
        "<!-- The correct answer is:\n",
        "LIMIT = 100 # limit of number of venues returned by Foursquare API\n",
        "-->\n",
        "\n",
        "<!--\n",
        "radius = 500 # define radius\n",
        "-->\n",
        "\n",
        "<!--\n",
        "\\\\ # create URL\n",
        "url = 'https://api.foursquare.com/v2/venues/explore?&client_id={}&client_secret={}&v={}&ll={},{}&radius={}&limit={}'.format(\n",
        "    CLIENT_ID, \n",
        "    CLIENT_SECRET, \n",
        "    VERSION, \n",
        "    neighborhood_latitude, \n",
        "    neighborhood_longitude, \n",
        "    radius, \n",
        "    LIMIT)\n",
        "url # display URL\n",
        "--> "
      ]
    },
    {
      "cell_type": "markdown",
      "metadata": {
        "id": "qs4Jo6pJXAmh",
        "colab_type": "text"
      },
      "source": [
        "Send the GET request and examine the resutls"
      ]
    },
    {
      "cell_type": "code",
      "metadata": {
        "jupyter": {
          "outputs_hidden": false
        },
        "id": "mYJAy8KxXAmi",
        "colab_type": "code",
        "colab": {}
      },
      "source": [
        "results = requests.get(url).json()\n",
        "results"
      ],
      "execution_count": 0,
      "outputs": []
    },
    {
      "cell_type": "markdown",
      "metadata": {
        "id": "bIXykUn3XAmp",
        "colab_type": "text"
      },
      "source": [
        "From the Foursquare lab in the previous module, we know that all the information is in the *items* key. Before we proceed, let's borrow the **get_category_type** function from the Foursquare lab."
      ]
    },
    {
      "cell_type": "code",
      "metadata": {
        "id": "R90eIBctXAmq",
        "colab_type": "code",
        "colab": {}
      },
      "source": [
        "# function that extracts the category of the venue\n",
        "def get_category_type(row):\n",
        "    try:\n",
        "        categories_list = row['categories']\n",
        "    except:\n",
        "        categories_list = row['venue.categories']\n",
        "        \n",
        "    if len(categories_list) == 0:\n",
        "        return None\n",
        "    else:\n",
        "        return categories_list[0]['name']"
      ],
      "execution_count": 0,
      "outputs": []
    },
    {
      "cell_type": "markdown",
      "metadata": {
        "id": "4vOX6nz7XAmt",
        "colab_type": "text"
      },
      "source": [
        "Now we are ready to clean the json and structure it into a *pandas* dataframe."
      ]
    },
    {
      "cell_type": "code",
      "metadata": {
        "jupyter": {
          "outputs_hidden": false
        },
        "id": "isUEt3SzXAmu",
        "colab_type": "code",
        "colab": {}
      },
      "source": [
        "venues = results['response']['groups'][0]['items']\n",
        "    \n",
        "nearby_venues = json_normalize(venues) # flatten JSON\n",
        "\n",
        "# filter columns\n",
        "filtered_columns = ['venue.name', 'venue.categories', 'venue.location.lat', 'venue.location.lng']\n",
        "nearby_venues =nearby_venues.loc[:, filtered_columns]\n",
        "\n",
        "# filter the category for each row\n",
        "nearby_venues['venue.categories'] = nearby_venues.apply(get_category_type, axis=1)\n",
        "\n",
        "# clean columns\n",
        "nearby_venues.columns = [col.split(\".\")[-1] for col in nearby_venues.columns]\n",
        "\n",
        "nearby_venues.head()"
      ],
      "execution_count": 0,
      "outputs": []
    },
    {
      "cell_type": "markdown",
      "metadata": {
        "id": "50ZAIqy6XAmw",
        "colab_type": "text"
      },
      "source": [
        "And how many venues were returned by Foursquare?"
      ]
    },
    {
      "cell_type": "code",
      "metadata": {
        "jupyter": {
          "outputs_hidden": false
        },
        "id": "f4JbogYuXAmw",
        "colab_type": "code",
        "colab": {}
      },
      "source": [
        "print('{} venues were returned by Foursquare.'.format(nearby_venues.shape[0]))"
      ],
      "execution_count": 0,
      "outputs": []
    },
    {
      "cell_type": "markdown",
      "metadata": {
        "id": "g4UjeA9AXAmz",
        "colab_type": "text"
      },
      "source": [
        "<a id='item2'></a>"
      ]
    },
    {
      "cell_type": "markdown",
      "metadata": {
        "id": "MghfVFfxXAm0",
        "colab_type": "text"
      },
      "source": [
        "## 2. Explore Neighborhoods in Manhattan"
      ]
    },
    {
      "cell_type": "markdown",
      "metadata": {
        "id": "mmefjN3HXAm1",
        "colab_type": "text"
      },
      "source": [
        "#### Let's create a function to repeat the same process to all the neighborhoods in Manhattan"
      ]
    },
    {
      "cell_type": "code",
      "metadata": {
        "id": "5D76xK1mXAm8",
        "colab_type": "code",
        "colab": {}
      },
      "source": [
        "def getNearbyVenues(names, latitudes, longitudes, radius=500):\n",
        "    \n",
        "    venues_list=[]\n",
        "    for name, lat, lng in zip(names, latitudes, longitudes):\n",
        "        print(name)\n",
        "            \n",
        "        # create the API request URL\n",
        "        url = 'https://api.foursquare.com/v2/venues/explore?&client_id={}&client_secret={}&v={}&ll={},{}&radius={}&limit={}'.format(\n",
        "            CLIENT_ID, \n",
        "            CLIENT_SECRET, \n",
        "            VERSION, \n",
        "            lat, \n",
        "            lng, \n",
        "            radius, \n",
        "            LIMIT)\n",
        "            \n",
        "        # make the GET request\n",
        "        results = requests.get(url).json()[\"response\"]['groups'][0]['items']\n",
        "        \n",
        "        # return only relevant information for each nearby venue\n",
        "        venues_list.append([(\n",
        "            name, \n",
        "            lat, \n",
        "            lng, \n",
        "            v['venue']['name'], \n",
        "            v['venue']['location']['lat'], \n",
        "            v['venue']['location']['lng'],  \n",
        "            v['venue']['categories'][0]['name']) for v in results])\n",
        "\n",
        "    nearby_venues = pd.DataFrame([item for venue_list in venues_list for item in venue_list])\n",
        "    nearby_venues.columns = ['Neighborhood', \n",
        "                  'Neighborhood Latitude', \n",
        "                  'Neighborhood Longitude', \n",
        "                  'Venue', \n",
        "                  'Venue Latitude', \n",
        "                  'Venue Longitude', \n",
        "                  'Venue Category']\n",
        "    \n",
        "    return(nearby_venues)"
      ],
      "execution_count": 0,
      "outputs": []
    },
    {
      "cell_type": "markdown",
      "metadata": {
        "id": "nMcEj31lXAnB",
        "colab_type": "text"
      },
      "source": [
        "#### Now write the code to run the above function on each neighborhood and create a new dataframe called *manhattan_venues*."
      ]
    },
    {
      "cell_type": "code",
      "metadata": {
        "jupyter": {
          "outputs_hidden": false
        },
        "scrolled": true,
        "id": "8MaFsVXjXAnB",
        "colab_type": "code",
        "colab": {}
      },
      "source": [
        "# type your answer here\n",
        "\n",
        "manhattan_venues = getNearbyVenues(names=manhattan_data['Neighborhood'],\n",
        "                                   latitudes=manhattan_data['Latitude'],\n",
        "                                   longitudes=manhattan_data['Longitude']\n",
        "                                  )\n",
        "\n"
      ],
      "execution_count": 0,
      "outputs": []
    },
    {
      "cell_type": "markdown",
      "metadata": {
        "id": "07w2GhENXAnE",
        "colab_type": "text"
      },
      "source": [
        "Double-click __here__ for the solution.\n",
        "<!-- The correct answer is:\n",
        "manhattan_venues = getNearbyVenues(names=manhattan_data['Neighborhood'],\n",
        "                                   latitudes=manhattan_data['Latitude'],\n",
        "                                   longitudes=manhattan_data['Longitude']\n",
        "                                  )\n",
        "--> "
      ]
    },
    {
      "cell_type": "markdown",
      "metadata": {
        "id": "JMfbGFmlXAnE",
        "colab_type": "text"
      },
      "source": [
        "#### Let's check the size of the resulting dataframe"
      ]
    },
    {
      "cell_type": "code",
      "metadata": {
        "jupyter": {
          "outputs_hidden": false
        },
        "id": "JO9171VlXAnF",
        "colab_type": "code",
        "colab": {}
      },
      "source": [
        "print(manhattan_venues.shape)\n",
        "manhattan_venues.head()"
      ],
      "execution_count": 0,
      "outputs": []
    },
    {
      "cell_type": "markdown",
      "metadata": {
        "id": "h4N5Zx9hXAnG",
        "colab_type": "text"
      },
      "source": [
        "Let's check how many venues were returned for each neighborhood"
      ]
    },
    {
      "cell_type": "code",
      "metadata": {
        "jupyter": {
          "outputs_hidden": false
        },
        "id": "47V5wsX6XAnH",
        "colab_type": "code",
        "colab": {}
      },
      "source": [
        "manhattan_venues.groupby('Neighborhood').count()"
      ],
      "execution_count": 0,
      "outputs": []
    },
    {
      "cell_type": "markdown",
      "metadata": {
        "id": "5qYh1njMXAnN",
        "colab_type": "text"
      },
      "source": [
        "#### Let's find out how many unique categories can be curated from all the returned venues"
      ]
    },
    {
      "cell_type": "code",
      "metadata": {
        "jupyter": {
          "outputs_hidden": false
        },
        "id": "YyD3iTaWXAnP",
        "colab_type": "code",
        "colab": {}
      },
      "source": [
        "print('There are {} uniques categories.'.format(len(manhattan_venues['Venue Category'].unique())))"
      ],
      "execution_count": 0,
      "outputs": []
    },
    {
      "cell_type": "markdown",
      "metadata": {
        "id": "5RWKgOLoXAnT",
        "colab_type": "text"
      },
      "source": [
        "<a id='item3'></a>"
      ]
    },
    {
      "cell_type": "markdown",
      "metadata": {
        "id": "JEeoETKUXAnU",
        "colab_type": "text"
      },
      "source": [
        "## 3. Analyze Each Neighborhood"
      ]
    },
    {
      "cell_type": "code",
      "metadata": {
        "jupyter": {
          "outputs_hidden": false
        },
        "id": "C9l6mzKhXAnV",
        "colab_type": "code",
        "colab": {}
      },
      "source": [
        "# one hot encoding\n",
        "manhattan_onehot = pd.get_dummies(manhattan_venues[['Venue Category']], prefix=\"\", prefix_sep=\"\")\n",
        "\n",
        "# add neighborhood column back to dataframe\n",
        "manhattan_onehot['Neighborhood'] = manhattan_venues['Neighborhood'] \n",
        "\n",
        "# move neighborhood column to the first column\n",
        "fixed_columns = [manhattan_onehot.columns[-1]] + list(manhattan_onehot.columns[:-1])\n",
        "manhattan_onehot = manhattan_onehot[fixed_columns]\n",
        "\n",
        "manhattan_onehot.head()"
      ],
      "execution_count": 0,
      "outputs": []
    },
    {
      "cell_type": "markdown",
      "metadata": {
        "id": "nd0CfINBXAnZ",
        "colab_type": "text"
      },
      "source": [
        "And let's examine the new dataframe size."
      ]
    },
    {
      "cell_type": "code",
      "metadata": {
        "jupyter": {
          "outputs_hidden": false
        },
        "id": "kwyXQatlXAnZ",
        "colab_type": "code",
        "colab": {}
      },
      "source": [
        "manhattan_onehot.shape"
      ],
      "execution_count": 0,
      "outputs": []
    },
    {
      "cell_type": "markdown",
      "metadata": {
        "id": "fNt76dSEXAnb",
        "colab_type": "text"
      },
      "source": [
        "#### Next, let's group rows by neighborhood and by taking the mean of the frequency of occurrence of each category"
      ]
    },
    {
      "cell_type": "code",
      "metadata": {
        "jupyter": {
          "outputs_hidden": false
        },
        "id": "5OO31qiUXAnb",
        "colab_type": "code",
        "colab": {}
      },
      "source": [
        "manhattan_grouped = manhattan_onehot.groupby('Neighborhood').mean().reset_index()\n",
        "manhattan_grouped"
      ],
      "execution_count": 0,
      "outputs": []
    },
    {
      "cell_type": "markdown",
      "metadata": {
        "id": "eFcaVsKdXAnf",
        "colab_type": "text"
      },
      "source": [
        "#### Let's confirm the new size"
      ]
    },
    {
      "cell_type": "code",
      "metadata": {
        "jupyter": {
          "outputs_hidden": false
        },
        "id": "ptMld4VGXAnf",
        "colab_type": "code",
        "colab": {}
      },
      "source": [
        "manhattan_grouped.shape"
      ],
      "execution_count": 0,
      "outputs": []
    },
    {
      "cell_type": "markdown",
      "metadata": {
        "id": "4M_5raXvXAnj",
        "colab_type": "text"
      },
      "source": [
        "#### Let's print each neighborhood along with the top 5 most common venues"
      ]
    },
    {
      "cell_type": "code",
      "metadata": {
        "jupyter": {
          "outputs_hidden": false
        },
        "id": "M_sHALUIXAnk",
        "colab_type": "code",
        "colab": {}
      },
      "source": [
        "num_top_venues = 5\n",
        "\n",
        "for hood in manhattan_grouped['Neighborhood']:\n",
        "    print(\"----\"+hood+\"----\")\n",
        "    temp = manhattan_grouped[manhattan_grouped['Neighborhood'] == hood].T.reset_index()\n",
        "    temp.columns = ['venue','freq']\n",
        "    temp = temp.iloc[1:]\n",
        "    temp['freq'] = temp['freq'].astype(float)\n",
        "    temp = temp.round({'freq': 2})\n",
        "    print(temp.sort_values('freq', ascending=False).reset_index(drop=True).head(num_top_venues))\n",
        "    print('\\n')"
      ],
      "execution_count": 0,
      "outputs": []
    },
    {
      "cell_type": "markdown",
      "metadata": {
        "id": "N-m96FRFXAno",
        "colab_type": "text"
      },
      "source": [
        "#### Let's put that into a *pandas* dataframe"
      ]
    },
    {
      "cell_type": "markdown",
      "metadata": {
        "id": "oFuBp0w1XAnp",
        "colab_type": "text"
      },
      "source": [
        "First, let's write a function to sort the venues in descending order."
      ]
    },
    {
      "cell_type": "code",
      "metadata": {
        "id": "63Xgf_43XAnp",
        "colab_type": "code",
        "colab": {}
      },
      "source": [
        "def return_most_common_venues(row, num_top_venues):\n",
        "    row_categories = row.iloc[1:]\n",
        "    row_categories_sorted = row_categories.sort_values(ascending=False)\n",
        "    \n",
        "    return row_categories_sorted.index.values[0:num_top_venues]"
      ],
      "execution_count": 0,
      "outputs": []
    },
    {
      "cell_type": "markdown",
      "metadata": {
        "id": "uUmx8COmXAns",
        "colab_type": "text"
      },
      "source": [
        "Now let's create the new dataframe and display the top 10 venues for each neighborhood."
      ]
    },
    {
      "cell_type": "code",
      "metadata": {
        "jupyter": {
          "outputs_hidden": false
        },
        "id": "za4UmV2pXAns",
        "colab_type": "code",
        "colab": {}
      },
      "source": [
        "num_top_venues = 10\n",
        "\n",
        "indicators = ['st', 'nd', 'rd']\n",
        "\n",
        "# create columns according to number of top venues\n",
        "columns = ['Neighborhood']\n",
        "for ind in np.arange(num_top_venues):\n",
        "    try:\n",
        "        columns.append('{}{} Most Common Venue'.format(ind+1, indicators[ind]))\n",
        "    except:\n",
        "        columns.append('{}th Most Common Venue'.format(ind+1))\n",
        "\n",
        "# create a new dataframe\n",
        "neighborhoods_venues_sorted = pd.DataFrame(columns=columns)\n",
        "neighborhoods_venues_sorted['Neighborhood'] = manhattan_grouped['Neighborhood']\n",
        "\n",
        "for ind in np.arange(manhattan_grouped.shape[0]):\n",
        "    neighborhoods_venues_sorted.iloc[ind, 1:] = return_most_common_venues(manhattan_grouped.iloc[ind, :], num_top_venues)\n",
        "\n",
        "neighborhoods_venues_sorted.head()"
      ],
      "execution_count": 0,
      "outputs": []
    },
    {
      "cell_type": "markdown",
      "metadata": {
        "id": "NbiAPxBhXAnw",
        "colab_type": "text"
      },
      "source": [
        "<a id='item4'></a>"
      ]
    },
    {
      "cell_type": "markdown",
      "metadata": {
        "id": "-RGB9Fd5XAnw",
        "colab_type": "text"
      },
      "source": [
        "## 4. Cluster Neighborhoods"
      ]
    },
    {
      "cell_type": "markdown",
      "metadata": {
        "id": "RxE9OB6jXAnx",
        "colab_type": "text"
      },
      "source": [
        "Run *k*-means to cluster the neighborhood into 5 clusters."
      ]
    },
    {
      "cell_type": "code",
      "metadata": {
        "jupyter": {
          "outputs_hidden": false
        },
        "id": "A7jnxqpYXAnx",
        "colab_type": "code",
        "colab": {}
      },
      "source": [
        "# set number of clusters\n",
        "kclusters = 5\n",
        "\n",
        "manhattan_grouped_clustering = manhattan_grouped.drop('Neighborhood', 1)\n",
        "# # run k-means clustering\n",
        "# kmeans = KMeans(n_clusters=kclusters, random_state=0).fit(manhattan_grouped_clustering)\n",
        "\n",
        "# # check cluster labels generated for each row in the dataframe\n",
        "# kmeans.labels_[0:10] "
      ],
      "execution_count": 0,
      "outputs": []
    },
    {
      "cell_type": "markdown",
      "metadata": {
        "id": "oTbzv0VEXAnz",
        "colab_type": "text"
      },
      "source": [
        "Let's create a new dataframe that includes the cluster as well as the top 10 venues for each neighborhood."
      ]
    },
    {
      "cell_type": "code",
      "metadata": {
        "jupyter": {
          "outputs_hidden": false
        },
        "id": "j6iI5VVIXAn0",
        "colab_type": "code",
        "colab": {}
      },
      "source": [
        "# add clustering labels\n",
        "neighborhoods_venues_sorted.insert(0, 'Cluster Labels', kmeans.labels_)\n",
        "\n",
        "manhattan_merged = manhattan_data\n",
        "\n",
        "# merge toronto_grouped with toronto_data to add latitude/longitude for each neighborhood\n",
        "manhattan_merged = manhattan_merged.join(neighborhoods_venues_sorted.set_index('Neighborhood'), on='Neighborhood')\n",
        "\n",
        "manhattan_merged.head() # check the last columns!"
      ],
      "execution_count": 0,
      "outputs": []
    },
    {
      "cell_type": "markdown",
      "metadata": {
        "id": "9ddNt2aNXAn3",
        "colab_type": "text"
      },
      "source": [
        "Finally, let's visualize the resulting clusters"
      ]
    },
    {
      "cell_type": "code",
      "metadata": {
        "jupyter": {
          "outputs_hidden": false
        },
        "id": "5UbPV9tPXAn6",
        "colab_type": "code",
        "colab": {}
      },
      "source": [
        "# create map\n",
        "map_clusters = folium.Map(location=[latitude, longitude], zoom_start=11)\n",
        "\n",
        "# set color scheme for the clusters\n",
        "x = np.arange(kclusters)\n",
        "ys = [i + x + (i*x)**2 for i in range(kclusters)]\n",
        "colors_array = cm.rainbow(np.linspace(0, 1, len(ys)))\n",
        "rainbow = [colors.rgb2hex(i) for i in colors_array]\n",
        "\n",
        "# add markers to the map\n",
        "markers_colors = []\n",
        "for lat, lon, poi, cluster in zip(manhattan_merged['Latitude'], manhattan_merged['Longitude'], manhattan_merged['Neighborhood'], manhattan_merged['Cluster Labels']):\n",
        "    label = folium.Popup(str(poi) + ' Cluster ' + str(cluster), parse_html=True)\n",
        "    folium.CircleMarker(\n",
        "        [lat, lon],\n",
        "        radius=5,\n",
        "        popup=label,\n",
        "        color=rainbow[cluster-1],\n",
        "        fill=True,\n",
        "        fill_color=rainbow[cluster-1],\n",
        "        fill_opacity=0.7).add_to(map_clusters)\n",
        "       \n",
        "map_clusters"
      ],
      "execution_count": 0,
      "outputs": []
    },
    {
      "cell_type": "markdown",
      "metadata": {
        "id": "n_VyijUMXAn7",
        "colab_type": "text"
      },
      "source": [
        "<a id='item5'></a>"
      ]
    },
    {
      "cell_type": "markdown",
      "metadata": {
        "id": "kgGnSfWjXAn8",
        "colab_type": "text"
      },
      "source": [
        "## 5. Examine Clusters"
      ]
    },
    {
      "cell_type": "markdown",
      "metadata": {
        "id": "2PMx7gPcXAn8",
        "colab_type": "text"
      },
      "source": [
        "Now, you can examine each cluster and determine the discriminating venue categories that distinguish each cluster. Based on the defining categories, you can then assign a name to each cluster. I will leave this exercise to you."
      ]
    },
    {
      "cell_type": "markdown",
      "metadata": {
        "id": "L9p9Sz0AXAn9",
        "colab_type": "text"
      },
      "source": [
        "#### Cluster 1"
      ]
    },
    {
      "cell_type": "code",
      "metadata": {
        "jupyter": {
          "outputs_hidden": false
        },
        "id": "ZSetGjXqXAn9",
        "colab_type": "code",
        "colab": {}
      },
      "source": [
        "manhattan_merged.loc[manhattan_merged['Cluster Labels'] == 0, manhattan_merged.columns[[1] + list(range(5, manhattan_merged.shape[1]))]]"
      ],
      "execution_count": 0,
      "outputs": []
    },
    {
      "cell_type": "markdown",
      "metadata": {
        "id": "HSdl6fxIXAn-",
        "colab_type": "text"
      },
      "source": [
        "#### Cluster 2"
      ]
    },
    {
      "cell_type": "code",
      "metadata": {
        "jupyter": {
          "outputs_hidden": false
        },
        "id": "073T8IN_XAn_",
        "colab_type": "code",
        "colab": {}
      },
      "source": [
        "manhattan_merged.loc[manhattan_merged['Cluster Labels'] == 1, manhattan_merged.columns[[1] + list(range(5, manhattan_merged.shape[1]))]]"
      ],
      "execution_count": 0,
      "outputs": []
    },
    {
      "cell_type": "markdown",
      "metadata": {
        "id": "PV54ZqaaXAoB",
        "colab_type": "text"
      },
      "source": [
        "#### Cluster 3"
      ]
    },
    {
      "cell_type": "code",
      "metadata": {
        "jupyter": {
          "outputs_hidden": false
        },
        "id": "PeR8HbBZXAoC",
        "colab_type": "code",
        "colab": {}
      },
      "source": [
        "manhattan_merged.loc[manhattan_merged['Cluster Labels'] == 2, manhattan_merged.columns[[1] + list(range(5, manhattan_merged.shape[1]))]]"
      ],
      "execution_count": 0,
      "outputs": []
    },
    {
      "cell_type": "markdown",
      "metadata": {
        "id": "7tSG-IouXAoF",
        "colab_type": "text"
      },
      "source": [
        "#### Cluster 4"
      ]
    },
    {
      "cell_type": "code",
      "metadata": {
        "jupyter": {
          "outputs_hidden": false
        },
        "id": "Ibxg7-LmXAoF",
        "colab_type": "code",
        "colab": {}
      },
      "source": [
        "manhattan_merged.loc[manhattan_merged['Cluster Labels'] == 3, manhattan_merged.columns[[1] + list(range(5, manhattan_merged.shape[1]))]]"
      ],
      "execution_count": 0,
      "outputs": []
    },
    {
      "cell_type": "markdown",
      "metadata": {
        "id": "H-vO9MNGXAoH",
        "colab_type": "text"
      },
      "source": [
        "#### Cluster 5"
      ]
    },
    {
      "cell_type": "code",
      "metadata": {
        "jupyter": {
          "outputs_hidden": false
        },
        "id": "auqXN-7BXAoH",
        "colab_type": "code",
        "colab": {}
      },
      "source": [
        "manhattan_merged.loc[manhattan_merged['Cluster Labels'] == 4, manhattan_merged.columns[[1] + list(range(5, manhattan_merged.shape[1]))]]"
      ],
      "execution_count": 0,
      "outputs": []
    },
    {
      "cell_type": "markdown",
      "metadata": {
        "id": "FhtVXM3TXAoI",
        "colab_type": "text"
      },
      "source": [
        "### Thank you for completing this lab!\n",
        "\n",
        "This notebook was created by [Alex Aklson](https://www.linkedin.com/in/aklson/) and [Polong Lin](https://www.linkedin.com/in/polonglin/). I hope you found this lab interesting and educational. Feel free to contact us if you have any questions!"
      ]
    },
    {
      "cell_type": "markdown",
      "metadata": {
        "id": "TIeA5XUYXAoJ",
        "colab_type": "text"
      },
      "source": [
        "This notebook is part of a course on **Coursera** called *Applied Data Science Capstone*. If you accessed this notebook outside the course, you can take this course online by clicking [here](http://cocl.us/DP0701EN_Coursera_Week3_LAB2)."
      ]
    },
    {
      "cell_type": "markdown",
      "metadata": {
        "id": "VR-wnDJnXAoJ",
        "colab_type": "text"
      },
      "source": [
        "<hr>\n",
        "\n",
        "Copyright &copy; 2018 [Cognitive Class](https://cognitiveclass.ai/?utm_source=bducopyrightlink&utm_medium=dswb&utm_campaign=bdu). This notebook and its source code are released under the terms of the [MIT License](https://bigdatauniversity.com/mit-license/)."
      ]
    }
  ]
}